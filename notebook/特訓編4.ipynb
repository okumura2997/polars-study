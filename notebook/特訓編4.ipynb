{
 "cells": [
  {
   "cell_type": "code",
   "execution_count": 1,
   "id": "751f09c7-4ea1-4087-88e0-216eb4169dcb",
   "metadata": {
    "scrolled": true
   },
   "outputs": [
    {
     "name": "stdout",
     "output_type": "stream",
     "text": [
      "--2024-10-22 09:39:03--  https://drive.google.com/uc?export=download&id=10g3IxY8nvE71v3NuqzpDhr2in-EOBX1W\n",
      "Resolving drive.google.com (drive.google.com)... 142.250.199.110, 2404:6800:4004:80a::200e\n",
      "Connecting to drive.google.com (drive.google.com)|142.250.199.110|:443... connected.\n",
      "HTTP request sent, awaiting response... 303 See Other\n",
      "Location: https://drive.usercontent.google.com/download?id=10g3IxY8nvE71v3NuqzpDhr2in-EOBX1W&export=download [following]\n",
      "--2024-10-22 09:39:04--  https://drive.usercontent.google.com/download?id=10g3IxY8nvE71v3NuqzpDhr2in-EOBX1W&export=download\n",
      "Resolving drive.usercontent.google.com (drive.usercontent.google.com)... 142.250.207.1, 2404:6800:4004:828::2001\n",
      "Connecting to drive.usercontent.google.com (drive.usercontent.google.com)|142.250.207.1|:443... connected.\n",
      "HTTP request sent, awaiting response... 200 OK\n",
      "Length: 116752 (114K) [application/octet-stream]\n",
      "Saving to: ‘titanic.csv’\n",
      "\n",
      "titanic.csv         100%[===================>] 114.02K  --.-KB/s    in 0.1s    \n",
      "\n",
      "2024-10-22 09:39:06 (856 KB/s) - ‘titanic.csv’ saved [116752/116752]\n",
      "\n",
      "--2024-10-22 09:39:06--  https://drive.google.com/uc?export=download&id=1MAON4qhxUPv-0Jtv_V6VmJNtUWk2wm3w\n",
      "Resolving drive.google.com (drive.google.com)... 142.250.199.110, 2404:6800:4004:80a::200e\n",
      "Connecting to drive.google.com (drive.google.com)|142.250.199.110|:443... connected.\n",
      "HTTP request sent, awaiting response... 303 See Other\n",
      "Location: https://drive.usercontent.google.com/download?id=1MAON4qhxUPv-0Jtv_V6VmJNtUWk2wm3w&export=download [following]\n",
      "--2024-10-22 09:39:07--  https://drive.usercontent.google.com/download?id=1MAON4qhxUPv-0Jtv_V6VmJNtUWk2wm3w&export=download\n",
      "Resolving drive.usercontent.google.com (drive.usercontent.google.com)... 142.250.207.1, 2404:6800:4004:828::2001\n",
      "Connecting to drive.usercontent.google.com (drive.usercontent.google.com)|142.250.207.1|:443... connected.\n",
      "HTTP request sent, awaiting response... 200 OK\n",
      "Length: 4019 (3.9K) [application/octet-stream]\n",
      "Saving to: ‘books.csv’\n",
      "\n",
      "books.csv           100%[===================>]   3.92K  --.-KB/s    in 0s      \n",
      "\n",
      "2024-10-22 09:39:09 (122 MB/s) - ‘books.csv’ saved [4019/4019]\n",
      "\n",
      "--2024-10-22 09:39:09--  https://drive.google.com/uc?export=download&id=1r2XlCRkzsT3nG3FCW23nCsRtJgKxBSYc\n",
      "Resolving drive.google.com (drive.google.com)... 142.250.199.110, 2404:6800:4004:80a::200e\n",
      "Connecting to drive.google.com (drive.google.com)|142.250.199.110|:443... connected.\n",
      "HTTP request sent, awaiting response... 303 See Other\n",
      "Location: https://drive.usercontent.google.com/download?id=1r2XlCRkzsT3nG3FCW23nCsRtJgKxBSYc&export=download [following]\n",
      "--2024-10-22 09:39:10--  https://drive.usercontent.google.com/download?id=1r2XlCRkzsT3nG3FCW23nCsRtJgKxBSYc&export=download\n",
      "Resolving drive.usercontent.google.com (drive.usercontent.google.com)... 142.250.207.1, 2404:6800:4004:828::2001\n",
      "Connecting to drive.usercontent.google.com (drive.usercontent.google.com)|142.250.207.1|:443... connected.\n",
      "HTTP request sent, awaiting response... 200 OK\n",
      "Length: 9486 (9.3K) [application/octet-stream]\n",
      "Saving to: ‘loan_records.csv’\n",
      "\n",
      "loan_records.csv    100%[===================>]   9.26K  --.-KB/s    in 0.002s  \n",
      "\n",
      "2024-10-22 09:39:12 (3.81 MB/s) - ‘loan_records.csv’ saved [9486/9486]\n",
      "\n",
      "--2024-10-22 09:39:12--  https://drive.google.com/uc?export=download&id=1Ng04xA7R--eoP3yZSeEBrChGDQjv6yVm\n",
      "Resolving drive.google.com (drive.google.com)... 142.250.199.110, 2404:6800:4004:80a::200e\n",
      "Connecting to drive.google.com (drive.google.com)|142.250.199.110|:443... connected.\n",
      "HTTP request sent, awaiting response... 303 See Other\n",
      "Location: https://drive.usercontent.google.com/download?id=1Ng04xA7R--eoP3yZSeEBrChGDQjv6yVm&export=download [following]\n",
      "--2024-10-22 09:39:12--  https://drive.usercontent.google.com/download?id=1Ng04xA7R--eoP3yZSeEBrChGDQjv6yVm&export=download\n",
      "Resolving drive.usercontent.google.com (drive.usercontent.google.com)... 142.250.207.1, 2404:6800:4004:828::2001\n",
      "Connecting to drive.usercontent.google.com (drive.usercontent.google.com)|142.250.207.1|:443... connected.\n",
      "HTTP request sent, awaiting response... 200 OK\n",
      "Length: 1752 (1.7K) [application/octet-stream]\n",
      "Saving to: ‘seminar_survey.csv’\n",
      "\n",
      "seminar_survey.csv  100%[===================>]   1.71K  --.-KB/s    in 0s      \n",
      "\n",
      "2024-10-22 09:39:15 (41.9 MB/s) - ‘seminar_survey.csv’ saved [1752/1752]\n",
      "\n",
      "--2024-10-22 09:39:15--  https://drive.google.com/uc?export=download&id=1TZOQWNa7wUcHHM95Fc9d8i4VQbo0LnrZ\n",
      "Resolving drive.google.com (drive.google.com)... 142.250.199.110, 2404:6800:4004:80a::200e\n",
      "Connecting to drive.google.com (drive.google.com)|142.250.199.110|:443... connected.\n",
      "HTTP request sent, awaiting response... 303 See Other\n",
      "Location: https://drive.usercontent.google.com/download?id=1TZOQWNa7wUcHHM95Fc9d8i4VQbo0LnrZ&export=download [following]\n",
      "--2024-10-22 09:39:15--  https://drive.usercontent.google.com/download?id=1TZOQWNa7wUcHHM95Fc9d8i4VQbo0LnrZ&export=download\n",
      "Resolving drive.usercontent.google.com (drive.usercontent.google.com)... 142.250.207.1, 2404:6800:4004:828::2001\n",
      "Connecting to drive.usercontent.google.com (drive.usercontent.google.com)|142.250.207.1|:443... connected.\n",
      "HTTP request sent, awaiting response... 200 OK\n",
      "Length: 107022 (105K) [application/octet-stream]\n",
      "Saving to: ‘titanic_column_ja.csv’\n",
      "\n",
      "titanic_column_ja.c 100%[===================>] 104.51K  --.-KB/s    in 0.08s   \n",
      "\n",
      "2024-10-22 09:39:18 (1.25 MB/s) - ‘titanic_column_ja.csv’ saved [107022/107022]\n",
      "\n",
      "--2024-10-22 09:39:18--  https://drive.google.com/uc?export=download&id=1vUwYNObfI_VH9LzQWBRtOOMGfmqkAIiV\n",
      "Resolving drive.google.com (drive.google.com)... 142.250.199.110, 2404:6800:4004:80a::200e\n",
      "Connecting to drive.google.com (drive.google.com)|142.250.199.110|:443... connected.\n",
      "HTTP request sent, awaiting response... 303 See Other\n",
      "Location: https://drive.usercontent.google.com/download?id=1vUwYNObfI_VH9LzQWBRtOOMGfmqkAIiV&export=download [following]\n",
      "--2024-10-22 09:39:18--  https://drive.usercontent.google.com/download?id=1vUwYNObfI_VH9LzQWBRtOOMGfmqkAIiV&export=download\n",
      "Resolving drive.usercontent.google.com (drive.usercontent.google.com)... 142.250.207.1, 2404:6800:4004:813::2001\n",
      "Connecting to drive.usercontent.google.com (drive.usercontent.google.com)|142.250.207.1|:443... connected.\n",
      "HTTP request sent, awaiting response... 200 OK\n",
      "Length: 9177 (9.0K) [application/octet-stream]\n",
      "Saving to: ‘titanic_ex_col.csv’\n",
      "\n",
      "titanic_ex_col.csv  100%[===================>]   8.96K  --.-KB/s    in 0s      \n",
      "\n",
      "2024-10-22 09:39:21 (18.9 MB/s) - ‘titanic_ex_col.csv’ saved [9177/9177]\n",
      "\n",
      "--2024-10-22 09:39:21--  https://drive.google.com/uc?export=download&id=1Gw56SPR0kZav99ht8n8aAZwRgcRXJ4qD\n",
      "Resolving drive.google.com (drive.google.com)... 142.250.199.110, 2404:6800:4004:80a::200e\n",
      "Connecting to drive.google.com (drive.google.com)|142.250.199.110|:443... connected.\n",
      "HTTP request sent, awaiting response... 303 See Other\n",
      "Location: https://drive.usercontent.google.com/download?id=1Gw56SPR0kZav99ht8n8aAZwRgcRXJ4qD&export=download [following]\n",
      "--2024-10-22 09:39:21--  https://drive.usercontent.google.com/download?id=1Gw56SPR0kZav99ht8n8aAZwRgcRXJ4qD&export=download\n",
      "Resolving drive.usercontent.google.com (drive.usercontent.google.com)... 142.250.207.1, 2404:6800:4004:813::2001\n",
      "Connecting to drive.usercontent.google.com (drive.usercontent.google.com)|142.250.207.1|:443... connected.\n",
      "HTTP request sent, awaiting response... 200 OK\n",
      "Length: 106924 (104K) [application/octet-stream]\n",
      "Saving to: ‘titanic_ex.csv’\n",
      "\n",
      "titanic_ex.csv      100%[===================>] 104.42K  --.-KB/s    in 0.1s    \n",
      "\n",
      "2024-10-22 09:39:24 (958 KB/s) - ‘titanic_ex.csv’ saved [106924/106924]\n",
      "\n"
     ]
    }
   ],
   "source": [
    "!wget \"https://drive.google.com/uc?export=download&id=10g3IxY8nvE71v3NuqzpDhr2in-EOBX1W\" -O titanic.csv\n",
    "!wget \"https://drive.google.com/uc?export=download&id=1MAON4qhxUPv-0Jtv_V6VmJNtUWk2wm3w\" -O books.csv\n",
    "!wget \"https://drive.google.com/uc?export=download&id=1r2XlCRkzsT3nG3FCW23nCsRtJgKxBSYc\" -O loan_records.csv\n",
    "!wget \"https://drive.google.com/uc?export=download&id=1Ng04xA7R--eoP3yZSeEBrChGDQjv6yVm\" -O seminar_survey.csv\n",
    "!wget \"https://drive.google.com/uc?export=download&id=1TZOQWNa7wUcHHM95Fc9d8i4VQbo0LnrZ\" -O titanic_column_ja.csv\n",
    "!wget \"https://drive.google.com/uc?export=download&id=1vUwYNObfI_VH9LzQWBRtOOMGfmqkAIiV\" -O titanic_ex_col.csv\n",
    "!wget \"https://drive.google.com/uc?export=download&id=1Gw56SPR0kZav99ht8n8aAZwRgcRXJ4qD\" -O titanic_ex.csv"
   ]
  },
  {
   "cell_type": "code",
   "execution_count": 2,
   "id": "2bb2ab42-fbbb-42b9-8540-86fa0a14aca6",
   "metadata": {},
   "outputs": [],
   "source": [
    "import polars as pl"
   ]
  },
  {
   "cell_type": "code",
   "execution_count": 3,
   "id": "67272561-abb7-4737-9f12-cc3cc4021329",
   "metadata": {},
   "outputs": [
    {
     "data": {
      "text/html": [
       "<div><style>\n",
       ".dataframe > thead > tr,\n",
       ".dataframe > tbody > tr {\n",
       "  text-align: right;\n",
       "  white-space: pre-wrap;\n",
       "}\n",
       "</style>\n",
       "<small>shape: (1_309, 14)</small><table border=\"1\" class=\"dataframe\"><thead><tr><th>pclass</th><th>survived</th><th>name</th><th>sex</th><th>age</th><th>sibsp</th><th>parch</th><th>ticket</th><th>fare</th><th>cabin</th><th>embarked</th><th>boat</th><th>body</th><th>home.dest</th></tr><tr><td>i64</td><td>i64</td><td>str</td><td>str</td><td>f64</td><td>i64</td><td>i64</td><td>str</td><td>f64</td><td>str</td><td>str</td><td>str</td><td>i64</td><td>str</td></tr></thead><tbody><tr><td>1</td><td>1</td><td>&quot;Allen, Miss. Elisabeth Walton&quot;</td><td>&quot;female&quot;</td><td>29.0</td><td>0</td><td>0</td><td>&quot;24160&quot;</td><td>211.3375</td><td>&quot;B5&quot;</td><td>&quot;S&quot;</td><td>&quot;2&quot;</td><td>null</td><td>&quot;St Louis, MO&quot;</td></tr><tr><td>1</td><td>1</td><td>&quot;Allison, Master. Hudson Trevor&quot;</td><td>&quot;male&quot;</td><td>0.92</td><td>1</td><td>2</td><td>&quot;113781&quot;</td><td>151.55</td><td>&quot;C22 C26&quot;</td><td>&quot;S&quot;</td><td>&quot;11&quot;</td><td>null</td><td>&quot;Montreal, PQ / Chesterville, O…</td></tr><tr><td>1</td><td>0</td><td>&quot;Allison, Miss. Helen Loraine&quot;</td><td>&quot;female&quot;</td><td>2.0</td><td>1</td><td>2</td><td>&quot;113781&quot;</td><td>151.55</td><td>&quot;C22 C26&quot;</td><td>&quot;S&quot;</td><td>null</td><td>null</td><td>&quot;Montreal, PQ / Chesterville, O…</td></tr><tr><td>1</td><td>0</td><td>&quot;Allison, Mr. Hudson Joshua Cre…</td><td>&quot;male&quot;</td><td>30.0</td><td>1</td><td>2</td><td>&quot;113781&quot;</td><td>151.55</td><td>&quot;C22 C26&quot;</td><td>&quot;S&quot;</td><td>null</td><td>135</td><td>&quot;Montreal, PQ / Chesterville, O…</td></tr><tr><td>1</td><td>0</td><td>&quot;Allison, Mrs. Hudson J C (Bess…</td><td>&quot;female&quot;</td><td>25.0</td><td>1</td><td>2</td><td>&quot;113781&quot;</td><td>151.55</td><td>&quot;C22 C26&quot;</td><td>&quot;S&quot;</td><td>null</td><td>null</td><td>&quot;Montreal, PQ / Chesterville, O…</td></tr><tr><td>&hellip;</td><td>&hellip;</td><td>&hellip;</td><td>&hellip;</td><td>&hellip;</td><td>&hellip;</td><td>&hellip;</td><td>&hellip;</td><td>&hellip;</td><td>&hellip;</td><td>&hellip;</td><td>&hellip;</td><td>&hellip;</td><td>&hellip;</td></tr><tr><td>3</td><td>0</td><td>&quot;Zabour, Miss. Hileni&quot;</td><td>&quot;female&quot;</td><td>14.5</td><td>1</td><td>0</td><td>&quot;2665&quot;</td><td>14.4542</td><td>null</td><td>&quot;C&quot;</td><td>null</td><td>328</td><td>null</td></tr><tr><td>3</td><td>0</td><td>&quot;Zabour, Miss. Thamine&quot;</td><td>&quot;female&quot;</td><td>null</td><td>1</td><td>0</td><td>&quot;2665&quot;</td><td>14.4542</td><td>null</td><td>&quot;C&quot;</td><td>null</td><td>null</td><td>null</td></tr><tr><td>3</td><td>0</td><td>&quot;Zakarian, Mr. Mapriededer&quot;</td><td>&quot;male&quot;</td><td>26.5</td><td>0</td><td>0</td><td>&quot;2656&quot;</td><td>7.225</td><td>null</td><td>&quot;C&quot;</td><td>null</td><td>304</td><td>null</td></tr><tr><td>3</td><td>0</td><td>&quot;Zakarian, Mr. Ortin&quot;</td><td>&quot;male&quot;</td><td>27.0</td><td>0</td><td>0</td><td>&quot;2670&quot;</td><td>7.225</td><td>null</td><td>&quot;C&quot;</td><td>null</td><td>null</td><td>null</td></tr><tr><td>3</td><td>0</td><td>&quot;Zimmerman, Mr. Leo&quot;</td><td>&quot;male&quot;</td><td>29.0</td><td>0</td><td>0</td><td>&quot;315082&quot;</td><td>7.875</td><td>null</td><td>&quot;S&quot;</td><td>null</td><td>null</td><td>null</td></tr></tbody></table></div>"
      ],
      "text/plain": [
       "shape: (1_309, 14)\n",
       "┌────────┬──────────┬────────────────────┬────────┬───┬──────────┬──────┬──────┬───────────────────┐\n",
       "│ pclass ┆ survived ┆ name               ┆ sex    ┆ … ┆ embarked ┆ boat ┆ body ┆ home.dest         │\n",
       "│ ---    ┆ ---      ┆ ---                ┆ ---    ┆   ┆ ---      ┆ ---  ┆ ---  ┆ ---               │\n",
       "│ i64    ┆ i64      ┆ str                ┆ str    ┆   ┆ str      ┆ str  ┆ i64  ┆ str               │\n",
       "╞════════╪══════════╪════════════════════╪════════╪═══╪══════════╪══════╪══════╪═══════════════════╡\n",
       "│ 1      ┆ 1        ┆ Allen, Miss.       ┆ female ┆ … ┆ S        ┆ 2    ┆ null ┆ St Louis, MO      │\n",
       "│        ┆          ┆ Elisabeth Walton   ┆        ┆   ┆          ┆      ┆      ┆                   │\n",
       "│ 1      ┆ 1        ┆ Allison, Master.   ┆ male   ┆ … ┆ S        ┆ 11   ┆ null ┆ Montreal, PQ /    │\n",
       "│        ┆          ┆ Hudson Trevor      ┆        ┆   ┆          ┆      ┆      ┆ Chesterville, O…  │\n",
       "│ 1      ┆ 0        ┆ Allison, Miss.     ┆ female ┆ … ┆ S        ┆ null ┆ null ┆ Montreal, PQ /    │\n",
       "│        ┆          ┆ Helen Loraine      ┆        ┆   ┆          ┆      ┆      ┆ Chesterville, O…  │\n",
       "│ 1      ┆ 0        ┆ Allison, Mr.       ┆ male   ┆ … ┆ S        ┆ null ┆ 135  ┆ Montreal, PQ /    │\n",
       "│        ┆          ┆ Hudson Joshua Cre… ┆        ┆   ┆          ┆      ┆      ┆ Chesterville, O…  │\n",
       "│ 1      ┆ 0        ┆ Allison, Mrs.      ┆ female ┆ … ┆ S        ┆ null ┆ null ┆ Montreal, PQ /    │\n",
       "│        ┆          ┆ Hudson J C (Bess…  ┆        ┆   ┆          ┆      ┆      ┆ Chesterville, O…  │\n",
       "│ …      ┆ …        ┆ …                  ┆ …      ┆ … ┆ …        ┆ …    ┆ …    ┆ …                 │\n",
       "│ 3      ┆ 0        ┆ Zabour, Miss.      ┆ female ┆ … ┆ C        ┆ null ┆ 328  ┆ null              │\n",
       "│        ┆          ┆ Hileni             ┆        ┆   ┆          ┆      ┆      ┆                   │\n",
       "│ 3      ┆ 0        ┆ Zabour, Miss.      ┆ female ┆ … ┆ C        ┆ null ┆ null ┆ null              │\n",
       "│        ┆          ┆ Thamine            ┆        ┆   ┆          ┆      ┆      ┆                   │\n",
       "│ 3      ┆ 0        ┆ Zakarian, Mr.      ┆ male   ┆ … ┆ C        ┆ null ┆ 304  ┆ null              │\n",
       "│        ┆          ┆ Mapriededer        ┆        ┆   ┆          ┆      ┆      ┆                   │\n",
       "│ 3      ┆ 0        ┆ Zakarian, Mr.      ┆ male   ┆ … ┆ C        ┆ null ┆ null ┆ null              │\n",
       "│        ┆          ┆ Ortin              ┆        ┆   ┆          ┆      ┆      ┆                   │\n",
       "│ 3      ┆ 0        ┆ Zimmerman, Mr. Leo ┆ male   ┆ … ┆ S        ┆ null ┆ null ┆ null              │\n",
       "└────────┴──────────┴────────────────────┴────────┴───┴──────────┴──────┴──────┴───────────────────┘"
      ]
     },
     "execution_count": 3,
     "metadata": {},
     "output_type": "execute_result"
    }
   ],
   "source": [
    "df = pl.read_csv('titanic.csv')\n",
    "df"
   ]
  },
  {
   "cell_type": "code",
   "execution_count": 4,
   "id": "aaa5dcc2-12ae-4e2b-b931-0a2b36d44ca8",
   "metadata": {},
   "outputs": [
    {
     "data": {
      "text/html": [
       "<div><style>\n",
       ".dataframe > thead > tr,\n",
       ".dataframe > tbody > tr {\n",
       "  text-align: right;\n",
       "  white-space: pre-wrap;\n",
       "}\n",
       "</style>\n",
       "<small>shape: (1_309, 14)</small><table border=\"1\" class=\"dataframe\"><thead><tr><th>pclass</th><th>survived</th><th>name</th><th>sex</th><th>age</th><th>sibsp</th><th>parch</th><th>ticket</th><th>fare</th><th>cabin</th><th>embarked</th><th>boat</th><th>body</th><th>home.dest</th></tr><tr><td>i64</td><td>i64</td><td>str</td><td>str</td><td>f64</td><td>i64</td><td>i64</td><td>str</td><td>f64</td><td>str</td><td>str</td><td>str</td><td>i64</td><td>str</td></tr></thead><tbody><tr><td>1</td><td>1</td><td>&quot;Allen, Miss. Elisabeth Walton&quot;</td><td>&quot;female&quot;</td><td>29.0</td><td>0</td><td>0</td><td>&quot;24160&quot;</td><td>2.113375e6</td><td>&quot;B5&quot;</td><td>&quot;S&quot;</td><td>&quot;2&quot;</td><td>null</td><td>&quot;St Louis, MO&quot;</td></tr><tr><td>1</td><td>1</td><td>&quot;Allison, Master. Hudson Trevor&quot;</td><td>&quot;male&quot;</td><td>0.92</td><td>1</td><td>2</td><td>&quot;113781&quot;</td><td>1.5155e6</td><td>&quot;C22 C26&quot;</td><td>&quot;S&quot;</td><td>&quot;11&quot;</td><td>null</td><td>&quot;Montreal, PQ / Chesterville, O…</td></tr><tr><td>1</td><td>0</td><td>&quot;Allison, Miss. Helen Loraine&quot;</td><td>&quot;female&quot;</td><td>2.0</td><td>1</td><td>2</td><td>&quot;113781&quot;</td><td>1.5155e6</td><td>&quot;C22 C26&quot;</td><td>&quot;S&quot;</td><td>null</td><td>null</td><td>&quot;Montreal, PQ / Chesterville, O…</td></tr><tr><td>1</td><td>0</td><td>&quot;Allison, Mr. Hudson Joshua Cre…</td><td>&quot;male&quot;</td><td>30.0</td><td>1</td><td>2</td><td>&quot;113781&quot;</td><td>1.5155e6</td><td>&quot;C22 C26&quot;</td><td>&quot;S&quot;</td><td>null</td><td>135</td><td>&quot;Montreal, PQ / Chesterville, O…</td></tr><tr><td>1</td><td>0</td><td>&quot;Allison, Mrs. Hudson J C (Bess…</td><td>&quot;female&quot;</td><td>25.0</td><td>1</td><td>2</td><td>&quot;113781&quot;</td><td>1.5155e6</td><td>&quot;C22 C26&quot;</td><td>&quot;S&quot;</td><td>null</td><td>null</td><td>&quot;Montreal, PQ / Chesterville, O…</td></tr><tr><td>&hellip;</td><td>&hellip;</td><td>&hellip;</td><td>&hellip;</td><td>&hellip;</td><td>&hellip;</td><td>&hellip;</td><td>&hellip;</td><td>&hellip;</td><td>&hellip;</td><td>&hellip;</td><td>&hellip;</td><td>&hellip;</td><td>&hellip;</td></tr><tr><td>3</td><td>0</td><td>&quot;Zabour, Miss. Hileni&quot;</td><td>&quot;female&quot;</td><td>14.5</td><td>1</td><td>0</td><td>&quot;2665&quot;</td><td>144542.0</td><td>null</td><td>&quot;C&quot;</td><td>null</td><td>328</td><td>null</td></tr><tr><td>3</td><td>0</td><td>&quot;Zabour, Miss. Thamine&quot;</td><td>&quot;female&quot;</td><td>null</td><td>1</td><td>0</td><td>&quot;2665&quot;</td><td>144542.0</td><td>null</td><td>&quot;C&quot;</td><td>null</td><td>null</td><td>null</td></tr><tr><td>3</td><td>0</td><td>&quot;Zakarian, Mr. Mapriededer&quot;</td><td>&quot;male&quot;</td><td>26.5</td><td>0</td><td>0</td><td>&quot;2656&quot;</td><td>72250.0</td><td>null</td><td>&quot;C&quot;</td><td>null</td><td>304</td><td>null</td></tr><tr><td>3</td><td>0</td><td>&quot;Zakarian, Mr. Ortin&quot;</td><td>&quot;male&quot;</td><td>27.0</td><td>0</td><td>0</td><td>&quot;2670&quot;</td><td>72250.0</td><td>null</td><td>&quot;C&quot;</td><td>null</td><td>null</td><td>null</td></tr><tr><td>3</td><td>0</td><td>&quot;Zimmerman, Mr. Leo&quot;</td><td>&quot;male&quot;</td><td>29.0</td><td>0</td><td>0</td><td>&quot;315082&quot;</td><td>78750.0</td><td>null</td><td>&quot;S&quot;</td><td>null</td><td>null</td><td>null</td></tr></tbody></table></div>"
      ],
      "text/plain": [
       "shape: (1_309, 14)\n",
       "┌────────┬──────────┬────────────────────┬────────┬───┬──────────┬──────┬──────┬───────────────────┐\n",
       "│ pclass ┆ survived ┆ name               ┆ sex    ┆ … ┆ embarked ┆ boat ┆ body ┆ home.dest         │\n",
       "│ ---    ┆ ---      ┆ ---                ┆ ---    ┆   ┆ ---      ┆ ---  ┆ ---  ┆ ---               │\n",
       "│ i64    ┆ i64      ┆ str                ┆ str    ┆   ┆ str      ┆ str  ┆ i64  ┆ str               │\n",
       "╞════════╪══════════╪════════════════════╪════════╪═══╪══════════╪══════╪══════╪═══════════════════╡\n",
       "│ 1      ┆ 1        ┆ Allen, Miss.       ┆ female ┆ … ┆ S        ┆ 2    ┆ null ┆ St Louis, MO      │\n",
       "│        ┆          ┆ Elisabeth Walton   ┆        ┆   ┆          ┆      ┆      ┆                   │\n",
       "│ 1      ┆ 1        ┆ Allison, Master.   ┆ male   ┆ … ┆ S        ┆ 11   ┆ null ┆ Montreal, PQ /    │\n",
       "│        ┆          ┆ Hudson Trevor      ┆        ┆   ┆          ┆      ┆      ┆ Chesterville, O…  │\n",
       "│ 1      ┆ 0        ┆ Allison, Miss.     ┆ female ┆ … ┆ S        ┆ null ┆ null ┆ Montreal, PQ /    │\n",
       "│        ┆          ┆ Helen Loraine      ┆        ┆   ┆          ┆      ┆      ┆ Chesterville, O…  │\n",
       "│ 1      ┆ 0        ┆ Allison, Mr.       ┆ male   ┆ … ┆ S        ┆ null ┆ 135  ┆ Montreal, PQ /    │\n",
       "│        ┆          ┆ Hudson Joshua Cre… ┆        ┆   ┆          ┆      ┆      ┆ Chesterville, O…  │\n",
       "│ 1      ┆ 0        ┆ Allison, Mrs.      ┆ female ┆ … ┆ S        ┆ null ┆ null ┆ Montreal, PQ /    │\n",
       "│        ┆          ┆ Hudson J C (Bess…  ┆        ┆   ┆          ┆      ┆      ┆ Chesterville, O…  │\n",
       "│ …      ┆ …        ┆ …                  ┆ …      ┆ … ┆ …        ┆ …    ┆ …    ┆ …                 │\n",
       "│ 3      ┆ 0        ┆ Zabour, Miss.      ┆ female ┆ … ┆ C        ┆ null ┆ 328  ┆ null              │\n",
       "│        ┆          ┆ Hileni             ┆        ┆   ┆          ┆      ┆      ┆                   │\n",
       "│ 3      ┆ 0        ┆ Zabour, Miss.      ┆ female ┆ … ┆ C        ┆ null ┆ null ┆ null              │\n",
       "│        ┆          ┆ Thamine            ┆        ┆   ┆          ┆      ┆      ┆                   │\n",
       "│ 3      ┆ 0        ┆ Zakarian, Mr.      ┆ male   ┆ … ┆ C        ┆ null ┆ 304  ┆ null              │\n",
       "│        ┆          ┆ Mapriededer        ┆        ┆   ┆          ┆      ┆      ┆                   │\n",
       "│ 3      ┆ 0        ┆ Zakarian, Mr.      ┆ male   ┆ … ┆ C        ┆ null ┆ null ┆ null              │\n",
       "│        ┆          ┆ Ortin              ┆        ┆   ┆          ┆      ┆      ┆                   │\n",
       "│ 3      ┆ 0        ┆ Zimmerman, Mr. Leo ┆ male   ┆ … ┆ S        ┆ null ┆ null ┆ null              │\n",
       "└────────┴──────────┴────────────────────┴────────┴───┴──────────┴──────┴──────┴───────────────────┘"
      ]
     },
     "execution_count": 4,
     "metadata": {},
     "output_type": "execute_result"
    }
   ],
   "source": [
    "df.with_columns(\n",
    "    pl.col('fare') * 10_000\n",
    ")"
   ]
  },
  {
   "cell_type": "code",
   "execution_count": 5,
   "id": "ca5d55bd-b70d-4072-bfa8-de48b1980479",
   "metadata": {},
   "outputs": [
    {
     "data": {
      "text/html": [
       "<div><style>\n",
       ".dataframe > thead > tr,\n",
       ".dataframe > tbody > tr {\n",
       "  text-align: right;\n",
       "  white-space: pre-wrap;\n",
       "}\n",
       "</style>\n",
       "<small>shape: (1_309, 14)</small><table border=\"1\" class=\"dataframe\"><thead><tr><th>pclass</th><th>survived</th><th>name</th><th>sex</th><th>age</th><th>sibsp</th><th>parch</th><th>ticket</th><th>fare</th><th>cabin</th><th>embarked</th><th>boat</th><th>body</th><th>home.dest</th></tr><tr><td>i64</td><td>i64</td><td>str</td><td>str</td><td>i64</td><td>i64</td><td>i64</td><td>str</td><td>i64</td><td>str</td><td>str</td><td>str</td><td>i64</td><td>str</td></tr></thead><tbody><tr><td>1</td><td>1</td><td>&quot;Allen, Miss. Elisabeth Walton&quot;</td><td>&quot;female&quot;</td><td>29</td><td>0</td><td>0</td><td>&quot;24160&quot;</td><td>211</td><td>&quot;B5&quot;</td><td>&quot;S&quot;</td><td>&quot;2&quot;</td><td>null</td><td>&quot;St Louis, MO&quot;</td></tr><tr><td>1</td><td>1</td><td>&quot;Allison, Master. Hudson Trevor&quot;</td><td>&quot;male&quot;</td><td>1</td><td>1</td><td>2</td><td>&quot;113781&quot;</td><td>152</td><td>&quot;C22 C26&quot;</td><td>&quot;S&quot;</td><td>&quot;11&quot;</td><td>null</td><td>&quot;Montreal, PQ / Chesterville, O…</td></tr><tr><td>1</td><td>0</td><td>&quot;Allison, Miss. Helen Loraine&quot;</td><td>&quot;female&quot;</td><td>2</td><td>1</td><td>2</td><td>&quot;113781&quot;</td><td>152</td><td>&quot;C22 C26&quot;</td><td>&quot;S&quot;</td><td>null</td><td>null</td><td>&quot;Montreal, PQ / Chesterville, O…</td></tr><tr><td>1</td><td>0</td><td>&quot;Allison, Mr. Hudson Joshua Cre…</td><td>&quot;male&quot;</td><td>30</td><td>1</td><td>2</td><td>&quot;113781&quot;</td><td>152</td><td>&quot;C22 C26&quot;</td><td>&quot;S&quot;</td><td>null</td><td>135</td><td>&quot;Montreal, PQ / Chesterville, O…</td></tr><tr><td>1</td><td>0</td><td>&quot;Allison, Mrs. Hudson J C (Bess…</td><td>&quot;female&quot;</td><td>25</td><td>1</td><td>2</td><td>&quot;113781&quot;</td><td>152</td><td>&quot;C22 C26&quot;</td><td>&quot;S&quot;</td><td>null</td><td>null</td><td>&quot;Montreal, PQ / Chesterville, O…</td></tr><tr><td>&hellip;</td><td>&hellip;</td><td>&hellip;</td><td>&hellip;</td><td>&hellip;</td><td>&hellip;</td><td>&hellip;</td><td>&hellip;</td><td>&hellip;</td><td>&hellip;</td><td>&hellip;</td><td>&hellip;</td><td>&hellip;</td><td>&hellip;</td></tr><tr><td>3</td><td>0</td><td>&quot;Zabour, Miss. Hileni&quot;</td><td>&quot;female&quot;</td><td>15</td><td>1</td><td>0</td><td>&quot;2665&quot;</td><td>14</td><td>null</td><td>&quot;C&quot;</td><td>null</td><td>328</td><td>null</td></tr><tr><td>3</td><td>0</td><td>&quot;Zabour, Miss. Thamine&quot;</td><td>&quot;female&quot;</td><td>null</td><td>1</td><td>0</td><td>&quot;2665&quot;</td><td>14</td><td>null</td><td>&quot;C&quot;</td><td>null</td><td>null</td><td>null</td></tr><tr><td>3</td><td>0</td><td>&quot;Zakarian, Mr. Mapriededer&quot;</td><td>&quot;male&quot;</td><td>27</td><td>0</td><td>0</td><td>&quot;2656&quot;</td><td>7</td><td>null</td><td>&quot;C&quot;</td><td>null</td><td>304</td><td>null</td></tr><tr><td>3</td><td>0</td><td>&quot;Zakarian, Mr. Ortin&quot;</td><td>&quot;male&quot;</td><td>27</td><td>0</td><td>0</td><td>&quot;2670&quot;</td><td>7</td><td>null</td><td>&quot;C&quot;</td><td>null</td><td>null</td><td>null</td></tr><tr><td>3</td><td>0</td><td>&quot;Zimmerman, Mr. Leo&quot;</td><td>&quot;male&quot;</td><td>29</td><td>0</td><td>0</td><td>&quot;315082&quot;</td><td>8</td><td>null</td><td>&quot;S&quot;</td><td>null</td><td>null</td><td>null</td></tr></tbody></table></div>"
      ],
      "text/plain": [
       "shape: (1_309, 14)\n",
       "┌────────┬──────────┬────────────────────┬────────┬───┬──────────┬──────┬──────┬───────────────────┐\n",
       "│ pclass ┆ survived ┆ name               ┆ sex    ┆ … ┆ embarked ┆ boat ┆ body ┆ home.dest         │\n",
       "│ ---    ┆ ---      ┆ ---                ┆ ---    ┆   ┆ ---      ┆ ---  ┆ ---  ┆ ---               │\n",
       "│ i64    ┆ i64      ┆ str                ┆ str    ┆   ┆ str      ┆ str  ┆ i64  ┆ str               │\n",
       "╞════════╪══════════╪════════════════════╪════════╪═══╪══════════╪══════╪══════╪═══════════════════╡\n",
       "│ 1      ┆ 1        ┆ Allen, Miss.       ┆ female ┆ … ┆ S        ┆ 2    ┆ null ┆ St Louis, MO      │\n",
       "│        ┆          ┆ Elisabeth Walton   ┆        ┆   ┆          ┆      ┆      ┆                   │\n",
       "│ 1      ┆ 1        ┆ Allison, Master.   ┆ male   ┆ … ┆ S        ┆ 11   ┆ null ┆ Montreal, PQ /    │\n",
       "│        ┆          ┆ Hudson Trevor      ┆        ┆   ┆          ┆      ┆      ┆ Chesterville, O…  │\n",
       "│ 1      ┆ 0        ┆ Allison, Miss.     ┆ female ┆ … ┆ S        ┆ null ┆ null ┆ Montreal, PQ /    │\n",
       "│        ┆          ┆ Helen Loraine      ┆        ┆   ┆          ┆      ┆      ┆ Chesterville, O…  │\n",
       "│ 1      ┆ 0        ┆ Allison, Mr.       ┆ male   ┆ … ┆ S        ┆ null ┆ 135  ┆ Montreal, PQ /    │\n",
       "│        ┆          ┆ Hudson Joshua Cre… ┆        ┆   ┆          ┆      ┆      ┆ Chesterville, O…  │\n",
       "│ 1      ┆ 0        ┆ Allison, Mrs.      ┆ female ┆ … ┆ S        ┆ null ┆ null ┆ Montreal, PQ /    │\n",
       "│        ┆          ┆ Hudson J C (Bess…  ┆        ┆   ┆          ┆      ┆      ┆ Chesterville, O…  │\n",
       "│ …      ┆ …        ┆ …                  ┆ …      ┆ … ┆ …        ┆ …    ┆ …    ┆ …                 │\n",
       "│ 3      ┆ 0        ┆ Zabour, Miss.      ┆ female ┆ … ┆ C        ┆ null ┆ 328  ┆ null              │\n",
       "│        ┆          ┆ Hileni             ┆        ┆   ┆          ┆      ┆      ┆                   │\n",
       "│ 3      ┆ 0        ┆ Zabour, Miss.      ┆ female ┆ … ┆ C        ┆ null ┆ null ┆ null              │\n",
       "│        ┆          ┆ Thamine            ┆        ┆   ┆          ┆      ┆      ┆                   │\n",
       "│ 3      ┆ 0        ┆ Zakarian, Mr.      ┆ male   ┆ … ┆ C        ┆ null ┆ 304  ┆ null              │\n",
       "│        ┆          ┆ Mapriededer        ┆        ┆   ┆          ┆      ┆      ┆                   │\n",
       "│ 3      ┆ 0        ┆ Zakarian, Mr.      ┆ male   ┆ … ┆ C        ┆ null ┆ null ┆ null              │\n",
       "│        ┆          ┆ Ortin              ┆        ┆   ┆          ┆      ┆      ┆                   │\n",
       "│ 3      ┆ 0        ┆ Zimmerman, Mr. Leo ┆ male   ┆ … ┆ S        ┆ null ┆ null ┆ null              │\n",
       "└────────┴──────────┴────────────────────┴────────┴───┴──────────┴──────┴──────┴───────────────────┘"
      ]
     },
     "execution_count": 5,
     "metadata": {},
     "output_type": "execute_result"
    }
   ],
   "source": [
    "df.with_columns(\n",
    "    pl.col('age').round().cast(pl.Int64),\n",
    "    pl.col('fare').round().cast(pl.Int64)\n",
    ")"
   ]
  },
  {
   "cell_type": "code",
   "execution_count": 6,
   "id": "7810c518-ea04-41ab-8b23-781781562293",
   "metadata": {},
   "outputs": [
    {
     "data": {
      "text/html": [
       "<div><style>\n",
       ".dataframe > thead > tr,\n",
       ".dataframe > tbody > tr {\n",
       "  text-align: right;\n",
       "  white-space: pre-wrap;\n",
       "}\n",
       "</style>\n",
       "<small>shape: (1_309, 15)</small><table border=\"1\" class=\"dataframe\"><thead><tr><th>pclass</th><th>survived</th><th>name</th><th>sex</th><th>age</th><th>sibsp</th><th>parch</th><th>ticket</th><th>fare</th><th>cabin</th><th>embarked</th><th>boat</th><th>body</th><th>home.dest</th><th>family_size</th></tr><tr><td>i64</td><td>i64</td><td>str</td><td>str</td><td>f64</td><td>i64</td><td>i64</td><td>str</td><td>f64</td><td>str</td><td>str</td><td>str</td><td>i64</td><td>str</td><td>i64</td></tr></thead><tbody><tr><td>1</td><td>1</td><td>&quot;Allen, Miss. Elisabeth Walton&quot;</td><td>&quot;female&quot;</td><td>29.0</td><td>0</td><td>0</td><td>&quot;24160&quot;</td><td>211.3375</td><td>&quot;B5&quot;</td><td>&quot;S&quot;</td><td>&quot;2&quot;</td><td>null</td><td>&quot;St Louis, MO&quot;</td><td>0</td></tr><tr><td>1</td><td>1</td><td>&quot;Allison, Master. Hudson Trevor&quot;</td><td>&quot;male&quot;</td><td>0.92</td><td>1</td><td>2</td><td>&quot;113781&quot;</td><td>151.55</td><td>&quot;C22 C26&quot;</td><td>&quot;S&quot;</td><td>&quot;11&quot;</td><td>null</td><td>&quot;Montreal, PQ / Chesterville, O…</td><td>3</td></tr><tr><td>1</td><td>0</td><td>&quot;Allison, Miss. Helen Loraine&quot;</td><td>&quot;female&quot;</td><td>2.0</td><td>1</td><td>2</td><td>&quot;113781&quot;</td><td>151.55</td><td>&quot;C22 C26&quot;</td><td>&quot;S&quot;</td><td>null</td><td>null</td><td>&quot;Montreal, PQ / Chesterville, O…</td><td>3</td></tr><tr><td>1</td><td>0</td><td>&quot;Allison, Mr. Hudson Joshua Cre…</td><td>&quot;male&quot;</td><td>30.0</td><td>1</td><td>2</td><td>&quot;113781&quot;</td><td>151.55</td><td>&quot;C22 C26&quot;</td><td>&quot;S&quot;</td><td>null</td><td>135</td><td>&quot;Montreal, PQ / Chesterville, O…</td><td>3</td></tr><tr><td>1</td><td>0</td><td>&quot;Allison, Mrs. Hudson J C (Bess…</td><td>&quot;female&quot;</td><td>25.0</td><td>1</td><td>2</td><td>&quot;113781&quot;</td><td>151.55</td><td>&quot;C22 C26&quot;</td><td>&quot;S&quot;</td><td>null</td><td>null</td><td>&quot;Montreal, PQ / Chesterville, O…</td><td>3</td></tr><tr><td>&hellip;</td><td>&hellip;</td><td>&hellip;</td><td>&hellip;</td><td>&hellip;</td><td>&hellip;</td><td>&hellip;</td><td>&hellip;</td><td>&hellip;</td><td>&hellip;</td><td>&hellip;</td><td>&hellip;</td><td>&hellip;</td><td>&hellip;</td><td>&hellip;</td></tr><tr><td>3</td><td>0</td><td>&quot;Zabour, Miss. Hileni&quot;</td><td>&quot;female&quot;</td><td>14.5</td><td>1</td><td>0</td><td>&quot;2665&quot;</td><td>14.4542</td><td>null</td><td>&quot;C&quot;</td><td>null</td><td>328</td><td>null</td><td>1</td></tr><tr><td>3</td><td>0</td><td>&quot;Zabour, Miss. Thamine&quot;</td><td>&quot;female&quot;</td><td>null</td><td>1</td><td>0</td><td>&quot;2665&quot;</td><td>14.4542</td><td>null</td><td>&quot;C&quot;</td><td>null</td><td>null</td><td>null</td><td>1</td></tr><tr><td>3</td><td>0</td><td>&quot;Zakarian, Mr. Mapriededer&quot;</td><td>&quot;male&quot;</td><td>26.5</td><td>0</td><td>0</td><td>&quot;2656&quot;</td><td>7.225</td><td>null</td><td>&quot;C&quot;</td><td>null</td><td>304</td><td>null</td><td>0</td></tr><tr><td>3</td><td>0</td><td>&quot;Zakarian, Mr. Ortin&quot;</td><td>&quot;male&quot;</td><td>27.0</td><td>0</td><td>0</td><td>&quot;2670&quot;</td><td>7.225</td><td>null</td><td>&quot;C&quot;</td><td>null</td><td>null</td><td>null</td><td>0</td></tr><tr><td>3</td><td>0</td><td>&quot;Zimmerman, Mr. Leo&quot;</td><td>&quot;male&quot;</td><td>29.0</td><td>0</td><td>0</td><td>&quot;315082&quot;</td><td>7.875</td><td>null</td><td>&quot;S&quot;</td><td>null</td><td>null</td><td>null</td><td>0</td></tr></tbody></table></div>"
      ],
      "text/plain": [
       "shape: (1_309, 15)\n",
       "┌────────┬──────────┬──────────────────┬────────┬───┬──────┬──────┬──────────────────┬─────────────┐\n",
       "│ pclass ┆ survived ┆ name             ┆ sex    ┆ … ┆ boat ┆ body ┆ home.dest        ┆ family_size │\n",
       "│ ---    ┆ ---      ┆ ---              ┆ ---    ┆   ┆ ---  ┆ ---  ┆ ---              ┆ ---         │\n",
       "│ i64    ┆ i64      ┆ str              ┆ str    ┆   ┆ str  ┆ i64  ┆ str              ┆ i64         │\n",
       "╞════════╪══════════╪══════════════════╪════════╪═══╪══════╪══════╪══════════════════╪═════════════╡\n",
       "│ 1      ┆ 1        ┆ Allen, Miss.     ┆ female ┆ … ┆ 2    ┆ null ┆ St Louis, MO     ┆ 0           │\n",
       "│        ┆          ┆ Elisabeth Walton ┆        ┆   ┆      ┆      ┆                  ┆             │\n",
       "│ 1      ┆ 1        ┆ Allison, Master. ┆ male   ┆ … ┆ 11   ┆ null ┆ Montreal, PQ /   ┆ 3           │\n",
       "│        ┆          ┆ Hudson Trevor    ┆        ┆   ┆      ┆      ┆ Chesterville, O… ┆             │\n",
       "│ 1      ┆ 0        ┆ Allison, Miss.   ┆ female ┆ … ┆ null ┆ null ┆ Montreal, PQ /   ┆ 3           │\n",
       "│        ┆          ┆ Helen Loraine    ┆        ┆   ┆      ┆      ┆ Chesterville, O… ┆             │\n",
       "│ 1      ┆ 0        ┆ Allison, Mr.     ┆ male   ┆ … ┆ null ┆ 135  ┆ Montreal, PQ /   ┆ 3           │\n",
       "│        ┆          ┆ Hudson Joshua    ┆        ┆   ┆      ┆      ┆ Chesterville, O… ┆             │\n",
       "│        ┆          ┆ Cre…             ┆        ┆   ┆      ┆      ┆                  ┆             │\n",
       "│ 1      ┆ 0        ┆ Allison, Mrs.    ┆ female ┆ … ┆ null ┆ null ┆ Montreal, PQ /   ┆ 3           │\n",
       "│        ┆          ┆ Hudson J C       ┆        ┆   ┆      ┆      ┆ Chesterville, O… ┆             │\n",
       "│        ┆          ┆ (Bess…           ┆        ┆   ┆      ┆      ┆                  ┆             │\n",
       "│ …      ┆ …        ┆ …                ┆ …      ┆ … ┆ …    ┆ …    ┆ …                ┆ …           │\n",
       "│ 3      ┆ 0        ┆ Zabour, Miss.    ┆ female ┆ … ┆ null ┆ 328  ┆ null             ┆ 1           │\n",
       "│        ┆          ┆ Hileni           ┆        ┆   ┆      ┆      ┆                  ┆             │\n",
       "│ 3      ┆ 0        ┆ Zabour, Miss.    ┆ female ┆ … ┆ null ┆ null ┆ null             ┆ 1           │\n",
       "│        ┆          ┆ Thamine          ┆        ┆   ┆      ┆      ┆                  ┆             │\n",
       "│ 3      ┆ 0        ┆ Zakarian, Mr.    ┆ male   ┆ … ┆ null ┆ 304  ┆ null             ┆ 0           │\n",
       "│        ┆          ┆ Mapriededer      ┆        ┆   ┆      ┆      ┆                  ┆             │\n",
       "│ 3      ┆ 0        ┆ Zakarian, Mr.    ┆ male   ┆ … ┆ null ┆ null ┆ null             ┆ 0           │\n",
       "│        ┆          ┆ Ortin            ┆        ┆   ┆      ┆      ┆                  ┆             │\n",
       "│ 3      ┆ 0        ┆ Zimmerman, Mr.   ┆ male   ┆ … ┆ null ┆ null ┆ null             ┆ 0           │\n",
       "│        ┆          ┆ Leo              ┆        ┆   ┆      ┆      ┆                  ┆             │\n",
       "└────────┴──────────┴──────────────────┴────────┴───┴──────┴──────┴──────────────────┴─────────────┘"
      ]
     },
     "execution_count": 6,
     "metadata": {},
     "output_type": "execute_result"
    }
   ],
   "source": [
    "df.with_columns(\n",
    "    (pl.col('sibsp') + pl.col('parch')).alias('family_size')\n",
    ")"
   ]
  },
  {
   "cell_type": "code",
   "execution_count": 7,
   "id": "44317201-0283-4e0b-88ab-2808f13b838e",
   "metadata": {},
   "outputs": [
    {
     "data": {
      "text/html": [
       "<div><style>\n",
       ".dataframe > thead > tr,\n",
       ".dataframe > tbody > tr {\n",
       "  text-align: right;\n",
       "  white-space: pre-wrap;\n",
       "}\n",
       "</style>\n",
       "<small>shape: (1_309, 15)</small><table border=\"1\" class=\"dataframe\"><thead><tr><th>pclass</th><th>survived</th><th>name</th><th>sex</th><th>age</th><th>sibsp</th><th>parch</th><th>ticket</th><th>fare</th><th>cabin</th><th>embarked</th><th>boat</th><th>body</th><th>home.dest</th><th>ship_name</th></tr><tr><td>i64</td><td>i64</td><td>str</td><td>str</td><td>f64</td><td>i64</td><td>i64</td><td>str</td><td>f64</td><td>str</td><td>str</td><td>str</td><td>i64</td><td>str</td><td>str</td></tr></thead><tbody><tr><td>1</td><td>1</td><td>&quot;Allen, Miss. Elisabeth Walton&quot;</td><td>&quot;female&quot;</td><td>29.0</td><td>0</td><td>0</td><td>&quot;24160&quot;</td><td>211.3375</td><td>&quot;B5&quot;</td><td>&quot;S&quot;</td><td>&quot;2&quot;</td><td>null</td><td>&quot;St Louis, MO&quot;</td><td>&quot;titanic&quot;</td></tr><tr><td>1</td><td>1</td><td>&quot;Allison, Master. Hudson Trevor&quot;</td><td>&quot;male&quot;</td><td>0.92</td><td>1</td><td>2</td><td>&quot;113781&quot;</td><td>151.55</td><td>&quot;C22 C26&quot;</td><td>&quot;S&quot;</td><td>&quot;11&quot;</td><td>null</td><td>&quot;Montreal, PQ / Chesterville, O…</td><td>&quot;titanic&quot;</td></tr><tr><td>1</td><td>0</td><td>&quot;Allison, Miss. Helen Loraine&quot;</td><td>&quot;female&quot;</td><td>2.0</td><td>1</td><td>2</td><td>&quot;113781&quot;</td><td>151.55</td><td>&quot;C22 C26&quot;</td><td>&quot;S&quot;</td><td>null</td><td>null</td><td>&quot;Montreal, PQ / Chesterville, O…</td><td>&quot;titanic&quot;</td></tr><tr><td>1</td><td>0</td><td>&quot;Allison, Mr. Hudson Joshua Cre…</td><td>&quot;male&quot;</td><td>30.0</td><td>1</td><td>2</td><td>&quot;113781&quot;</td><td>151.55</td><td>&quot;C22 C26&quot;</td><td>&quot;S&quot;</td><td>null</td><td>135</td><td>&quot;Montreal, PQ / Chesterville, O…</td><td>&quot;titanic&quot;</td></tr><tr><td>1</td><td>0</td><td>&quot;Allison, Mrs. Hudson J C (Bess…</td><td>&quot;female&quot;</td><td>25.0</td><td>1</td><td>2</td><td>&quot;113781&quot;</td><td>151.55</td><td>&quot;C22 C26&quot;</td><td>&quot;S&quot;</td><td>null</td><td>null</td><td>&quot;Montreal, PQ / Chesterville, O…</td><td>&quot;titanic&quot;</td></tr><tr><td>&hellip;</td><td>&hellip;</td><td>&hellip;</td><td>&hellip;</td><td>&hellip;</td><td>&hellip;</td><td>&hellip;</td><td>&hellip;</td><td>&hellip;</td><td>&hellip;</td><td>&hellip;</td><td>&hellip;</td><td>&hellip;</td><td>&hellip;</td><td>&hellip;</td></tr><tr><td>3</td><td>0</td><td>&quot;Zabour, Miss. Hileni&quot;</td><td>&quot;female&quot;</td><td>14.5</td><td>1</td><td>0</td><td>&quot;2665&quot;</td><td>14.4542</td><td>null</td><td>&quot;C&quot;</td><td>null</td><td>328</td><td>null</td><td>&quot;titanic&quot;</td></tr><tr><td>3</td><td>0</td><td>&quot;Zabour, Miss. Thamine&quot;</td><td>&quot;female&quot;</td><td>null</td><td>1</td><td>0</td><td>&quot;2665&quot;</td><td>14.4542</td><td>null</td><td>&quot;C&quot;</td><td>null</td><td>null</td><td>null</td><td>&quot;titanic&quot;</td></tr><tr><td>3</td><td>0</td><td>&quot;Zakarian, Mr. Mapriededer&quot;</td><td>&quot;male&quot;</td><td>26.5</td><td>0</td><td>0</td><td>&quot;2656&quot;</td><td>7.225</td><td>null</td><td>&quot;C&quot;</td><td>null</td><td>304</td><td>null</td><td>&quot;titanic&quot;</td></tr><tr><td>3</td><td>0</td><td>&quot;Zakarian, Mr. Ortin&quot;</td><td>&quot;male&quot;</td><td>27.0</td><td>0</td><td>0</td><td>&quot;2670&quot;</td><td>7.225</td><td>null</td><td>&quot;C&quot;</td><td>null</td><td>null</td><td>null</td><td>&quot;titanic&quot;</td></tr><tr><td>3</td><td>0</td><td>&quot;Zimmerman, Mr. Leo&quot;</td><td>&quot;male&quot;</td><td>29.0</td><td>0</td><td>0</td><td>&quot;315082&quot;</td><td>7.875</td><td>null</td><td>&quot;S&quot;</td><td>null</td><td>null</td><td>null</td><td>&quot;titanic&quot;</td></tr></tbody></table></div>"
      ],
      "text/plain": [
       "shape: (1_309, 15)\n",
       "┌────────┬──────────┬───────────────────┬────────┬───┬──────┬──────┬───────────────────┬───────────┐\n",
       "│ pclass ┆ survived ┆ name              ┆ sex    ┆ … ┆ boat ┆ body ┆ home.dest         ┆ ship_name │\n",
       "│ ---    ┆ ---      ┆ ---               ┆ ---    ┆   ┆ ---  ┆ ---  ┆ ---               ┆ ---       │\n",
       "│ i64    ┆ i64      ┆ str               ┆ str    ┆   ┆ str  ┆ i64  ┆ str               ┆ str       │\n",
       "╞════════╪══════════╪═══════════════════╪════════╪═══╪══════╪══════╪═══════════════════╪═══════════╡\n",
       "│ 1      ┆ 1        ┆ Allen, Miss.      ┆ female ┆ … ┆ 2    ┆ null ┆ St Louis, MO      ┆ titanic   │\n",
       "│        ┆          ┆ Elisabeth Walton  ┆        ┆   ┆      ┆      ┆                   ┆           │\n",
       "│ 1      ┆ 1        ┆ Allison, Master.  ┆ male   ┆ … ┆ 11   ┆ null ┆ Montreal, PQ /    ┆ titanic   │\n",
       "│        ┆          ┆ Hudson Trevor     ┆        ┆   ┆      ┆      ┆ Chesterville, O…  ┆           │\n",
       "│ 1      ┆ 0        ┆ Allison, Miss.    ┆ female ┆ … ┆ null ┆ null ┆ Montreal, PQ /    ┆ titanic   │\n",
       "│        ┆          ┆ Helen Loraine     ┆        ┆   ┆      ┆      ┆ Chesterville, O…  ┆           │\n",
       "│ 1      ┆ 0        ┆ Allison, Mr.      ┆ male   ┆ … ┆ null ┆ 135  ┆ Montreal, PQ /    ┆ titanic   │\n",
       "│        ┆          ┆ Hudson Joshua     ┆        ┆   ┆      ┆      ┆ Chesterville, O…  ┆           │\n",
       "│        ┆          ┆ Cre…              ┆        ┆   ┆      ┆      ┆                   ┆           │\n",
       "│ 1      ┆ 0        ┆ Allison, Mrs.     ┆ female ┆ … ┆ null ┆ null ┆ Montreal, PQ /    ┆ titanic   │\n",
       "│        ┆          ┆ Hudson J C (Bess… ┆        ┆   ┆      ┆      ┆ Chesterville, O…  ┆           │\n",
       "│ …      ┆ …        ┆ …                 ┆ …      ┆ … ┆ …    ┆ …    ┆ …                 ┆ …         │\n",
       "│ 3      ┆ 0        ┆ Zabour, Miss.     ┆ female ┆ … ┆ null ┆ 328  ┆ null              ┆ titanic   │\n",
       "│        ┆          ┆ Hileni            ┆        ┆   ┆      ┆      ┆                   ┆           │\n",
       "│ 3      ┆ 0        ┆ Zabour, Miss.     ┆ female ┆ … ┆ null ┆ null ┆ null              ┆ titanic   │\n",
       "│        ┆          ┆ Thamine           ┆        ┆   ┆      ┆      ┆                   ┆           │\n",
       "│ 3      ┆ 0        ┆ Zakarian, Mr.     ┆ male   ┆ … ┆ null ┆ 304  ┆ null              ┆ titanic   │\n",
       "│        ┆          ┆ Mapriededer       ┆        ┆   ┆      ┆      ┆                   ┆           │\n",
       "│ 3      ┆ 0        ┆ Zakarian, Mr.     ┆ male   ┆ … ┆ null ┆ null ┆ null              ┆ titanic   │\n",
       "│        ┆          ┆ Ortin             ┆        ┆   ┆      ┆      ┆                   ┆           │\n",
       "│ 3      ┆ 0        ┆ Zimmerman, Mr.    ┆ male   ┆ … ┆ null ┆ null ┆ null              ┆ titanic   │\n",
       "│        ┆          ┆ Leo               ┆        ┆   ┆      ┆      ┆                   ┆           │\n",
       "└────────┴──────────┴───────────────────┴────────┴───┴──────┴──────┴───────────────────┴───────────┘"
      ]
     },
     "execution_count": 7,
     "metadata": {},
     "output_type": "execute_result"
    }
   ],
   "source": [
    "df.with_columns(\n",
    "    pl.lit('titanic').alias('ship_name')\n",
    ")"
   ]
  },
  {
   "cell_type": "code",
   "execution_count": 8,
   "id": "87142bbd-907e-4c10-ae65-6da148b22cb4",
   "metadata": {},
   "outputs": [
    {
     "data": {
      "text/html": [
       "<div><style>\n",
       ".dataframe > thead > tr,\n",
       ".dataframe > tbody > tr {\n",
       "  text-align: right;\n",
       "  white-space: pre-wrap;\n",
       "}\n",
       "</style>\n",
       "<small>shape: (1_309, 15)</small><table border=\"1\" class=\"dataframe\"><thead><tr><th>pclass</th><th>survived</th><th>name</th><th>sex</th><th>age</th><th>sibsp</th><th>parch</th><th>ticket</th><th>fare</th><th>cabin</th><th>embarked</th><th>boat</th><th>body</th><th>home.dest</th><th>random</th></tr><tr><td>i64</td><td>i64</td><td>str</td><td>str</td><td>f64</td><td>i64</td><td>i64</td><td>str</td><td>f64</td><td>str</td><td>str</td><td>str</td><td>i64</td><td>str</td><td>f64</td></tr></thead><tbody><tr><td>1</td><td>1</td><td>&quot;Allen, Miss. Elisabeth Walton&quot;</td><td>&quot;female&quot;</td><td>29.0</td><td>0</td><td>0</td><td>&quot;24160&quot;</td><td>211.3375</td><td>&quot;B5&quot;</td><td>&quot;S&quot;</td><td>&quot;2&quot;</td><td>null</td><td>&quot;St Louis, MO&quot;</td><td>0.411162</td></tr><tr><td>1</td><td>1</td><td>&quot;Allison, Master. Hudson Trevor&quot;</td><td>&quot;male&quot;</td><td>0.92</td><td>1</td><td>2</td><td>&quot;113781&quot;</td><td>151.55</td><td>&quot;C22 C26&quot;</td><td>&quot;S&quot;</td><td>&quot;11&quot;</td><td>null</td><td>&quot;Montreal, PQ / Chesterville, O…</td><td>0.339591</td></tr><tr><td>1</td><td>0</td><td>&quot;Allison, Miss. Helen Loraine&quot;</td><td>&quot;female&quot;</td><td>2.0</td><td>1</td><td>2</td><td>&quot;113781&quot;</td><td>151.55</td><td>&quot;C22 C26&quot;</td><td>&quot;S&quot;</td><td>null</td><td>null</td><td>&quot;Montreal, PQ / Chesterville, O…</td><td>0.05099</td></tr><tr><td>1</td><td>0</td><td>&quot;Allison, Mr. Hudson Joshua Cre…</td><td>&quot;male&quot;</td><td>30.0</td><td>1</td><td>2</td><td>&quot;113781&quot;</td><td>151.55</td><td>&quot;C22 C26&quot;</td><td>&quot;S&quot;</td><td>null</td><td>135</td><td>&quot;Montreal, PQ / Chesterville, O…</td><td>0.177938</td></tr><tr><td>1</td><td>0</td><td>&quot;Allison, Mrs. Hudson J C (Bess…</td><td>&quot;female&quot;</td><td>25.0</td><td>1</td><td>2</td><td>&quot;113781&quot;</td><td>151.55</td><td>&quot;C22 C26&quot;</td><td>&quot;S&quot;</td><td>null</td><td>null</td><td>&quot;Montreal, PQ / Chesterville, O…</td><td>0.822673</td></tr><tr><td>&hellip;</td><td>&hellip;</td><td>&hellip;</td><td>&hellip;</td><td>&hellip;</td><td>&hellip;</td><td>&hellip;</td><td>&hellip;</td><td>&hellip;</td><td>&hellip;</td><td>&hellip;</td><td>&hellip;</td><td>&hellip;</td><td>&hellip;</td><td>&hellip;</td></tr><tr><td>3</td><td>0</td><td>&quot;Zabour, Miss. Hileni&quot;</td><td>&quot;female&quot;</td><td>14.5</td><td>1</td><td>0</td><td>&quot;2665&quot;</td><td>14.4542</td><td>null</td><td>&quot;C&quot;</td><td>null</td><td>328</td><td>null</td><td>0.680028</td></tr><tr><td>3</td><td>0</td><td>&quot;Zabour, Miss. Thamine&quot;</td><td>&quot;female&quot;</td><td>null</td><td>1</td><td>0</td><td>&quot;2665&quot;</td><td>14.4542</td><td>null</td><td>&quot;C&quot;</td><td>null</td><td>null</td><td>null</td><td>0.768224</td></tr><tr><td>3</td><td>0</td><td>&quot;Zakarian, Mr. Mapriededer&quot;</td><td>&quot;male&quot;</td><td>26.5</td><td>0</td><td>0</td><td>&quot;2656&quot;</td><td>7.225</td><td>null</td><td>&quot;C&quot;</td><td>null</td><td>304</td><td>null</td><td>0.236107</td></tr><tr><td>3</td><td>0</td><td>&quot;Zakarian, Mr. Ortin&quot;</td><td>&quot;male&quot;</td><td>27.0</td><td>0</td><td>0</td><td>&quot;2670&quot;</td><td>7.225</td><td>null</td><td>&quot;C&quot;</td><td>null</td><td>null</td><td>null</td><td>0.795088</td></tr><tr><td>3</td><td>0</td><td>&quot;Zimmerman, Mr. Leo&quot;</td><td>&quot;male&quot;</td><td>29.0</td><td>0</td><td>0</td><td>&quot;315082&quot;</td><td>7.875</td><td>null</td><td>&quot;S&quot;</td><td>null</td><td>null</td><td>null</td><td>0.062629</td></tr></tbody></table></div>"
      ],
      "text/plain": [
       "shape: (1_309, 15)\n",
       "┌────────┬──────────┬────────────────────┬────────┬───┬──────┬──────┬───────────────────┬──────────┐\n",
       "│ pclass ┆ survived ┆ name               ┆ sex    ┆ … ┆ boat ┆ body ┆ home.dest         ┆ random   │\n",
       "│ ---    ┆ ---      ┆ ---                ┆ ---    ┆   ┆ ---  ┆ ---  ┆ ---               ┆ ---      │\n",
       "│ i64    ┆ i64      ┆ str                ┆ str    ┆   ┆ str  ┆ i64  ┆ str               ┆ f64      │\n",
       "╞════════╪══════════╪════════════════════╪════════╪═══╪══════╪══════╪═══════════════════╪══════════╡\n",
       "│ 1      ┆ 1        ┆ Allen, Miss.       ┆ female ┆ … ┆ 2    ┆ null ┆ St Louis, MO      ┆ 0.411162 │\n",
       "│        ┆          ┆ Elisabeth Walton   ┆        ┆   ┆      ┆      ┆                   ┆          │\n",
       "│ 1      ┆ 1        ┆ Allison, Master.   ┆ male   ┆ … ┆ 11   ┆ null ┆ Montreal, PQ /    ┆ 0.339591 │\n",
       "│        ┆          ┆ Hudson Trevor      ┆        ┆   ┆      ┆      ┆ Chesterville, O…  ┆          │\n",
       "│ 1      ┆ 0        ┆ Allison, Miss.     ┆ female ┆ … ┆ null ┆ null ┆ Montreal, PQ /    ┆ 0.05099  │\n",
       "│        ┆          ┆ Helen Loraine      ┆        ┆   ┆      ┆      ┆ Chesterville, O…  ┆          │\n",
       "│ 1      ┆ 0        ┆ Allison, Mr.       ┆ male   ┆ … ┆ null ┆ 135  ┆ Montreal, PQ /    ┆ 0.177938 │\n",
       "│        ┆          ┆ Hudson Joshua Cre… ┆        ┆   ┆      ┆      ┆ Chesterville, O…  ┆          │\n",
       "│ 1      ┆ 0        ┆ Allison, Mrs.      ┆ female ┆ … ┆ null ┆ null ┆ Montreal, PQ /    ┆ 0.822673 │\n",
       "│        ┆          ┆ Hudson J C (Bess…  ┆        ┆   ┆      ┆      ┆ Chesterville, O…  ┆          │\n",
       "│ …      ┆ …        ┆ …                  ┆ …      ┆ … ┆ …    ┆ …    ┆ …                 ┆ …        │\n",
       "│ 3      ┆ 0        ┆ Zabour, Miss.      ┆ female ┆ … ┆ null ┆ 328  ┆ null              ┆ 0.680028 │\n",
       "│        ┆          ┆ Hileni             ┆        ┆   ┆      ┆      ┆                   ┆          │\n",
       "│ 3      ┆ 0        ┆ Zabour, Miss.      ┆ female ┆ … ┆ null ┆ null ┆ null              ┆ 0.768224 │\n",
       "│        ┆          ┆ Thamine            ┆        ┆   ┆      ┆      ┆                   ┆          │\n",
       "│ 3      ┆ 0        ┆ Zakarian, Mr.      ┆ male   ┆ … ┆ null ┆ 304  ┆ null              ┆ 0.236107 │\n",
       "│        ┆          ┆ Mapriededer        ┆        ┆   ┆      ┆      ┆                   ┆          │\n",
       "│ 3      ┆ 0        ┆ Zakarian, Mr.      ┆ male   ┆ … ┆ null ┆ null ┆ null              ┆ 0.795088 │\n",
       "│        ┆          ┆ Ortin              ┆        ┆   ┆      ┆      ┆                   ┆          │\n",
       "│ 3      ┆ 0        ┆ Zimmerman, Mr. Leo ┆ male   ┆ … ┆ null ┆ null ┆ null              ┆ 0.062629 │\n",
       "└────────┴──────────┴────────────────────┴────────┴───┴──────┴──────┴───────────────────┴──────────┘"
      ]
     },
     "execution_count": 8,
     "metadata": {},
     "output_type": "execute_result"
    }
   ],
   "source": [
    "import numpy as np\n",
    "\n",
    "df.with_columns(\n",
    "    pl.Series(np.random.rand(df.height)).alias('random')\n",
    ")"
   ]
  },
  {
   "cell_type": "code",
   "execution_count": 9,
   "id": "91a97771-5238-4e4b-9c25-d4050b988c0b",
   "metadata": {},
   "outputs": [
    {
     "data": {
      "text/html": [
       "<div><style>\n",
       ".dataframe > thead > tr,\n",
       ".dataframe > tbody > tr {\n",
       "  text-align: right;\n",
       "  white-space: pre-wrap;\n",
       "}\n",
       "</style>\n",
       "<small>shape: (1_309, 15)</small><table border=\"1\" class=\"dataframe\"><thead><tr><th>pclass</th><th>survived</th><th>name</th><th>sex</th><th>age</th><th>sibsp</th><th>parch</th><th>ticket</th><th>fare</th><th>cabin</th><th>embarked</th><th>boat</th><th>body</th><th>home.dest</th><th>age_group</th></tr><tr><td>i64</td><td>i64</td><td>str</td><td>str</td><td>f64</td><td>i64</td><td>i64</td><td>str</td><td>f64</td><td>str</td><td>str</td><td>str</td><td>i64</td><td>str</td><td>str</td></tr></thead><tbody><tr><td>1</td><td>1</td><td>&quot;Allen, Miss. Elisabeth Walton&quot;</td><td>&quot;female&quot;</td><td>29.0</td><td>0</td><td>0</td><td>&quot;24160&quot;</td><td>211.3375</td><td>&quot;B5&quot;</td><td>&quot;S&quot;</td><td>&quot;2&quot;</td><td>null</td><td>&quot;St Louis, MO&quot;</td><td>&quot;adult&quot;</td></tr><tr><td>1</td><td>1</td><td>&quot;Allison, Master. Hudson Trevor&quot;</td><td>&quot;male&quot;</td><td>0.92</td><td>1</td><td>2</td><td>&quot;113781&quot;</td><td>151.55</td><td>&quot;C22 C26&quot;</td><td>&quot;S&quot;</td><td>&quot;11&quot;</td><td>null</td><td>&quot;Montreal, PQ / Chesterville, O…</td><td>&quot;child&quot;</td></tr><tr><td>1</td><td>0</td><td>&quot;Allison, Miss. Helen Loraine&quot;</td><td>&quot;female&quot;</td><td>2.0</td><td>1</td><td>2</td><td>&quot;113781&quot;</td><td>151.55</td><td>&quot;C22 C26&quot;</td><td>&quot;S&quot;</td><td>null</td><td>null</td><td>&quot;Montreal, PQ / Chesterville, O…</td><td>&quot;child&quot;</td></tr><tr><td>1</td><td>0</td><td>&quot;Allison, Mr. Hudson Joshua Cre…</td><td>&quot;male&quot;</td><td>30.0</td><td>1</td><td>2</td><td>&quot;113781&quot;</td><td>151.55</td><td>&quot;C22 C26&quot;</td><td>&quot;S&quot;</td><td>null</td><td>135</td><td>&quot;Montreal, PQ / Chesterville, O…</td><td>&quot;adult&quot;</td></tr><tr><td>1</td><td>0</td><td>&quot;Allison, Mrs. Hudson J C (Bess…</td><td>&quot;female&quot;</td><td>25.0</td><td>1</td><td>2</td><td>&quot;113781&quot;</td><td>151.55</td><td>&quot;C22 C26&quot;</td><td>&quot;S&quot;</td><td>null</td><td>null</td><td>&quot;Montreal, PQ / Chesterville, O…</td><td>&quot;adult&quot;</td></tr><tr><td>&hellip;</td><td>&hellip;</td><td>&hellip;</td><td>&hellip;</td><td>&hellip;</td><td>&hellip;</td><td>&hellip;</td><td>&hellip;</td><td>&hellip;</td><td>&hellip;</td><td>&hellip;</td><td>&hellip;</td><td>&hellip;</td><td>&hellip;</td><td>&hellip;</td></tr><tr><td>3</td><td>0</td><td>&quot;Zabour, Miss. Hileni&quot;</td><td>&quot;female&quot;</td><td>14.5</td><td>1</td><td>0</td><td>&quot;2665&quot;</td><td>14.4542</td><td>null</td><td>&quot;C&quot;</td><td>null</td><td>328</td><td>null</td><td>&quot;child&quot;</td></tr><tr><td>3</td><td>0</td><td>&quot;Zabour, Miss. Thamine&quot;</td><td>&quot;female&quot;</td><td>null</td><td>1</td><td>0</td><td>&quot;2665&quot;</td><td>14.4542</td><td>null</td><td>&quot;C&quot;</td><td>null</td><td>null</td><td>null</td><td>&quot;adult&quot;</td></tr><tr><td>3</td><td>0</td><td>&quot;Zakarian, Mr. Mapriededer&quot;</td><td>&quot;male&quot;</td><td>26.5</td><td>0</td><td>0</td><td>&quot;2656&quot;</td><td>7.225</td><td>null</td><td>&quot;C&quot;</td><td>null</td><td>304</td><td>null</td><td>&quot;adult&quot;</td></tr><tr><td>3</td><td>0</td><td>&quot;Zakarian, Mr. Ortin&quot;</td><td>&quot;male&quot;</td><td>27.0</td><td>0</td><td>0</td><td>&quot;2670&quot;</td><td>7.225</td><td>null</td><td>&quot;C&quot;</td><td>null</td><td>null</td><td>null</td><td>&quot;adult&quot;</td></tr><tr><td>3</td><td>0</td><td>&quot;Zimmerman, Mr. Leo&quot;</td><td>&quot;male&quot;</td><td>29.0</td><td>0</td><td>0</td><td>&quot;315082&quot;</td><td>7.875</td><td>null</td><td>&quot;S&quot;</td><td>null</td><td>null</td><td>null</td><td>&quot;adult&quot;</td></tr></tbody></table></div>"
      ],
      "text/plain": [
       "shape: (1_309, 15)\n",
       "┌────────┬──────────┬───────────────────┬────────┬───┬──────┬──────┬───────────────────┬───────────┐\n",
       "│ pclass ┆ survived ┆ name              ┆ sex    ┆ … ┆ boat ┆ body ┆ home.dest         ┆ age_group │\n",
       "│ ---    ┆ ---      ┆ ---               ┆ ---    ┆   ┆ ---  ┆ ---  ┆ ---               ┆ ---       │\n",
       "│ i64    ┆ i64      ┆ str               ┆ str    ┆   ┆ str  ┆ i64  ┆ str               ┆ str       │\n",
       "╞════════╪══════════╪═══════════════════╪════════╪═══╪══════╪══════╪═══════════════════╪═══════════╡\n",
       "│ 1      ┆ 1        ┆ Allen, Miss.      ┆ female ┆ … ┆ 2    ┆ null ┆ St Louis, MO      ┆ adult     │\n",
       "│        ┆          ┆ Elisabeth Walton  ┆        ┆   ┆      ┆      ┆                   ┆           │\n",
       "│ 1      ┆ 1        ┆ Allison, Master.  ┆ male   ┆ … ┆ 11   ┆ null ┆ Montreal, PQ /    ┆ child     │\n",
       "│        ┆          ┆ Hudson Trevor     ┆        ┆   ┆      ┆      ┆ Chesterville, O…  ┆           │\n",
       "│ 1      ┆ 0        ┆ Allison, Miss.    ┆ female ┆ … ┆ null ┆ null ┆ Montreal, PQ /    ┆ child     │\n",
       "│        ┆          ┆ Helen Loraine     ┆        ┆   ┆      ┆      ┆ Chesterville, O…  ┆           │\n",
       "│ 1      ┆ 0        ┆ Allison, Mr.      ┆ male   ┆ … ┆ null ┆ 135  ┆ Montreal, PQ /    ┆ adult     │\n",
       "│        ┆          ┆ Hudson Joshua     ┆        ┆   ┆      ┆      ┆ Chesterville, O…  ┆           │\n",
       "│        ┆          ┆ Cre…              ┆        ┆   ┆      ┆      ┆                   ┆           │\n",
       "│ 1      ┆ 0        ┆ Allison, Mrs.     ┆ female ┆ … ┆ null ┆ null ┆ Montreal, PQ /    ┆ adult     │\n",
       "│        ┆          ┆ Hudson J C (Bess… ┆        ┆   ┆      ┆      ┆ Chesterville, O…  ┆           │\n",
       "│ …      ┆ …        ┆ …                 ┆ …      ┆ … ┆ …    ┆ …    ┆ …                 ┆ …         │\n",
       "│ 3      ┆ 0        ┆ Zabour, Miss.     ┆ female ┆ … ┆ null ┆ 328  ┆ null              ┆ child     │\n",
       "│        ┆          ┆ Hileni            ┆        ┆   ┆      ┆      ┆                   ┆           │\n",
       "│ 3      ┆ 0        ┆ Zabour, Miss.     ┆ female ┆ … ┆ null ┆ null ┆ null              ┆ adult     │\n",
       "│        ┆          ┆ Thamine           ┆        ┆   ┆      ┆      ┆                   ┆           │\n",
       "│ 3      ┆ 0        ┆ Zakarian, Mr.     ┆ male   ┆ … ┆ null ┆ 304  ┆ null              ┆ adult     │\n",
       "│        ┆          ┆ Mapriededer       ┆        ┆   ┆      ┆      ┆                   ┆           │\n",
       "│ 3      ┆ 0        ┆ Zakarian, Mr.     ┆ male   ┆ … ┆ null ┆ null ┆ null              ┆ adult     │\n",
       "│        ┆          ┆ Ortin             ┆        ┆   ┆      ┆      ┆                   ┆           │\n",
       "│ 3      ┆ 0        ┆ Zimmerman, Mr.    ┆ male   ┆ … ┆ null ┆ null ┆ null              ┆ adult     │\n",
       "│        ┆          ┆ Leo               ┆        ┆   ┆      ┆      ┆                   ┆           │\n",
       "└────────┴──────────┴───────────────────┴────────┴───┴──────┴──────┴───────────────────┴───────────┘"
      ]
     },
     "execution_count": 9,
     "metadata": {},
     "output_type": "execute_result"
    }
   ],
   "source": [
    "df.with_columns(\n",
    "    pl.when(pl.col('age') < 20)\n",
    "    .then(pl.lit('child'))\n",
    "    .otherwise(pl.lit('adult'))\n",
    "    .alias('age_group')\n",
    ")"
   ]
  },
  {
   "cell_type": "code",
   "execution_count": 10,
   "id": "419ed96a-f66a-4940-9b61-87fcf6bce233",
   "metadata": {},
   "outputs": [
    {
     "data": {
      "text/html": [
       "<div><style>\n",
       ".dataframe > thead > tr,\n",
       ".dataframe > tbody > tr {\n",
       "  text-align: right;\n",
       "  white-space: pre-wrap;\n",
       "}\n",
       "</style>\n",
       "<small>shape: (303, 15)</small><table border=\"1\" class=\"dataframe\"><thead><tr><th>pclass</th><th>survived</th><th>name</th><th>sex</th><th>age</th><th>sibsp</th><th>parch</th><th>ticket</th><th>fare</th><th>cabin</th><th>embarked</th><th>boat</th><th>body</th><th>home.dest</th><th>age_group</th></tr><tr><td>i64</td><td>i64</td><td>str</td><td>str</td><td>f64</td><td>i64</td><td>i64</td><td>str</td><td>f64</td><td>str</td><td>str</td><td>str</td><td>i64</td><td>str</td><td>str</td></tr></thead><tbody><tr><td>1</td><td>1</td><td>&quot;Andrews, Miss. Kornelia Theodo…</td><td>&quot;female&quot;</td><td>63.0</td><td>1</td><td>0</td><td>&quot;13502&quot;</td><td>77.9583</td><td>&quot;D7&quot;</td><td>&quot;S&quot;</td><td>&quot;10&quot;</td><td>null</td><td>&quot;Hudson, NY&quot;</td><td>&quot;senior&quot;</td></tr><tr><td>1</td><td>0</td><td>&quot;Artagaveytia, Mr. Ramon&quot;</td><td>&quot;male&quot;</td><td>71.0</td><td>0</td><td>0</td><td>&quot;PC 17609&quot;</td><td>49.5042</td><td>null</td><td>&quot;C&quot;</td><td>null</td><td>22</td><td>&quot;Montevideo, Uruguay&quot;</td><td>&quot;senior&quot;</td></tr><tr><td>1</td><td>1</td><td>&quot;Barkworth, Mr. Algernon Henry …</td><td>&quot;male&quot;</td><td>80.0</td><td>0</td><td>0</td><td>&quot;27042&quot;</td><td>30.0</td><td>&quot;A23&quot;</td><td>&quot;S&quot;</td><td>&quot;B&quot;</td><td>null</td><td>&quot;Hessle, Yorks&quot;</td><td>&quot;senior&quot;</td></tr><tr><td>1</td><td>0</td><td>&quot;Baumann, Mr. John D&quot;</td><td>&quot;male&quot;</td><td>null</td><td>0</td><td>0</td><td>&quot;PC 17318&quot;</td><td>25.925</td><td>null</td><td>&quot;S&quot;</td><td>null</td><td>null</td><td>&quot;New York, NY&quot;</td><td>&quot;senior&quot;</td></tr><tr><td>1</td><td>1</td><td>&quot;Bradley, Mr. George (&quot;George A…</td><td>&quot;male&quot;</td><td>null</td><td>0</td><td>0</td><td>&quot;111427&quot;</td><td>26.55</td><td>null</td><td>&quot;S&quot;</td><td>&quot;9&quot;</td><td>null</td><td>&quot;Los Angeles, CA&quot;</td><td>&quot;senior&quot;</td></tr><tr><td>&hellip;</td><td>&hellip;</td><td>&hellip;</td><td>&hellip;</td><td>&hellip;</td><td>&hellip;</td><td>&hellip;</td><td>&hellip;</td><td>&hellip;</td><td>&hellip;</td><td>&hellip;</td><td>&hellip;</td><td>&hellip;</td><td>&hellip;</td><td>&hellip;</td></tr><tr><td>3</td><td>0</td><td>&quot;Williams, Mr. Howard Hugh &quot;Har…</td><td>&quot;male&quot;</td><td>null</td><td>0</td><td>0</td><td>&quot;A/5 2466&quot;</td><td>8.05</td><td>null</td><td>&quot;S&quot;</td><td>null</td><td>null</td><td>null</td><td>&quot;senior&quot;</td></tr><tr><td>3</td><td>0</td><td>&quot;Wiseman, Mr. Phillippe&quot;</td><td>&quot;male&quot;</td><td>null</td><td>0</td><td>0</td><td>&quot;A/4. 34244&quot;</td><td>7.25</td><td>null</td><td>&quot;S&quot;</td><td>null</td><td>null</td><td>null</td><td>&quot;senior&quot;</td></tr><tr><td>3</td><td>0</td><td>&quot;Yousif, Mr. Wazli&quot;</td><td>&quot;male&quot;</td><td>null</td><td>0</td><td>0</td><td>&quot;2647&quot;</td><td>7.225</td><td>null</td><td>&quot;C&quot;</td><td>null</td><td>null</td><td>null</td><td>&quot;senior&quot;</td></tr><tr><td>3</td><td>0</td><td>&quot;Yousseff, Mr. Gerious&quot;</td><td>&quot;male&quot;</td><td>null</td><td>0</td><td>0</td><td>&quot;2627&quot;</td><td>14.4583</td><td>null</td><td>&quot;C&quot;</td><td>null</td><td>null</td><td>null</td><td>&quot;senior&quot;</td></tr><tr><td>3</td><td>0</td><td>&quot;Zabour, Miss. Thamine&quot;</td><td>&quot;female&quot;</td><td>null</td><td>1</td><td>0</td><td>&quot;2665&quot;</td><td>14.4542</td><td>null</td><td>&quot;C&quot;</td><td>null</td><td>null</td><td>null</td><td>&quot;senior&quot;</td></tr></tbody></table></div>"
      ],
      "text/plain": [
       "shape: (303, 15)\n",
       "┌────────┬──────────┬───────────────────┬────────┬───┬──────┬──────┬───────────────────┬───────────┐\n",
       "│ pclass ┆ survived ┆ name              ┆ sex    ┆ … ┆ boat ┆ body ┆ home.dest         ┆ age_group │\n",
       "│ ---    ┆ ---      ┆ ---               ┆ ---    ┆   ┆ ---  ┆ ---  ┆ ---               ┆ ---       │\n",
       "│ i64    ┆ i64      ┆ str               ┆ str    ┆   ┆ str  ┆ i64  ┆ str               ┆ str       │\n",
       "╞════════╪══════════╪═══════════════════╪════════╪═══╪══════╪══════╪═══════════════════╪═══════════╡\n",
       "│ 1      ┆ 1        ┆ Andrews, Miss.    ┆ female ┆ … ┆ 10   ┆ null ┆ Hudson, NY        ┆ senior    │\n",
       "│        ┆          ┆ Kornelia Theodo…  ┆        ┆   ┆      ┆      ┆                   ┆           │\n",
       "│ 1      ┆ 0        ┆ Artagaveytia, Mr. ┆ male   ┆ … ┆ null ┆ 22   ┆ Montevideo,       ┆ senior    │\n",
       "│        ┆          ┆ Ramon             ┆        ┆   ┆      ┆      ┆ Uruguay           ┆           │\n",
       "│ 1      ┆ 1        ┆ Barkworth, Mr.    ┆ male   ┆ … ┆ B    ┆ null ┆ Hessle, Yorks     ┆ senior    │\n",
       "│        ┆          ┆ Algernon Henry …  ┆        ┆   ┆      ┆      ┆                   ┆           │\n",
       "│ 1      ┆ 0        ┆ Baumann, Mr. John ┆ male   ┆ … ┆ null ┆ null ┆ New York, NY      ┆ senior    │\n",
       "│        ┆          ┆ D                 ┆        ┆   ┆      ┆      ┆                   ┆           │\n",
       "│ 1      ┆ 1        ┆ Bradley, Mr.      ┆ male   ┆ … ┆ 9    ┆ null ┆ Los Angeles, CA   ┆ senior    │\n",
       "│        ┆          ┆ George (\"George   ┆        ┆   ┆      ┆      ┆                   ┆           │\n",
       "│        ┆          ┆ A…                ┆        ┆   ┆      ┆      ┆                   ┆           │\n",
       "│ …      ┆ …        ┆ …                 ┆ …      ┆ … ┆ …    ┆ …    ┆ …                 ┆ …         │\n",
       "│ 3      ┆ 0        ┆ Williams, Mr.     ┆ male   ┆ … ┆ null ┆ null ┆ null              ┆ senior    │\n",
       "│        ┆          ┆ Howard Hugh \"Har… ┆        ┆   ┆      ┆      ┆                   ┆           │\n",
       "│ 3      ┆ 0        ┆ Wiseman, Mr.      ┆ male   ┆ … ┆ null ┆ null ┆ null              ┆ senior    │\n",
       "│        ┆          ┆ Phillippe         ┆        ┆   ┆      ┆      ┆                   ┆           │\n",
       "│ 3      ┆ 0        ┆ Yousif, Mr. Wazli ┆ male   ┆ … ┆ null ┆ null ┆ null              ┆ senior    │\n",
       "│ 3      ┆ 0        ┆ Yousseff, Mr.     ┆ male   ┆ … ┆ null ┆ null ┆ null              ┆ senior    │\n",
       "│        ┆          ┆ Gerious           ┆        ┆   ┆      ┆      ┆                   ┆           │\n",
       "│ 3      ┆ 0        ┆ Zabour, Miss.     ┆ female ┆ … ┆ null ┆ null ┆ null              ┆ senior    │\n",
       "│        ┆          ┆ Thamine           ┆        ┆   ┆      ┆      ┆                   ┆           │\n",
       "└────────┴──────────┴───────────────────┴────────┴───┴──────┴──────┴───────────────────┴───────────┘"
      ]
     },
     "execution_count": 10,
     "metadata": {},
     "output_type": "execute_result"
    }
   ],
   "source": [
    "df.with_columns(\n",
    "    pl.when(pl.col('age') < 20)\n",
    "    .then(pl.lit('child'))\n",
    "    .when(pl.col('age') < 60)\n",
    "    .then(pl.lit('adult'))\n",
    "    .otherwise(pl.lit('senior'))\n",
    "    .alias('age_group')\n",
    ").filter(pl.col('age_group') == 'senior')"
   ]
  },
  {
   "cell_type": "code",
   "execution_count": 11,
   "id": "aaffe030-6d9b-4d19-8542-0757929b2ca5",
   "metadata": {},
   "outputs": [
    {
     "data": {
      "text/html": [
       "<div><style>\n",
       ".dataframe > thead > tr,\n",
       ".dataframe > tbody > tr {\n",
       "  text-align: right;\n",
       "  white-space: pre-wrap;\n",
       "}\n",
       "</style>\n",
       "<small>shape: (1_309, 15)</small><table border=\"1\" class=\"dataframe\"><thead><tr><th>pclass</th><th>survived</th><th>name</th><th>sex</th><th>age</th><th>sibsp</th><th>parch</th><th>ticket</th><th>fare</th><th>cabin</th><th>embarked</th><th>boat</th><th>body</th><th>home.dest</th><th>honorifics</th></tr><tr><td>i64</td><td>i64</td><td>str</td><td>str</td><td>f64</td><td>i64</td><td>i64</td><td>str</td><td>f64</td><td>str</td><td>str</td><td>str</td><td>i64</td><td>str</td><td>str</td></tr></thead><tbody><tr><td>1</td><td>1</td><td>&quot;Allen, Miss. Elisabeth Walton&quot;</td><td>&quot;female&quot;</td><td>29.0</td><td>0</td><td>0</td><td>&quot;24160&quot;</td><td>211.3375</td><td>&quot;B5&quot;</td><td>&quot;S&quot;</td><td>&quot;2&quot;</td><td>null</td><td>&quot;St Louis, MO&quot;</td><td>&quot;Miss.&quot;</td></tr><tr><td>1</td><td>1</td><td>&quot;Allison, Master. Hudson Trevor&quot;</td><td>&quot;male&quot;</td><td>0.92</td><td>1</td><td>2</td><td>&quot;113781&quot;</td><td>151.55</td><td>&quot;C22 C26&quot;</td><td>&quot;S&quot;</td><td>&quot;11&quot;</td><td>null</td><td>&quot;Montreal, PQ / Chesterville, O…</td><td>&quot;Master.&quot;</td></tr><tr><td>1</td><td>0</td><td>&quot;Allison, Miss. Helen Loraine&quot;</td><td>&quot;female&quot;</td><td>2.0</td><td>1</td><td>2</td><td>&quot;113781&quot;</td><td>151.55</td><td>&quot;C22 C26&quot;</td><td>&quot;S&quot;</td><td>null</td><td>null</td><td>&quot;Montreal, PQ / Chesterville, O…</td><td>&quot;Miss.&quot;</td></tr><tr><td>1</td><td>0</td><td>&quot;Allison, Mr. Hudson Joshua Cre…</td><td>&quot;male&quot;</td><td>30.0</td><td>1</td><td>2</td><td>&quot;113781&quot;</td><td>151.55</td><td>&quot;C22 C26&quot;</td><td>&quot;S&quot;</td><td>null</td><td>135</td><td>&quot;Montreal, PQ / Chesterville, O…</td><td>&quot;Mr.&quot;</td></tr><tr><td>1</td><td>0</td><td>&quot;Allison, Mrs. Hudson J C (Bess…</td><td>&quot;female&quot;</td><td>25.0</td><td>1</td><td>2</td><td>&quot;113781&quot;</td><td>151.55</td><td>&quot;C22 C26&quot;</td><td>&quot;S&quot;</td><td>null</td><td>null</td><td>&quot;Montreal, PQ / Chesterville, O…</td><td>&quot;Mrs.&quot;</td></tr><tr><td>&hellip;</td><td>&hellip;</td><td>&hellip;</td><td>&hellip;</td><td>&hellip;</td><td>&hellip;</td><td>&hellip;</td><td>&hellip;</td><td>&hellip;</td><td>&hellip;</td><td>&hellip;</td><td>&hellip;</td><td>&hellip;</td><td>&hellip;</td><td>&hellip;</td></tr><tr><td>3</td><td>0</td><td>&quot;Zabour, Miss. Hileni&quot;</td><td>&quot;female&quot;</td><td>14.5</td><td>1</td><td>0</td><td>&quot;2665&quot;</td><td>14.4542</td><td>null</td><td>&quot;C&quot;</td><td>null</td><td>328</td><td>null</td><td>&quot;Miss.&quot;</td></tr><tr><td>3</td><td>0</td><td>&quot;Zabour, Miss. Thamine&quot;</td><td>&quot;female&quot;</td><td>null</td><td>1</td><td>0</td><td>&quot;2665&quot;</td><td>14.4542</td><td>null</td><td>&quot;C&quot;</td><td>null</td><td>null</td><td>null</td><td>&quot;Miss.&quot;</td></tr><tr><td>3</td><td>0</td><td>&quot;Zakarian, Mr. Mapriededer&quot;</td><td>&quot;male&quot;</td><td>26.5</td><td>0</td><td>0</td><td>&quot;2656&quot;</td><td>7.225</td><td>null</td><td>&quot;C&quot;</td><td>null</td><td>304</td><td>null</td><td>&quot;Mr.&quot;</td></tr><tr><td>3</td><td>0</td><td>&quot;Zakarian, Mr. Ortin&quot;</td><td>&quot;male&quot;</td><td>27.0</td><td>0</td><td>0</td><td>&quot;2670&quot;</td><td>7.225</td><td>null</td><td>&quot;C&quot;</td><td>null</td><td>null</td><td>null</td><td>&quot;Mr.&quot;</td></tr><tr><td>3</td><td>0</td><td>&quot;Zimmerman, Mr. Leo&quot;</td><td>&quot;male&quot;</td><td>29.0</td><td>0</td><td>0</td><td>&quot;315082&quot;</td><td>7.875</td><td>null</td><td>&quot;S&quot;</td><td>null</td><td>null</td><td>null</td><td>&quot;Mr.&quot;</td></tr></tbody></table></div>"
      ],
      "text/plain": [
       "shape: (1_309, 15)\n",
       "┌────────┬──────────┬───────────────────┬────────┬───┬──────┬──────┬──────────────────┬────────────┐\n",
       "│ pclass ┆ survived ┆ name              ┆ sex    ┆ … ┆ boat ┆ body ┆ home.dest        ┆ honorifics │\n",
       "│ ---    ┆ ---      ┆ ---               ┆ ---    ┆   ┆ ---  ┆ ---  ┆ ---              ┆ ---        │\n",
       "│ i64    ┆ i64      ┆ str               ┆ str    ┆   ┆ str  ┆ i64  ┆ str              ┆ str        │\n",
       "╞════════╪══════════╪═══════════════════╪════════╪═══╪══════╪══════╪══════════════════╪════════════╡\n",
       "│ 1      ┆ 1        ┆ Allen, Miss.      ┆ female ┆ … ┆ 2    ┆ null ┆ St Louis, MO     ┆ Miss.      │\n",
       "│        ┆          ┆ Elisabeth Walton  ┆        ┆   ┆      ┆      ┆                  ┆            │\n",
       "│ 1      ┆ 1        ┆ Allison, Master.  ┆ male   ┆ … ┆ 11   ┆ null ┆ Montreal, PQ /   ┆ Master.    │\n",
       "│        ┆          ┆ Hudson Trevor     ┆        ┆   ┆      ┆      ┆ Chesterville, O… ┆            │\n",
       "│ 1      ┆ 0        ┆ Allison, Miss.    ┆ female ┆ … ┆ null ┆ null ┆ Montreal, PQ /   ┆ Miss.      │\n",
       "│        ┆          ┆ Helen Loraine     ┆        ┆   ┆      ┆      ┆ Chesterville, O… ┆            │\n",
       "│ 1      ┆ 0        ┆ Allison, Mr.      ┆ male   ┆ … ┆ null ┆ 135  ┆ Montreal, PQ /   ┆ Mr.        │\n",
       "│        ┆          ┆ Hudson Joshua     ┆        ┆   ┆      ┆      ┆ Chesterville, O… ┆            │\n",
       "│        ┆          ┆ Cre…              ┆        ┆   ┆      ┆      ┆                  ┆            │\n",
       "│ 1      ┆ 0        ┆ Allison, Mrs.     ┆ female ┆ … ┆ null ┆ null ┆ Montreal, PQ /   ┆ Mrs.       │\n",
       "│        ┆          ┆ Hudson J C (Bess… ┆        ┆   ┆      ┆      ┆ Chesterville, O… ┆            │\n",
       "│ …      ┆ …        ┆ …                 ┆ …      ┆ … ┆ …    ┆ …    ┆ …                ┆ …          │\n",
       "│ 3      ┆ 0        ┆ Zabour, Miss.     ┆ female ┆ … ┆ null ┆ 328  ┆ null             ┆ Miss.      │\n",
       "│        ┆          ┆ Hileni            ┆        ┆   ┆      ┆      ┆                  ┆            │\n",
       "│ 3      ┆ 0        ┆ Zabour, Miss.     ┆ female ┆ … ┆ null ┆ null ┆ null             ┆ Miss.      │\n",
       "│        ┆          ┆ Thamine           ┆        ┆   ┆      ┆      ┆                  ┆            │\n",
       "│ 3      ┆ 0        ┆ Zakarian, Mr.     ┆ male   ┆ … ┆ null ┆ 304  ┆ null             ┆ Mr.        │\n",
       "│        ┆          ┆ Mapriededer       ┆        ┆   ┆      ┆      ┆                  ┆            │\n",
       "│ 3      ┆ 0        ┆ Zakarian, Mr.     ┆ male   ┆ … ┆ null ┆ null ┆ null             ┆ Mr.        │\n",
       "│        ┆          ┆ Ortin             ┆        ┆   ┆      ┆      ┆                  ┆            │\n",
       "│ 3      ┆ 0        ┆ Zimmerman, Mr.    ┆ male   ┆ … ┆ null ┆ null ┆ null             ┆ Mr.        │\n",
       "│        ┆          ┆ Leo               ┆        ┆   ┆      ┆      ┆                  ┆            │\n",
       "└────────┴──────────┴───────────────────┴────────┴───┴──────┴──────┴──────────────────┴────────────┘"
      ]
     },
     "execution_count": 11,
     "metadata": {},
     "output_type": "execute_result"
    }
   ],
   "source": [
    "import re\n",
    "from typing import Optional\n",
    "\n",
    "def extract_honorifics(text: str) -> Optional[str]:\n",
    "    if match_result := re.search('Mr\\.|Mrs\\.|Ms\\.|Master\\.|Miss\\.|Dr\\.', text):\n",
    "        return match_result.group(0)\n",
    "    else:\n",
    "        return None\n",
    "\n",
    "df.with_columns(\n",
    "    pl.col('name').map_elements(extract_honorifics, return_dtype=pl.String)\n",
    "    .alias('honorifics')\n",
    ")"
   ]
  },
  {
   "cell_type": "code",
   "execution_count": 12,
   "id": "5d78afdc-b650-4079-b66f-099d62443c9a",
   "metadata": {},
   "outputs": [
    {
     "data": {
      "text/html": [
       "<div><style>\n",
       ".dataframe > thead > tr,\n",
       ".dataframe > tbody > tr {\n",
       "  text-align: right;\n",
       "  white-space: pre-wrap;\n",
       "}\n",
       "</style>\n",
       "<small>shape: (1_309, 15)</small><table border=\"1\" class=\"dataframe\"><thead><tr><th>pclass</th><th>survived</th><th>name</th><th>sex</th><th>age</th><th>sibsp</th><th>parch</th><th>ticket</th><th>fare</th><th>cabin</th><th>embarked</th><th>boat</th><th>body</th><th>home.dest</th><th>honorifics</th></tr><tr><td>i64</td><td>i64</td><td>str</td><td>str</td><td>f64</td><td>i64</td><td>i64</td><td>str</td><td>f64</td><td>str</td><td>str</td><td>str</td><td>i64</td><td>str</td><td>str</td></tr></thead><tbody><tr><td>1</td><td>1</td><td>&quot;Allen, Miss. Elisabeth Walton&quot;</td><td>&quot;female&quot;</td><td>29.0</td><td>0</td><td>0</td><td>&quot;24160&quot;</td><td>211.3375</td><td>&quot;B5&quot;</td><td>&quot;S&quot;</td><td>&quot;2&quot;</td><td>null</td><td>&quot;St Louis, MO&quot;</td><td>&quot;Miss.&quot;</td></tr><tr><td>1</td><td>1</td><td>&quot;Allison, Master. Hudson Trevor&quot;</td><td>&quot;male&quot;</td><td>0.92</td><td>1</td><td>2</td><td>&quot;113781&quot;</td><td>151.55</td><td>&quot;C22 C26&quot;</td><td>&quot;S&quot;</td><td>&quot;11&quot;</td><td>null</td><td>&quot;Montreal, PQ / Chesterville, O…</td><td>&quot;Master.&quot;</td></tr><tr><td>1</td><td>0</td><td>&quot;Allison, Miss. Helen Loraine&quot;</td><td>&quot;female&quot;</td><td>2.0</td><td>1</td><td>2</td><td>&quot;113781&quot;</td><td>151.55</td><td>&quot;C22 C26&quot;</td><td>&quot;S&quot;</td><td>null</td><td>null</td><td>&quot;Montreal, PQ / Chesterville, O…</td><td>&quot;Miss.&quot;</td></tr><tr><td>1</td><td>0</td><td>&quot;Allison, Mr. Hudson Joshua Cre…</td><td>&quot;male&quot;</td><td>30.0</td><td>1</td><td>2</td><td>&quot;113781&quot;</td><td>151.55</td><td>&quot;C22 C26&quot;</td><td>&quot;S&quot;</td><td>null</td><td>135</td><td>&quot;Montreal, PQ / Chesterville, O…</td><td>&quot;Mr.&quot;</td></tr><tr><td>1</td><td>0</td><td>&quot;Allison, Mrs. Hudson J C (Bess…</td><td>&quot;female&quot;</td><td>25.0</td><td>1</td><td>2</td><td>&quot;113781&quot;</td><td>151.55</td><td>&quot;C22 C26&quot;</td><td>&quot;S&quot;</td><td>null</td><td>null</td><td>&quot;Montreal, PQ / Chesterville, O…</td><td>&quot;Mrs.&quot;</td></tr><tr><td>&hellip;</td><td>&hellip;</td><td>&hellip;</td><td>&hellip;</td><td>&hellip;</td><td>&hellip;</td><td>&hellip;</td><td>&hellip;</td><td>&hellip;</td><td>&hellip;</td><td>&hellip;</td><td>&hellip;</td><td>&hellip;</td><td>&hellip;</td><td>&hellip;</td></tr><tr><td>3</td><td>0</td><td>&quot;Zabour, Miss. Hileni&quot;</td><td>&quot;female&quot;</td><td>14.5</td><td>1</td><td>0</td><td>&quot;2665&quot;</td><td>14.4542</td><td>null</td><td>&quot;C&quot;</td><td>null</td><td>328</td><td>null</td><td>&quot;Miss.&quot;</td></tr><tr><td>3</td><td>0</td><td>&quot;Zabour, Miss. Thamine&quot;</td><td>&quot;female&quot;</td><td>null</td><td>1</td><td>0</td><td>&quot;2665&quot;</td><td>14.4542</td><td>null</td><td>&quot;C&quot;</td><td>null</td><td>null</td><td>null</td><td>&quot;Miss.&quot;</td></tr><tr><td>3</td><td>0</td><td>&quot;Zakarian, Mr. Mapriededer&quot;</td><td>&quot;male&quot;</td><td>26.5</td><td>0</td><td>0</td><td>&quot;2656&quot;</td><td>7.225</td><td>null</td><td>&quot;C&quot;</td><td>null</td><td>304</td><td>null</td><td>&quot;Mr.&quot;</td></tr><tr><td>3</td><td>0</td><td>&quot;Zakarian, Mr. Ortin&quot;</td><td>&quot;male&quot;</td><td>27.0</td><td>0</td><td>0</td><td>&quot;2670&quot;</td><td>7.225</td><td>null</td><td>&quot;C&quot;</td><td>null</td><td>null</td><td>null</td><td>&quot;Mr.&quot;</td></tr><tr><td>3</td><td>0</td><td>&quot;Zimmerman, Mr. Leo&quot;</td><td>&quot;male&quot;</td><td>29.0</td><td>0</td><td>0</td><td>&quot;315082&quot;</td><td>7.875</td><td>null</td><td>&quot;S&quot;</td><td>null</td><td>null</td><td>null</td><td>&quot;Mr.&quot;</td></tr></tbody></table></div>"
      ],
      "text/plain": [
       "shape: (1_309, 15)\n",
       "┌────────┬──────────┬───────────────────┬────────┬───┬──────┬──────┬──────────────────┬────────────┐\n",
       "│ pclass ┆ survived ┆ name              ┆ sex    ┆ … ┆ boat ┆ body ┆ home.dest        ┆ honorifics │\n",
       "│ ---    ┆ ---      ┆ ---               ┆ ---    ┆   ┆ ---  ┆ ---  ┆ ---              ┆ ---        │\n",
       "│ i64    ┆ i64      ┆ str               ┆ str    ┆   ┆ str  ┆ i64  ┆ str              ┆ str        │\n",
       "╞════════╪══════════╪═══════════════════╪════════╪═══╪══════╪══════╪══════════════════╪════════════╡\n",
       "│ 1      ┆ 1        ┆ Allen, Miss.      ┆ female ┆ … ┆ 2    ┆ null ┆ St Louis, MO     ┆ Miss.      │\n",
       "│        ┆          ┆ Elisabeth Walton  ┆        ┆   ┆      ┆      ┆                  ┆            │\n",
       "│ 1      ┆ 1        ┆ Allison, Master.  ┆ male   ┆ … ┆ 11   ┆ null ┆ Montreal, PQ /   ┆ Master.    │\n",
       "│        ┆          ┆ Hudson Trevor     ┆        ┆   ┆      ┆      ┆ Chesterville, O… ┆            │\n",
       "│ 1      ┆ 0        ┆ Allison, Miss.    ┆ female ┆ … ┆ null ┆ null ┆ Montreal, PQ /   ┆ Miss.      │\n",
       "│        ┆          ┆ Helen Loraine     ┆        ┆   ┆      ┆      ┆ Chesterville, O… ┆            │\n",
       "│ 1      ┆ 0        ┆ Allison, Mr.      ┆ male   ┆ … ┆ null ┆ 135  ┆ Montreal, PQ /   ┆ Mr.        │\n",
       "│        ┆          ┆ Hudson Joshua     ┆        ┆   ┆      ┆      ┆ Chesterville, O… ┆            │\n",
       "│        ┆          ┆ Cre…              ┆        ┆   ┆      ┆      ┆                  ┆            │\n",
       "│ 1      ┆ 0        ┆ Allison, Mrs.     ┆ female ┆ … ┆ null ┆ null ┆ Montreal, PQ /   ┆ Mrs.       │\n",
       "│        ┆          ┆ Hudson J C (Bess… ┆        ┆   ┆      ┆      ┆ Chesterville, O… ┆            │\n",
       "│ …      ┆ …        ┆ …                 ┆ …      ┆ … ┆ …    ┆ …    ┆ …                ┆ …          │\n",
       "│ 3      ┆ 0        ┆ Zabour, Miss.     ┆ female ┆ … ┆ null ┆ 328  ┆ null             ┆ Miss.      │\n",
       "│        ┆          ┆ Hileni            ┆        ┆   ┆      ┆      ┆                  ┆            │\n",
       "│ 3      ┆ 0        ┆ Zabour, Miss.     ┆ female ┆ … ┆ null ┆ null ┆ null             ┆ Miss.      │\n",
       "│        ┆          ┆ Thamine           ┆        ┆   ┆      ┆      ┆                  ┆            │\n",
       "│ 3      ┆ 0        ┆ Zakarian, Mr.     ┆ male   ┆ … ┆ null ┆ 304  ┆ null             ┆ Mr.        │\n",
       "│        ┆          ┆ Mapriededer       ┆        ┆   ┆      ┆      ┆                  ┆            │\n",
       "│ 3      ┆ 0        ┆ Zakarian, Mr.     ┆ male   ┆ … ┆ null ┆ null ┆ null             ┆ Mr.        │\n",
       "│        ┆          ┆ Ortin             ┆        ┆   ┆      ┆      ┆                  ┆            │\n",
       "│ 3      ┆ 0        ┆ Zimmerman, Mr.    ┆ male   ┆ … ┆ null ┆ null ┆ null             ┆ Mr.        │\n",
       "│        ┆          ┆ Leo               ┆        ┆   ┆      ┆      ┆                  ┆            │\n",
       "└────────┴──────────┴───────────────────┴────────┴───┴──────┴──────┴──────────────────┴────────────┘"
      ]
     },
     "execution_count": 12,
     "metadata": {},
     "output_type": "execute_result"
    }
   ],
   "source": [
    "df.with_columns(\n",
    "    pl.col('name')\n",
    "    .str.extract('Mr\\.|Mrs\\.|Ms\\.|Master\\.|Miss\\.|Dr\\.', 0)\n",
    "    .alias('honorifics')\n",
    ")"
   ]
  },
  {
   "cell_type": "code",
   "execution_count": 13,
   "id": "4e24ac50-2d72-4b4e-9cc2-6a14b4f4e77d",
   "metadata": {},
   "outputs": [
    {
     "data": {
      "text/html": [
       "<div><style>\n",
       ".dataframe > thead > tr,\n",
       ".dataframe > tbody > tr {\n",
       "  text-align: right;\n",
       "  white-space: pre-wrap;\n",
       "}\n",
       "</style>\n",
       "<small>shape: (1_309, 14)</small><table border=\"1\" class=\"dataframe\"><thead><tr><th>pclass</th><th>survived</th><th>name</th><th>sex</th><th>age</th><th>sibsp</th><th>parch</th><th>ticket</th><th>fare</th><th>cabin</th><th>embarked</th><th>boat</th><th>body</th><th>home.dest</th></tr><tr><td>i64</td><td>i64</td><td>str</td><td>str</td><td>f64</td><td>i64</td><td>i64</td><td>str</td><td>f64</td><td>str</td><td>str</td><td>str</td><td>i64</td><td>str</td></tr></thead><tbody><tr><td>1</td><td>1</td><td>&quot;Allen, Miss. Elisabeth Walton&quot;</td><td>&quot;female&quot;</td><td>29.0</td><td>0</td><td>0</td><td>&quot;24160&quot;</td><td>211.3375</td><td>&quot;B5&quot;</td><td>&quot;S&quot;</td><td>&quot;2&quot;</td><td>null</td><td>&quot;St Louis, MO&quot;</td></tr><tr><td>1</td><td>1</td><td>&quot;Allison, Master. Hudson Trevor&quot;</td><td>&quot;male&quot;</td><td>0.92</td><td>1</td><td>2</td><td>&quot;113781&quot;</td><td>151.55</td><td>&quot;C22 C26&quot;</td><td>&quot;S&quot;</td><td>&quot;11&quot;</td><td>null</td><td>&quot;Montreal, PQ / Chesterville, O…</td></tr><tr><td>1</td><td>0</td><td>&quot;Allison, Miss. Helen Loraine&quot;</td><td>&quot;female&quot;</td><td>2.0</td><td>1</td><td>2</td><td>&quot;113781&quot;</td><td>151.55</td><td>&quot;C22 C26&quot;</td><td>&quot;S&quot;</td><td>null</td><td>null</td><td>&quot;Montreal, PQ / Chesterville, O…</td></tr><tr><td>1</td><td>0</td><td>&quot;Allison, Mr. Hudson Joshua Cre…</td><td>&quot;male&quot;</td><td>30.0</td><td>1</td><td>2</td><td>&quot;113781&quot;</td><td>151.55</td><td>&quot;C22 C26&quot;</td><td>&quot;S&quot;</td><td>null</td><td>135</td><td>&quot;Montreal, PQ / Chesterville, O…</td></tr><tr><td>1</td><td>0</td><td>&quot;Allison, Mrs. Hudson J C (Bess…</td><td>&quot;female&quot;</td><td>25.0</td><td>1</td><td>2</td><td>&quot;113781&quot;</td><td>151.55</td><td>&quot;C22 C26&quot;</td><td>&quot;S&quot;</td><td>null</td><td>null</td><td>&quot;Montreal, PQ / Chesterville, O…</td></tr><tr><td>&hellip;</td><td>&hellip;</td><td>&hellip;</td><td>&hellip;</td><td>&hellip;</td><td>&hellip;</td><td>&hellip;</td><td>&hellip;</td><td>&hellip;</td><td>&hellip;</td><td>&hellip;</td><td>&hellip;</td><td>&hellip;</td><td>&hellip;</td></tr><tr><td>3</td><td>0</td><td>&quot;Zabour, Miss. Hileni&quot;</td><td>&quot;female&quot;</td><td>14.5</td><td>1</td><td>0</td><td>&quot;2665&quot;</td><td>14.4542</td><td>null</td><td>&quot;C&quot;</td><td>null</td><td>328</td><td>null</td></tr><tr><td>3</td><td>0</td><td>&quot;Zabour, Miss. Thamine&quot;</td><td>&quot;female&quot;</td><td>28.0</td><td>1</td><td>0</td><td>&quot;2665&quot;</td><td>14.4542</td><td>null</td><td>&quot;C&quot;</td><td>null</td><td>null</td><td>null</td></tr><tr><td>3</td><td>0</td><td>&quot;Zakarian, Mr. Mapriededer&quot;</td><td>&quot;male&quot;</td><td>26.5</td><td>0</td><td>0</td><td>&quot;2656&quot;</td><td>7.225</td><td>null</td><td>&quot;C&quot;</td><td>null</td><td>304</td><td>null</td></tr><tr><td>3</td><td>0</td><td>&quot;Zakarian, Mr. Ortin&quot;</td><td>&quot;male&quot;</td><td>27.0</td><td>0</td><td>0</td><td>&quot;2670&quot;</td><td>7.225</td><td>null</td><td>&quot;C&quot;</td><td>null</td><td>null</td><td>null</td></tr><tr><td>3</td><td>0</td><td>&quot;Zimmerman, Mr. Leo&quot;</td><td>&quot;male&quot;</td><td>29.0</td><td>0</td><td>0</td><td>&quot;315082&quot;</td><td>7.875</td><td>null</td><td>&quot;S&quot;</td><td>null</td><td>null</td><td>null</td></tr></tbody></table></div>"
      ],
      "text/plain": [
       "shape: (1_309, 14)\n",
       "┌────────┬──────────┬────────────────────┬────────┬───┬──────────┬──────┬──────┬───────────────────┐\n",
       "│ pclass ┆ survived ┆ name               ┆ sex    ┆ … ┆ embarked ┆ boat ┆ body ┆ home.dest         │\n",
       "│ ---    ┆ ---      ┆ ---                ┆ ---    ┆   ┆ ---      ┆ ---  ┆ ---  ┆ ---               │\n",
       "│ i64    ┆ i64      ┆ str                ┆ str    ┆   ┆ str      ┆ str  ┆ i64  ┆ str               │\n",
       "╞════════╪══════════╪════════════════════╪════════╪═══╪══════════╪══════╪══════╪═══════════════════╡\n",
       "│ 1      ┆ 1        ┆ Allen, Miss.       ┆ female ┆ … ┆ S        ┆ 2    ┆ null ┆ St Louis, MO      │\n",
       "│        ┆          ┆ Elisabeth Walton   ┆        ┆   ┆          ┆      ┆      ┆                   │\n",
       "│ 1      ┆ 1        ┆ Allison, Master.   ┆ male   ┆ … ┆ S        ┆ 11   ┆ null ┆ Montreal, PQ /    │\n",
       "│        ┆          ┆ Hudson Trevor      ┆        ┆   ┆          ┆      ┆      ┆ Chesterville, O…  │\n",
       "│ 1      ┆ 0        ┆ Allison, Miss.     ┆ female ┆ … ┆ S        ┆ null ┆ null ┆ Montreal, PQ /    │\n",
       "│        ┆          ┆ Helen Loraine      ┆        ┆   ┆          ┆      ┆      ┆ Chesterville, O…  │\n",
       "│ 1      ┆ 0        ┆ Allison, Mr.       ┆ male   ┆ … ┆ S        ┆ null ┆ 135  ┆ Montreal, PQ /    │\n",
       "│        ┆          ┆ Hudson Joshua Cre… ┆        ┆   ┆          ┆      ┆      ┆ Chesterville, O…  │\n",
       "│ 1      ┆ 0        ┆ Allison, Mrs.      ┆ female ┆ … ┆ S        ┆ null ┆ null ┆ Montreal, PQ /    │\n",
       "│        ┆          ┆ Hudson J C (Bess…  ┆        ┆   ┆          ┆      ┆      ┆ Chesterville, O…  │\n",
       "│ …      ┆ …        ┆ …                  ┆ …      ┆ … ┆ …        ┆ …    ┆ …    ┆ …                 │\n",
       "│ 3      ┆ 0        ┆ Zabour, Miss.      ┆ female ┆ … ┆ C        ┆ null ┆ 328  ┆ null              │\n",
       "│        ┆          ┆ Hileni             ┆        ┆   ┆          ┆      ┆      ┆                   │\n",
       "│ 3      ┆ 0        ┆ Zabour, Miss.      ┆ female ┆ … ┆ C        ┆ null ┆ null ┆ null              │\n",
       "│        ┆          ┆ Thamine            ┆        ┆   ┆          ┆      ┆      ┆                   │\n",
       "│ 3      ┆ 0        ┆ Zakarian, Mr.      ┆ male   ┆ … ┆ C        ┆ null ┆ 304  ┆ null              │\n",
       "│        ┆          ┆ Mapriededer        ┆        ┆   ┆          ┆      ┆      ┆                   │\n",
       "│ 3      ┆ 0        ┆ Zakarian, Mr.      ┆ male   ┆ … ┆ C        ┆ null ┆ null ┆ null              │\n",
       "│        ┆          ┆ Ortin              ┆        ┆   ┆          ┆      ┆      ┆                   │\n",
       "│ 3      ┆ 0        ┆ Zimmerman, Mr. Leo ┆ male   ┆ … ┆ S        ┆ null ┆ null ┆ null              │\n",
       "└────────┴──────────┴────────────────────┴────────┴───┴──────────┴──────┴──────┴───────────────────┘"
      ]
     },
     "execution_count": 13,
     "metadata": {},
     "output_type": "execute_result"
    }
   ],
   "source": [
    "df.with_columns(\n",
    "    pl.col('age').fill_null(pl.col('age').median())\n",
    ")"
   ]
  },
  {
   "cell_type": "code",
   "execution_count": 14,
   "id": "35821f5f-934d-4a2a-8fbb-e746803a65d6",
   "metadata": {},
   "outputs": [
    {
     "data": {
      "text/plain": [
       "28.0"
      ]
     },
     "execution_count": 14,
     "metadata": {},
     "output_type": "execute_result"
    }
   ],
   "source": [
    "df.select(\n",
    "    pl.col('age').median()\n",
    ").to_series()[0]"
   ]
  },
  {
   "cell_type": "code",
   "execution_count": 15,
   "id": "713cc7a5-aa81-4b82-9059-b33138d45064",
   "metadata": {},
   "outputs": [
    {
     "data": {
      "text/html": [
       "<div><style>\n",
       ".dataframe > thead > tr,\n",
       ".dataframe > tbody > tr {\n",
       "  text-align: right;\n",
       "  white-space: pre-wrap;\n",
       "}\n",
       "</style>\n",
       "<small>shape: (1_309, 14)</small><table border=\"1\" class=\"dataframe\"><thead><tr><th>pclass</th><th>survived</th><th>name</th><th>sex</th><th>age</th><th>sibsp</th><th>parch</th><th>ticket</th><th>fare</th><th>cabin</th><th>embarked</th><th>boat</th><th>body</th><th>home.dest</th></tr><tr><td>i64</td><td>i64</td><td>str</td><td>str</td><td>f64</td><td>i64</td><td>i64</td><td>str</td><td>f64</td><td>str</td><td>str</td><td>str</td><td>i64</td><td>str</td></tr></thead><tbody><tr><td>1</td><td>1</td><td>&quot;Allen, Miss. Elisabeth Walton&quot;</td><td>&quot;female&quot;</td><td>29.0</td><td>0</td><td>0</td><td>&quot;24160&quot;</td><td>211.3375</td><td>&quot;B5&quot;</td><td>&quot;S&quot;</td><td>&quot;2&quot;</td><td>null</td><td>&quot;St Louis, MO&quot;</td></tr><tr><td>1</td><td>1</td><td>&quot;Allison, Master. Hudson Trevor&quot;</td><td>&quot;male&quot;</td><td>0.92</td><td>1</td><td>2</td><td>&quot;113781&quot;</td><td>151.55</td><td>&quot;C22 C26&quot;</td><td>&quot;S&quot;</td><td>&quot;11&quot;</td><td>null</td><td>&quot;Montreal, PQ / Chesterville, O…</td></tr><tr><td>1</td><td>0</td><td>&quot;Allison, Miss. Helen Loraine&quot;</td><td>&quot;female&quot;</td><td>2.0</td><td>1</td><td>2</td><td>&quot;113781&quot;</td><td>151.55</td><td>&quot;C22 C26&quot;</td><td>&quot;S&quot;</td><td>null</td><td>null</td><td>&quot;Montreal, PQ / Chesterville, O…</td></tr><tr><td>1</td><td>0</td><td>&quot;Allison, Mr. Hudson Joshua Cre…</td><td>&quot;male&quot;</td><td>30.0</td><td>1</td><td>2</td><td>&quot;113781&quot;</td><td>151.55</td><td>&quot;C22 C26&quot;</td><td>&quot;S&quot;</td><td>null</td><td>135</td><td>&quot;Montreal, PQ / Chesterville, O…</td></tr><tr><td>1</td><td>0</td><td>&quot;Allison, Mrs. Hudson J C (Bess…</td><td>&quot;female&quot;</td><td>25.0</td><td>1</td><td>2</td><td>&quot;113781&quot;</td><td>151.55</td><td>&quot;C22 C26&quot;</td><td>&quot;S&quot;</td><td>null</td><td>null</td><td>&quot;Montreal, PQ / Chesterville, O…</td></tr><tr><td>&hellip;</td><td>&hellip;</td><td>&hellip;</td><td>&hellip;</td><td>&hellip;</td><td>&hellip;</td><td>&hellip;</td><td>&hellip;</td><td>&hellip;</td><td>&hellip;</td><td>&hellip;</td><td>&hellip;</td><td>&hellip;</td><td>&hellip;</td></tr><tr><td>3</td><td>0</td><td>&quot;Zabour, Miss. Hileni&quot;</td><td>&quot;female&quot;</td><td>14.5</td><td>1</td><td>0</td><td>&quot;2665&quot;</td><td>14.4542</td><td>null</td><td>&quot;C&quot;</td><td>null</td><td>328</td><td>null</td></tr><tr><td>3</td><td>0</td><td>&quot;Zabour, Miss. Thamine&quot;</td><td>&quot;female&quot;</td><td>29.881138</td><td>1</td><td>0</td><td>&quot;2665&quot;</td><td>14.4542</td><td>null</td><td>&quot;C&quot;</td><td>null</td><td>null</td><td>null</td></tr><tr><td>3</td><td>0</td><td>&quot;Zakarian, Mr. Mapriededer&quot;</td><td>&quot;male&quot;</td><td>26.5</td><td>0</td><td>0</td><td>&quot;2656&quot;</td><td>7.225</td><td>null</td><td>&quot;C&quot;</td><td>null</td><td>304</td><td>null</td></tr><tr><td>3</td><td>0</td><td>&quot;Zakarian, Mr. Ortin&quot;</td><td>&quot;male&quot;</td><td>27.0</td><td>0</td><td>0</td><td>&quot;2670&quot;</td><td>7.225</td><td>null</td><td>&quot;C&quot;</td><td>null</td><td>null</td><td>null</td></tr><tr><td>3</td><td>0</td><td>&quot;Zimmerman, Mr. Leo&quot;</td><td>&quot;male&quot;</td><td>29.0</td><td>0</td><td>0</td><td>&quot;315082&quot;</td><td>7.875</td><td>null</td><td>&quot;S&quot;</td><td>null</td><td>null</td><td>null</td></tr></tbody></table></div>"
      ],
      "text/plain": [
       "shape: (1_309, 14)\n",
       "┌────────┬──────────┬────────────────────┬────────┬───┬──────────┬──────┬──────┬───────────────────┐\n",
       "│ pclass ┆ survived ┆ name               ┆ sex    ┆ … ┆ embarked ┆ boat ┆ body ┆ home.dest         │\n",
       "│ ---    ┆ ---      ┆ ---                ┆ ---    ┆   ┆ ---      ┆ ---  ┆ ---  ┆ ---               │\n",
       "│ i64    ┆ i64      ┆ str                ┆ str    ┆   ┆ str      ┆ str  ┆ i64  ┆ str               │\n",
       "╞════════╪══════════╪════════════════════╪════════╪═══╪══════════╪══════╪══════╪═══════════════════╡\n",
       "│ 1      ┆ 1        ┆ Allen, Miss.       ┆ female ┆ … ┆ S        ┆ 2    ┆ null ┆ St Louis, MO      │\n",
       "│        ┆          ┆ Elisabeth Walton   ┆        ┆   ┆          ┆      ┆      ┆                   │\n",
       "│ 1      ┆ 1        ┆ Allison, Master.   ┆ male   ┆ … ┆ S        ┆ 11   ┆ null ┆ Montreal, PQ /    │\n",
       "│        ┆          ┆ Hudson Trevor      ┆        ┆   ┆          ┆      ┆      ┆ Chesterville, O…  │\n",
       "│ 1      ┆ 0        ┆ Allison, Miss.     ┆ female ┆ … ┆ S        ┆ null ┆ null ┆ Montreal, PQ /    │\n",
       "│        ┆          ┆ Helen Loraine      ┆        ┆   ┆          ┆      ┆      ┆ Chesterville, O…  │\n",
       "│ 1      ┆ 0        ┆ Allison, Mr.       ┆ male   ┆ … ┆ S        ┆ null ┆ 135  ┆ Montreal, PQ /    │\n",
       "│        ┆          ┆ Hudson Joshua Cre… ┆        ┆   ┆          ┆      ┆      ┆ Chesterville, O…  │\n",
       "│ 1      ┆ 0        ┆ Allison, Mrs.      ┆ female ┆ … ┆ S        ┆ null ┆ null ┆ Montreal, PQ /    │\n",
       "│        ┆          ┆ Hudson J C (Bess…  ┆        ┆   ┆          ┆      ┆      ┆ Chesterville, O…  │\n",
       "│ …      ┆ …        ┆ …                  ┆ …      ┆ … ┆ …        ┆ …    ┆ …    ┆ …                 │\n",
       "│ 3      ┆ 0        ┆ Zabour, Miss.      ┆ female ┆ … ┆ C        ┆ null ┆ 328  ┆ null              │\n",
       "│        ┆          ┆ Hileni             ┆        ┆   ┆          ┆      ┆      ┆                   │\n",
       "│ 3      ┆ 0        ┆ Zabour, Miss.      ┆ female ┆ … ┆ C        ┆ null ┆ null ┆ null              │\n",
       "│        ┆          ┆ Thamine            ┆        ┆   ┆          ┆      ┆      ┆                   │\n",
       "│ 3      ┆ 0        ┆ Zakarian, Mr.      ┆ male   ┆ … ┆ C        ┆ null ┆ 304  ┆ null              │\n",
       "│        ┆          ┆ Mapriededer        ┆        ┆   ┆          ┆      ┆      ┆                   │\n",
       "│ 3      ┆ 0        ┆ Zakarian, Mr.      ┆ male   ┆ … ┆ C        ┆ null ┆ null ┆ null              │\n",
       "│        ┆          ┆ Ortin              ┆        ┆   ┆          ┆      ┆      ┆                   │\n",
       "│ 3      ┆ 0        ┆ Zimmerman, Mr. Leo ┆ male   ┆ … ┆ S        ┆ null ┆ null ┆ null              │\n",
       "└────────┴──────────┴────────────────────┴────────┴───┴──────────┴──────┴──────┴───────────────────┘"
      ]
     },
     "execution_count": 15,
     "metadata": {},
     "output_type": "execute_result"
    }
   ],
   "source": [
    "df.with_columns(\n",
    "    pl.col('age').fill_null(strategy='mean')\n",
    ")"
   ]
  },
  {
   "cell_type": "code",
   "execution_count": 16,
   "id": "1427fddb-6d08-4f37-98d3-e29a1c7098ea",
   "metadata": {},
   "outputs": [
    {
     "data": {
      "text/plain": [
       "array([[  1.    ,   1.    ,  29.    , ...,   0.    , 211.3375,      nan],\n",
       "       [  1.    ,   1.    ,   0.92  , ...,   2.    , 151.55  ,      nan],\n",
       "       [  1.    ,   0.    ,   2.    , ...,   2.    , 151.55  ,      nan],\n",
       "       ...,\n",
       "       [  3.    ,   0.    ,  26.5   , ...,   0.    ,   7.225 , 304.    ],\n",
       "       [  3.    ,   0.    ,  27.    , ...,   0.    ,   7.225 ,      nan],\n",
       "       [  3.    ,   0.    ,  29.    , ...,   0.    ,   7.875 ,      nan]])"
      ]
     },
     "execution_count": 16,
     "metadata": {},
     "output_type": "execute_result"
    }
   ],
   "source": [
    "df.select(\n",
    "    pl.col([pl.Int64, pl.Float64])\n",
    ").to_numpy()"
   ]
  },
  {
   "cell_type": "code",
   "execution_count": 17,
   "id": "261ffd7f-dcf0-473d-b604-8dc791e526e0",
   "metadata": {},
   "outputs": [
    {
     "data": {
      "text/plain": [
       "array([[1, 1, 'Allen, Miss. Elisabeth Walton', ..., '2', nan,\n",
       "        'St Louis, MO'],\n",
       "       [1, 1, 'Allison, Master. Hudson Trevor', ..., '11', nan,\n",
       "        'Montreal, PQ / Chesterville, ON'],\n",
       "       [1, 0, 'Allison, Miss. Helen Loraine', ..., None, nan,\n",
       "        'Montreal, PQ / Chesterville, ON'],\n",
       "       ...,\n",
       "       [3, 0, 'Zakarian, Mr. Mapriededer', ..., None, 304.0, None],\n",
       "       [3, 0, 'Zakarian, Mr. Ortin', ..., None, nan, None],\n",
       "       [3, 0, 'Zimmerman, Mr. Leo', ..., None, nan, None]], dtype=object)"
      ]
     },
     "execution_count": 17,
     "metadata": {},
     "output_type": "execute_result"
    }
   ],
   "source": [
    "df.to_numpy()"
   ]
  },
  {
   "cell_type": "code",
   "execution_count": 18,
   "id": "75c6d523-a65f-49c2-8bc7-7b53be86b847",
   "metadata": {},
   "outputs": [
    {
     "data": {
      "text/plain": [
       "array([29.  ,  0.92,  2.  , ..., 26.5 , 27.  , 29.  ])"
      ]
     },
     "execution_count": 18,
     "metadata": {},
     "output_type": "execute_result"
    }
   ],
   "source": [
    "df.get_column('age').to_numpy()"
   ]
  },
  {
   "cell_type": "code",
   "execution_count": 19,
   "id": "c4ca4070-ba91-4872-a631-a50643ecdba8",
   "metadata": {},
   "outputs": [
    {
     "data": {
      "text/plain": [
       "array([29.  ,  0.92,  2.  , ..., 26.5 , 27.  , 29.  ])"
      ]
     },
     "execution_count": 19,
     "metadata": {},
     "output_type": "execute_result"
    }
   ],
   "source": [
    "df.select(pl.col('age')).to_series().to_numpy()"
   ]
  },
  {
   "cell_type": "code",
   "execution_count": 20,
   "id": "203d631b-f4cf-4727-960b-b2ed99a76e00",
   "metadata": {},
   "outputs": [
    {
     "data": {
      "text/html": [
       "<div><style>\n",
       ".dataframe > thead > tr,\n",
       ".dataframe > tbody > tr {\n",
       "  text-align: right;\n",
       "  white-space: pre-wrap;\n",
       "}\n",
       "</style>\n",
       "<small>shape: (1_309, 15)</small><table border=\"1\" class=\"dataframe\"><thead><tr><th>pclass</th><th>survived</th><th>name</th><th>sex</th><th>age</th><th>sibsp</th><th>parch</th><th>ticket</th><th>fare</th><th>cabin</th><th>embarked</th><th>boat</th><th>body</th><th>home.dest</th><th>age_group</th></tr><tr><td>i64</td><td>i64</td><td>str</td><td>str</td><td>f64</td><td>i64</td><td>i64</td><td>str</td><td>f64</td><td>str</td><td>str</td><td>str</td><td>i64</td><td>str</td><td>cat</td></tr></thead><tbody><tr><td>1</td><td>1</td><td>&quot;Allen, Miss. Elisabeth Walton&quot;</td><td>&quot;female&quot;</td><td>29.0</td><td>0</td><td>0</td><td>&quot;24160&quot;</td><td>211.3375</td><td>&quot;B5&quot;</td><td>&quot;S&quot;</td><td>&quot;2&quot;</td><td>null</td><td>&quot;St Louis, MO&quot;</td><td>&quot;C&quot;</td></tr><tr><td>1</td><td>1</td><td>&quot;Allison, Master. Hudson Trevor&quot;</td><td>&quot;male&quot;</td><td>0.92</td><td>1</td><td>2</td><td>&quot;113781&quot;</td><td>151.55</td><td>&quot;C22 C26&quot;</td><td>&quot;S&quot;</td><td>&quot;11&quot;</td><td>null</td><td>&quot;Montreal, PQ / Chesterville, O…</td><td>&quot;A&quot;</td></tr><tr><td>1</td><td>0</td><td>&quot;Allison, Miss. Helen Loraine&quot;</td><td>&quot;female&quot;</td><td>2.0</td><td>1</td><td>2</td><td>&quot;113781&quot;</td><td>151.55</td><td>&quot;C22 C26&quot;</td><td>&quot;S&quot;</td><td>null</td><td>null</td><td>&quot;Montreal, PQ / Chesterville, O…</td><td>&quot;A&quot;</td></tr><tr><td>1</td><td>0</td><td>&quot;Allison, Mr. Hudson Joshua Cre…</td><td>&quot;male&quot;</td><td>30.0</td><td>1</td><td>2</td><td>&quot;113781&quot;</td><td>151.55</td><td>&quot;C22 C26&quot;</td><td>&quot;S&quot;</td><td>null</td><td>135</td><td>&quot;Montreal, PQ / Chesterville, O…</td><td>&quot;C&quot;</td></tr><tr><td>1</td><td>0</td><td>&quot;Allison, Mrs. Hudson J C (Bess…</td><td>&quot;female&quot;</td><td>25.0</td><td>1</td><td>2</td><td>&quot;113781&quot;</td><td>151.55</td><td>&quot;C22 C26&quot;</td><td>&quot;S&quot;</td><td>null</td><td>null</td><td>&quot;Montreal, PQ / Chesterville, O…</td><td>&quot;B&quot;</td></tr><tr><td>&hellip;</td><td>&hellip;</td><td>&hellip;</td><td>&hellip;</td><td>&hellip;</td><td>&hellip;</td><td>&hellip;</td><td>&hellip;</td><td>&hellip;</td><td>&hellip;</td><td>&hellip;</td><td>&hellip;</td><td>&hellip;</td><td>&hellip;</td><td>&hellip;</td></tr><tr><td>3</td><td>0</td><td>&quot;Zabour, Miss. Hileni&quot;</td><td>&quot;female&quot;</td><td>14.5</td><td>1</td><td>0</td><td>&quot;2665&quot;</td><td>14.4542</td><td>null</td><td>&quot;C&quot;</td><td>null</td><td>328</td><td>null</td><td>&quot;A&quot;</td></tr><tr><td>3</td><td>0</td><td>&quot;Zabour, Miss. Thamine&quot;</td><td>&quot;female&quot;</td><td>null</td><td>1</td><td>0</td><td>&quot;2665&quot;</td><td>14.4542</td><td>null</td><td>&quot;C&quot;</td><td>null</td><td>null</td><td>null</td><td>null</td></tr><tr><td>3</td><td>0</td><td>&quot;Zakarian, Mr. Mapriededer&quot;</td><td>&quot;male&quot;</td><td>26.5</td><td>0</td><td>0</td><td>&quot;2656&quot;</td><td>7.225</td><td>null</td><td>&quot;C&quot;</td><td>null</td><td>304</td><td>null</td><td>&quot;C&quot;</td></tr><tr><td>3</td><td>0</td><td>&quot;Zakarian, Mr. Ortin&quot;</td><td>&quot;male&quot;</td><td>27.0</td><td>0</td><td>0</td><td>&quot;2670&quot;</td><td>7.225</td><td>null</td><td>&quot;C&quot;</td><td>null</td><td>null</td><td>null</td><td>&quot;C&quot;</td></tr><tr><td>3</td><td>0</td><td>&quot;Zimmerman, Mr. Leo&quot;</td><td>&quot;male&quot;</td><td>29.0</td><td>0</td><td>0</td><td>&quot;315082&quot;</td><td>7.875</td><td>null</td><td>&quot;S&quot;</td><td>null</td><td>null</td><td>null</td><td>&quot;C&quot;</td></tr></tbody></table></div>"
      ],
      "text/plain": [
       "shape: (1_309, 15)\n",
       "┌────────┬──────────┬───────────────────┬────────┬───┬──────┬──────┬───────────────────┬───────────┐\n",
       "│ pclass ┆ survived ┆ name              ┆ sex    ┆ … ┆ boat ┆ body ┆ home.dest         ┆ age_group │\n",
       "│ ---    ┆ ---      ┆ ---               ┆ ---    ┆   ┆ ---  ┆ ---  ┆ ---               ┆ ---       │\n",
       "│ i64    ┆ i64      ┆ str               ┆ str    ┆   ┆ str  ┆ i64  ┆ str               ┆ cat       │\n",
       "╞════════╪══════════╪═══════════════════╪════════╪═══╪══════╪══════╪═══════════════════╪═══════════╡\n",
       "│ 1      ┆ 1        ┆ Allen, Miss.      ┆ female ┆ … ┆ 2    ┆ null ┆ St Louis, MO      ┆ C         │\n",
       "│        ┆          ┆ Elisabeth Walton  ┆        ┆   ┆      ┆      ┆                   ┆           │\n",
       "│ 1      ┆ 1        ┆ Allison, Master.  ┆ male   ┆ … ┆ 11   ┆ null ┆ Montreal, PQ /    ┆ A         │\n",
       "│        ┆          ┆ Hudson Trevor     ┆        ┆   ┆      ┆      ┆ Chesterville, O…  ┆           │\n",
       "│ 1      ┆ 0        ┆ Allison, Miss.    ┆ female ┆ … ┆ null ┆ null ┆ Montreal, PQ /    ┆ A         │\n",
       "│        ┆          ┆ Helen Loraine     ┆        ┆   ┆      ┆      ┆ Chesterville, O…  ┆           │\n",
       "│ 1      ┆ 0        ┆ Allison, Mr.      ┆ male   ┆ … ┆ null ┆ 135  ┆ Montreal, PQ /    ┆ C         │\n",
       "│        ┆          ┆ Hudson Joshua     ┆        ┆   ┆      ┆      ┆ Chesterville, O…  ┆           │\n",
       "│        ┆          ┆ Cre…              ┆        ┆   ┆      ┆      ┆                   ┆           │\n",
       "│ 1      ┆ 0        ┆ Allison, Mrs.     ┆ female ┆ … ┆ null ┆ null ┆ Montreal, PQ /    ┆ B         │\n",
       "│        ┆          ┆ Hudson J C (Bess… ┆        ┆   ┆      ┆      ┆ Chesterville, O…  ┆           │\n",
       "│ …      ┆ …        ┆ …                 ┆ …      ┆ … ┆ …    ┆ …    ┆ …                 ┆ …         │\n",
       "│ 3      ┆ 0        ┆ Zabour, Miss.     ┆ female ┆ … ┆ null ┆ 328  ┆ null              ┆ A         │\n",
       "│        ┆          ┆ Hileni            ┆        ┆   ┆      ┆      ┆                   ┆           │\n",
       "│ 3      ┆ 0        ┆ Zabour, Miss.     ┆ female ┆ … ┆ null ┆ null ┆ null              ┆ null      │\n",
       "│        ┆          ┆ Thamine           ┆        ┆   ┆      ┆      ┆                   ┆           │\n",
       "│ 3      ┆ 0        ┆ Zakarian, Mr.     ┆ male   ┆ … ┆ null ┆ 304  ┆ null              ┆ C         │\n",
       "│        ┆          ┆ Mapriededer       ┆        ┆   ┆      ┆      ┆                   ┆           │\n",
       "│ 3      ┆ 0        ┆ Zakarian, Mr.     ┆ male   ┆ … ┆ null ┆ null ┆ null              ┆ C         │\n",
       "│        ┆          ┆ Ortin             ┆        ┆   ┆      ┆      ┆                   ┆           │\n",
       "│ 3      ┆ 0        ┆ Zimmerman, Mr.    ┆ male   ┆ … ┆ null ┆ null ┆ null              ┆ C         │\n",
       "│        ┆          ┆ Leo               ┆        ┆   ┆      ┆      ┆                   ┆           │\n",
       "└────────┴──────────┴───────────────────┴────────┴───┴──────┴──────┴───────────────────┴───────────┘"
      ]
     },
     "execution_count": 20,
     "metadata": {},
     "output_type": "execute_result"
    }
   ],
   "source": [
    "df_qcut = df.with_columns(\n",
    "    pl.col('age')\n",
    "    .qcut(\n",
    "        quantiles=[0.2, 0.4, 0.6, 0.8],\n",
    "        labels=['A', 'B', 'C', 'D', 'E']\n",
    "    )\n",
    "    .alias('age_group')\n",
    ")\n",
    "df_qcut"
   ]
  },
  {
   "cell_type": "code",
   "execution_count": 21,
   "id": "8eb3c893-f82c-4423-bc82-c3888e2a2bab",
   "metadata": {},
   "outputs": [
    {
     "data": {
      "text/html": [
       "<div><style>\n",
       ".dataframe > thead > tr,\n",
       ".dataframe > tbody > tr {\n",
       "  text-align: right;\n",
       "  white-space: pre-wrap;\n",
       "}\n",
       "</style>\n",
       "<small>shape: (5, 3)</small><table border=\"1\" class=\"dataframe\"><thead><tr><th>age_group</th><th>count</th><th>rate</th></tr><tr><td>cat</td><td>u32</td><td>f64</td></tr></thead><tbody><tr><td>&quot;A&quot;</td><td>225</td><td>0.215105</td></tr><tr><td>&quot;B&quot;</td><td>218</td><td>0.208413</td></tr><tr><td>&quot;D&quot;</td><td>217</td><td>0.207457</td></tr><tr><td>&quot;E&quot;</td><td>195</td><td>0.186424</td></tr><tr><td>&quot;C&quot;</td><td>191</td><td>0.1826</td></tr></tbody></table></div>"
      ],
      "text/plain": [
       "shape: (5, 3)\n",
       "┌───────────┬───────┬──────────┐\n",
       "│ age_group ┆ count ┆ rate     │\n",
       "│ ---       ┆ ---   ┆ ---      │\n",
       "│ cat       ┆ u32   ┆ f64      │\n",
       "╞═══════════╪═══════╪══════════╡\n",
       "│ A         ┆ 225   ┆ 0.215105 │\n",
       "│ B         ┆ 218   ┆ 0.208413 │\n",
       "│ D         ┆ 217   ┆ 0.207457 │\n",
       "│ E         ┆ 195   ┆ 0.186424 │\n",
       "│ C         ┆ 191   ┆ 0.1826   │\n",
       "└───────────┴───────┴──────────┘"
      ]
     },
     "execution_count": 21,
     "metadata": {},
     "output_type": "execute_result"
    }
   ],
   "source": [
    "(\n",
    "    df_qcut.select(\n",
    "        pl.col('age_group').drop_nulls()\n",
    "    )\n",
    "    .to_series()\n",
    "    .value_counts(sort=True)\n",
    "    .with_columns(\n",
    "        (pl.col('count') / pl.sum('count')).alias('rate')\n",
    "    )\n",
    ")"
   ]
  },
  {
   "cell_type": "code",
   "execution_count": 22,
   "id": "dab4ec01-5748-481a-b9ff-bf62f0b78570",
   "metadata": {},
   "outputs": [
    {
     "data": {
      "text/html": [
       "<div><style>\n",
       ".dataframe > thead > tr,\n",
       ".dataframe > tbody > tr {\n",
       "  text-align: right;\n",
       "  white-space: pre-wrap;\n",
       "}\n",
       "</style>\n",
       "<small>shape: (1_309, 15)</small><table border=\"1\" class=\"dataframe\"><thead><tr><th>pclass</th><th>survived</th><th>name</th><th>sex</th><th>age</th><th>sibsp</th><th>parch</th><th>ticket</th><th>fare</th><th>cabin</th><th>embarked</th><th>boat</th><th>body</th><th>home.dest</th><th>age_group</th></tr><tr><td>i64</td><td>i64</td><td>str</td><td>str</td><td>f64</td><td>i64</td><td>i64</td><td>str</td><td>f64</td><td>str</td><td>str</td><td>str</td><td>i64</td><td>str</td><td>cat</td></tr></thead><tbody><tr><td>1</td><td>1</td><td>&quot;Allen, Miss. Elisabeth Walton&quot;</td><td>&quot;female&quot;</td><td>29.0</td><td>0</td><td>0</td><td>&quot;24160&quot;</td><td>211.3375</td><td>&quot;B5&quot;</td><td>&quot;S&quot;</td><td>&quot;2&quot;</td><td>null</td><td>&quot;St Louis, MO&quot;</td><td>&quot;C&quot;</td></tr><tr><td>1</td><td>1</td><td>&quot;Allison, Master. Hudson Trevor&quot;</td><td>&quot;male&quot;</td><td>0.92</td><td>1</td><td>2</td><td>&quot;113781&quot;</td><td>151.55</td><td>&quot;C22 C26&quot;</td><td>&quot;S&quot;</td><td>&quot;11&quot;</td><td>null</td><td>&quot;Montreal, PQ / Chesterville, O…</td><td>&quot;A&quot;</td></tr><tr><td>1</td><td>0</td><td>&quot;Allison, Miss. Helen Loraine&quot;</td><td>&quot;female&quot;</td><td>2.0</td><td>1</td><td>2</td><td>&quot;113781&quot;</td><td>151.55</td><td>&quot;C22 C26&quot;</td><td>&quot;S&quot;</td><td>null</td><td>null</td><td>&quot;Montreal, PQ / Chesterville, O…</td><td>&quot;A&quot;</td></tr><tr><td>1</td><td>0</td><td>&quot;Allison, Mr. Hudson Joshua Cre…</td><td>&quot;male&quot;</td><td>30.0</td><td>1</td><td>2</td><td>&quot;113781&quot;</td><td>151.55</td><td>&quot;C22 C26&quot;</td><td>&quot;S&quot;</td><td>null</td><td>135</td><td>&quot;Montreal, PQ / Chesterville, O…</td><td>&quot;C&quot;</td></tr><tr><td>1</td><td>0</td><td>&quot;Allison, Mrs. Hudson J C (Bess…</td><td>&quot;female&quot;</td><td>25.0</td><td>1</td><td>2</td><td>&quot;113781&quot;</td><td>151.55</td><td>&quot;C22 C26&quot;</td><td>&quot;S&quot;</td><td>null</td><td>null</td><td>&quot;Montreal, PQ / Chesterville, O…</td><td>&quot;C&quot;</td></tr><tr><td>&hellip;</td><td>&hellip;</td><td>&hellip;</td><td>&hellip;</td><td>&hellip;</td><td>&hellip;</td><td>&hellip;</td><td>&hellip;</td><td>&hellip;</td><td>&hellip;</td><td>&hellip;</td><td>&hellip;</td><td>&hellip;</td><td>&hellip;</td><td>&hellip;</td></tr><tr><td>3</td><td>0</td><td>&quot;Zabour, Miss. Hileni&quot;</td><td>&quot;female&quot;</td><td>14.5</td><td>1</td><td>0</td><td>&quot;2665&quot;</td><td>14.4542</td><td>null</td><td>&quot;C&quot;</td><td>null</td><td>328</td><td>null</td><td>&quot;B&quot;</td></tr><tr><td>3</td><td>0</td><td>&quot;Zabour, Miss. Thamine&quot;</td><td>&quot;female&quot;</td><td>null</td><td>1</td><td>0</td><td>&quot;2665&quot;</td><td>14.4542</td><td>null</td><td>&quot;C&quot;</td><td>null</td><td>null</td><td>null</td><td>null</td></tr><tr><td>3</td><td>0</td><td>&quot;Zakarian, Mr. Mapriededer&quot;</td><td>&quot;male&quot;</td><td>26.5</td><td>0</td><td>0</td><td>&quot;2656&quot;</td><td>7.225</td><td>null</td><td>&quot;C&quot;</td><td>null</td><td>304</td><td>null</td><td>&quot;C&quot;</td></tr><tr><td>3</td><td>0</td><td>&quot;Zakarian, Mr. Ortin&quot;</td><td>&quot;male&quot;</td><td>27.0</td><td>0</td><td>0</td><td>&quot;2670&quot;</td><td>7.225</td><td>null</td><td>&quot;C&quot;</td><td>null</td><td>null</td><td>null</td><td>&quot;C&quot;</td></tr><tr><td>3</td><td>0</td><td>&quot;Zimmerman, Mr. Leo&quot;</td><td>&quot;male&quot;</td><td>29.0</td><td>0</td><td>0</td><td>&quot;315082&quot;</td><td>7.875</td><td>null</td><td>&quot;S&quot;</td><td>null</td><td>null</td><td>null</td><td>&quot;C&quot;</td></tr></tbody></table></div>"
      ],
      "text/plain": [
       "shape: (1_309, 15)\n",
       "┌────────┬──────────┬───────────────────┬────────┬───┬──────┬──────┬───────────────────┬───────────┐\n",
       "│ pclass ┆ survived ┆ name              ┆ sex    ┆ … ┆ boat ┆ body ┆ home.dest         ┆ age_group │\n",
       "│ ---    ┆ ---      ┆ ---               ┆ ---    ┆   ┆ ---  ┆ ---  ┆ ---               ┆ ---       │\n",
       "│ i64    ┆ i64      ┆ str               ┆ str    ┆   ┆ str  ┆ i64  ┆ str               ┆ cat       │\n",
       "╞════════╪══════════╪═══════════════════╪════════╪═══╪══════╪══════╪═══════════════════╪═══════════╡\n",
       "│ 1      ┆ 1        ┆ Allen, Miss.      ┆ female ┆ … ┆ 2    ┆ null ┆ St Louis, MO      ┆ C         │\n",
       "│        ┆          ┆ Elisabeth Walton  ┆        ┆   ┆      ┆      ┆                   ┆           │\n",
       "│ 1      ┆ 1        ┆ Allison, Master.  ┆ male   ┆ … ┆ 11   ┆ null ┆ Montreal, PQ /    ┆ A         │\n",
       "│        ┆          ┆ Hudson Trevor     ┆        ┆   ┆      ┆      ┆ Chesterville, O…  ┆           │\n",
       "│ 1      ┆ 0        ┆ Allison, Miss.    ┆ female ┆ … ┆ null ┆ null ┆ Montreal, PQ /    ┆ A         │\n",
       "│        ┆          ┆ Helen Loraine     ┆        ┆   ┆      ┆      ┆ Chesterville, O…  ┆           │\n",
       "│ 1      ┆ 0        ┆ Allison, Mr.      ┆ male   ┆ … ┆ null ┆ 135  ┆ Montreal, PQ /    ┆ C         │\n",
       "│        ┆          ┆ Hudson Joshua     ┆        ┆   ┆      ┆      ┆ Chesterville, O…  ┆           │\n",
       "│        ┆          ┆ Cre…              ┆        ┆   ┆      ┆      ┆                   ┆           │\n",
       "│ 1      ┆ 0        ┆ Allison, Mrs.     ┆ female ┆ … ┆ null ┆ null ┆ Montreal, PQ /    ┆ C         │\n",
       "│        ┆          ┆ Hudson J C (Bess… ┆        ┆   ┆      ┆      ┆ Chesterville, O…  ┆           │\n",
       "│ …      ┆ …        ┆ …                 ┆ …      ┆ … ┆ …    ┆ …    ┆ …                 ┆ …         │\n",
       "│ 3      ┆ 0        ┆ Zabour, Miss.     ┆ female ┆ … ┆ null ┆ 328  ┆ null              ┆ B         │\n",
       "│        ┆          ┆ Hileni            ┆        ┆   ┆      ┆      ┆                   ┆           │\n",
       "│ 3      ┆ 0        ┆ Zabour, Miss.     ┆ female ┆ … ┆ null ┆ null ┆ null              ┆ null      │\n",
       "│        ┆          ┆ Thamine           ┆        ┆   ┆      ┆      ┆                   ┆           │\n",
       "│ 3      ┆ 0        ┆ Zakarian, Mr.     ┆ male   ┆ … ┆ null ┆ 304  ┆ null              ┆ C         │\n",
       "│        ┆          ┆ Mapriededer       ┆        ┆   ┆      ┆      ┆                   ┆           │\n",
       "│ 3      ┆ 0        ┆ Zakarian, Mr.     ┆ male   ┆ … ┆ null ┆ null ┆ null              ┆ C         │\n",
       "│        ┆          ┆ Ortin             ┆        ┆   ┆      ┆      ┆                   ┆           │\n",
       "│ 3      ┆ 0        ┆ Zimmerman, Mr.    ┆ male   ┆ … ┆ null ┆ null ┆ null              ┆ C         │\n",
       "│        ┆          ┆ Leo               ┆        ┆   ┆      ┆      ┆                   ┆           │\n",
       "└────────┴──────────┴───────────────────┴────────┴───┴──────┴──────┴───────────────────┴───────────┘"
      ]
     },
     "execution_count": 22,
     "metadata": {},
     "output_type": "execute_result"
    }
   ],
   "source": [
    "breaks = range(10, 100, 10)\n",
    "labels = ['A', 'B', 'C', 'D', 'E', 'F', 'G', 'H', 'I', 'J']\n",
    "\n",
    "df_cut = df.with_columns(\n",
    "    pl.col('age')\n",
    "    .cut(\n",
    "        breaks=breaks,\n",
    "        labels=labels\n",
    "    )\n",
    "    .alias('age_group')\n",
    ")\n",
    "df_cut"
   ]
  },
  {
   "cell_type": "code",
   "execution_count": 23,
   "id": "7b618a9b-21fe-4ea0-90b7-8c103468c26f",
   "metadata": {},
   "outputs": [
    {
     "data": {
      "text/html": [
       "<div><style>\n",
       ".dataframe > thead > tr,\n",
       ".dataframe > tbody > tr {\n",
       "  text-align: right;\n",
       "  white-space: pre-wrap;\n",
       "}\n",
       "</style>\n",
       "<small>shape: (8, 2)</small><table border=\"1\" class=\"dataframe\"><thead><tr><th>age_group</th><th>count</th></tr><tr><td>cat</td><td>u32</td></tr></thead><tbody><tr><td>&quot;C&quot;</td><td>361</td></tr><tr><td>&quot;D&quot;</td><td>210</td></tr><tr><td>&quot;B&quot;</td><td>162</td></tr><tr><td>&quot;E&quot;</td><td>132</td></tr><tr><td>&quot;A&quot;</td><td>86</td></tr><tr><td>&quot;F&quot;</td><td>62</td></tr><tr><td>&quot;G&quot;</td><td>27</td></tr><tr><td>&quot;H&quot;</td><td>6</td></tr></tbody></table></div>"
      ],
      "text/plain": [
       "shape: (8, 2)\n",
       "┌───────────┬───────┐\n",
       "│ age_group ┆ count │\n",
       "│ ---       ┆ ---   │\n",
       "│ cat       ┆ u32   │\n",
       "╞═══════════╪═══════╡\n",
       "│ C         ┆ 361   │\n",
       "│ D         ┆ 210   │\n",
       "│ B         ┆ 162   │\n",
       "│ E         ┆ 132   │\n",
       "│ A         ┆ 86    │\n",
       "│ F         ┆ 62    │\n",
       "│ G         ┆ 27    │\n",
       "│ H         ┆ 6     │\n",
       "└───────────┴───────┘"
      ]
     },
     "execution_count": 23,
     "metadata": {},
     "output_type": "execute_result"
    }
   ],
   "source": [
    "df_cut.select(\n",
    "    pl.col('age_group').drop_nulls()\n",
    ").to_series().value_counts(sort=True)"
   ]
  },
  {
   "cell_type": "code",
   "execution_count": 24,
   "id": "0ff362dc-9760-43f4-963f-2ba37229c824",
   "metadata": {},
   "outputs": [
    {
     "data": {
      "text/html": [
       "<div><style>\n",
       ".dataframe > thead > tr,\n",
       ".dataframe > tbody > tr {\n",
       "  text-align: right;\n",
       "  white-space: pre-wrap;\n",
       "}\n",
       "</style>\n",
       "<small>shape: (60, 4)</small><table border=\"1\" class=\"dataframe\"><thead><tr><th>Respondent ID</th><th>Industry</th><th>Occupation</th><th>Seminar Rating</th></tr><tr><td>i64</td><td>str</td><td>str</td><td>i64</td></tr></thead><tbody><tr><td>1</td><td>&quot;IT&quot;</td><td>&quot;Others&quot;</td><td>2</td></tr><tr><td>2</td><td>&quot;IT&quot;</td><td>&quot;Machine Learning Engineer&quot;</td><td>2</td></tr><tr><td>3</td><td>&quot;Education&quot;</td><td>&quot;Others&quot;</td><td>5</td></tr><tr><td>4</td><td>&quot;Finance&quot;</td><td>&quot;Data Scientist&quot;</td><td>5</td></tr><tr><td>5</td><td>&quot;Finance&quot;</td><td>&quot;Frontend Engineer&quot;</td><td>3</td></tr><tr><td>&hellip;</td><td>&hellip;</td><td>&hellip;</td><td>&hellip;</td></tr><tr><td>56</td><td>&quot;IT&quot;</td><td>&quot;Frontend Engineer&quot;</td><td>5</td></tr><tr><td>57</td><td>&quot;IT&quot;</td><td>&quot;Project Manager&quot;</td><td>3</td></tr><tr><td>58</td><td>&quot;Finance&quot;</td><td>&quot;Frontend Engineer&quot;</td><td>4</td></tr><tr><td>59</td><td>&quot;Education&quot;</td><td>&quot;Machine Learning Engineer&quot;</td><td>1</td></tr><tr><td>60</td><td>&quot;IT&quot;</td><td>&quot;Researcher&quot;</td><td>1</td></tr></tbody></table></div>"
      ],
      "text/plain": [
       "shape: (60, 4)\n",
       "┌───────────────┬───────────┬───────────────────────────┬────────────────┐\n",
       "│ Respondent ID ┆ Industry  ┆ Occupation                ┆ Seminar Rating │\n",
       "│ ---           ┆ ---       ┆ ---                       ┆ ---            │\n",
       "│ i64           ┆ str       ┆ str                       ┆ i64            │\n",
       "╞═══════════════╪═══════════╪═══════════════════════════╪════════════════╡\n",
       "│ 1             ┆ IT        ┆ Others                    ┆ 2              │\n",
       "│ 2             ┆ IT        ┆ Machine Learning Engineer ┆ 2              │\n",
       "│ 3             ┆ Education ┆ Others                    ┆ 5              │\n",
       "│ 4             ┆ Finance   ┆ Data Scientist            ┆ 5              │\n",
       "│ 5             ┆ Finance   ┆ Frontend Engineer         ┆ 3              │\n",
       "│ …             ┆ …         ┆ …                         ┆ …              │\n",
       "│ 56            ┆ IT        ┆ Frontend Engineer         ┆ 5              │\n",
       "│ 57            ┆ IT        ┆ Project Manager           ┆ 3              │\n",
       "│ 58            ┆ Finance   ┆ Frontend Engineer         ┆ 4              │\n",
       "│ 59            ┆ Education ┆ Machine Learning Engineer ┆ 1              │\n",
       "│ 60            ┆ IT        ┆ Researcher                ┆ 1              │\n",
       "└───────────────┴───────────┴───────────────────────────┴────────────────┘"
      ]
     },
     "execution_count": 24,
     "metadata": {},
     "output_type": "execute_result"
    }
   ],
   "source": [
    "df = pl.read_csv('seminar_survey.csv')\n",
    "df"
   ]
  },
  {
   "cell_type": "code",
   "execution_count": 25,
   "id": "c938bbe4-066c-4f35-b7d8-884f8a8c57d9",
   "metadata": {},
   "outputs": [
    {
     "data": {
      "text/html": [
       "<div><style>\n",
       ".dataframe > thead > tr,\n",
       ".dataframe > tbody > tr {\n",
       "  text-align: right;\n",
       "  white-space: pre-wrap;\n",
       "}\n",
       "</style>\n",
       "<small>shape: (27, 2)</small><table border=\"1\" class=\"dataframe\"><thead><tr><th>Industry</th><th>Occupation</th></tr><tr><td>str</td><td>str</td></tr></thead><tbody><tr><td>&quot;Education&quot;</td><td>&quot;Data Scientist&quot;</td></tr><tr><td>&quot;Education&quot;</td><td>&quot;Machine Learning Engineer&quot;</td></tr><tr><td>&quot;Education&quot;</td><td>&quot;Others&quot;</td></tr><tr><td>&quot;Education&quot;</td><td>&quot;Project Manager&quot;</td></tr><tr><td>&quot;Finance&quot;</td><td>&quot;Backend Engineer&quot;</td></tr><tr><td>&hellip;</td><td>&hellip;</td></tr><tr><td>&quot;Medical&quot;</td><td>&quot;Frontend Engineer&quot;</td></tr><tr><td>&quot;Medical&quot;</td><td>&quot;Machine Learning Engineer&quot;</td></tr><tr><td>&quot;Medical&quot;</td><td>&quot;Others&quot;</td></tr><tr><td>&quot;Medical&quot;</td><td>&quot;Project Manager&quot;</td></tr><tr><td>&quot;Medical&quot;</td><td>&quot;Researcher&quot;</td></tr></tbody></table></div>"
      ],
      "text/plain": [
       "shape: (27, 2)\n",
       "┌───────────┬───────────────────────────┐\n",
       "│ Industry  ┆ Occupation                │\n",
       "│ ---       ┆ ---                       │\n",
       "│ str       ┆ str                       │\n",
       "╞═══════════╪═══════════════════════════╡\n",
       "│ Education ┆ Data Scientist            │\n",
       "│ Education ┆ Machine Learning Engineer │\n",
       "│ Education ┆ Others                    │\n",
       "│ Education ┆ Project Manager           │\n",
       "│ Finance   ┆ Backend Engineer          │\n",
       "│ …         ┆ …                         │\n",
       "│ Medical   ┆ Frontend Engineer         │\n",
       "│ Medical   ┆ Machine Learning Engineer │\n",
       "│ Medical   ┆ Others                    │\n",
       "│ Medical   ┆ Project Manager           │\n",
       "│ Medical   ┆ Researcher                │\n",
       "└───────────┴───────────────────────────┘"
      ]
     },
     "execution_count": 25,
     "metadata": {},
     "output_type": "execute_result"
    }
   ],
   "source": [
    "df.select(\n",
    "    pl.col(['Industry', 'Occupation'])\n",
    ").unique().sort(['Industry', 'Occupation'])"
   ]
  },
  {
   "cell_type": "code",
   "execution_count": 26,
   "id": "67b70f4a-d432-4f7b-ab48-0905c9bd71f1",
   "metadata": {},
   "outputs": [
    {
     "data": {
      "text/html": [
       "<div><style>\n",
       ".dataframe > thead > tr,\n",
       ".dataframe > tbody > tr {\n",
       "  text-align: right;\n",
       "  white-space: pre-wrap;\n",
       "}\n",
       "</style>\n",
       "<small>shape: (27, 4)</small><table border=\"1\" class=\"dataframe\"><thead><tr><th>Respondent ID</th><th>Industry</th><th>Occupation</th><th>Seminar Rating</th></tr><tr><td>i64</td><td>str</td><td>str</td><td>i64</td></tr></thead><tbody><tr><td>42</td><td>&quot;Medical&quot;</td><td>&quot;Others&quot;</td><td>5</td></tr><tr><td>12</td><td>&quot;IT&quot;</td><td>&quot;Researcher&quot;</td><td>2</td></tr><tr><td>31</td><td>&quot;Education&quot;</td><td>&quot;Project Manager&quot;</td><td>1</td></tr><tr><td>27</td><td>&quot;Education&quot;</td><td>&quot;Machine Learning Engineer&quot;</td><td>5</td></tr><tr><td>2</td><td>&quot;IT&quot;</td><td>&quot;Machine Learning Engineer&quot;</td><td>2</td></tr><tr><td>&hellip;</td><td>&hellip;</td><td>&hellip;</td><td>&hellip;</td></tr><tr><td>11</td><td>&quot;Manufacturing&quot;</td><td>&quot;Machine Learning Engineer&quot;</td><td>2</td></tr><tr><td>4</td><td>&quot;Finance&quot;</td><td>&quot;Data Scientist&quot;</td><td>5</td></tr><tr><td>40</td><td>&quot;Education&quot;</td><td>&quot;Data Scientist&quot;</td><td>1</td></tr><tr><td>30</td><td>&quot;Manufacturing&quot;</td><td>&quot;Researcher&quot;</td><td>1</td></tr><tr><td>48</td><td>&quot;Manufacturing&quot;</td><td>&quot;Data Scientist&quot;</td><td>5</td></tr></tbody></table></div>"
      ],
      "text/plain": [
       "shape: (27, 4)\n",
       "┌───────────────┬───────────────┬───────────────────────────┬────────────────┐\n",
       "│ Respondent ID ┆ Industry      ┆ Occupation                ┆ Seminar Rating │\n",
       "│ ---           ┆ ---           ┆ ---                       ┆ ---            │\n",
       "│ i64           ┆ str           ┆ str                       ┆ i64            │\n",
       "╞═══════════════╪═══════════════╪═══════════════════════════╪════════════════╡\n",
       "│ 42            ┆ Medical       ┆ Others                    ┆ 5              │\n",
       "│ 12            ┆ IT            ┆ Researcher                ┆ 2              │\n",
       "│ 31            ┆ Education     ┆ Project Manager           ┆ 1              │\n",
       "│ 27            ┆ Education     ┆ Machine Learning Engineer ┆ 5              │\n",
       "│ 2             ┆ IT            ┆ Machine Learning Engineer ┆ 2              │\n",
       "│ …             ┆ …             ┆ …                         ┆ …              │\n",
       "│ 11            ┆ Manufacturing ┆ Machine Learning Engineer ┆ 2              │\n",
       "│ 4             ┆ Finance       ┆ Data Scientist            ┆ 5              │\n",
       "│ 40            ┆ Education     ┆ Data Scientist            ┆ 1              │\n",
       "│ 30            ┆ Manufacturing ┆ Researcher                ┆ 1              │\n",
       "│ 48            ┆ Manufacturing ┆ Data Scientist            ┆ 5              │\n",
       "└───────────────┴───────────────┴───────────────────────────┴────────────────┘"
      ]
     },
     "execution_count": 26,
     "metadata": {},
     "output_type": "execute_result"
    }
   ],
   "source": [
    "df.unique(subset=['Industry', 'Occupation'])  # 削除される行は保証されない"
   ]
  },
  {
   "cell_type": "code",
   "execution_count": 27,
   "id": "ea57f7ab-1a9f-4b3b-bf19-6b84b0ba4a4a",
   "metadata": {},
   "outputs": [
    {
     "data": {
      "text/html": [
       "<div><style>\n",
       ".dataframe > thead > tr,\n",
       ".dataframe > tbody > tr {\n",
       "  text-align: right;\n",
       "  white-space: pre-wrap;\n",
       "}\n",
       "</style>\n",
       "<small>shape: (27, 4)</small><table border=\"1\" class=\"dataframe\"><thead><tr><th>Respondent ID</th><th>Industry</th><th>Occupation</th><th>Seminar Rating</th></tr><tr><td>i64</td><td>str</td><td>str</td><td>i64</td></tr></thead><tbody><tr><td>1</td><td>&quot;IT&quot;</td><td>&quot;Others&quot;</td><td>2</td></tr><tr><td>2</td><td>&quot;IT&quot;</td><td>&quot;Machine Learning Engineer&quot;</td><td>2</td></tr><tr><td>3</td><td>&quot;Education&quot;</td><td>&quot;Others&quot;</td><td>5</td></tr><tr><td>4</td><td>&quot;Finance&quot;</td><td>&quot;Data Scientist&quot;</td><td>5</td></tr><tr><td>5</td><td>&quot;Finance&quot;</td><td>&quot;Frontend Engineer&quot;</td><td>3</td></tr><tr><td>&hellip;</td><td>&hellip;</td><td>&hellip;</td><td>&hellip;</td></tr><tr><td>40</td><td>&quot;Education&quot;</td><td>&quot;Data Scientist&quot;</td><td>1</td></tr><tr><td>42</td><td>&quot;Medical&quot;</td><td>&quot;Others&quot;</td><td>5</td></tr><tr><td>46</td><td>&quot;Medical&quot;</td><td>&quot;Frontend Engineer&quot;</td><td>3</td></tr><tr><td>48</td><td>&quot;Manufacturing&quot;</td><td>&quot;Data Scientist&quot;</td><td>5</td></tr><tr><td>50</td><td>&quot;Medical&quot;</td><td>&quot;Backend Engineer&quot;</td><td>2</td></tr></tbody></table></div>"
      ],
      "text/plain": [
       "shape: (27, 4)\n",
       "┌───────────────┬───────────────┬───────────────────────────┬────────────────┐\n",
       "│ Respondent ID ┆ Industry      ┆ Occupation                ┆ Seminar Rating │\n",
       "│ ---           ┆ ---           ┆ ---                       ┆ ---            │\n",
       "│ i64           ┆ str           ┆ str                       ┆ i64            │\n",
       "╞═══════════════╪═══════════════╪═══════════════════════════╪════════════════╡\n",
       "│ 1             ┆ IT            ┆ Others                    ┆ 2              │\n",
       "│ 2             ┆ IT            ┆ Machine Learning Engineer ┆ 2              │\n",
       "│ 3             ┆ Education     ┆ Others                    ┆ 5              │\n",
       "│ 4             ┆ Finance       ┆ Data Scientist            ┆ 5              │\n",
       "│ 5             ┆ Finance       ┆ Frontend Engineer         ┆ 3              │\n",
       "│ …             ┆ …             ┆ …                         ┆ …              │\n",
       "│ 40            ┆ Education     ┆ Data Scientist            ┆ 1              │\n",
       "│ 42            ┆ Medical       ┆ Others                    ┆ 5              │\n",
       "│ 46            ┆ Medical       ┆ Frontend Engineer         ┆ 3              │\n",
       "│ 48            ┆ Manufacturing ┆ Data Scientist            ┆ 5              │\n",
       "│ 50            ┆ Medical       ┆ Backend Engineer          ┆ 2              │\n",
       "└───────────────┴───────────────┴───────────────────────────┴────────────────┘"
      ]
     },
     "execution_count": 27,
     "metadata": {},
     "output_type": "execute_result"
    }
   ],
   "source": [
    "df.unique(subset=['Industry', 'Occupation'], maintain_order=True)"
   ]
  },
  {
   "cell_type": "code",
   "execution_count": 28,
   "id": "0d5924ae-0b85-4734-afbd-679a67ea3254",
   "metadata": {},
   "outputs": [],
   "source": [
    "df = pl.read_csv('titanic.csv')\n",
    "df_ex = pl.read_csv('titanic_ex.csv').rename({'relatives': 'parch', 'lifeboat': 'boat'})\n",
    "df_ex_col = pl.read_csv('titanic_ex_col.csv')"
   ]
  },
  {
   "cell_type": "code",
   "execution_count": 29,
   "id": "30a0c81f-8067-41a3-82b1-c3a920aa17b8",
   "metadata": {},
   "outputs": [
    {
     "data": {
      "text/html": [
       "<div><style>\n",
       ".dataframe > thead > tr,\n",
       ".dataframe > tbody > tr {\n",
       "  text-align: right;\n",
       "  white-space: pre-wrap;\n",
       "}\n",
       "</style>\n",
       "<small>shape: (2_618, 14)</small><table border=\"1\" class=\"dataframe\"><thead><tr><th>pclass</th><th>survived</th><th>name</th><th>sex</th><th>age</th><th>sibsp</th><th>parch</th><th>ticket</th><th>fare</th><th>cabin</th><th>embarked</th><th>boat</th><th>body</th><th>home.dest</th></tr><tr><td>i64</td><td>i64</td><td>str</td><td>str</td><td>f64</td><td>i64</td><td>i64</td><td>str</td><td>f64</td><td>str</td><td>str</td><td>str</td><td>i64</td><td>str</td></tr></thead><tbody><tr><td>1</td><td>1</td><td>&quot;Allen, Miss. Elisabeth Walton&quot;</td><td>&quot;female&quot;</td><td>29.0</td><td>0</td><td>0</td><td>&quot;24160&quot;</td><td>211.3375</td><td>&quot;B5&quot;</td><td>&quot;S&quot;</td><td>&quot;2&quot;</td><td>null</td><td>&quot;St Louis, MO&quot;</td></tr><tr><td>1</td><td>1</td><td>&quot;Allison, Master. Hudson Trevor&quot;</td><td>&quot;male&quot;</td><td>0.92</td><td>1</td><td>2</td><td>&quot;113781&quot;</td><td>151.55</td><td>&quot;C22 C26&quot;</td><td>&quot;S&quot;</td><td>&quot;11&quot;</td><td>null</td><td>&quot;Montreal, PQ / Chesterville, O…</td></tr><tr><td>1</td><td>0</td><td>&quot;Allison, Miss. Helen Loraine&quot;</td><td>&quot;female&quot;</td><td>2.0</td><td>1</td><td>2</td><td>&quot;113781&quot;</td><td>151.55</td><td>&quot;C22 C26&quot;</td><td>&quot;S&quot;</td><td>null</td><td>null</td><td>&quot;Montreal, PQ / Chesterville, O…</td></tr><tr><td>1</td><td>0</td><td>&quot;Allison, Mr. Hudson Joshua Cre…</td><td>&quot;male&quot;</td><td>30.0</td><td>1</td><td>2</td><td>&quot;113781&quot;</td><td>151.55</td><td>&quot;C22 C26&quot;</td><td>&quot;S&quot;</td><td>null</td><td>135</td><td>&quot;Montreal, PQ / Chesterville, O…</td></tr><tr><td>1</td><td>0</td><td>&quot;Allison, Mrs. Hudson J C (Bess…</td><td>&quot;female&quot;</td><td>25.0</td><td>1</td><td>2</td><td>&quot;113781&quot;</td><td>151.55</td><td>&quot;C22 C26&quot;</td><td>&quot;S&quot;</td><td>null</td><td>null</td><td>&quot;Montreal, PQ / Chesterville, O…</td></tr><tr><td>&hellip;</td><td>&hellip;</td><td>&hellip;</td><td>&hellip;</td><td>&hellip;</td><td>&hellip;</td><td>&hellip;</td><td>&hellip;</td><td>&hellip;</td><td>&hellip;</td><td>&hellip;</td><td>&hellip;</td><td>&hellip;</td><td>&hellip;</td></tr><tr><td>3</td><td>0</td><td>&quot;Zabour, Miss. Hileni&quot;</td><td>&quot;female&quot;</td><td>14.5</td><td>1</td><td>0</td><td>&quot;2665&quot;</td><td>14.4542</td><td>null</td><td>&quot;C&quot;</td><td>null</td><td>328</td><td>null</td></tr><tr><td>3</td><td>0</td><td>&quot;Zabour, Miss. Thamine&quot;</td><td>&quot;female&quot;</td><td>null</td><td>1</td><td>0</td><td>&quot;2665&quot;</td><td>14.4542</td><td>null</td><td>&quot;C&quot;</td><td>null</td><td>null</td><td>null</td></tr><tr><td>3</td><td>0</td><td>&quot;Zakarian, Mr. Mapriededer&quot;</td><td>&quot;male&quot;</td><td>26.5</td><td>0</td><td>0</td><td>&quot;2656&quot;</td><td>7.225</td><td>null</td><td>&quot;C&quot;</td><td>null</td><td>304</td><td>null</td></tr><tr><td>3</td><td>0</td><td>&quot;Zakarian, Mr. Ortin&quot;</td><td>&quot;male&quot;</td><td>27.0</td><td>0</td><td>0</td><td>&quot;2670&quot;</td><td>7.225</td><td>null</td><td>&quot;C&quot;</td><td>null</td><td>null</td><td>null</td></tr><tr><td>3</td><td>0</td><td>&quot;Zimmerman, Mr. Leo&quot;</td><td>&quot;male&quot;</td><td>29.0</td><td>0</td><td>0</td><td>&quot;315082&quot;</td><td>7.875</td><td>null</td><td>&quot;S&quot;</td><td>null</td><td>null</td><td>null</td></tr></tbody></table></div>"
      ],
      "text/plain": [
       "shape: (2_618, 14)\n",
       "┌────────┬──────────┬────────────────────┬────────┬───┬──────────┬──────┬──────┬───────────────────┐\n",
       "│ pclass ┆ survived ┆ name               ┆ sex    ┆ … ┆ embarked ┆ boat ┆ body ┆ home.dest         │\n",
       "│ ---    ┆ ---      ┆ ---                ┆ ---    ┆   ┆ ---      ┆ ---  ┆ ---  ┆ ---               │\n",
       "│ i64    ┆ i64      ┆ str                ┆ str    ┆   ┆ str      ┆ str  ┆ i64  ┆ str               │\n",
       "╞════════╪══════════╪════════════════════╪════════╪═══╪══════════╪══════╪══════╪═══════════════════╡\n",
       "│ 1      ┆ 1        ┆ Allen, Miss.       ┆ female ┆ … ┆ S        ┆ 2    ┆ null ┆ St Louis, MO      │\n",
       "│        ┆          ┆ Elisabeth Walton   ┆        ┆   ┆          ┆      ┆      ┆                   │\n",
       "│ 1      ┆ 1        ┆ Allison, Master.   ┆ male   ┆ … ┆ S        ┆ 11   ┆ null ┆ Montreal, PQ /    │\n",
       "│        ┆          ┆ Hudson Trevor      ┆        ┆   ┆          ┆      ┆      ┆ Chesterville, O…  │\n",
       "│ 1      ┆ 0        ┆ Allison, Miss.     ┆ female ┆ … ┆ S        ┆ null ┆ null ┆ Montreal, PQ /    │\n",
       "│        ┆          ┆ Helen Loraine      ┆        ┆   ┆          ┆      ┆      ┆ Chesterville, O…  │\n",
       "│ 1      ┆ 0        ┆ Allison, Mr.       ┆ male   ┆ … ┆ S        ┆ null ┆ 135  ┆ Montreal, PQ /    │\n",
       "│        ┆          ┆ Hudson Joshua Cre… ┆        ┆   ┆          ┆      ┆      ┆ Chesterville, O…  │\n",
       "│ 1      ┆ 0        ┆ Allison, Mrs.      ┆ female ┆ … ┆ S        ┆ null ┆ null ┆ Montreal, PQ /    │\n",
       "│        ┆          ┆ Hudson J C (Bess…  ┆        ┆   ┆          ┆      ┆      ┆ Chesterville, O…  │\n",
       "│ …      ┆ …        ┆ …                  ┆ …      ┆ … ┆ …        ┆ …    ┆ …    ┆ …                 │\n",
       "│ 3      ┆ 0        ┆ Zabour, Miss.      ┆ female ┆ … ┆ C        ┆ null ┆ 328  ┆ null              │\n",
       "│        ┆          ┆ Hileni             ┆        ┆   ┆          ┆      ┆      ┆                   │\n",
       "│ 3      ┆ 0        ┆ Zabour, Miss.      ┆ female ┆ … ┆ C        ┆ null ┆ null ┆ null              │\n",
       "│        ┆          ┆ Thamine            ┆        ┆   ┆          ┆      ┆      ┆                   │\n",
       "│ 3      ┆ 0        ┆ Zakarian, Mr.      ┆ male   ┆ … ┆ C        ┆ null ┆ 304  ┆ null              │\n",
       "│        ┆          ┆ Mapriededer        ┆        ┆   ┆          ┆      ┆      ┆                   │\n",
       "│ 3      ┆ 0        ┆ Zakarian, Mr.      ┆ male   ┆ … ┆ C        ┆ null ┆ null ┆ null              │\n",
       "│        ┆          ┆ Ortin              ┆        ┆   ┆          ┆      ┆      ┆                   │\n",
       "│ 3      ┆ 0        ┆ Zimmerman, Mr. Leo ┆ male   ┆ … ┆ S        ┆ null ┆ null ┆ null              │\n",
       "└────────┴──────────┴────────────────────┴────────┴───┴──────────┴──────┴──────┴───────────────────┘"
      ]
     },
     "execution_count": 29,
     "metadata": {},
     "output_type": "execute_result"
    }
   ],
   "source": [
    "pl.concat([df, df_ex])"
   ]
  },
  {
   "cell_type": "code",
   "execution_count": 30,
   "id": "e132e0fb-e60e-47d9-a486-16462a1b8ce4",
   "metadata": {},
   "outputs": [
    {
     "data": {
      "text/html": [
       "<div><style>\n",
       ".dataframe > thead > tr,\n",
       ".dataframe > tbody > tr {\n",
       "  text-align: right;\n",
       "  white-space: pre-wrap;\n",
       "}\n",
       "</style>\n",
       "<small>shape: (1_309, 16)</small><table border=\"1\" class=\"dataframe\"><thead><tr><th>pclass</th><th>survived</th><th>name</th><th>sex</th><th>age</th><th>sibsp</th><th>parch</th><th>ticket</th><th>fare</th><th>cabin</th><th>embarked</th><th>boat</th><th>body</th><th>home.dest</th><th>height</th><th>weight</th></tr><tr><td>i64</td><td>i64</td><td>str</td><td>str</td><td>f64</td><td>i64</td><td>i64</td><td>str</td><td>f64</td><td>str</td><td>str</td><td>str</td><td>i64</td><td>str</td><td>i64</td><td>i64</td></tr></thead><tbody><tr><td>1</td><td>1</td><td>&quot;Allen, Miss. Elisabeth Walton&quot;</td><td>&quot;female&quot;</td><td>29.0</td><td>0</td><td>0</td><td>&quot;24160&quot;</td><td>211.3375</td><td>&quot;B5&quot;</td><td>&quot;S&quot;</td><td>&quot;2&quot;</td><td>null</td><td>&quot;St Louis, MO&quot;</td><td>174</td><td>62</td></tr><tr><td>1</td><td>1</td><td>&quot;Allison, Master. Hudson Trevor&quot;</td><td>&quot;male&quot;</td><td>0.92</td><td>1</td><td>2</td><td>&quot;113781&quot;</td><td>151.55</td><td>&quot;C22 C26&quot;</td><td>&quot;S&quot;</td><td>&quot;11&quot;</td><td>null</td><td>&quot;Montreal, PQ / Chesterville, O…</td><td>168</td><td>59</td></tr><tr><td>1</td><td>0</td><td>&quot;Allison, Miss. Helen Loraine&quot;</td><td>&quot;female&quot;</td><td>2.0</td><td>1</td><td>2</td><td>&quot;113781&quot;</td><td>151.55</td><td>&quot;C22 C26&quot;</td><td>&quot;S&quot;</td><td>null</td><td>null</td><td>&quot;Montreal, PQ / Chesterville, O…</td><td>176</td><td>64</td></tr><tr><td>1</td><td>0</td><td>&quot;Allison, Mr. Hudson Joshua Cre…</td><td>&quot;male&quot;</td><td>30.0</td><td>1</td><td>2</td><td>&quot;113781&quot;</td><td>151.55</td><td>&quot;C22 C26&quot;</td><td>&quot;S&quot;</td><td>null</td><td>135</td><td>&quot;Montreal, PQ / Chesterville, O…</td><td>185</td><td>66</td></tr><tr><td>1</td><td>0</td><td>&quot;Allison, Mrs. Hudson J C (Bess…</td><td>&quot;female&quot;</td><td>25.0</td><td>1</td><td>2</td><td>&quot;113781&quot;</td><td>151.55</td><td>&quot;C22 C26&quot;</td><td>&quot;S&quot;</td><td>null</td><td>null</td><td>&quot;Montreal, PQ / Chesterville, O…</td><td>167</td><td>62</td></tr><tr><td>&hellip;</td><td>&hellip;</td><td>&hellip;</td><td>&hellip;</td><td>&hellip;</td><td>&hellip;</td><td>&hellip;</td><td>&hellip;</td><td>&hellip;</td><td>&hellip;</td><td>&hellip;</td><td>&hellip;</td><td>&hellip;</td><td>&hellip;</td><td>&hellip;</td><td>&hellip;</td></tr><tr><td>3</td><td>0</td><td>&quot;Zabour, Miss. Hileni&quot;</td><td>&quot;female&quot;</td><td>14.5</td><td>1</td><td>0</td><td>&quot;2665&quot;</td><td>14.4542</td><td>null</td><td>&quot;C&quot;</td><td>null</td><td>328</td><td>null</td><td>175</td><td>59</td></tr><tr><td>3</td><td>0</td><td>&quot;Zabour, Miss. Thamine&quot;</td><td>&quot;female&quot;</td><td>null</td><td>1</td><td>0</td><td>&quot;2665&quot;</td><td>14.4542</td><td>null</td><td>&quot;C&quot;</td><td>null</td><td>null</td><td>null</td><td>161</td><td>62</td></tr><tr><td>3</td><td>0</td><td>&quot;Zakarian, Mr. Mapriededer&quot;</td><td>&quot;male&quot;</td><td>26.5</td><td>0</td><td>0</td><td>&quot;2656&quot;</td><td>7.225</td><td>null</td><td>&quot;C&quot;</td><td>null</td><td>304</td><td>null</td><td>170</td><td>63</td></tr><tr><td>3</td><td>0</td><td>&quot;Zakarian, Mr. Ortin&quot;</td><td>&quot;male&quot;</td><td>27.0</td><td>0</td><td>0</td><td>&quot;2670&quot;</td><td>7.225</td><td>null</td><td>&quot;C&quot;</td><td>null</td><td>null</td><td>null</td><td>169</td><td>56</td></tr><tr><td>3</td><td>0</td><td>&quot;Zimmerman, Mr. Leo&quot;</td><td>&quot;male&quot;</td><td>29.0</td><td>0</td><td>0</td><td>&quot;315082&quot;</td><td>7.875</td><td>null</td><td>&quot;S&quot;</td><td>null</td><td>null</td><td>null</td><td>180</td><td>60</td></tr></tbody></table></div>"
      ],
      "text/plain": [
       "shape: (1_309, 16)\n",
       "┌────────┬──────────┬────────────────────┬────────┬───┬──────┬───────────────────┬────────┬────────┐\n",
       "│ pclass ┆ survived ┆ name               ┆ sex    ┆ … ┆ body ┆ home.dest         ┆ height ┆ weight │\n",
       "│ ---    ┆ ---      ┆ ---                ┆ ---    ┆   ┆ ---  ┆ ---               ┆ ---    ┆ ---    │\n",
       "│ i64    ┆ i64      ┆ str                ┆ str    ┆   ┆ i64  ┆ str               ┆ i64    ┆ i64    │\n",
       "╞════════╪══════════╪════════════════════╪════════╪═══╪══════╪═══════════════════╪════════╪════════╡\n",
       "│ 1      ┆ 1        ┆ Allen, Miss.       ┆ female ┆ … ┆ null ┆ St Louis, MO      ┆ 174    ┆ 62     │\n",
       "│        ┆          ┆ Elisabeth Walton   ┆        ┆   ┆      ┆                   ┆        ┆        │\n",
       "│ 1      ┆ 1        ┆ Allison, Master.   ┆ male   ┆ … ┆ null ┆ Montreal, PQ /    ┆ 168    ┆ 59     │\n",
       "│        ┆          ┆ Hudson Trevor      ┆        ┆   ┆      ┆ Chesterville, O…  ┆        ┆        │\n",
       "│ 1      ┆ 0        ┆ Allison, Miss.     ┆ female ┆ … ┆ null ┆ Montreal, PQ /    ┆ 176    ┆ 64     │\n",
       "│        ┆          ┆ Helen Loraine      ┆        ┆   ┆      ┆ Chesterville, O…  ┆        ┆        │\n",
       "│ 1      ┆ 0        ┆ Allison, Mr.       ┆ male   ┆ … ┆ 135  ┆ Montreal, PQ /    ┆ 185    ┆ 66     │\n",
       "│        ┆          ┆ Hudson Joshua Cre… ┆        ┆   ┆      ┆ Chesterville, O…  ┆        ┆        │\n",
       "│ 1      ┆ 0        ┆ Allison, Mrs.      ┆ female ┆ … ┆ null ┆ Montreal, PQ /    ┆ 167    ┆ 62     │\n",
       "│        ┆          ┆ Hudson J C (Bess…  ┆        ┆   ┆      ┆ Chesterville, O…  ┆        ┆        │\n",
       "│ …      ┆ …        ┆ …                  ┆ …      ┆ … ┆ …    ┆ …                 ┆ …      ┆ …      │\n",
       "│ 3      ┆ 0        ┆ Zabour, Miss.      ┆ female ┆ … ┆ 328  ┆ null              ┆ 175    ┆ 59     │\n",
       "│        ┆          ┆ Hileni             ┆        ┆   ┆      ┆                   ┆        ┆        │\n",
       "│ 3      ┆ 0        ┆ Zabour, Miss.      ┆ female ┆ … ┆ null ┆ null              ┆ 161    ┆ 62     │\n",
       "│        ┆          ┆ Thamine            ┆        ┆   ┆      ┆                   ┆        ┆        │\n",
       "│ 3      ┆ 0        ┆ Zakarian, Mr.      ┆ male   ┆ … ┆ 304  ┆ null              ┆ 170    ┆ 63     │\n",
       "│        ┆          ┆ Mapriededer        ┆        ┆   ┆      ┆                   ┆        ┆        │\n",
       "│ 3      ┆ 0        ┆ Zakarian, Mr.      ┆ male   ┆ … ┆ null ┆ null              ┆ 169    ┆ 56     │\n",
       "│        ┆          ┆ Ortin              ┆        ┆   ┆      ┆                   ┆        ┆        │\n",
       "│ 3      ┆ 0        ┆ Zimmerman, Mr. Leo ┆ male   ┆ … ┆ null ┆ null              ┆ 180    ┆ 60     │\n",
       "└────────┴──────────┴────────────────────┴────────┴───┴──────┴───────────────────┴────────┴────────┘"
      ]
     },
     "execution_count": 30,
     "metadata": {},
     "output_type": "execute_result"
    }
   ],
   "source": [
    "pl.concat([df, df_ex_col], how='horizontal')"
   ]
  },
  {
   "cell_type": "code",
   "execution_count": 31,
   "id": "4f213dc0-ea89-4822-9869-4871523db576",
   "metadata": {},
   "outputs": [
    {
     "name": "stdout",
     "output_type": "stream",
     "text": [
      "2\n",
      "1\n"
     ]
    }
   ],
   "source": [
    "df1 = pl.DataFrame({'A': [1, 2, 3]})\n",
    "df2 = pl.DataFrame({'A': [4, 5, 6]})\n",
    "\n",
    "without_rechunk = pl.concat([df1, df2], rechunk=False)\n",
    "with_rechunk = pl.concat([df1, df2], rechunk=True)\n",
    "\n",
    "print(len(without_rechunk['A'].get_chunks()))\n",
    "print(len(with_rechunk['A'].get_chunks()))"
   ]
  },
  {
   "cell_type": "code",
   "execution_count": 32,
   "id": "d2c7862f-ef21-431a-8409-cc2bc6031ea9",
   "metadata": {
    "scrolled": true
   },
   "outputs": [
    {
     "name": "stdout",
     "output_type": "stream",
     "text": [
      "CPU times: user 1.24 s, sys: 280 ms, total: 1.52 s\n",
      "Wall time: 365 ms\n"
     ]
    },
    {
     "data": {
      "text/html": [
       "<div><style>\n",
       ".dataframe > thead > tr,\n",
       ".dataframe > tbody > tr {\n",
       "  text-align: right;\n",
       "  white-space: pre-wrap;\n",
       "}\n",
       "</style>\n",
       "<small>shape: (13_090_000, 2)</small><table border=\"1\" class=\"dataframe\"><thead><tr><th>pclass_age</th><th>embarked_age</th></tr><tr><td>f64</td><td>f64</td></tr></thead><tbody><tr><td>39.15993</td><td>29.245205</td></tr><tr><td>39.15993</td><td>29.245205</td></tr><tr><td>39.15993</td><td>29.245205</td></tr><tr><td>39.15993</td><td>29.245205</td></tr><tr><td>39.15993</td><td>29.245205</td></tr><tr><td>&hellip;</td><td>&hellip;</td></tr><tr><td>24.816367</td><td>32.33217</td></tr><tr><td>24.816367</td><td>32.33217</td></tr><tr><td>24.816367</td><td>32.33217</td></tr><tr><td>24.816367</td><td>32.33217</td></tr><tr><td>24.816367</td><td>29.245205</td></tr></tbody></table></div>"
      ],
      "text/plain": [
       "shape: (13_090_000, 2)\n",
       "┌────────────┬──────────────┐\n",
       "│ pclass_age ┆ embarked_age │\n",
       "│ ---        ┆ ---          │\n",
       "│ f64        ┆ f64          │\n",
       "╞════════════╪══════════════╡\n",
       "│ 39.15993   ┆ 29.245205    │\n",
       "│ 39.15993   ┆ 29.245205    │\n",
       "│ 39.15993   ┆ 29.245205    │\n",
       "│ 39.15993   ┆ 29.245205    │\n",
       "│ 39.15993   ┆ 29.245205    │\n",
       "│ …          ┆ …            │\n",
       "│ 24.816367  ┆ 32.33217     │\n",
       "│ 24.816367  ┆ 32.33217     │\n",
       "│ 24.816367  ┆ 32.33217     │\n",
       "│ 24.816367  ┆ 32.33217     │\n",
       "│ 24.816367  ┆ 29.245205    │\n",
       "└────────────┴──────────────┘"
      ]
     },
     "execution_count": 32,
     "metadata": {},
     "output_type": "execute_result"
    }
   ],
   "source": [
    "%%time\n",
    "# リチャンク無し\n",
    "df_10000_chunk = pl.concat([df for _ in range(10000)], rechunk=False)\n",
    "\n",
    "df_10000_chunk.select(\n",
    "    pl.col(\"age\").mean().over(\"pclass\").alias(\"pclass_age\"),\n",
    "    pl.col(\"age\").mean().over(\"embarked\").alias(\"embarked_age\"),\n",
    ")"
   ]
  },
  {
   "cell_type": "code",
   "execution_count": 33,
   "id": "ba594cd9-736d-4feb-b0a1-90f19102c677",
   "metadata": {},
   "outputs": [
    {
     "name": "stdout",
     "output_type": "stream",
     "text": [
      "CPU times: user 1.42 s, sys: 536 ms, total: 1.96 s\n",
      "Wall time: 612 ms\n"
     ]
    },
    {
     "data": {
      "text/html": [
       "<div><style>\n",
       ".dataframe > thead > tr,\n",
       ".dataframe > tbody > tr {\n",
       "  text-align: right;\n",
       "  white-space: pre-wrap;\n",
       "}\n",
       "</style>\n",
       "<small>shape: (13_090_000, 2)</small><table border=\"1\" class=\"dataframe\"><thead><tr><th>pclass_age</th><th>embarked_age</th></tr><tr><td>f64</td><td>f64</td></tr></thead><tbody><tr><td>39.15993</td><td>29.245205</td></tr><tr><td>39.15993</td><td>29.245205</td></tr><tr><td>39.15993</td><td>29.245205</td></tr><tr><td>39.15993</td><td>29.245205</td></tr><tr><td>39.15993</td><td>29.245205</td></tr><tr><td>&hellip;</td><td>&hellip;</td></tr><tr><td>24.816367</td><td>32.33217</td></tr><tr><td>24.816367</td><td>32.33217</td></tr><tr><td>24.816367</td><td>32.33217</td></tr><tr><td>24.816367</td><td>32.33217</td></tr><tr><td>24.816367</td><td>29.245205</td></tr></tbody></table></div>"
      ],
      "text/plain": [
       "shape: (13_090_000, 2)\n",
       "┌────────────┬──────────────┐\n",
       "│ pclass_age ┆ embarked_age │\n",
       "│ ---        ┆ ---          │\n",
       "│ f64        ┆ f64          │\n",
       "╞════════════╪══════════════╡\n",
       "│ 39.15993   ┆ 29.245205    │\n",
       "│ 39.15993   ┆ 29.245205    │\n",
       "│ 39.15993   ┆ 29.245205    │\n",
       "│ 39.15993   ┆ 29.245205    │\n",
       "│ 39.15993   ┆ 29.245205    │\n",
       "│ …          ┆ …            │\n",
       "│ 24.816367  ┆ 32.33217     │\n",
       "│ 24.816367  ┆ 32.33217     │\n",
       "│ 24.816367  ┆ 32.33217     │\n",
       "│ 24.816367  ┆ 32.33217     │\n",
       "│ 24.816367  ┆ 29.245205    │\n",
       "└────────────┴──────────────┘"
      ]
     },
     "execution_count": 33,
     "metadata": {},
     "output_type": "execute_result"
    }
   ],
   "source": [
    "%%time\n",
    "# リチャンク有り\n",
    "df_1_chunk = pl.concat([df for _ in range(10000)], rechunk=True)\n",
    "\n",
    "df_1_chunk.select(\n",
    "    pl.col(\"age\").mean().over(\"pclass\").alias(\"pclass_age\"),\n",
    "    pl.col(\"age\").mean().over(\"embarked\").alias(\"embarked_age\"),\n",
    ")\n",
    "# 何故か遅くなる?"
   ]
  },
  {
   "cell_type": "code",
   "execution_count": 34,
   "id": "5f39faca-4c30-43c9-84c8-ff029babc3c8",
   "metadata": {},
   "outputs": [
    {
     "data": {
      "text/html": [
       "<div><style>\n",
       ".dataframe > thead > tr,\n",
       ".dataframe > tbody > tr {\n",
       "  text-align: right;\n",
       "  white-space: pre-wrap;\n",
       "}\n",
       "</style>\n",
       "<small>shape: (300, 4)</small><table border=\"1\" class=\"dataframe\"><thead><tr><th>record_id</th><th>book_id</th><th>borrower_name</th><th>borrow_date</th></tr><tr><td>i64</td><td>i64</td><td>str</td><td>str</td></tr></thead><tbody><tr><td>1</td><td>90</td><td>&quot;Frank Collins&quot;</td><td>&quot;2023-04-01&quot;</td></tr><tr><td>2</td><td>67</td><td>&quot;Joseph White&quot;</td><td>&quot;2023-04-01&quot;</td></tr><tr><td>3</td><td>19</td><td>&quot;Barbara Jackson&quot;</td><td>&quot;2023-04-01&quot;</td></tr><tr><td>4</td><td>20</td><td>&quot;Scott Allen&quot;</td><td>&quot;2023-04-01&quot;</td></tr><tr><td>5</td><td>96</td><td>&quot;Billy Richardson&quot;</td><td>&quot;2023-04-03&quot;</td></tr><tr><td>&hellip;</td><td>&hellip;</td><td>&hellip;</td><td>&hellip;</td></tr><tr><td>296</td><td>33</td><td>&quot;Mark Rodriguez&quot;</td><td>&quot;2023-09-27&quot;</td></tr><tr><td>297</td><td>40</td><td>&quot;Susan Harris&quot;</td><td>&quot;2023-09-27&quot;</td></tr><tr><td>298</td><td>74</td><td>&quot;Mary Johnson&quot;</td><td>&quot;2023-09-28&quot;</td></tr><tr><td>299</td><td>43</td><td>&quot;David Thomas&quot;</td><td>&quot;2023-09-30&quot;</td></tr><tr><td>300</td><td>44</td><td>&quot;Andrew Simmons&quot;</td><td>&quot;2023-09-30&quot;</td></tr></tbody></table></div>"
      ],
      "text/plain": [
       "shape: (300, 4)\n",
       "┌───────────┬─────────┬──────────────────┬─────────────┐\n",
       "│ record_id ┆ book_id ┆ borrower_name    ┆ borrow_date │\n",
       "│ ---       ┆ ---     ┆ ---              ┆ ---         │\n",
       "│ i64       ┆ i64     ┆ str              ┆ str         │\n",
       "╞═══════════╪═════════╪══════════════════╪═════════════╡\n",
       "│ 1         ┆ 90      ┆ Frank Collins    ┆ 2023-04-01  │\n",
       "│ 2         ┆ 67      ┆ Joseph White     ┆ 2023-04-01  │\n",
       "│ 3         ┆ 19      ┆ Barbara Jackson  ┆ 2023-04-01  │\n",
       "│ 4         ┆ 20      ┆ Scott Allen      ┆ 2023-04-01  │\n",
       "│ 5         ┆ 96      ┆ Billy Richardson ┆ 2023-04-03  │\n",
       "│ …         ┆ …       ┆ …                ┆ …           │\n",
       "│ 296       ┆ 33      ┆ Mark Rodriguez   ┆ 2023-09-27  │\n",
       "│ 297       ┆ 40      ┆ Susan Harris     ┆ 2023-09-27  │\n",
       "│ 298       ┆ 74      ┆ Mary Johnson     ┆ 2023-09-28  │\n",
       "│ 299       ┆ 43      ┆ David Thomas     ┆ 2023-09-30  │\n",
       "│ 300       ┆ 44      ┆ Andrew Simmons   ┆ 2023-09-30  │\n",
       "└───────────┴─────────┴──────────────────┴─────────────┘"
      ]
     },
     "execution_count": 34,
     "metadata": {},
     "output_type": "execute_result"
    }
   ],
   "source": [
    "loan_records_df = pl.read_csv('loan_records.csv')\n",
    "books_df = pl.read_csv('books.csv')\n",
    "loan_records_df"
   ]
  },
  {
   "cell_type": "code",
   "execution_count": 35,
   "id": "c25ae3eb-8cda-4304-a64f-7367f6f1f7a7",
   "metadata": {},
   "outputs": [
    {
     "data": {
      "text/html": [
       "<div><style>\n",
       ".dataframe > thead > tr,\n",
       ".dataframe > tbody > tr {\n",
       "  text-align: right;\n",
       "  white-space: pre-wrap;\n",
       "}\n",
       "</style>\n",
       "<small>shape: (100, 3)</small><table border=\"1\" class=\"dataframe\"><thead><tr><th>book_id</th><th>title</th><th>author</th></tr><tr><td>i64</td><td>str</td><td>str</td></tr></thead><tbody><tr><td>1</td><td>&quot;Chronicles of the Abyss&quot;</td><td>&quot;Liam Eastman&quot;</td></tr><tr><td>2</td><td>&quot;Dreams of Forgotten Realms&quot;</td><td>&quot;Isabella Rainworth&quot;</td></tr><tr><td>3</td><td>&quot;Sins of the Ancients&quot;</td><td>&quot;Emma Stonewall&quot;</td></tr><tr><td>4</td><td>&quot;The Enchanted Warriors&quot;</td><td>&quot;Liam Eastman&quot;</td></tr><tr><td>5</td><td>&quot;Guardians of Destiny&quot;</td><td>&quot;Emily Greenfield&quot;</td></tr><tr><td>&hellip;</td><td>&hellip;</td><td>&hellip;</td></tr><tr><td>96</td><td>&quot;Legends of the Void&quot;</td><td>&quot;Charlotte Starpeak&quot;</td></tr><tr><td>97</td><td>&quot;Tales from the East&quot;</td><td>&quot;Liam Eastman&quot;</td></tr><tr><td>98</td><td>&quot;Whispers of the Wind&quot;</td><td>&quot;Harper Windvale&quot;</td></tr><tr><td>99</td><td>&quot;Legacy of the Fallen Stars&quot;</td><td>&quot;Sophia Westwood&quot;</td></tr><tr><td>100</td><td>&quot;The Silent Oath&quot;</td><td>&quot;Jacob Whitecloud&quot;</td></tr></tbody></table></div>"
      ],
      "text/plain": [
       "shape: (100, 3)\n",
       "┌─────────┬────────────────────────────┬────────────────────┐\n",
       "│ book_id ┆ title                      ┆ author             │\n",
       "│ ---     ┆ ---                        ┆ ---                │\n",
       "│ i64     ┆ str                        ┆ str                │\n",
       "╞═════════╪════════════════════════════╪════════════════════╡\n",
       "│ 1       ┆ Chronicles of the Abyss    ┆ Liam Eastman       │\n",
       "│ 2       ┆ Dreams of Forgotten Realms ┆ Isabella Rainworth │\n",
       "│ 3       ┆ Sins of the Ancients       ┆ Emma Stonewall     │\n",
       "│ 4       ┆ The Enchanted Warriors     ┆ Liam Eastman       │\n",
       "│ 5       ┆ Guardians of Destiny       ┆ Emily Greenfield   │\n",
       "│ …       ┆ …                          ┆ …                  │\n",
       "│ 96      ┆ Legends of the Void        ┆ Charlotte Starpeak │\n",
       "│ 97      ┆ Tales from the East        ┆ Liam Eastman       │\n",
       "│ 98      ┆ Whispers of the Wind       ┆ Harper Windvale    │\n",
       "│ 99      ┆ Legacy of the Fallen Stars ┆ Sophia Westwood    │\n",
       "│ 100     ┆ The Silent Oath            ┆ Jacob Whitecloud   │\n",
       "└─────────┴────────────────────────────┴────────────────────┘"
      ]
     },
     "execution_count": 35,
     "metadata": {},
     "output_type": "execute_result"
    }
   ],
   "source": [
    "books_df"
   ]
  },
  {
   "cell_type": "code",
   "execution_count": 36,
   "id": "096ec752-1613-473f-8c27-df18fdd39776",
   "metadata": {},
   "outputs": [
    {
     "data": {
      "text/html": [
       "<div><style>\n",
       ".dataframe > thead > tr,\n",
       ".dataframe > tbody > tr {\n",
       "  text-align: right;\n",
       "  white-space: pre-wrap;\n",
       "}\n",
       "</style>\n",
       "<small>shape: (5, 2)</small><table border=\"1\" class=\"dataframe\"><thead><tr><th>author</th><th>count</th></tr><tr><td>str</td><td>u32</td></tr></thead><tbody><tr><td>&quot;Sophia Westwood&quot;</td><td>7</td></tr><tr><td>&quot;Emily Greenfield&quot;</td><td>5</td></tr><tr><td>&quot;Liam Eastman&quot;</td><td>5</td></tr><tr><td>&quot;Olivia Highmount&quot;</td><td>5</td></tr><tr><td>&quot;Noah Southland&quot;</td><td>5</td></tr></tbody></table></div>"
      ],
      "text/plain": [
       "shape: (5, 2)\n",
       "┌──────────────────┬───────┐\n",
       "│ author           ┆ count │\n",
       "│ ---              ┆ ---   │\n",
       "│ str              ┆ u32   │\n",
       "╞══════════════════╪═══════╡\n",
       "│ Sophia Westwood  ┆ 7     │\n",
       "│ Emily Greenfield ┆ 5     │\n",
       "│ Liam Eastman     ┆ 5     │\n",
       "│ Olivia Highmount ┆ 5     │\n",
       "│ Noah Southland   ┆ 5     │\n",
       "└──────────────────┴───────┘"
      ]
     },
     "execution_count": 36,
     "metadata": {},
     "output_type": "execute_result"
    }
   ],
   "source": [
    "from datetime import date\n",
    "\n",
    "(\n",
    "    loan_records_df.join(\n",
    "        books_df, on='book_id', how='inner')\n",
    "    .with_columns(\n",
    "        pl.col('borrow_date').str.to_datetime('%Y-%m-%d'))\n",
    "    .filter(\n",
    "        pl.col('borrow_date').is_between(date(2023, 6, 1), date(2023, 6, 30)))\n",
    "    .get_column('author')\n",
    "    .value_counts(sort=True)\n",
    "    .head(5)\n",
    ")"
   ]
  },
  {
   "cell_type": "code",
   "execution_count": null,
   "id": "30bbba91-7c08-4c8b-b3ff-f6be3c709cab",
   "metadata": {},
   "outputs": [],
   "source": []
  }
 ],
 "metadata": {
  "kernelspec": {
   "display_name": "Python 3 (ipykernel)",
   "language": "python",
   "name": "python3"
  },
  "language_info": {
   "codemirror_mode": {
    "name": "ipython",
    "version": 3
   },
   "file_extension": ".py",
   "mimetype": "text/x-python",
   "name": "python",
   "nbconvert_exporter": "python",
   "pygments_lexer": "ipython3",
   "version": "3.11.10"
  }
 },
 "nbformat": 4,
 "nbformat_minor": 5
}
