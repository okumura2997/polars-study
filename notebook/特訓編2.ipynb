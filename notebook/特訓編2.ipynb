{
 "cells": [
  {
   "cell_type": "code",
   "execution_count": 1,
   "id": "fd101675-7e5c-44a4-8cc0-617fe3d03cc3",
   "metadata": {},
   "outputs": [],
   "source": [
    "import polars as pl"
   ]
  },
  {
   "cell_type": "code",
   "execution_count": 3,
   "id": "b3015c44-f66b-4a7a-81ce-f07155910766",
   "metadata": {},
   "outputs": [
    {
     "name": "stdout",
     "output_type": "stream",
     "text": [
      "--2024-10-22 04:41:21--  https://drive.google.com/uc?export=download&id=10g3IxY8nvE71v3NuqzpDhr2in-EOBX1W\n",
      "Resolving drive.google.com (drive.google.com)... 142.250.207.14, 2404:6800:4004:823::200e\n",
      "Connecting to drive.google.com (drive.google.com)|142.250.207.14|:443... connected.\n",
      "HTTP request sent, awaiting response... 303 See Other\n",
      "Location: https://drive.usercontent.google.com/download?id=10g3IxY8nvE71v3NuqzpDhr2in-EOBX1W&export=download [following]\n",
      "--2024-10-22 04:41:22--  https://drive.usercontent.google.com/download?id=10g3IxY8nvE71v3NuqzpDhr2in-EOBX1W&export=download\n",
      "Resolving drive.usercontent.google.com (drive.usercontent.google.com)... 216.58.220.129, 2404:6800:4004:811::2001\n",
      "Connecting to drive.usercontent.google.com (drive.usercontent.google.com)|216.58.220.129|:443... connected.\n",
      "HTTP request sent, awaiting response... 200 OK\n",
      "Length: 116752 (114K) [application/octet-stream]\n",
      "Saving to: ‘titanic.csv’\n",
      "\n",
      "titanic.csv         100%[===================>] 114.02K  --.-KB/s    in 0.09s   \n",
      "\n",
      "2024-10-22 04:41:25 (1.19 MB/s) - ‘titanic.csv’ saved [116752/116752]\n",
      "\n"
     ]
    }
   ],
   "source": [
    "!wget \"https://drive.google.com/uc?export=download&id=10g3IxY8nvE71v3NuqzpDhr2in-EOBX1W\" -O titanic.csv"
   ]
  },
  {
   "cell_type": "code",
   "execution_count": 4,
   "id": "824002bf-0c27-47e9-9820-aeabceeed48f",
   "metadata": {},
   "outputs": [],
   "source": [
    "df = pl.read_csv('titanic.csv')\n",
    "df.write_csv('titanic.tsv', separator='\\t')"
   ]
  },
  {
   "cell_type": "code",
   "execution_count": 5,
   "id": "974df44b-dcd3-4788-ab1f-40413089929a",
   "metadata": {},
   "outputs": [
    {
     "data": {
      "text/html": [
       "<div><style>\n",
       ".dataframe > thead > tr,\n",
       ".dataframe > tbody > tr {\n",
       "  text-align: right;\n",
       "  white-space: pre-wrap;\n",
       "}\n",
       "</style>\n",
       "<small>shape: (1_309, 14)</small><table border=\"1\" class=\"dataframe\"><thead><tr><th>pclass</th><th>survived</th><th>name</th><th>sex</th><th>age</th><th>sibsp</th><th>parch</th><th>ticket</th><th>fare</th><th>cabin</th><th>embarked</th><th>boat</th><th>body</th><th>home.dest</th></tr><tr><td>i64</td><td>i64</td><td>str</td><td>str</td><td>f64</td><td>i64</td><td>i64</td><td>str</td><td>f64</td><td>str</td><td>str</td><td>str</td><td>i64</td><td>str</td></tr></thead><tbody><tr><td>1</td><td>0</td><td>&quot;Baumann, Mr. John D&quot;</td><td>&quot;male&quot;</td><td>null</td><td>0</td><td>0</td><td>&quot;PC 17318&quot;</td><td>25.925</td><td>null</td><td>&quot;S&quot;</td><td>null</td><td>null</td><td>&quot;New York, NY&quot;</td></tr><tr><td>1</td><td>1</td><td>&quot;Bradley, Mr. George (&quot;George A…</td><td>&quot;male&quot;</td><td>null</td><td>0</td><td>0</td><td>&quot;111427&quot;</td><td>26.55</td><td>null</td><td>&quot;S&quot;</td><td>&quot;9&quot;</td><td>null</td><td>&quot;Los Angeles, CA&quot;</td></tr><tr><td>1</td><td>0</td><td>&quot;Brewe, Dr. Arthur Jackson&quot;</td><td>&quot;male&quot;</td><td>null</td><td>0</td><td>0</td><td>&quot;112379&quot;</td><td>39.6</td><td>null</td><td>&quot;C&quot;</td><td>null</td><td>null</td><td>&quot;Philadelphia, PA&quot;</td></tr><tr><td>1</td><td>0</td><td>&quot;Cairns, Mr. Alexander&quot;</td><td>&quot;male&quot;</td><td>null</td><td>0</td><td>0</td><td>&quot;113798&quot;</td><td>31.0</td><td>null</td><td>&quot;S&quot;</td><td>null</td><td>null</td><td>null</td></tr><tr><td>1</td><td>1</td><td>&quot;Cassebeer, Mrs. Henry Arthur J…</td><td>&quot;female&quot;</td><td>null</td><td>0</td><td>0</td><td>&quot;17770&quot;</td><td>27.7208</td><td>null</td><td>&quot;C&quot;</td><td>&quot;5&quot;</td><td>null</td><td>&quot;New York, NY&quot;</td></tr><tr><td>&hellip;</td><td>&hellip;</td><td>&hellip;</td><td>&hellip;</td><td>&hellip;</td><td>&hellip;</td><td>&hellip;</td><td>&hellip;</td><td>&hellip;</td><td>&hellip;</td><td>&hellip;</td><td>&hellip;</td><td>&hellip;</td><td>&hellip;</td></tr><tr><td>1</td><td>0</td><td>&quot;Artagaveytia, Mr. Ramon&quot;</td><td>&quot;male&quot;</td><td>71.0</td><td>0</td><td>0</td><td>&quot;PC 17609&quot;</td><td>49.5042</td><td>null</td><td>&quot;C&quot;</td><td>null</td><td>22</td><td>&quot;Montevideo, Uruguay&quot;</td></tr><tr><td>1</td><td>0</td><td>&quot;Goldschmidt, Mr. George B&quot;</td><td>&quot;male&quot;</td><td>71.0</td><td>0</td><td>0</td><td>&quot;PC 17754&quot;</td><td>34.6542</td><td>&quot;A5&quot;</td><td>&quot;C&quot;</td><td>null</td><td>null</td><td>&quot;New York, NY&quot;</td></tr><tr><td>3</td><td>0</td><td>&quot;Svensson, Mr. Johan&quot;</td><td>&quot;male&quot;</td><td>74.0</td><td>0</td><td>0</td><td>&quot;347060&quot;</td><td>7.775</td><td>null</td><td>&quot;S&quot;</td><td>null</td><td>null</td><td>null</td></tr><tr><td>1</td><td>1</td><td>&quot;Cavendish, Mrs. Tyrell William…</td><td>&quot;female&quot;</td><td>76.0</td><td>1</td><td>0</td><td>&quot;19877&quot;</td><td>78.85</td><td>&quot;C46&quot;</td><td>&quot;S&quot;</td><td>&quot;6&quot;</td><td>null</td><td>&quot;Little Onn Hall, Staffs&quot;</td></tr><tr><td>1</td><td>1</td><td>&quot;Barkworth, Mr. Algernon Henry …</td><td>&quot;male&quot;</td><td>80.0</td><td>0</td><td>0</td><td>&quot;27042&quot;</td><td>30.0</td><td>&quot;A23&quot;</td><td>&quot;S&quot;</td><td>&quot;B&quot;</td><td>null</td><td>&quot;Hessle, Yorks&quot;</td></tr></tbody></table></div>"
      ],
      "text/plain": [
       "shape: (1_309, 14)\n",
       "┌────────┬──────────┬────────────────────┬────────┬───┬──────────┬──────┬──────┬───────────────────┐\n",
       "│ pclass ┆ survived ┆ name               ┆ sex    ┆ … ┆ embarked ┆ boat ┆ body ┆ home.dest         │\n",
       "│ ---    ┆ ---      ┆ ---                ┆ ---    ┆   ┆ ---      ┆ ---  ┆ ---  ┆ ---               │\n",
       "│ i64    ┆ i64      ┆ str                ┆ str    ┆   ┆ str      ┆ str  ┆ i64  ┆ str               │\n",
       "╞════════╪══════════╪════════════════════╪════════╪═══╪══════════╪══════╪══════╪═══════════════════╡\n",
       "│ 1      ┆ 0        ┆ Baumann, Mr. John  ┆ male   ┆ … ┆ S        ┆ null ┆ null ┆ New York, NY      │\n",
       "│        ┆          ┆ D                  ┆        ┆   ┆          ┆      ┆      ┆                   │\n",
       "│ 1      ┆ 1        ┆ Bradley, Mr.       ┆ male   ┆ … ┆ S        ┆ 9    ┆ null ┆ Los Angeles, CA   │\n",
       "│        ┆          ┆ George (\"George A… ┆        ┆   ┆          ┆      ┆      ┆                   │\n",
       "│ 1      ┆ 0        ┆ Brewe, Dr. Arthur  ┆ male   ┆ … ┆ C        ┆ null ┆ null ┆ Philadelphia, PA  │\n",
       "│        ┆          ┆ Jackson            ┆        ┆   ┆          ┆      ┆      ┆                   │\n",
       "│ 1      ┆ 0        ┆ Cairns, Mr.        ┆ male   ┆ … ┆ S        ┆ null ┆ null ┆ null              │\n",
       "│        ┆          ┆ Alexander          ┆        ┆   ┆          ┆      ┆      ┆                   │\n",
       "│ 1      ┆ 1        ┆ Cassebeer, Mrs.    ┆ female ┆ … ┆ C        ┆ 5    ┆ null ┆ New York, NY      │\n",
       "│        ┆          ┆ Henry Arthur J…    ┆        ┆   ┆          ┆      ┆      ┆                   │\n",
       "│ …      ┆ …        ┆ …                  ┆ …      ┆ … ┆ …        ┆ …    ┆ …    ┆ …                 │\n",
       "│ 1      ┆ 0        ┆ Artagaveytia, Mr.  ┆ male   ┆ … ┆ C        ┆ null ┆ 22   ┆ Montevideo,       │\n",
       "│        ┆          ┆ Ramon              ┆        ┆   ┆          ┆      ┆      ┆ Uruguay           │\n",
       "│ 1      ┆ 0        ┆ Goldschmidt, Mr.   ┆ male   ┆ … ┆ C        ┆ null ┆ null ┆ New York, NY      │\n",
       "│        ┆          ┆ George B           ┆        ┆   ┆          ┆      ┆      ┆                   │\n",
       "│ 3      ┆ 0        ┆ Svensson, Mr.      ┆ male   ┆ … ┆ S        ┆ null ┆ null ┆ null              │\n",
       "│        ┆          ┆ Johan              ┆        ┆   ┆          ┆      ┆      ┆                   │\n",
       "│ 1      ┆ 1        ┆ Cavendish, Mrs.    ┆ female ┆ … ┆ S        ┆ 6    ┆ null ┆ Little Onn Hall,  │\n",
       "│        ┆          ┆ Tyrell William…    ┆        ┆   ┆          ┆      ┆      ┆ Staffs            │\n",
       "│ 1      ┆ 1        ┆ Barkworth, Mr.     ┆ male   ┆ … ┆ S        ┆ B    ┆ null ┆ Hessle, Yorks     │\n",
       "│        ┆          ┆ Algernon Henry …   ┆        ┆   ┆          ┆      ┆      ┆                   │\n",
       "└────────┴──────────┴────────────────────┴────────┴───┴──────────┴──────┴──────┴───────────────────┘"
      ]
     },
     "execution_count": 5,
     "metadata": {},
     "output_type": "execute_result"
    }
   ],
   "source": [
    "df.sort('age')"
   ]
  },
  {
   "cell_type": "code",
   "execution_count": 6,
   "id": "54197383-2679-4b14-a8d5-062e68f4727a",
   "metadata": {},
   "outputs": [
    {
     "data": {
      "text/html": [
       "<div><style>\n",
       ".dataframe > thead > tr,\n",
       ".dataframe > tbody > tr {\n",
       "  text-align: right;\n",
       "  white-space: pre-wrap;\n",
       "}\n",
       "</style>\n",
       "<small>shape: (1_309, 14)</small><table border=\"1\" class=\"dataframe\"><thead><tr><th>pclass</th><th>survived</th><th>name</th><th>sex</th><th>age</th><th>sibsp</th><th>parch</th><th>ticket</th><th>fare</th><th>cabin</th><th>embarked</th><th>boat</th><th>body</th><th>home.dest</th></tr><tr><td>i64</td><td>i64</td><td>str</td><td>str</td><td>f64</td><td>i64</td><td>i64</td><td>str</td><td>f64</td><td>str</td><td>str</td><td>str</td><td>i64</td><td>str</td></tr></thead><tbody><tr><td>3</td><td>1</td><td>&quot;Dean, Miss. Elizabeth Gladys &quot;…</td><td>&quot;female&quot;</td><td>0.17</td><td>1</td><td>2</td><td>&quot;C.A. 2315&quot;</td><td>20.575</td><td>null</td><td>&quot;S&quot;</td><td>&quot;10&quot;</td><td>null</td><td>&quot;Devon, England Wichita, KS&quot;</td></tr><tr><td>3</td><td>0</td><td>&quot;Danbom, Master. Gilbert Sigvar…</td><td>&quot;male&quot;</td><td>0.33</td><td>0</td><td>2</td><td>&quot;347080&quot;</td><td>14.4</td><td>null</td><td>&quot;S&quot;</td><td>null</td><td>null</td><td>&quot;Stanton, IA&quot;</td></tr><tr><td>3</td><td>1</td><td>&quot;Thomas, Master. Assad Alexande…</td><td>&quot;male&quot;</td><td>0.42</td><td>0</td><td>1</td><td>&quot;2625&quot;</td><td>8.5167</td><td>null</td><td>&quot;C&quot;</td><td>&quot;16&quot;</td><td>null</td><td>null</td></tr><tr><td>2</td><td>1</td><td>&quot;Hamalainen, Master. Viljo&quot;</td><td>&quot;male&quot;</td><td>0.67</td><td>1</td><td>1</td><td>&quot;250649&quot;</td><td>14.5</td><td>null</td><td>&quot;S&quot;</td><td>&quot;4&quot;</td><td>null</td><td>&quot;Detroit, MI&quot;</td></tr><tr><td>3</td><td>1</td><td>&quot;Baclini, Miss. Eugenie&quot;</td><td>&quot;female&quot;</td><td>0.75</td><td>2</td><td>1</td><td>&quot;2666&quot;</td><td>19.2583</td><td>null</td><td>&quot;C&quot;</td><td>&quot;C&quot;</td><td>null</td><td>&quot;Syria New York, NY&quot;</td></tr><tr><td>&hellip;</td><td>&hellip;</td><td>&hellip;</td><td>&hellip;</td><td>&hellip;</td><td>&hellip;</td><td>&hellip;</td><td>&hellip;</td><td>&hellip;</td><td>&hellip;</td><td>&hellip;</td><td>&hellip;</td><td>&hellip;</td><td>&hellip;</td></tr><tr><td>3</td><td>0</td><td>&quot;Williams, Mr. Howard Hugh &quot;Har…</td><td>&quot;male&quot;</td><td>null</td><td>0</td><td>0</td><td>&quot;A/5 2466&quot;</td><td>8.05</td><td>null</td><td>&quot;S&quot;</td><td>null</td><td>null</td><td>null</td></tr><tr><td>3</td><td>0</td><td>&quot;Wiseman, Mr. Phillippe&quot;</td><td>&quot;male&quot;</td><td>null</td><td>0</td><td>0</td><td>&quot;A/4. 34244&quot;</td><td>7.25</td><td>null</td><td>&quot;S&quot;</td><td>null</td><td>null</td><td>null</td></tr><tr><td>3</td><td>0</td><td>&quot;Yousif, Mr. Wazli&quot;</td><td>&quot;male&quot;</td><td>null</td><td>0</td><td>0</td><td>&quot;2647&quot;</td><td>7.225</td><td>null</td><td>&quot;C&quot;</td><td>null</td><td>null</td><td>null</td></tr><tr><td>3</td><td>0</td><td>&quot;Yousseff, Mr. Gerious&quot;</td><td>&quot;male&quot;</td><td>null</td><td>0</td><td>0</td><td>&quot;2627&quot;</td><td>14.4583</td><td>null</td><td>&quot;C&quot;</td><td>null</td><td>null</td><td>null</td></tr><tr><td>3</td><td>0</td><td>&quot;Zabour, Miss. Thamine&quot;</td><td>&quot;female&quot;</td><td>null</td><td>1</td><td>0</td><td>&quot;2665&quot;</td><td>14.4542</td><td>null</td><td>&quot;C&quot;</td><td>null</td><td>null</td><td>null</td></tr></tbody></table></div>"
      ],
      "text/plain": [
       "shape: (1_309, 14)\n",
       "┌────────┬──────────┬────────────────────┬────────┬───┬──────────┬──────┬──────┬───────────────────┐\n",
       "│ pclass ┆ survived ┆ name               ┆ sex    ┆ … ┆ embarked ┆ boat ┆ body ┆ home.dest         │\n",
       "│ ---    ┆ ---      ┆ ---                ┆ ---    ┆   ┆ ---      ┆ ---  ┆ ---  ┆ ---               │\n",
       "│ i64    ┆ i64      ┆ str                ┆ str    ┆   ┆ str      ┆ str  ┆ i64  ┆ str               │\n",
       "╞════════╪══════════╪════════════════════╪════════╪═══╪══════════╪══════╪══════╪═══════════════════╡\n",
       "│ 3      ┆ 1        ┆ Dean, Miss.        ┆ female ┆ … ┆ S        ┆ 10   ┆ null ┆ Devon, England    │\n",
       "│        ┆          ┆ Elizabeth Gladys   ┆        ┆   ┆          ┆      ┆      ┆ Wichita, KS       │\n",
       "│        ┆          ┆ \"…                 ┆        ┆   ┆          ┆      ┆      ┆                   │\n",
       "│ 3      ┆ 0        ┆ Danbom, Master.    ┆ male   ┆ … ┆ S        ┆ null ┆ null ┆ Stanton, IA       │\n",
       "│        ┆          ┆ Gilbert Sigvar…    ┆        ┆   ┆          ┆      ┆      ┆                   │\n",
       "│ 3      ┆ 1        ┆ Thomas, Master.    ┆ male   ┆ … ┆ C        ┆ 16   ┆ null ┆ null              │\n",
       "│        ┆          ┆ Assad Alexande…    ┆        ┆   ┆          ┆      ┆      ┆                   │\n",
       "│ 2      ┆ 1        ┆ Hamalainen,        ┆ male   ┆ … ┆ S        ┆ 4    ┆ null ┆ Detroit, MI       │\n",
       "│        ┆          ┆ Master. Viljo      ┆        ┆   ┆          ┆      ┆      ┆                   │\n",
       "│ 3      ┆ 1        ┆ Baclini, Miss.     ┆ female ┆ … ┆ C        ┆ C    ┆ null ┆ Syria New York,   │\n",
       "│        ┆          ┆ Eugenie            ┆        ┆   ┆          ┆      ┆      ┆ NY                │\n",
       "│ …      ┆ …        ┆ …                  ┆ …      ┆ … ┆ …        ┆ …    ┆ …    ┆ …                 │\n",
       "│ 3      ┆ 0        ┆ Williams, Mr.      ┆ male   ┆ … ┆ S        ┆ null ┆ null ┆ null              │\n",
       "│        ┆          ┆ Howard Hugh \"Har…  ┆        ┆   ┆          ┆      ┆      ┆                   │\n",
       "│ 3      ┆ 0        ┆ Wiseman, Mr.       ┆ male   ┆ … ┆ S        ┆ null ┆ null ┆ null              │\n",
       "│        ┆          ┆ Phillippe          ┆        ┆   ┆          ┆      ┆      ┆                   │\n",
       "│ 3      ┆ 0        ┆ Yousif, Mr. Wazli  ┆ male   ┆ … ┆ C        ┆ null ┆ null ┆ null              │\n",
       "│ 3      ┆ 0        ┆ Yousseff, Mr.      ┆ male   ┆ … ┆ C        ┆ null ┆ null ┆ null              │\n",
       "│        ┆          ┆ Gerious            ┆        ┆   ┆          ┆      ┆      ┆                   │\n",
       "│ 3      ┆ 0        ┆ Zabour, Miss.      ┆ female ┆ … ┆ C        ┆ null ┆ null ┆ null              │\n",
       "│        ┆          ┆ Thamine            ┆        ┆   ┆          ┆      ┆      ┆                   │\n",
       "└────────┴──────────┴────────────────────┴────────┴───┴──────────┴──────┴──────┴───────────────────┘"
      ]
     },
     "execution_count": 6,
     "metadata": {},
     "output_type": "execute_result"
    }
   ],
   "source": [
    "df.sort('age', nulls_last=True)"
   ]
  },
  {
   "cell_type": "code",
   "execution_count": 10,
   "id": "af31d410-0f22-4e9a-9ea9-56fde0fed745",
   "metadata": {},
   "outputs": [
    {
     "data": {
      "text/html": [
       "<div><style>\n",
       ".dataframe > thead > tr,\n",
       ".dataframe > tbody > tr {\n",
       "  text-align: right;\n",
       "  white-space: pre-wrap;\n",
       "}\n",
       "</style>\n",
       "<small>shape: (1_309, 14)</small><table border=\"1\" class=\"dataframe\"><thead><tr><th>pclass</th><th>survived</th><th>name</th><th>sex</th><th>age</th><th>sibsp</th><th>parch</th><th>ticket</th><th>fare</th><th>cabin</th><th>embarked</th><th>boat</th><th>body</th><th>home.dest</th></tr><tr><td>i64</td><td>i64</td><td>str</td><td>str</td><td>f64</td><td>i64</td><td>i64</td><td>str</td><td>f64</td><td>str</td><td>str</td><td>str</td><td>i64</td><td>str</td></tr></thead><tbody><tr><td>1</td><td>1</td><td>&quot;Barkworth, Mr. Algernon Henry …</td><td>&quot;male&quot;</td><td>80.0</td><td>0</td><td>0</td><td>&quot;27042&quot;</td><td>30.0</td><td>&quot;A23&quot;</td><td>&quot;S&quot;</td><td>&quot;B&quot;</td><td>null</td><td>&quot;Hessle, Yorks&quot;</td></tr><tr><td>1</td><td>1</td><td>&quot;Cavendish, Mrs. Tyrell William…</td><td>&quot;female&quot;</td><td>76.0</td><td>1</td><td>0</td><td>&quot;19877&quot;</td><td>78.85</td><td>&quot;C46&quot;</td><td>&quot;S&quot;</td><td>&quot;6&quot;</td><td>null</td><td>&quot;Little Onn Hall, Staffs&quot;</td></tr><tr><td>3</td><td>0</td><td>&quot;Svensson, Mr. Johan&quot;</td><td>&quot;male&quot;</td><td>74.0</td><td>0</td><td>0</td><td>&quot;347060&quot;</td><td>7.775</td><td>null</td><td>&quot;S&quot;</td><td>null</td><td>null</td><td>null</td></tr><tr><td>1</td><td>0</td><td>&quot;Artagaveytia, Mr. Ramon&quot;</td><td>&quot;male&quot;</td><td>71.0</td><td>0</td><td>0</td><td>&quot;PC 17609&quot;</td><td>49.5042</td><td>null</td><td>&quot;C&quot;</td><td>null</td><td>22</td><td>&quot;Montevideo, Uruguay&quot;</td></tr><tr><td>1</td><td>0</td><td>&quot;Goldschmidt, Mr. George B&quot;</td><td>&quot;male&quot;</td><td>71.0</td><td>0</td><td>0</td><td>&quot;PC 17754&quot;</td><td>34.6542</td><td>&quot;A5&quot;</td><td>&quot;C&quot;</td><td>null</td><td>null</td><td>&quot;New York, NY&quot;</td></tr><tr><td>&hellip;</td><td>&hellip;</td><td>&hellip;</td><td>&hellip;</td><td>&hellip;</td><td>&hellip;</td><td>&hellip;</td><td>&hellip;</td><td>&hellip;</td><td>&hellip;</td><td>&hellip;</td><td>&hellip;</td><td>&hellip;</td><td>&hellip;</td></tr><tr><td>3</td><td>0</td><td>&quot;Williams, Mr. Howard Hugh &quot;Har…</td><td>&quot;male&quot;</td><td>null</td><td>0</td><td>0</td><td>&quot;A/5 2466&quot;</td><td>8.05</td><td>null</td><td>&quot;S&quot;</td><td>null</td><td>null</td><td>null</td></tr><tr><td>3</td><td>0</td><td>&quot;Wiseman, Mr. Phillippe&quot;</td><td>&quot;male&quot;</td><td>null</td><td>0</td><td>0</td><td>&quot;A/4. 34244&quot;</td><td>7.25</td><td>null</td><td>&quot;S&quot;</td><td>null</td><td>null</td><td>null</td></tr><tr><td>3</td><td>0</td><td>&quot;Yousif, Mr. Wazli&quot;</td><td>&quot;male&quot;</td><td>null</td><td>0</td><td>0</td><td>&quot;2647&quot;</td><td>7.225</td><td>null</td><td>&quot;C&quot;</td><td>null</td><td>null</td><td>null</td></tr><tr><td>3</td><td>0</td><td>&quot;Yousseff, Mr. Gerious&quot;</td><td>&quot;male&quot;</td><td>null</td><td>0</td><td>0</td><td>&quot;2627&quot;</td><td>14.4583</td><td>null</td><td>&quot;C&quot;</td><td>null</td><td>null</td><td>null</td></tr><tr><td>3</td><td>0</td><td>&quot;Zabour, Miss. Thamine&quot;</td><td>&quot;female&quot;</td><td>null</td><td>1</td><td>0</td><td>&quot;2665&quot;</td><td>14.4542</td><td>null</td><td>&quot;C&quot;</td><td>null</td><td>null</td><td>null</td></tr></tbody></table></div>"
      ],
      "text/plain": [
       "shape: (1_309, 14)\n",
       "┌────────┬──────────┬────────────────────┬────────┬───┬──────────┬──────┬──────┬───────────────────┐\n",
       "│ pclass ┆ survived ┆ name               ┆ sex    ┆ … ┆ embarked ┆ boat ┆ body ┆ home.dest         │\n",
       "│ ---    ┆ ---      ┆ ---                ┆ ---    ┆   ┆ ---      ┆ ---  ┆ ---  ┆ ---               │\n",
       "│ i64    ┆ i64      ┆ str                ┆ str    ┆   ┆ str      ┆ str  ┆ i64  ┆ str               │\n",
       "╞════════╪══════════╪════════════════════╪════════╪═══╪══════════╪══════╪══════╪═══════════════════╡\n",
       "│ 1      ┆ 1        ┆ Barkworth, Mr.     ┆ male   ┆ … ┆ S        ┆ B    ┆ null ┆ Hessle, Yorks     │\n",
       "│        ┆          ┆ Algernon Henry …   ┆        ┆   ┆          ┆      ┆      ┆                   │\n",
       "│ 1      ┆ 1        ┆ Cavendish, Mrs.    ┆ female ┆ … ┆ S        ┆ 6    ┆ null ┆ Little Onn Hall,  │\n",
       "│        ┆          ┆ Tyrell William…    ┆        ┆   ┆          ┆      ┆      ┆ Staffs            │\n",
       "│ 3      ┆ 0        ┆ Svensson, Mr.      ┆ male   ┆ … ┆ S        ┆ null ┆ null ┆ null              │\n",
       "│        ┆          ┆ Johan              ┆        ┆   ┆          ┆      ┆      ┆                   │\n",
       "│ 1      ┆ 0        ┆ Artagaveytia, Mr.  ┆ male   ┆ … ┆ C        ┆ null ┆ 22   ┆ Montevideo,       │\n",
       "│        ┆          ┆ Ramon              ┆        ┆   ┆          ┆      ┆      ┆ Uruguay           │\n",
       "│ 1      ┆ 0        ┆ Goldschmidt, Mr.   ┆ male   ┆ … ┆ C        ┆ null ┆ null ┆ New York, NY      │\n",
       "│        ┆          ┆ George B           ┆        ┆   ┆          ┆      ┆      ┆                   │\n",
       "│ …      ┆ …        ┆ …                  ┆ …      ┆ … ┆ …        ┆ …    ┆ …    ┆ …                 │\n",
       "│ 3      ┆ 0        ┆ Williams, Mr.      ┆ male   ┆ … ┆ S        ┆ null ┆ null ┆ null              │\n",
       "│        ┆          ┆ Howard Hugh \"Har…  ┆        ┆   ┆          ┆      ┆      ┆                   │\n",
       "│ 3      ┆ 0        ┆ Wiseman, Mr.       ┆ male   ┆ … ┆ S        ┆ null ┆ null ┆ null              │\n",
       "│        ┆          ┆ Phillippe          ┆        ┆   ┆          ┆      ┆      ┆                   │\n",
       "│ 3      ┆ 0        ┆ Yousif, Mr. Wazli  ┆ male   ┆ … ┆ C        ┆ null ┆ null ┆ null              │\n",
       "│ 3      ┆ 0        ┆ Yousseff, Mr.      ┆ male   ┆ … ┆ C        ┆ null ┆ null ┆ null              │\n",
       "│        ┆          ┆ Gerious            ┆        ┆   ┆          ┆      ┆      ┆                   │\n",
       "│ 3      ┆ 0        ┆ Zabour, Miss.      ┆ female ┆ … ┆ C        ┆ null ┆ null ┆ null              │\n",
       "│        ┆          ┆ Thamine            ┆        ┆   ┆          ┆      ┆      ┆                   │\n",
       "└────────┴──────────┴────────────────────┴────────┴───┴──────────┴──────┴──────┴───────────────────┘"
      ]
     },
     "execution_count": 10,
     "metadata": {},
     "output_type": "execute_result"
    }
   ],
   "source": [
    "df.sort('age', descending=True, nulls_last=True)"
   ]
  },
  {
   "cell_type": "code",
   "execution_count": null,
   "id": "8048378a-7903-4787-9583-c3224ef30085",
   "metadata": {},
   "outputs": [],
   "source": []
  }
 ],
 "metadata": {
  "kernelspec": {
   "display_name": "Python 3 (ipykernel)",
   "language": "python",
   "name": "python3"
  },
  "language_info": {
   "codemirror_mode": {
    "name": "ipython",
    "version": 3
   },
   "file_extension": ".py",
   "mimetype": "text/x-python",
   "name": "python",
   "nbconvert_exporter": "python",
   "pygments_lexer": "ipython3",
   "version": "3.11.10"
  }
 },
 "nbformat": 4,
 "nbformat_minor": 5
}
