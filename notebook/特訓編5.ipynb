{
 "cells": [
  {
   "cell_type": "code",
   "execution_count": 1,
   "id": "9bb2297c-242a-4c2f-8194-25b67925b531",
   "metadata": {},
   "outputs": [
    {
     "name": "stdout",
     "output_type": "stream",
     "text": [
      "--2024-10-23 01:36:04--  https://drive.google.com/uc?export=download&id=1VR8zaNSBdjTOui899zZDu5H2c58UyKba\n",
      "Resolving drive.google.com (drive.google.com)... 216.58.220.110, 2404:6800:4004:818::200e\n",
      "Connecting to drive.google.com (drive.google.com)|216.58.220.110|:443... connected.\n",
      "HTTP request sent, awaiting response... 303 See Other\n",
      "Location: https://drive.usercontent.google.com/download?id=1VR8zaNSBdjTOui899zZDu5H2c58UyKba&export=download [following]\n",
      "--2024-10-23 01:36:04--  https://drive.usercontent.google.com/download?id=1VR8zaNSBdjTOui899zZDu5H2c58UyKba&export=download\n",
      "Resolving drive.usercontent.google.com (drive.usercontent.google.com)... 142.250.198.1, 2404:6800:4004:81c::2001\n",
      "Connecting to drive.usercontent.google.com (drive.usercontent.google.com)|142.250.198.1|:443... connected.\n",
      "HTTP request sent, awaiting response... 200 OK\n",
      "Length: 3733 (3.6K) [application/octet-stream]\n",
      "Saving to: ‘transactions.csv’\n",
      "\n",
      "transactions.csv    100%[===================>]   3.65K  --.-KB/s    in 0.002s  \n",
      "\n",
      "2024-10-23 01:36:07 (2.25 MB/s) - ‘transactions.csv’ saved [3733/3733]\n",
      "\n"
     ]
    }
   ],
   "source": [
    "!wget \"https://drive.google.com/uc?export=download&id=1VR8zaNSBdjTOui899zZDu5H2c58UyKba\" -O transactions.csv"
   ]
  },
  {
   "cell_type": "code",
   "execution_count": 2,
   "id": "22fc7e4f-69e2-48d4-8205-39eb4174c010",
   "metadata": {},
   "outputs": [],
   "source": [
    "import polars as pl"
   ]
  },
  {
   "cell_type": "code",
   "execution_count": 3,
   "id": "9c98f862-f8db-47e6-81ea-8dd7fe86c527",
   "metadata": {},
   "outputs": [
    {
     "data": {
      "text/html": [
       "<div><style>\n",
       ".dataframe > thead > tr,\n",
       ".dataframe > tbody > tr {\n",
       "  text-align: right;\n",
       "  white-space: pre-wrap;\n",
       "}\n",
       "</style>\n",
       "<small>shape: (1_309, 14)</small><table border=\"1\" class=\"dataframe\"><thead><tr><th>pclass</th><th>survived</th><th>name</th><th>sex</th><th>age</th><th>sibsp</th><th>parch</th><th>ticket</th><th>fare</th><th>cabin</th><th>embarked</th><th>boat</th><th>body</th><th>home.dest</th></tr><tr><td>i64</td><td>i64</td><td>str</td><td>str</td><td>f64</td><td>i64</td><td>i64</td><td>str</td><td>f64</td><td>str</td><td>str</td><td>str</td><td>i64</td><td>str</td></tr></thead><tbody><tr><td>1</td><td>1</td><td>&quot;Allen, Miss. Elisabeth Walton&quot;</td><td>&quot;female&quot;</td><td>29.0</td><td>0</td><td>0</td><td>&quot;24160&quot;</td><td>211.3375</td><td>&quot;B5&quot;</td><td>&quot;S&quot;</td><td>&quot;2&quot;</td><td>null</td><td>&quot;St Louis, MO&quot;</td></tr><tr><td>1</td><td>1</td><td>&quot;Allison, Master. Hudson Trevor&quot;</td><td>&quot;male&quot;</td><td>0.92</td><td>1</td><td>2</td><td>&quot;113781&quot;</td><td>151.55</td><td>&quot;C22 C26&quot;</td><td>&quot;S&quot;</td><td>&quot;11&quot;</td><td>null</td><td>&quot;Montreal, PQ / Chesterville, O…</td></tr><tr><td>1</td><td>0</td><td>&quot;Allison, Miss. Helen Loraine&quot;</td><td>&quot;female&quot;</td><td>2.0</td><td>1</td><td>2</td><td>&quot;113781&quot;</td><td>151.55</td><td>&quot;C22 C26&quot;</td><td>&quot;S&quot;</td><td>null</td><td>null</td><td>&quot;Montreal, PQ / Chesterville, O…</td></tr><tr><td>1</td><td>0</td><td>&quot;Allison, Mr. Hudson Joshua Cre…</td><td>&quot;male&quot;</td><td>30.0</td><td>1</td><td>2</td><td>&quot;113781&quot;</td><td>151.55</td><td>&quot;C22 C26&quot;</td><td>&quot;S&quot;</td><td>null</td><td>135</td><td>&quot;Montreal, PQ / Chesterville, O…</td></tr><tr><td>1</td><td>0</td><td>&quot;Allison, Mrs. Hudson J C (Bess…</td><td>&quot;female&quot;</td><td>25.0</td><td>1</td><td>2</td><td>&quot;113781&quot;</td><td>151.55</td><td>&quot;C22 C26&quot;</td><td>&quot;S&quot;</td><td>null</td><td>null</td><td>&quot;Montreal, PQ / Chesterville, O…</td></tr><tr><td>&hellip;</td><td>&hellip;</td><td>&hellip;</td><td>&hellip;</td><td>&hellip;</td><td>&hellip;</td><td>&hellip;</td><td>&hellip;</td><td>&hellip;</td><td>&hellip;</td><td>&hellip;</td><td>&hellip;</td><td>&hellip;</td><td>&hellip;</td></tr><tr><td>3</td><td>0</td><td>&quot;Zabour, Miss. Hileni&quot;</td><td>&quot;female&quot;</td><td>14.5</td><td>1</td><td>0</td><td>&quot;2665&quot;</td><td>14.4542</td><td>null</td><td>&quot;C&quot;</td><td>null</td><td>328</td><td>null</td></tr><tr><td>3</td><td>0</td><td>&quot;Zabour, Miss. Thamine&quot;</td><td>&quot;female&quot;</td><td>null</td><td>1</td><td>0</td><td>&quot;2665&quot;</td><td>14.4542</td><td>null</td><td>&quot;C&quot;</td><td>null</td><td>null</td><td>null</td></tr><tr><td>3</td><td>0</td><td>&quot;Zakarian, Mr. Mapriededer&quot;</td><td>&quot;male&quot;</td><td>26.5</td><td>0</td><td>0</td><td>&quot;2656&quot;</td><td>7.225</td><td>null</td><td>&quot;C&quot;</td><td>null</td><td>304</td><td>null</td></tr><tr><td>3</td><td>0</td><td>&quot;Zakarian, Mr. Ortin&quot;</td><td>&quot;male&quot;</td><td>27.0</td><td>0</td><td>0</td><td>&quot;2670&quot;</td><td>7.225</td><td>null</td><td>&quot;C&quot;</td><td>null</td><td>null</td><td>null</td></tr><tr><td>3</td><td>0</td><td>&quot;Zimmerman, Mr. Leo&quot;</td><td>&quot;male&quot;</td><td>29.0</td><td>0</td><td>0</td><td>&quot;315082&quot;</td><td>7.875</td><td>null</td><td>&quot;S&quot;</td><td>null</td><td>null</td><td>null</td></tr></tbody></table></div>"
      ],
      "text/plain": [
       "shape: (1_309, 14)\n",
       "┌────────┬──────────┬────────────────────┬────────┬───┬──────────┬──────┬──────┬───────────────────┐\n",
       "│ pclass ┆ survived ┆ name               ┆ sex    ┆ … ┆ embarked ┆ boat ┆ body ┆ home.dest         │\n",
       "│ ---    ┆ ---      ┆ ---                ┆ ---    ┆   ┆ ---      ┆ ---  ┆ ---  ┆ ---               │\n",
       "│ i64    ┆ i64      ┆ str                ┆ str    ┆   ┆ str      ┆ str  ┆ i64  ┆ str               │\n",
       "╞════════╪══════════╪════════════════════╪════════╪═══╪══════════╪══════╪══════╪═══════════════════╡\n",
       "│ 1      ┆ 1        ┆ Allen, Miss.       ┆ female ┆ … ┆ S        ┆ 2    ┆ null ┆ St Louis, MO      │\n",
       "│        ┆          ┆ Elisabeth Walton   ┆        ┆   ┆          ┆      ┆      ┆                   │\n",
       "│ 1      ┆ 1        ┆ Allison, Master.   ┆ male   ┆ … ┆ S        ┆ 11   ┆ null ┆ Montreal, PQ /    │\n",
       "│        ┆          ┆ Hudson Trevor      ┆        ┆   ┆          ┆      ┆      ┆ Chesterville, O…  │\n",
       "│ 1      ┆ 0        ┆ Allison, Miss.     ┆ female ┆ … ┆ S        ┆ null ┆ null ┆ Montreal, PQ /    │\n",
       "│        ┆          ┆ Helen Loraine      ┆        ┆   ┆          ┆      ┆      ┆ Chesterville, O…  │\n",
       "│ 1      ┆ 0        ┆ Allison, Mr.       ┆ male   ┆ … ┆ S        ┆ null ┆ 135  ┆ Montreal, PQ /    │\n",
       "│        ┆          ┆ Hudson Joshua Cre… ┆        ┆   ┆          ┆      ┆      ┆ Chesterville, O…  │\n",
       "│ 1      ┆ 0        ┆ Allison, Mrs.      ┆ female ┆ … ┆ S        ┆ null ┆ null ┆ Montreal, PQ /    │\n",
       "│        ┆          ┆ Hudson J C (Bess…  ┆        ┆   ┆          ┆      ┆      ┆ Chesterville, O…  │\n",
       "│ …      ┆ …        ┆ …                  ┆ …      ┆ … ┆ …        ┆ …    ┆ …    ┆ …                 │\n",
       "│ 3      ┆ 0        ┆ Zabour, Miss.      ┆ female ┆ … ┆ C        ┆ null ┆ 328  ┆ null              │\n",
       "│        ┆          ┆ Hileni             ┆        ┆   ┆          ┆      ┆      ┆                   │\n",
       "│ 3      ┆ 0        ┆ Zabour, Miss.      ┆ female ┆ … ┆ C        ┆ null ┆ null ┆ null              │\n",
       "│        ┆          ┆ Thamine            ┆        ┆   ┆          ┆      ┆      ┆                   │\n",
       "│ 3      ┆ 0        ┆ Zakarian, Mr.      ┆ male   ┆ … ┆ C        ┆ null ┆ 304  ┆ null              │\n",
       "│        ┆          ┆ Mapriededer        ┆        ┆   ┆          ┆      ┆      ┆                   │\n",
       "│ 3      ┆ 0        ┆ Zakarian, Mr.      ┆ male   ┆ … ┆ C        ┆ null ┆ null ┆ null              │\n",
       "│        ┆          ┆ Ortin              ┆        ┆   ┆          ┆      ┆      ┆                   │\n",
       "│ 3      ┆ 0        ┆ Zimmerman, Mr. Leo ┆ male   ┆ … ┆ S        ┆ null ┆ null ┆ null              │\n",
       "└────────┴──────────┴────────────────────┴────────┴───┴──────────┴──────┴──────┴───────────────────┘"
      ]
     },
     "execution_count": 3,
     "metadata": {},
     "output_type": "execute_result"
    }
   ],
   "source": [
    "df = pl.read_csv('titanic.csv')\n",
    "df"
   ]
  },
  {
   "cell_type": "code",
   "execution_count": 4,
   "id": "1e821d81-343d-4513-a653-2cb61473e5f2",
   "metadata": {},
   "outputs": [
    {
     "data": {
      "text/html": [
       "<div><style>\n",
       ".dataframe > thead > tr,\n",
       ".dataframe > tbody > tr {\n",
       "  text-align: right;\n",
       "  white-space: pre-wrap;\n",
       "}\n",
       "</style>\n",
       "<small>shape: (2, 2)</small><table border=\"1\" class=\"dataframe\"><thead><tr><th>sex</th><th>survived</th></tr><tr><td>str</td><td>f64</td></tr></thead><tbody><tr><td>&quot;female&quot;</td><td>0.727468</td></tr><tr><td>&quot;male&quot;</td><td>0.190985</td></tr></tbody></table></div>"
      ],
      "text/plain": [
       "shape: (2, 2)\n",
       "┌────────┬──────────┐\n",
       "│ sex    ┆ survived │\n",
       "│ ---    ┆ ---      │\n",
       "│ str    ┆ f64      │\n",
       "╞════════╪══════════╡\n",
       "│ female ┆ 0.727468 │\n",
       "│ male   ┆ 0.190985 │\n",
       "└────────┴──────────┘"
      ]
     },
     "execution_count": 4,
     "metadata": {},
     "output_type": "execute_result"
    }
   ],
   "source": [
    "df.group_by('sex').agg(\n",
    "    pl.col('survived').mean()# .alias('survival_rate')\n",
    ")"
   ]
  },
  {
   "cell_type": "code",
   "execution_count": 5,
   "id": "f13b9776-3b7b-4114-a302-a32042eb3460",
   "metadata": {},
   "outputs": [
    {
     "data": {
      "text/html": [
       "<div><style>\n",
       ".dataframe > thead > tr,\n",
       ".dataframe > tbody > tr {\n",
       "  text-align: right;\n",
       "  white-space: pre-wrap;\n",
       "}\n",
       "</style>\n",
       "<small>shape: (2, 2)</small><table border=\"1\" class=\"dataframe\"><thead><tr><th>sex</th><th>survived</th></tr><tr><td>str</td><td>f64</td></tr></thead><tbody><tr><td>&quot;female&quot;</td><td>0.727468</td></tr><tr><td>&quot;male&quot;</td><td>0.190985</td></tr></tbody></table></div>"
      ],
      "text/plain": [
       "shape: (2, 2)\n",
       "┌────────┬──────────┐\n",
       "│ sex    ┆ survived │\n",
       "│ ---    ┆ ---      │\n",
       "│ str    ┆ f64      │\n",
       "╞════════╪══════════╡\n",
       "│ female ┆ 0.727468 │\n",
       "│ male   ┆ 0.190985 │\n",
       "└────────┴──────────┘"
      ]
     },
     "execution_count": 5,
     "metadata": {},
     "output_type": "execute_result"
    }
   ],
   "source": [
    "df.group_by('sex', maintain_order=True).agg(\n",
    "    pl.col('survived').mean()# .alias('survival_rate')\n",
    ")"
   ]
  },
  {
   "cell_type": "code",
   "execution_count": 6,
   "id": "194f17dd-08d8-480b-9471-107299ec05fb",
   "metadata": {},
   "outputs": [
    {
     "data": {
      "text/html": [
       "<div><style>\n",
       ".dataframe > thead > tr,\n",
       ".dataframe > tbody > tr {\n",
       "  text-align: right;\n",
       "  white-space: pre-wrap;\n",
       "}\n",
       "</style>\n",
       "<small>shape: (1_309, 15)</small><table border=\"1\" class=\"dataframe\"><thead><tr><th>pclass</th><th>survived</th><th>name</th><th>sex</th><th>age</th><th>sibsp</th><th>parch</th><th>ticket</th><th>fare</th><th>cabin</th><th>embarked</th><th>boat</th><th>body</th><th>home.dest</th><th>age_diff_from_mean_per_pclass</th></tr><tr><td>i64</td><td>i64</td><td>str</td><td>str</td><td>f64</td><td>i64</td><td>i64</td><td>str</td><td>f64</td><td>str</td><td>str</td><td>str</td><td>i64</td><td>str</td><td>f64</td></tr></thead><tbody><tr><td>1</td><td>1</td><td>&quot;Allen, Miss. Elisabeth Walton&quot;</td><td>&quot;female&quot;</td><td>29.0</td><td>0</td><td>0</td><td>&quot;24160&quot;</td><td>211.3375</td><td>&quot;B5&quot;</td><td>&quot;S&quot;</td><td>&quot;2&quot;</td><td>null</td><td>&quot;St Louis, MO&quot;</td><td>-10.15993</td></tr><tr><td>1</td><td>1</td><td>&quot;Allison, Master. Hudson Trevor&quot;</td><td>&quot;male&quot;</td><td>0.92</td><td>1</td><td>2</td><td>&quot;113781&quot;</td><td>151.55</td><td>&quot;C22 C26&quot;</td><td>&quot;S&quot;</td><td>&quot;11&quot;</td><td>null</td><td>&quot;Montreal, PQ / Chesterville, O…</td><td>-38.23993</td></tr><tr><td>1</td><td>0</td><td>&quot;Allison, Miss. Helen Loraine&quot;</td><td>&quot;female&quot;</td><td>2.0</td><td>1</td><td>2</td><td>&quot;113781&quot;</td><td>151.55</td><td>&quot;C22 C26&quot;</td><td>&quot;S&quot;</td><td>null</td><td>null</td><td>&quot;Montreal, PQ / Chesterville, O…</td><td>-37.15993</td></tr><tr><td>1</td><td>0</td><td>&quot;Allison, Mr. Hudson Joshua Cre…</td><td>&quot;male&quot;</td><td>30.0</td><td>1</td><td>2</td><td>&quot;113781&quot;</td><td>151.55</td><td>&quot;C22 C26&quot;</td><td>&quot;S&quot;</td><td>null</td><td>135</td><td>&quot;Montreal, PQ / Chesterville, O…</td><td>-9.15993</td></tr><tr><td>1</td><td>0</td><td>&quot;Allison, Mrs. Hudson J C (Bess…</td><td>&quot;female&quot;</td><td>25.0</td><td>1</td><td>2</td><td>&quot;113781&quot;</td><td>151.55</td><td>&quot;C22 C26&quot;</td><td>&quot;S&quot;</td><td>null</td><td>null</td><td>&quot;Montreal, PQ / Chesterville, O…</td><td>-14.15993</td></tr><tr><td>&hellip;</td><td>&hellip;</td><td>&hellip;</td><td>&hellip;</td><td>&hellip;</td><td>&hellip;</td><td>&hellip;</td><td>&hellip;</td><td>&hellip;</td><td>&hellip;</td><td>&hellip;</td><td>&hellip;</td><td>&hellip;</td><td>&hellip;</td><td>&hellip;</td></tr><tr><td>3</td><td>0</td><td>&quot;Zabour, Miss. Hileni&quot;</td><td>&quot;female&quot;</td><td>14.5</td><td>1</td><td>0</td><td>&quot;2665&quot;</td><td>14.4542</td><td>null</td><td>&quot;C&quot;</td><td>null</td><td>328</td><td>null</td><td>-10.316367</td></tr><tr><td>3</td><td>0</td><td>&quot;Zabour, Miss. Thamine&quot;</td><td>&quot;female&quot;</td><td>null</td><td>1</td><td>0</td><td>&quot;2665&quot;</td><td>14.4542</td><td>null</td><td>&quot;C&quot;</td><td>null</td><td>null</td><td>null</td><td>null</td></tr><tr><td>3</td><td>0</td><td>&quot;Zakarian, Mr. Mapriededer&quot;</td><td>&quot;male&quot;</td><td>26.5</td><td>0</td><td>0</td><td>&quot;2656&quot;</td><td>7.225</td><td>null</td><td>&quot;C&quot;</td><td>null</td><td>304</td><td>null</td><td>1.683633</td></tr><tr><td>3</td><td>0</td><td>&quot;Zakarian, Mr. Ortin&quot;</td><td>&quot;male&quot;</td><td>27.0</td><td>0</td><td>0</td><td>&quot;2670&quot;</td><td>7.225</td><td>null</td><td>&quot;C&quot;</td><td>null</td><td>null</td><td>null</td><td>2.183633</td></tr><tr><td>3</td><td>0</td><td>&quot;Zimmerman, Mr. Leo&quot;</td><td>&quot;male&quot;</td><td>29.0</td><td>0</td><td>0</td><td>&quot;315082&quot;</td><td>7.875</td><td>null</td><td>&quot;S&quot;</td><td>null</td><td>null</td><td>null</td><td>4.183633</td></tr></tbody></table></div>"
      ],
      "text/plain": [
       "shape: (1_309, 15)\n",
       "┌────────┬──────────┬─────────────────┬────────┬───┬──────┬──────┬────────────────┬────────────────┐\n",
       "│ pclass ┆ survived ┆ name            ┆ sex    ┆ … ┆ boat ┆ body ┆ home.dest      ┆ age_diff_from_ │\n",
       "│ ---    ┆ ---      ┆ ---             ┆ ---    ┆   ┆ ---  ┆ ---  ┆ ---            ┆ mean_per_pclas │\n",
       "│ i64    ┆ i64      ┆ str             ┆ str    ┆   ┆ str  ┆ i64  ┆ str            ┆ s              │\n",
       "│        ┆          ┆                 ┆        ┆   ┆      ┆      ┆                ┆ ---            │\n",
       "│        ┆          ┆                 ┆        ┆   ┆      ┆      ┆                ┆ f64            │\n",
       "╞════════╪══════════╪═════════════════╪════════╪═══╪══════╪══════╪════════════════╪════════════════╡\n",
       "│ 1      ┆ 1        ┆ Allen, Miss.    ┆ female ┆ … ┆ 2    ┆ null ┆ St Louis, MO   ┆ -10.15993      │\n",
       "│        ┆          ┆ Elisabeth       ┆        ┆   ┆      ┆      ┆                ┆                │\n",
       "│        ┆          ┆ Walton          ┆        ┆   ┆      ┆      ┆                ┆                │\n",
       "│ 1      ┆ 1        ┆ Allison,        ┆ male   ┆ … ┆ 11   ┆ null ┆ Montreal, PQ / ┆ -38.23993      │\n",
       "│        ┆          ┆ Master. Hudson  ┆        ┆   ┆      ┆      ┆ Chesterville,  ┆                │\n",
       "│        ┆          ┆ Trevor          ┆        ┆   ┆      ┆      ┆ O…             ┆                │\n",
       "│ 1      ┆ 0        ┆ Allison, Miss.  ┆ female ┆ … ┆ null ┆ null ┆ Montreal, PQ / ┆ -37.15993      │\n",
       "│        ┆          ┆ Helen Loraine   ┆        ┆   ┆      ┆      ┆ Chesterville,  ┆                │\n",
       "│        ┆          ┆                 ┆        ┆   ┆      ┆      ┆ O…             ┆                │\n",
       "│ 1      ┆ 0        ┆ Allison, Mr.    ┆ male   ┆ … ┆ null ┆ 135  ┆ Montreal, PQ / ┆ -9.15993       │\n",
       "│        ┆          ┆ Hudson Joshua   ┆        ┆   ┆      ┆      ┆ Chesterville,  ┆                │\n",
       "│        ┆          ┆ Cre…            ┆        ┆   ┆      ┆      ┆ O…             ┆                │\n",
       "│ 1      ┆ 0        ┆ Allison, Mrs.   ┆ female ┆ … ┆ null ┆ null ┆ Montreal, PQ / ┆ -14.15993      │\n",
       "│        ┆          ┆ Hudson J C      ┆        ┆   ┆      ┆      ┆ Chesterville,  ┆                │\n",
       "│        ┆          ┆ (Bess…          ┆        ┆   ┆      ┆      ┆ O…             ┆                │\n",
       "│ …      ┆ …        ┆ …               ┆ …      ┆ … ┆ …    ┆ …    ┆ …              ┆ …              │\n",
       "│ 3      ┆ 0        ┆ Zabour, Miss.   ┆ female ┆ … ┆ null ┆ 328  ┆ null           ┆ -10.316367     │\n",
       "│        ┆          ┆ Hileni          ┆        ┆   ┆      ┆      ┆                ┆                │\n",
       "│ 3      ┆ 0        ┆ Zabour, Miss.   ┆ female ┆ … ┆ null ┆ null ┆ null           ┆ null           │\n",
       "│        ┆          ┆ Thamine         ┆        ┆   ┆      ┆      ┆                ┆                │\n",
       "│ 3      ┆ 0        ┆ Zakarian, Mr.   ┆ male   ┆ … ┆ null ┆ 304  ┆ null           ┆ 1.683633       │\n",
       "│        ┆          ┆ Mapriededer     ┆        ┆   ┆      ┆      ┆                ┆                │\n",
       "│ 3      ┆ 0        ┆ Zakarian, Mr.   ┆ male   ┆ … ┆ null ┆ null ┆ null           ┆ 2.183633       │\n",
       "│        ┆          ┆ Ortin           ┆        ┆   ┆      ┆      ┆                ┆                │\n",
       "│ 3      ┆ 0        ┆ Zimmerman, Mr.  ┆ male   ┆ … ┆ null ┆ null ┆ null           ┆ 4.183633       │\n",
       "│        ┆          ┆ Leo             ┆        ┆   ┆      ┆      ┆                ┆                │\n",
       "└────────┴──────────┴─────────────────┴────────┴───┴──────┴──────┴────────────────┴────────────────┘"
      ]
     },
     "execution_count": 6,
     "metadata": {},
     "output_type": "execute_result"
    }
   ],
   "source": [
    "df.with_columns(\n",
    "    (pl.col('age') - pl.col('age').mean().over('pclass'))\n",
    "    .alias('age_diff_from_mean_per_pclass')\n",
    ")"
   ]
  },
  {
   "cell_type": "code",
   "execution_count": 7,
   "id": "30865c2f-b50e-4661-b6e7-745b20b842fc",
   "metadata": {},
   "outputs": [
    {
     "data": {
      "text/html": [
       "<div><style>\n",
       ".dataframe > thead > tr,\n",
       ".dataframe > tbody > tr {\n",
       "  text-align: right;\n",
       "  white-space: pre-wrap;\n",
       "}\n",
       "</style>\n",
       "<small>shape: (1_309, 15)</small><table border=\"1\" class=\"dataframe\"><thead><tr><th>pclass</th><th>survived</th><th>name</th><th>sex</th><th>age</th><th>sibsp</th><th>parch</th><th>ticket</th><th>fare</th><th>cabin</th><th>embarked</th><th>boat</th><th>body</th><th>home.dest</th><th>age_diff_from_mean_per_pclass</th></tr><tr><td>i64</td><td>i64</td><td>str</td><td>str</td><td>f64</td><td>i64</td><td>i64</td><td>str</td><td>f64</td><td>str</td><td>str</td><td>str</td><td>i64</td><td>str</td><td>f64</td></tr></thead><tbody><tr><td>1</td><td>1</td><td>&quot;Allen, Miss. Elisabeth Walton&quot;</td><td>&quot;female&quot;</td><td>29.0</td><td>0</td><td>0</td><td>&quot;24160&quot;</td><td>211.3375</td><td>&quot;B5&quot;</td><td>&quot;S&quot;</td><td>&quot;2&quot;</td><td>null</td><td>&quot;St Louis, MO&quot;</td><td>-8.037594</td></tr><tr><td>1</td><td>1</td><td>&quot;Allison, Master. Hudson Trevor&quot;</td><td>&quot;male&quot;</td><td>0.92</td><td>1</td><td>2</td><td>&quot;113781&quot;</td><td>151.55</td><td>&quot;C22 C26&quot;</td><td>&quot;S&quot;</td><td>&quot;11&quot;</td><td>null</td><td>&quot;Montreal, PQ / Chesterville, O…</td><td>-40.109272</td></tr><tr><td>1</td><td>0</td><td>&quot;Allison, Miss. Helen Loraine&quot;</td><td>&quot;female&quot;</td><td>2.0</td><td>1</td><td>2</td><td>&quot;113781&quot;</td><td>151.55</td><td>&quot;C22 C26&quot;</td><td>&quot;S&quot;</td><td>null</td><td>null</td><td>&quot;Montreal, PQ / Chesterville, O…</td><td>-35.037594</td></tr><tr><td>1</td><td>0</td><td>&quot;Allison, Mr. Hudson Joshua Cre…</td><td>&quot;male&quot;</td><td>30.0</td><td>1</td><td>2</td><td>&quot;113781&quot;</td><td>151.55</td><td>&quot;C22 C26&quot;</td><td>&quot;S&quot;</td><td>null</td><td>135</td><td>&quot;Montreal, PQ / Chesterville, O…</td><td>-11.029272</td></tr><tr><td>1</td><td>0</td><td>&quot;Allison, Mrs. Hudson J C (Bess…</td><td>&quot;female&quot;</td><td>25.0</td><td>1</td><td>2</td><td>&quot;113781&quot;</td><td>151.55</td><td>&quot;C22 C26&quot;</td><td>&quot;S&quot;</td><td>null</td><td>null</td><td>&quot;Montreal, PQ / Chesterville, O…</td><td>-12.037594</td></tr><tr><td>&hellip;</td><td>&hellip;</td><td>&hellip;</td><td>&hellip;</td><td>&hellip;</td><td>&hellip;</td><td>&hellip;</td><td>&hellip;</td><td>&hellip;</td><td>&hellip;</td><td>&hellip;</td><td>&hellip;</td><td>&hellip;</td><td>&hellip;</td><td>&hellip;</td></tr><tr><td>3</td><td>0</td><td>&quot;Zabour, Miss. Hileni&quot;</td><td>&quot;female&quot;</td><td>14.5</td><td>1</td><td>0</td><td>&quot;2665&quot;</td><td>14.4542</td><td>null</td><td>&quot;C&quot;</td><td>null</td><td>328</td><td>null</td><td>-7.685329</td></tr><tr><td>3</td><td>0</td><td>&quot;Zabour, Miss. Thamine&quot;</td><td>&quot;female&quot;</td><td>null</td><td>1</td><td>0</td><td>&quot;2665&quot;</td><td>14.4542</td><td>null</td><td>&quot;C&quot;</td><td>null</td><td>null</td><td>null</td><td>null</td></tr><tr><td>3</td><td>0</td><td>&quot;Zakarian, Mr. Mapriededer&quot;</td><td>&quot;male&quot;</td><td>26.5</td><td>0</td><td>0</td><td>&quot;2656&quot;</td><td>7.225</td><td>null</td><td>&quot;C&quot;</td><td>null</td><td>304</td><td>null</td><td>0.537736</td></tr><tr><td>3</td><td>0</td><td>&quot;Zakarian, Mr. Ortin&quot;</td><td>&quot;male&quot;</td><td>27.0</td><td>0</td><td>0</td><td>&quot;2670&quot;</td><td>7.225</td><td>null</td><td>&quot;C&quot;</td><td>null</td><td>null</td><td>null</td><td>1.037736</td></tr><tr><td>3</td><td>0</td><td>&quot;Zimmerman, Mr. Leo&quot;</td><td>&quot;male&quot;</td><td>29.0</td><td>0</td><td>0</td><td>&quot;315082&quot;</td><td>7.875</td><td>null</td><td>&quot;S&quot;</td><td>null</td><td>null</td><td>null</td><td>3.037736</td></tr></tbody></table></div>"
      ],
      "text/plain": [
       "shape: (1_309, 15)\n",
       "┌────────┬──────────┬─────────────────┬────────┬───┬──────┬──────┬────────────────┬────────────────┐\n",
       "│ pclass ┆ survived ┆ name            ┆ sex    ┆ … ┆ boat ┆ body ┆ home.dest      ┆ age_diff_from_ │\n",
       "│ ---    ┆ ---      ┆ ---             ┆ ---    ┆   ┆ ---  ┆ ---  ┆ ---            ┆ mean_per_pclas │\n",
       "│ i64    ┆ i64      ┆ str             ┆ str    ┆   ┆ str  ┆ i64  ┆ str            ┆ s              │\n",
       "│        ┆          ┆                 ┆        ┆   ┆      ┆      ┆                ┆ ---            │\n",
       "│        ┆          ┆                 ┆        ┆   ┆      ┆      ┆                ┆ f64            │\n",
       "╞════════╪══════════╪═════════════════╪════════╪═══╪══════╪══════╪════════════════╪════════════════╡\n",
       "│ 1      ┆ 1        ┆ Allen, Miss.    ┆ female ┆ … ┆ 2    ┆ null ┆ St Louis, MO   ┆ -8.037594      │\n",
       "│        ┆          ┆ Elisabeth       ┆        ┆   ┆      ┆      ┆                ┆                │\n",
       "│        ┆          ┆ Walton          ┆        ┆   ┆      ┆      ┆                ┆                │\n",
       "│ 1      ┆ 1        ┆ Allison,        ┆ male   ┆ … ┆ 11   ┆ null ┆ Montreal, PQ / ┆ -40.109272     │\n",
       "│        ┆          ┆ Master. Hudson  ┆        ┆   ┆      ┆      ┆ Chesterville,  ┆                │\n",
       "│        ┆          ┆ Trevor          ┆        ┆   ┆      ┆      ┆ O…             ┆                │\n",
       "│ 1      ┆ 0        ┆ Allison, Miss.  ┆ female ┆ … ┆ null ┆ null ┆ Montreal, PQ / ┆ -35.037594     │\n",
       "│        ┆          ┆ Helen Loraine   ┆        ┆   ┆      ┆      ┆ Chesterville,  ┆                │\n",
       "│        ┆          ┆                 ┆        ┆   ┆      ┆      ┆ O…             ┆                │\n",
       "│ 1      ┆ 0        ┆ Allison, Mr.    ┆ male   ┆ … ┆ null ┆ 135  ┆ Montreal, PQ / ┆ -11.029272     │\n",
       "│        ┆          ┆ Hudson Joshua   ┆        ┆   ┆      ┆      ┆ Chesterville,  ┆                │\n",
       "│        ┆          ┆ Cre…            ┆        ┆   ┆      ┆      ┆ O…             ┆                │\n",
       "│ 1      ┆ 0        ┆ Allison, Mrs.   ┆ female ┆ … ┆ null ┆ null ┆ Montreal, PQ / ┆ -12.037594     │\n",
       "│        ┆          ┆ Hudson J C      ┆        ┆   ┆      ┆      ┆ Chesterville,  ┆                │\n",
       "│        ┆          ┆ (Bess…          ┆        ┆   ┆      ┆      ┆ O…             ┆                │\n",
       "│ …      ┆ …        ┆ …               ┆ …      ┆ … ┆ …    ┆ …    ┆ …              ┆ …              │\n",
       "│ 3      ┆ 0        ┆ Zabour, Miss.   ┆ female ┆ … ┆ null ┆ 328  ┆ null           ┆ -7.685329      │\n",
       "│        ┆          ┆ Hileni          ┆        ┆   ┆      ┆      ┆                ┆                │\n",
       "│ 3      ┆ 0        ┆ Zabour, Miss.   ┆ female ┆ … ┆ null ┆ null ┆ null           ┆ null           │\n",
       "│        ┆          ┆ Thamine         ┆        ┆   ┆      ┆      ┆                ┆                │\n",
       "│ 3      ┆ 0        ┆ Zakarian, Mr.   ┆ male   ┆ … ┆ null ┆ 304  ┆ null           ┆ 0.537736       │\n",
       "│        ┆          ┆ Mapriededer     ┆        ┆   ┆      ┆      ┆                ┆                │\n",
       "│ 3      ┆ 0        ┆ Zakarian, Mr.   ┆ male   ┆ … ┆ null ┆ null ┆ null           ┆ 1.037736       │\n",
       "│        ┆          ┆ Ortin           ┆        ┆   ┆      ┆      ┆                ┆                │\n",
       "│ 3      ┆ 0        ┆ Zimmerman, Mr.  ┆ male   ┆ … ┆ null ┆ null ┆ null           ┆ 3.037736       │\n",
       "│        ┆          ┆ Leo             ┆        ┆   ┆      ┆      ┆                ┆                │\n",
       "└────────┴──────────┴─────────────────┴────────┴───┴──────┴──────┴────────────────┴────────────────┘"
      ]
     },
     "execution_count": 7,
     "metadata": {},
     "output_type": "execute_result"
    }
   ],
   "source": [
    "df.with_columns(\n",
    "    (pl.col('age') - pl.col('age').mean().over(['pclass', 'sex']))\n",
    "    .alias('age_diff_from_mean_per_pclass')\n",
    ")"
   ]
  },
  {
   "cell_type": "code",
   "execution_count": 8,
   "id": "459501ca-ac8b-46cd-b902-bcaa33ba0164",
   "metadata": {},
   "outputs": [
    {
     "data": {
      "text/html": [
       "<div><style>\n",
       ".dataframe > thead > tr,\n",
       ".dataframe > tbody > tr {\n",
       "  text-align: right;\n",
       "  white-space: pre-wrap;\n",
       "}\n",
       "</style>\n",
       "<small>shape: (10, 2)</small><table border=\"1\" class=\"dataframe\"><thead><tr><th>occupation</th><th>annual_income</th></tr><tr><td>str</td><td>i64</td></tr></thead><tbody><tr><td>&quot;Sales&quot;</td><td>700</td></tr><tr><td>&quot;DataScientist&quot;</td><td>550</td></tr><tr><td>&quot;Engineer&quot;</td><td>1000</td></tr><tr><td>&quot;Sales&quot;</td><td>450</td></tr><tr><td>&quot;Engineer&quot;</td><td>500</td></tr><tr><td>&quot;Engineer&quot;</td><td>650</td></tr><tr><td>&quot;Sales&quot;</td><td>550</td></tr><tr><td>&quot;Engineer&quot;</td><td>400</td></tr><tr><td>&quot;DataScientist&quot;</td><td>600</td></tr><tr><td>&quot;Sales&quot;</td><td>900</td></tr></tbody></table></div>"
      ],
      "text/plain": [
       "shape: (10, 2)\n",
       "┌───────────────┬───────────────┐\n",
       "│ occupation    ┆ annual_income │\n",
       "│ ---           ┆ ---           │\n",
       "│ str           ┆ i64           │\n",
       "╞═══════════════╪═══════════════╡\n",
       "│ Sales         ┆ 700           │\n",
       "│ DataScientist ┆ 550           │\n",
       "│ Engineer      ┆ 1000          │\n",
       "│ Sales         ┆ 450           │\n",
       "│ Engineer      ┆ 500           │\n",
       "│ Engineer      ┆ 650           │\n",
       "│ Sales         ┆ 550           │\n",
       "│ Engineer      ┆ 400           │\n",
       "│ DataScientist ┆ 600           │\n",
       "│ Sales         ┆ 900           │\n",
       "└───────────────┴───────────────┘"
      ]
     },
     "execution_count": 8,
     "metadata": {},
     "output_type": "execute_result"
    }
   ],
   "source": [
    "df = pl.DataFrame(\n",
    "    {\n",
    "        \"occupation\": [\n",
    "            \"Sales\",\n",
    "            \"DataScientist\",\n",
    "            \"Engineer\",\n",
    "            \"Sales\",\n",
    "            \"Engineer\",\n",
    "            \"Engineer\",\n",
    "            \"Sales\",\n",
    "            \"Engineer\",\n",
    "            \"DataScientist\",\n",
    "            \"Sales\"\n",
    "        ],\n",
    "        \"annual_income\": [700, 550, 1000, 450, 500, 650, 550, 400, 600, 900],\n",
    "    }\n",
    ")\n",
    "df"
   ]
  },
  {
   "cell_type": "code",
   "execution_count": 9,
   "id": "1d7e9a21-c30f-4f6e-9d79-43ca03808d77",
   "metadata": {},
   "outputs": [
    {
     "data": {
      "text/html": [
       "<div><style>\n",
       ".dataframe > thead > tr,\n",
       ".dataframe > tbody > tr {\n",
       "  text-align: right;\n",
       "  white-space: pre-wrap;\n",
       "}\n",
       "</style>\n",
       "<small>shape: (10, 3)</small><table border=\"1\" class=\"dataframe\"><thead><tr><th>occupation</th><th>annual_income</th><th>annual_income_top3</th></tr><tr><td>str</td><td>i64</td><td>list[i64]</td></tr></thead><tbody><tr><td>&quot;Sales&quot;</td><td>700</td><td>[900, 700, 550]</td></tr><tr><td>&quot;DataScientist&quot;</td><td>550</td><td>[600, 550]</td></tr><tr><td>&quot;Engineer&quot;</td><td>1000</td><td>[1000, 650, 500]</td></tr><tr><td>&quot;Sales&quot;</td><td>450</td><td>[900, 700, 550]</td></tr><tr><td>&quot;Engineer&quot;</td><td>500</td><td>[1000, 650, 500]</td></tr><tr><td>&quot;Engineer&quot;</td><td>650</td><td>[1000, 650, 500]</td></tr><tr><td>&quot;Sales&quot;</td><td>550</td><td>[900, 700, 550]</td></tr><tr><td>&quot;Engineer&quot;</td><td>400</td><td>[1000, 650, 500]</td></tr><tr><td>&quot;DataScientist&quot;</td><td>600</td><td>[600, 550]</td></tr><tr><td>&quot;Sales&quot;</td><td>900</td><td>[900, 700, 550]</td></tr></tbody></table></div>"
      ],
      "text/plain": [
       "shape: (10, 3)\n",
       "┌───────────────┬───────────────┬────────────────────┐\n",
       "│ occupation    ┆ annual_income ┆ annual_income_top3 │\n",
       "│ ---           ┆ ---           ┆ ---                │\n",
       "│ str           ┆ i64           ┆ list[i64]          │\n",
       "╞═══════════════╪═══════════════╪════════════════════╡\n",
       "│ Sales         ┆ 700           ┆ [900, 700, 550]    │\n",
       "│ DataScientist ┆ 550           ┆ [600, 550]         │\n",
       "│ Engineer      ┆ 1000          ┆ [1000, 650, 500]   │\n",
       "│ Sales         ┆ 450           ┆ [900, 700, 550]    │\n",
       "│ Engineer      ┆ 500           ┆ [1000, 650, 500]   │\n",
       "│ Engineer      ┆ 650           ┆ [1000, 650, 500]   │\n",
       "│ Sales         ┆ 550           ┆ [900, 700, 550]    │\n",
       "│ Engineer      ┆ 400           ┆ [1000, 650, 500]   │\n",
       "│ DataScientist ┆ 600           ┆ [600, 550]         │\n",
       "│ Sales         ┆ 900           ┆ [900, 700, 550]    │\n",
       "└───────────────┴───────────────┴────────────────────┘"
      ]
     },
     "execution_count": 9,
     "metadata": {},
     "output_type": "execute_result"
    }
   ],
   "source": [
    "df.with_columns(\n",
    "    pl.col('annual_income')\n",
    "    .sort_by('annual_income', descending=True)\n",
    "    .head(3)\n",
    "    .over('occupation', mapping_strategy='join')\n",
    "    .alias('annual_income_top3')\n",
    ")\n"
   ]
  },
  {
   "cell_type": "code",
   "execution_count": 10,
   "id": "b0f59bb2-9878-4d61-a0fb-10dc12575e1b",
   "metadata": {},
   "outputs": [
    {
     "data": {
      "text/html": [
       "<div><style>\n",
       ".dataframe > thead > tr,\n",
       ".dataframe > tbody > tr {\n",
       "  text-align: right;\n",
       "  white-space: pre-wrap;\n",
       "}\n",
       "</style>\n",
       "<small>shape: (8, 2)</small><table border=\"1\" class=\"dataframe\"><thead><tr><th>occupation</th><th>annual_income</th></tr><tr><td>str</td><td>i64</td></tr></thead><tbody><tr><td>&quot;DataScientist&quot;</td><td>600</td></tr><tr><td>&quot;DataScientist&quot;</td><td>550</td></tr><tr><td>&quot;Engineer&quot;</td><td>1000</td></tr><tr><td>&quot;Engineer&quot;</td><td>650</td></tr><tr><td>&quot;Engineer&quot;</td><td>500</td></tr><tr><td>&quot;Sales&quot;</td><td>900</td></tr><tr><td>&quot;Sales&quot;</td><td>700</td></tr><tr><td>&quot;Sales&quot;</td><td>550</td></tr></tbody></table></div>"
      ],
      "text/plain": [
       "shape: (8, 2)\n",
       "┌───────────────┬───────────────┐\n",
       "│ occupation    ┆ annual_income │\n",
       "│ ---           ┆ ---           │\n",
       "│ str           ┆ i64           │\n",
       "╞═══════════════╪═══════════════╡\n",
       "│ DataScientist ┆ 600           │\n",
       "│ DataScientist ┆ 550           │\n",
       "│ Engineer      ┆ 1000          │\n",
       "│ Engineer      ┆ 650           │\n",
       "│ Engineer      ┆ 500           │\n",
       "│ Sales         ┆ 900           │\n",
       "│ Sales         ┆ 700           │\n",
       "│ Sales         ┆ 550           │\n",
       "└───────────────┴───────────────┘"
      ]
     },
     "execution_count": 10,
     "metadata": {},
     "output_type": "execute_result"
    }
   ],
   "source": [
    "df.sort('occupation').select(\n",
    "    pl.col('occupation').head(3).over('occupation', mapping_strategy='explode'),\n",
    "    pl.col('annual_income')\n",
    "    .sort_by('annual_income', descending=True)\n",
    "    .head(3)\n",
    "    .over('occupation', mapping_strategy='explode')\n",
    ")"
   ]
  },
  {
   "cell_type": "code",
   "execution_count": 11,
   "id": "50a15e98-7bd3-4bc0-967e-85c97fb2a980",
   "metadata": {},
   "outputs": [
    {
     "data": {
      "text/html": [
       "<div><style>\n",
       ".dataframe > thead > tr,\n",
       ".dataframe > tbody > tr {\n",
       "  text-align: right;\n",
       "  white-space: pre-wrap;\n",
       "}\n",
       "</style>\n",
       "<small>shape: (240, 3)</small><table border=\"1\" class=\"dataframe\"><thead><tr><th>year_month</th><th>customer_id</th><th>amount</th></tr><tr><td>str</td><td>i64</td><td>i64</td></tr></thead><tbody><tr><td>&quot;2023-01&quot;</td><td>1</td><td>960</td></tr><tr><td>&quot;2023-01&quot;</td><td>2</td><td>6331</td></tr><tr><td>&quot;2023-01&quot;</td><td>3</td><td>1284</td></tr><tr><td>&quot;2023-01&quot;</td><td>4</td><td>1075</td></tr><tr><td>&quot;2023-01&quot;</td><td>5</td><td>746</td></tr><tr><td>&hellip;</td><td>&hellip;</td><td>&hellip;</td></tr><tr><td>&quot;2023-12&quot;</td><td>16</td><td>2775</td></tr><tr><td>&quot;2023-12&quot;</td><td>17</td><td>763</td></tr><tr><td>&quot;2023-12&quot;</td><td>18</td><td>1391</td></tr><tr><td>&quot;2023-12&quot;</td><td>19</td><td>5785</td></tr><tr><td>&quot;2023-12&quot;</td><td>20</td><td>6490</td></tr></tbody></table></div>"
      ],
      "text/plain": [
       "shape: (240, 3)\n",
       "┌────────────┬─────────────┬────────┐\n",
       "│ year_month ┆ customer_id ┆ amount │\n",
       "│ ---        ┆ ---         ┆ ---    │\n",
       "│ str        ┆ i64         ┆ i64    │\n",
       "╞════════════╪═════════════╪════════╡\n",
       "│ 2023-01    ┆ 1           ┆ 960    │\n",
       "│ 2023-01    ┆ 2           ┆ 6331   │\n",
       "│ 2023-01    ┆ 3           ┆ 1284   │\n",
       "│ 2023-01    ┆ 4           ┆ 1075   │\n",
       "│ 2023-01    ┆ 5           ┆ 746    │\n",
       "│ …          ┆ …           ┆ …      │\n",
       "│ 2023-12    ┆ 16          ┆ 2775   │\n",
       "│ 2023-12    ┆ 17          ┆ 763    │\n",
       "│ 2023-12    ┆ 18          ┆ 1391   │\n",
       "│ 2023-12    ┆ 19          ┆ 5785   │\n",
       "│ 2023-12    ┆ 20          ┆ 6490   │\n",
       "└────────────┴─────────────┴────────┘"
      ]
     },
     "execution_count": 11,
     "metadata": {},
     "output_type": "execute_result"
    }
   ],
   "source": [
    "df = pl.read_csv('transactions.csv')\n",
    "df"
   ]
  },
  {
   "cell_type": "code",
   "execution_count": 12,
   "id": "243d692a-42e0-4c06-b848-b2eaa4e928d1",
   "metadata": {},
   "outputs": [
    {
     "data": {
      "text/html": [
       "<div><style>\n",
       ".dataframe > thead > tr,\n",
       ".dataframe > tbody > tr {\n",
       "  text-align: right;\n",
       "  white-space: pre-wrap;\n",
       "}\n",
       "</style>\n",
       "<small>shape: (240, 3)</small><table border=\"1\" class=\"dataframe\"><thead><tr><th>year_month</th><th>customer_id</th><th>amount</th></tr><tr><td>datetime[μs]</td><td>i64</td><td>i64</td></tr></thead><tbody><tr><td>2023-01-01 00:00:00</td><td>1</td><td>960</td></tr><tr><td>2023-01-01 00:00:00</td><td>2</td><td>6331</td></tr><tr><td>2023-01-01 00:00:00</td><td>3</td><td>1284</td></tr><tr><td>2023-01-01 00:00:00</td><td>4</td><td>1075</td></tr><tr><td>2023-01-01 00:00:00</td><td>5</td><td>746</td></tr><tr><td>&hellip;</td><td>&hellip;</td><td>&hellip;</td></tr><tr><td>2023-12-01 00:00:00</td><td>16</td><td>2775</td></tr><tr><td>2023-12-01 00:00:00</td><td>17</td><td>763</td></tr><tr><td>2023-12-01 00:00:00</td><td>18</td><td>1391</td></tr><tr><td>2023-12-01 00:00:00</td><td>19</td><td>5785</td></tr><tr><td>2023-12-01 00:00:00</td><td>20</td><td>6490</td></tr></tbody></table></div>"
      ],
      "text/plain": [
       "shape: (240, 3)\n",
       "┌─────────────────────┬─────────────┬────────┐\n",
       "│ year_month          ┆ customer_id ┆ amount │\n",
       "│ ---                 ┆ ---         ┆ ---    │\n",
       "│ datetime[μs]        ┆ i64         ┆ i64    │\n",
       "╞═════════════════════╪═════════════╪════════╡\n",
       "│ 2023-01-01 00:00:00 ┆ 1           ┆ 960    │\n",
       "│ 2023-01-01 00:00:00 ┆ 2           ┆ 6331   │\n",
       "│ 2023-01-01 00:00:00 ┆ 3           ┆ 1284   │\n",
       "│ 2023-01-01 00:00:00 ┆ 4           ┆ 1075   │\n",
       "│ 2023-01-01 00:00:00 ┆ 5           ┆ 746    │\n",
       "│ …                   ┆ …           ┆ …      │\n",
       "│ 2023-12-01 00:00:00 ┆ 16          ┆ 2775   │\n",
       "│ 2023-12-01 00:00:00 ┆ 17          ┆ 763    │\n",
       "│ 2023-12-01 00:00:00 ┆ 18          ┆ 1391   │\n",
       "│ 2023-12-01 00:00:00 ┆ 19          ┆ 5785   │\n",
       "│ 2023-12-01 00:00:00 ┆ 20          ┆ 6490   │\n",
       "└─────────────────────┴─────────────┴────────┘"
      ]
     },
     "execution_count": 12,
     "metadata": {},
     "output_type": "execute_result"
    }
   ],
   "source": [
    "df = df.with_columns(\n",
    "    pl.col('year_month')\n",
    "    .str.to_datetime('%Y-%m')\n",
    ").sort('year_month')\n",
    "df"
   ]
  },
  {
   "cell_type": "code",
   "execution_count": 13,
   "id": "66623301-844e-4413-bb95-9758da1b708d",
   "metadata": {},
   "outputs": [
    {
     "data": {
      "text/html": [
       "<div><style>\n",
       ".dataframe > thead > tr,\n",
       ".dataframe > tbody > tr {\n",
       "  text-align: right;\n",
       "  white-space: pre-wrap;\n",
       "}\n",
       "</style>\n",
       "<small>shape: (240, 4)</small><table border=\"1\" class=\"dataframe\"><thead><tr><th>year_month</th><th>customer_id</th><th>amount</th><th>cumlative_amount</th></tr><tr><td>datetime[μs]</td><td>i64</td><td>i64</td><td>i64</td></tr></thead><tbody><tr><td>2023-01-01 00:00:00</td><td>1</td><td>960</td><td>960</td></tr><tr><td>2023-01-01 00:00:00</td><td>2</td><td>6331</td><td>6331</td></tr><tr><td>2023-01-01 00:00:00</td><td>3</td><td>1284</td><td>1284</td></tr><tr><td>2023-01-01 00:00:00</td><td>4</td><td>1075</td><td>1075</td></tr><tr><td>2023-01-01 00:00:00</td><td>5</td><td>746</td><td>746</td></tr><tr><td>&hellip;</td><td>&hellip;</td><td>&hellip;</td><td>&hellip;</td></tr><tr><td>2023-12-01 00:00:00</td><td>16</td><td>2775</td><td>42021</td></tr><tr><td>2023-12-01 00:00:00</td><td>17</td><td>763</td><td>48928</td></tr><tr><td>2023-12-01 00:00:00</td><td>18</td><td>1391</td><td>43326</td></tr><tr><td>2023-12-01 00:00:00</td><td>19</td><td>5785</td><td>43461</td></tr><tr><td>2023-12-01 00:00:00</td><td>20</td><td>6490</td><td>51494</td></tr></tbody></table></div>"
      ],
      "text/plain": [
       "shape: (240, 4)\n",
       "┌─────────────────────┬─────────────┬────────┬──────────────────┐\n",
       "│ year_month          ┆ customer_id ┆ amount ┆ cumlative_amount │\n",
       "│ ---                 ┆ ---         ┆ ---    ┆ ---              │\n",
       "│ datetime[μs]        ┆ i64         ┆ i64    ┆ i64              │\n",
       "╞═════════════════════╪═════════════╪════════╪══════════════════╡\n",
       "│ 2023-01-01 00:00:00 ┆ 1           ┆ 960    ┆ 960              │\n",
       "│ 2023-01-01 00:00:00 ┆ 2           ┆ 6331   ┆ 6331             │\n",
       "│ 2023-01-01 00:00:00 ┆ 3           ┆ 1284   ┆ 1284             │\n",
       "│ 2023-01-01 00:00:00 ┆ 4           ┆ 1075   ┆ 1075             │\n",
       "│ 2023-01-01 00:00:00 ┆ 5           ┆ 746    ┆ 746              │\n",
       "│ …                   ┆ …           ┆ …      ┆ …                │\n",
       "│ 2023-12-01 00:00:00 ┆ 16          ┆ 2775   ┆ 42021            │\n",
       "│ 2023-12-01 00:00:00 ┆ 17          ┆ 763    ┆ 48928            │\n",
       "│ 2023-12-01 00:00:00 ┆ 18          ┆ 1391   ┆ 43326            │\n",
       "│ 2023-12-01 00:00:00 ┆ 19          ┆ 5785   ┆ 43461            │\n",
       "│ 2023-12-01 00:00:00 ┆ 20          ┆ 6490   ┆ 51494            │\n",
       "└─────────────────────┴─────────────┴────────┴──────────────────┘"
      ]
     },
     "execution_count": 13,
     "metadata": {},
     "output_type": "execute_result"
    }
   ],
   "source": [
    "df = df.with_columns(\n",
    "    pl.col('amount').cum_sum().over('customer_id').alias('cumlative_amount')\n",
    ")\n",
    "df"
   ]
  },
  {
   "cell_type": "code",
   "execution_count": 14,
   "id": "ac64ab2c-7e63-4f1f-b9fe-b6d0d0e89433",
   "metadata": {},
   "outputs": [
    {
     "data": {
      "text/html": [
       "<div><style>\n",
       ".dataframe > thead > tr,\n",
       ".dataframe > tbody > tr {\n",
       "  text-align: right;\n",
       "  white-space: pre-wrap;\n",
       "}\n",
       "</style>\n",
       "<small>shape: (240, 4)</small><table border=\"1\" class=\"dataframe\"><thead><tr><th>year_month</th><th>customer_id</th><th>amount</th><th>cumlative_amount</th></tr><tr><td>datetime[μs]</td><td>i64</td><td>i64</td><td>i64</td></tr></thead><tbody><tr><td>2023-01-01 00:00:00</td><td>1</td><td>960</td><td>960</td></tr><tr><td>2023-02-01 00:00:00</td><td>1</td><td>5490</td><td>6450</td></tr><tr><td>2023-03-01 00:00:00</td><td>1</td><td>5326</td><td>11776</td></tr><tr><td>2023-04-01 00:00:00</td><td>1</td><td>5291</td><td>17067</td></tr><tr><td>2023-05-01 00:00:00</td><td>1</td><td>3872</td><td>20939</td></tr><tr><td>&hellip;</td><td>&hellip;</td><td>&hellip;</td><td>&hellip;</td></tr><tr><td>2023-08-01 00:00:00</td><td>20</td><td>2877</td><td>31645</td></tr><tr><td>2023-09-01 00:00:00</td><td>20</td><td>5891</td><td>37536</td></tr><tr><td>2023-10-01 00:00:00</td><td>20</td><td>1833</td><td>39369</td></tr><tr><td>2023-11-01 00:00:00</td><td>20</td><td>5635</td><td>45004</td></tr><tr><td>2023-12-01 00:00:00</td><td>20</td><td>6490</td><td>51494</td></tr></tbody></table></div>"
      ],
      "text/plain": [
       "shape: (240, 4)\n",
       "┌─────────────────────┬─────────────┬────────┬──────────────────┐\n",
       "│ year_month          ┆ customer_id ┆ amount ┆ cumlative_amount │\n",
       "│ ---                 ┆ ---         ┆ ---    ┆ ---              │\n",
       "│ datetime[μs]        ┆ i64         ┆ i64    ┆ i64              │\n",
       "╞═════════════════════╪═════════════╪════════╪══════════════════╡\n",
       "│ 2023-01-01 00:00:00 ┆ 1           ┆ 960    ┆ 960              │\n",
       "│ 2023-02-01 00:00:00 ┆ 1           ┆ 5490   ┆ 6450             │\n",
       "│ 2023-03-01 00:00:00 ┆ 1           ┆ 5326   ┆ 11776            │\n",
       "│ 2023-04-01 00:00:00 ┆ 1           ┆ 5291   ┆ 17067            │\n",
       "│ 2023-05-01 00:00:00 ┆ 1           ┆ 3872   ┆ 20939            │\n",
       "│ …                   ┆ …           ┆ …      ┆ …                │\n",
       "│ 2023-08-01 00:00:00 ┆ 20          ┆ 2877   ┆ 31645            │\n",
       "│ 2023-09-01 00:00:00 ┆ 20          ┆ 5891   ┆ 37536            │\n",
       "│ 2023-10-01 00:00:00 ┆ 20          ┆ 1833   ┆ 39369            │\n",
       "│ 2023-11-01 00:00:00 ┆ 20          ┆ 5635   ┆ 45004            │\n",
       "│ 2023-12-01 00:00:00 ┆ 20          ┆ 6490   ┆ 51494            │\n",
       "└─────────────────────┴─────────────┴────────┴──────────────────┘"
      ]
     },
     "execution_count": 14,
     "metadata": {},
     "output_type": "execute_result"
    }
   ],
   "source": [
    "df.sort(['customer_id', 'year_month'])"
   ]
  },
  {
   "cell_type": "code",
   "execution_count": 15,
   "id": "0b97f9c6-8e80-43b4-bfc2-03b8f3770b61",
   "metadata": {},
   "outputs": [
    {
     "data": {
      "text/html": [
       "<div><style>\n",
       ".dataframe > thead > tr,\n",
       ".dataframe > tbody > tr {\n",
       "  text-align: right;\n",
       "  white-space: pre-wrap;\n",
       "}\n",
       "</style>\n",
       "<small>shape: (240, 4)</small><table border=\"1\" class=\"dataframe\"><thead><tr><th>year_month</th><th>customer_id</th><th>amount</th><th>cumlative_count</th></tr><tr><td>datetime[μs]</td><td>i64</td><td>i64</td><td>u32</td></tr></thead><tbody><tr><td>2023-01-01 00:00:00</td><td>1</td><td>960</td><td>1</td></tr><tr><td>2023-02-01 00:00:00</td><td>1</td><td>5490</td><td>2</td></tr><tr><td>2023-03-01 00:00:00</td><td>1</td><td>5326</td><td>3</td></tr><tr><td>2023-04-01 00:00:00</td><td>1</td><td>5291</td><td>4</td></tr><tr><td>2023-05-01 00:00:00</td><td>1</td><td>3872</td><td>5</td></tr><tr><td>&hellip;</td><td>&hellip;</td><td>&hellip;</td><td>&hellip;</td></tr><tr><td>2023-08-01 00:00:00</td><td>20</td><td>2877</td><td>8</td></tr><tr><td>2023-09-01 00:00:00</td><td>20</td><td>5891</td><td>9</td></tr><tr><td>2023-10-01 00:00:00</td><td>20</td><td>1833</td><td>10</td></tr><tr><td>2023-11-01 00:00:00</td><td>20</td><td>5635</td><td>11</td></tr><tr><td>2023-12-01 00:00:00</td><td>20</td><td>6490</td><td>12</td></tr></tbody></table></div>"
      ],
      "text/plain": [
       "shape: (240, 4)\n",
       "┌─────────────────────┬─────────────┬────────┬─────────────────┐\n",
       "│ year_month          ┆ customer_id ┆ amount ┆ cumlative_count │\n",
       "│ ---                 ┆ ---         ┆ ---    ┆ ---             │\n",
       "│ datetime[μs]        ┆ i64         ┆ i64    ┆ u32             │\n",
       "╞═════════════════════╪═════════════╪════════╪═════════════════╡\n",
       "│ 2023-01-01 00:00:00 ┆ 1           ┆ 960    ┆ 1               │\n",
       "│ 2023-02-01 00:00:00 ┆ 1           ┆ 5490   ┆ 2               │\n",
       "│ 2023-03-01 00:00:00 ┆ 1           ┆ 5326   ┆ 3               │\n",
       "│ 2023-04-01 00:00:00 ┆ 1           ┆ 5291   ┆ 4               │\n",
       "│ 2023-05-01 00:00:00 ┆ 1           ┆ 3872   ┆ 5               │\n",
       "│ …                   ┆ …           ┆ …      ┆ …               │\n",
       "│ 2023-08-01 00:00:00 ┆ 20          ┆ 2877   ┆ 8               │\n",
       "│ 2023-09-01 00:00:00 ┆ 20          ┆ 5891   ┆ 9               │\n",
       "│ 2023-10-01 00:00:00 ┆ 20          ┆ 1833   ┆ 10              │\n",
       "│ 2023-11-01 00:00:00 ┆ 20          ┆ 5635   ┆ 11              │\n",
       "│ 2023-12-01 00:00:00 ┆ 20          ┆ 6490   ┆ 12              │\n",
       "└─────────────────────┴─────────────┴────────┴─────────────────┘"
      ]
     },
     "execution_count": 15,
     "metadata": {},
     "output_type": "execute_result"
    }
   ],
   "source": [
    "df = pl.read_csv('transactions.csv')\n",
    "\n",
    "df = df.with_columns(\n",
    "    pl.col('year_month')\n",
    "    .str.to_datetime('%Y-%m')\n",
    ").sort('year_month')\n",
    "\n",
    "df_cumlative = df.with_columns(\n",
    "    pl.col('amount').cum_count().over('customer_id').alias('cumlative_count')  # amount以外でも結果は変わらない\n",
    ")\n",
    "df_cumlative.sort(['customer_id', 'year_month'])"
   ]
  },
  {
   "cell_type": "code",
   "execution_count": 16,
   "id": "acd6ac00-6747-4ca6-a5ee-be28fc2a601c",
   "metadata": {},
   "outputs": [
    {
     "data": {
      "text/html": [
       "<div><style>\n",
       ".dataframe > thead > tr,\n",
       ".dataframe > tbody > tr {\n",
       "  text-align: right;\n",
       "  white-space: pre-wrap;\n",
       "}\n",
       "</style>\n",
       "<small>shape: (1_309, 14)</small><table border=\"1\" class=\"dataframe\"><thead><tr><th>pclass</th><th>survived</th><th>name</th><th>sex</th><th>age</th><th>sibsp</th><th>parch</th><th>ticket</th><th>fare</th><th>cabin</th><th>embarked</th><th>boat</th><th>body</th><th>home.dest</th></tr><tr><td>i64</td><td>i64</td><td>str</td><td>str</td><td>f64</td><td>i64</td><td>i64</td><td>str</td><td>f64</td><td>str</td><td>str</td><td>str</td><td>i64</td><td>str</td></tr></thead><tbody><tr><td>1</td><td>1</td><td>&quot;Allen, Miss. Elisabeth Walton&quot;</td><td>&quot;female&quot;</td><td>29.0</td><td>0</td><td>0</td><td>&quot;24160&quot;</td><td>211.3375</td><td>&quot;B5&quot;</td><td>&quot;S&quot;</td><td>&quot;2&quot;</td><td>null</td><td>&quot;St Louis, MO&quot;</td></tr><tr><td>1</td><td>1</td><td>&quot;Allison, Master. Hudson Trevor&quot;</td><td>&quot;male&quot;</td><td>0.92</td><td>1</td><td>2</td><td>&quot;113781&quot;</td><td>151.55</td><td>&quot;C22 C26&quot;</td><td>&quot;S&quot;</td><td>&quot;11&quot;</td><td>null</td><td>&quot;Montreal, PQ / Chesterville, O…</td></tr><tr><td>1</td><td>0</td><td>&quot;Allison, Miss. Helen Loraine&quot;</td><td>&quot;female&quot;</td><td>2.0</td><td>1</td><td>2</td><td>&quot;113781&quot;</td><td>151.55</td><td>&quot;C22 C26&quot;</td><td>&quot;S&quot;</td><td>null</td><td>null</td><td>&quot;Montreal, PQ / Chesterville, O…</td></tr><tr><td>1</td><td>0</td><td>&quot;Allison, Mr. Hudson Joshua Cre…</td><td>&quot;male&quot;</td><td>30.0</td><td>1</td><td>2</td><td>&quot;113781&quot;</td><td>151.55</td><td>&quot;C22 C26&quot;</td><td>&quot;S&quot;</td><td>null</td><td>135</td><td>&quot;Montreal, PQ / Chesterville, O…</td></tr><tr><td>1</td><td>0</td><td>&quot;Allison, Mrs. Hudson J C (Bess…</td><td>&quot;female&quot;</td><td>25.0</td><td>1</td><td>2</td><td>&quot;113781&quot;</td><td>151.55</td><td>&quot;C22 C26&quot;</td><td>&quot;S&quot;</td><td>null</td><td>null</td><td>&quot;Montreal, PQ / Chesterville, O…</td></tr><tr><td>&hellip;</td><td>&hellip;</td><td>&hellip;</td><td>&hellip;</td><td>&hellip;</td><td>&hellip;</td><td>&hellip;</td><td>&hellip;</td><td>&hellip;</td><td>&hellip;</td><td>&hellip;</td><td>&hellip;</td><td>&hellip;</td><td>&hellip;</td></tr><tr><td>3</td><td>0</td><td>&quot;Zabour, Miss. Hileni&quot;</td><td>&quot;female&quot;</td><td>14.5</td><td>1</td><td>0</td><td>&quot;2665&quot;</td><td>14.4542</td><td>null</td><td>&quot;C&quot;</td><td>null</td><td>328</td><td>null</td></tr><tr><td>3</td><td>0</td><td>&quot;Zabour, Miss. Thamine&quot;</td><td>&quot;female&quot;</td><td>null</td><td>1</td><td>0</td><td>&quot;2665&quot;</td><td>14.4542</td><td>null</td><td>&quot;C&quot;</td><td>null</td><td>null</td><td>null</td></tr><tr><td>3</td><td>0</td><td>&quot;Zakarian, Mr. Mapriededer&quot;</td><td>&quot;male&quot;</td><td>26.5</td><td>0</td><td>0</td><td>&quot;2656&quot;</td><td>7.225</td><td>null</td><td>&quot;C&quot;</td><td>null</td><td>304</td><td>null</td></tr><tr><td>3</td><td>0</td><td>&quot;Zakarian, Mr. Ortin&quot;</td><td>&quot;male&quot;</td><td>27.0</td><td>0</td><td>0</td><td>&quot;2670&quot;</td><td>7.225</td><td>null</td><td>&quot;C&quot;</td><td>null</td><td>null</td><td>null</td></tr><tr><td>3</td><td>0</td><td>&quot;Zimmerman, Mr. Leo&quot;</td><td>&quot;male&quot;</td><td>29.0</td><td>0</td><td>0</td><td>&quot;315082&quot;</td><td>7.875</td><td>null</td><td>&quot;S&quot;</td><td>null</td><td>null</td><td>null</td></tr></tbody></table></div>"
      ],
      "text/plain": [
       "shape: (1_309, 14)\n",
       "┌────────┬──────────┬────────────────────┬────────┬───┬──────────┬──────┬──────┬───────────────────┐\n",
       "│ pclass ┆ survived ┆ name               ┆ sex    ┆ … ┆ embarked ┆ boat ┆ body ┆ home.dest         │\n",
       "│ ---    ┆ ---      ┆ ---                ┆ ---    ┆   ┆ ---      ┆ ---  ┆ ---  ┆ ---               │\n",
       "│ i64    ┆ i64      ┆ str                ┆ str    ┆   ┆ str      ┆ str  ┆ i64  ┆ str               │\n",
       "╞════════╪══════════╪════════════════════╪════════╪═══╪══════════╪══════╪══════╪═══════════════════╡\n",
       "│ 1      ┆ 1        ┆ Allen, Miss.       ┆ female ┆ … ┆ S        ┆ 2    ┆ null ┆ St Louis, MO      │\n",
       "│        ┆          ┆ Elisabeth Walton   ┆        ┆   ┆          ┆      ┆      ┆                   │\n",
       "│ 1      ┆ 1        ┆ Allison, Master.   ┆ male   ┆ … ┆ S        ┆ 11   ┆ null ┆ Montreal, PQ /    │\n",
       "│        ┆          ┆ Hudson Trevor      ┆        ┆   ┆          ┆      ┆      ┆ Chesterville, O…  │\n",
       "│ 1      ┆ 0        ┆ Allison, Miss.     ┆ female ┆ … ┆ S        ┆ null ┆ null ┆ Montreal, PQ /    │\n",
       "│        ┆          ┆ Helen Loraine      ┆        ┆   ┆          ┆      ┆      ┆ Chesterville, O…  │\n",
       "│ 1      ┆ 0        ┆ Allison, Mr.       ┆ male   ┆ … ┆ S        ┆ null ┆ 135  ┆ Montreal, PQ /    │\n",
       "│        ┆          ┆ Hudson Joshua Cre… ┆        ┆   ┆          ┆      ┆      ┆ Chesterville, O…  │\n",
       "│ 1      ┆ 0        ┆ Allison, Mrs.      ┆ female ┆ … ┆ S        ┆ null ┆ null ┆ Montreal, PQ /    │\n",
       "│        ┆          ┆ Hudson J C (Bess…  ┆        ┆   ┆          ┆      ┆      ┆ Chesterville, O…  │\n",
       "│ …      ┆ …        ┆ …                  ┆ …      ┆ … ┆ …        ┆ …    ┆ …    ┆ …                 │\n",
       "│ 3      ┆ 0        ┆ Zabour, Miss.      ┆ female ┆ … ┆ C        ┆ null ┆ 328  ┆ null              │\n",
       "│        ┆          ┆ Hileni             ┆        ┆   ┆          ┆      ┆      ┆                   │\n",
       "│ 3      ┆ 0        ┆ Zabour, Miss.      ┆ female ┆ … ┆ C        ┆ null ┆ null ┆ null              │\n",
       "│        ┆          ┆ Thamine            ┆        ┆   ┆          ┆      ┆      ┆                   │\n",
       "│ 3      ┆ 0        ┆ Zakarian, Mr.      ┆ male   ┆ … ┆ C        ┆ null ┆ 304  ┆ null              │\n",
       "│        ┆          ┆ Mapriededer        ┆        ┆   ┆          ┆      ┆      ┆                   │\n",
       "│ 3      ┆ 0        ┆ Zakarian, Mr.      ┆ male   ┆ … ┆ C        ┆ null ┆ null ┆ null              │\n",
       "│        ┆          ┆ Ortin              ┆        ┆   ┆          ┆      ┆      ┆                   │\n",
       "│ 3      ┆ 0        ┆ Zimmerman, Mr. Leo ┆ male   ┆ … ┆ S        ┆ null ┆ null ┆ null              │\n",
       "└────────┴──────────┴────────────────────┴────────┴───┴──────────┴──────┴──────┴───────────────────┘"
      ]
     },
     "execution_count": 16,
     "metadata": {},
     "output_type": "execute_result"
    }
   ],
   "source": [
    "df = pl.read_csv('titanic.csv')\n",
    "df"
   ]
  },
  {
   "cell_type": "code",
   "execution_count": 17,
   "id": "30d39a25-db98-48eb-9a43-35e9f4342954",
   "metadata": {},
   "outputs": [
    {
     "data": {
      "text/html": [
       "<div><style>\n",
       ".dataframe > thead > tr,\n",
       ".dataframe > tbody > tr {\n",
       "  text-align: right;\n",
       "  white-space: pre-wrap;\n",
       "}\n",
       "</style>\n",
       "<small>shape: (2, 4)</small><table border=\"1\" class=\"dataframe\"><thead><tr><th>sex</th><th>1</th><th>2</th><th>3</th></tr><tr><td>str</td><td>f64</td><td>f64</td><td>f64</td></tr></thead><tbody><tr><td>&quot;female&quot;</td><td>0.965278</td><td>0.886792</td><td>0.490741</td></tr><tr><td>&quot;male&quot;</td><td>0.340782</td><td>0.146199</td><td>0.15213</td></tr></tbody></table></div>"
      ],
      "text/plain": [
       "shape: (2, 4)\n",
       "┌────────┬──────────┬──────────┬──────────┐\n",
       "│ sex    ┆ 1        ┆ 2        ┆ 3        │\n",
       "│ ---    ┆ ---      ┆ ---      ┆ ---      │\n",
       "│ str    ┆ f64      ┆ f64      ┆ f64      │\n",
       "╞════════╪══════════╪══════════╪══════════╡\n",
       "│ female ┆ 0.965278 ┆ 0.886792 ┆ 0.490741 │\n",
       "│ male   ┆ 0.340782 ┆ 0.146199 ┆ 0.15213  │\n",
       "└────────┴──────────┴──────────┴──────────┘"
      ]
     },
     "execution_count": 17,
     "metadata": {},
     "output_type": "execute_result"
    }
   ],
   "source": [
    "df.pivot(\n",
    "    values='survived',\n",
    "    index='sex',\n",
    "    on='pclass',\n",
    "    aggregate_function='mean'\n",
    ")"
   ]
  },
  {
   "cell_type": "code",
   "execution_count": 18,
   "id": "5cc20249-03cd-427c-8fc9-91e3efa888bf",
   "metadata": {},
   "outputs": [
    {
     "data": {
      "text/html": [
       "<div><style>\n",
       ".dataframe > thead > tr,\n",
       ".dataframe > tbody > tr {\n",
       "  text-align: right;\n",
       "  white-space: pre-wrap;\n",
       "}\n",
       "</style>\n",
       "<small>shape: (2, 4)</small><table border=\"1\" class=\"dataframe\"><thead><tr><th>sex</th><th>1</th><th>2</th><th>3</th></tr><tr><td>str</td><td>u32</td><td>u32</td><td>u32</td></tr></thead><tbody><tr><td>&quot;female&quot;</td><td>144</td><td>106</td><td>216</td></tr><tr><td>&quot;male&quot;</td><td>179</td><td>171</td><td>493</td></tr></tbody></table></div>"
      ],
      "text/plain": [
       "shape: (2, 4)\n",
       "┌────────┬─────┬─────┬─────┐\n",
       "│ sex    ┆ 1   ┆ 2   ┆ 3   │\n",
       "│ ---    ┆ --- ┆ --- ┆ --- │\n",
       "│ str    ┆ u32 ┆ u32 ┆ u32 │\n",
       "╞════════╪═════╪═════╪═════╡\n",
       "│ female ┆ 144 ┆ 106 ┆ 216 │\n",
       "│ male   ┆ 179 ┆ 171 ┆ 493 │\n",
       "└────────┴─────┴─────┴─────┘"
      ]
     },
     "execution_count": 18,
     "metadata": {},
     "output_type": "execute_result"
    }
   ],
   "source": [
    "df.pivot(\n",
    "    values='survived',\n",
    "    index='sex',\n",
    "    on='pclass',\n",
    "    aggregate_function='len'\n",
    ")"
   ]
  },
  {
   "cell_type": "code",
   "execution_count": 19,
   "id": "4368eb99-45c6-480b-9923-f116bc76b843",
   "metadata": {},
   "outputs": [
    {
     "data": {
      "text/html": [
       "<div><style>\n",
       ".dataframe > thead > tr,\n",
       ".dataframe > tbody > tr {\n",
       "  text-align: right;\n",
       "  white-space: pre-wrap;\n",
       "}\n",
       "</style>\n",
       "<small>shape: (2, 4)</small><table border=\"1\" class=\"dataframe\"><thead><tr><th>sex</th><th>1</th><th>2</th><th>3</th></tr><tr><td>str</td><td>i64</td><td>i64</td><td>i64</td></tr></thead><tbody><tr><td>&quot;female&quot;</td><td>139</td><td>94</td><td>106</td></tr><tr><td>&quot;male&quot;</td><td>61</td><td>25</td><td>75</td></tr></tbody></table></div>"
      ],
      "text/plain": [
       "shape: (2, 4)\n",
       "┌────────┬─────┬─────┬─────┐\n",
       "│ sex    ┆ 1   ┆ 2   ┆ 3   │\n",
       "│ ---    ┆ --- ┆ --- ┆ --- │\n",
       "│ str    ┆ i64 ┆ i64 ┆ i64 │\n",
       "╞════════╪═════╪═════╪═════╡\n",
       "│ female ┆ 139 ┆ 94  ┆ 106 │\n",
       "│ male   ┆ 61  ┆ 25  ┆ 75  │\n",
       "└────────┴─────┴─────┴─────┘"
      ]
     },
     "execution_count": 19,
     "metadata": {},
     "output_type": "execute_result"
    }
   ],
   "source": [
    "df.pivot(\n",
    "    values='survived',\n",
    "    index='sex',\n",
    "    on='pclass',\n",
    "    aggregate_function='sum'\n",
    ")"
   ]
  },
  {
   "cell_type": "code",
   "execution_count": 20,
   "id": "e8e5ec62-cec3-4e54-bc8f-5a00bbd6ebeb",
   "metadata": {},
   "outputs": [
    {
     "data": {
      "text/html": [
       "<div><style>\n",
       ".dataframe > thead > tr,\n",
       ".dataframe > tbody > tr {\n",
       "  text-align: right;\n",
       "  white-space: pre-wrap;\n",
       "}\n",
       "</style>\n",
       "<small>shape: (2, 4)</small><table border=\"1\" class=\"dataframe\"><thead><tr><th>sex</th><th>1</th><th>2</th><th>3</th></tr><tr><td>str</td><td>f64</td><td>f64</td><td>f64</td></tr></thead><tbody><tr><td>&quot;female&quot;</td><td>0.965278</td><td>0.886792</td><td>0.490741</td></tr><tr><td>&quot;male&quot;</td><td>0.340782</td><td>0.146199</td><td>0.15213</td></tr></tbody></table></div>"
      ],
      "text/plain": [
       "shape: (2, 4)\n",
       "┌────────┬──────────┬──────────┬──────────┐\n",
       "│ sex    ┆ 1        ┆ 2        ┆ 3        │\n",
       "│ ---    ┆ ---      ┆ ---      ┆ ---      │\n",
       "│ str    ┆ f64      ┆ f64      ┆ f64      │\n",
       "╞════════╪══════════╪══════════╪══════════╡\n",
       "│ female ┆ 0.965278 ┆ 0.886792 ┆ 0.490741 │\n",
       "│ male   ┆ 0.340782 ┆ 0.146199 ┆ 0.15213  │\n",
       "└────────┴──────────┴──────────┴──────────┘"
      ]
     },
     "execution_count": 20,
     "metadata": {},
     "output_type": "execute_result"
    }
   ],
   "source": [
    "aggregate_function = lambda col: col.mean()\n",
    "\n",
    "(\n",
    "    df.lazy()\n",
    "    .group_by(pl.col(\"sex\"))\n",
    "    .agg(\n",
    "        [\n",
    "            aggregate_function(\n",
    "                pl.col(\"survived\").filter(pl.col(\"pclass\") == value)\n",
    "            ).alias(str(value))\n",
    "            for value in [1, 2, 3]\n",
    "        ]\n",
    "    )\n",
    "    .collect()\n",
    ")"
   ]
  },
  {
   "cell_type": "code",
   "execution_count": null,
   "id": "37792359-7a07-4028-b31e-a2789d14427b",
   "metadata": {},
   "outputs": [],
   "source": []
  }
 ],
 "metadata": {
  "kernelspec": {
   "display_name": "Python 3 (ipykernel)",
   "language": "python",
   "name": "python3"
  },
  "language_info": {
   "codemirror_mode": {
    "name": "ipython",
    "version": 3
   },
   "file_extension": ".py",
   "mimetype": "text/x-python",
   "name": "python",
   "nbconvert_exporter": "python",
   "pygments_lexer": "ipython3",
   "version": "3.11.10"
  }
 },
 "nbformat": 4,
 "nbformat_minor": 5
}
