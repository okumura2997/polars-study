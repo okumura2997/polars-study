{
 "cells": [
  {
   "cell_type": "code",
   "execution_count": 1,
   "id": "0cebed56-7ece-416d-b342-58d4bbffe61a",
   "metadata": {},
   "outputs": [],
   "source": [
    "import polars as pl\n",
    "import pandas as pd"
   ]
  },
  {
   "cell_type": "code",
   "execution_count": 2,
   "id": "8295465a-d520-4316-91bd-935b654ad6eb",
   "metadata": {},
   "outputs": [
    {
     "data": {
      "text/html": [
       "<div><style>\n",
       ".dataframe > thead > tr,\n",
       ".dataframe > tbody > tr {\n",
       "  text-align: right;\n",
       "  white-space: pre-wrap;\n",
       "}\n",
       "</style>\n",
       "<small>shape: (3, 14)</small><table border=\"1\" class=\"dataframe\"><thead><tr><th>pclass</th><th>survived</th><th>name</th><th>sex</th><th>age</th><th>sibsp</th><th>parch</th><th>ticket</th><th>fare</th><th>cabin</th><th>embarked</th><th>boat</th><th>body</th><th>home.dest</th></tr><tr><td>i64</td><td>i64</td><td>str</td><td>str</td><td>f64</td><td>i64</td><td>i64</td><td>str</td><td>f64</td><td>str</td><td>str</td><td>str</td><td>i64</td><td>str</td></tr></thead><tbody><tr><td>1</td><td>1</td><td>&quot;Allen, Miss. Elisabeth Walton&quot;</td><td>&quot;female&quot;</td><td>29.0</td><td>0</td><td>0</td><td>&quot;24160&quot;</td><td>211.3375</td><td>&quot;B5&quot;</td><td>&quot;S&quot;</td><td>&quot;2&quot;</td><td>null</td><td>&quot;St Louis, MO&quot;</td></tr><tr><td>1</td><td>1</td><td>&quot;Allison, Master. Hudson Trevor&quot;</td><td>&quot;male&quot;</td><td>0.92</td><td>1</td><td>2</td><td>&quot;113781&quot;</td><td>151.55</td><td>&quot;C22 C26&quot;</td><td>&quot;S&quot;</td><td>&quot;11&quot;</td><td>null</td><td>&quot;Montreal, PQ / Chesterville, O…</td></tr><tr><td>1</td><td>0</td><td>&quot;Allison, Miss. Helen Loraine&quot;</td><td>&quot;female&quot;</td><td>2.0</td><td>1</td><td>2</td><td>&quot;113781&quot;</td><td>151.55</td><td>&quot;C22 C26&quot;</td><td>&quot;S&quot;</td><td>null</td><td>null</td><td>&quot;Montreal, PQ / Chesterville, O…</td></tr></tbody></table></div>"
      ],
      "text/plain": [
       "shape: (3, 14)\n",
       "┌────────┬──────────┬────────────────────┬────────┬───┬──────────┬──────┬──────┬───────────────────┐\n",
       "│ pclass ┆ survived ┆ name               ┆ sex    ┆ … ┆ embarked ┆ boat ┆ body ┆ home.dest         │\n",
       "│ ---    ┆ ---      ┆ ---                ┆ ---    ┆   ┆ ---      ┆ ---  ┆ ---  ┆ ---               │\n",
       "│ i64    ┆ i64      ┆ str                ┆ str    ┆   ┆ str      ┆ str  ┆ i64  ┆ str               │\n",
       "╞════════╪══════════╪════════════════════╪════════╪═══╪══════════╪══════╪══════╪═══════════════════╡\n",
       "│ 1      ┆ 1        ┆ Allen, Miss.       ┆ female ┆ … ┆ S        ┆ 2    ┆ null ┆ St Louis, MO      │\n",
       "│        ┆          ┆ Elisabeth Walton   ┆        ┆   ┆          ┆      ┆      ┆                   │\n",
       "│ 1      ┆ 1        ┆ Allison, Master.   ┆ male   ┆ … ┆ S        ┆ 11   ┆ null ┆ Montreal, PQ /    │\n",
       "│        ┆          ┆ Hudson Trevor      ┆        ┆   ┆          ┆      ┆      ┆ Chesterville, O…  │\n",
       "│ 1      ┆ 0        ┆ Allison, Miss.     ┆ female ┆ … ┆ S        ┆ null ┆ null ┆ Montreal, PQ /    │\n",
       "│        ┆          ┆ Helen Loraine      ┆        ┆   ┆          ┆      ┆      ┆ Chesterville, O…  │\n",
       "└────────┴──────────┴────────────────────┴────────┴───┴──────────┴──────┴──────┴───────────────────┘"
      ]
     },
     "execution_count": 2,
     "metadata": {},
     "output_type": "execute_result"
    }
   ],
   "source": [
    "df = pl.read_csv('titanic.csv')\n",
    "df.head(3)"
   ]
  },
  {
   "cell_type": "code",
   "execution_count": 3,
   "id": "47bcfebc-5991-4a13-9d3d-31ea53dbbf6e",
   "metadata": {},
   "outputs": [
    {
     "data": {
      "text/html": [
       "<div><style>\n",
       ".dataframe > thead > tr,\n",
       ".dataframe > tbody > tr {\n",
       "  text-align: right;\n",
       "  white-space: pre-wrap;\n",
       "}\n",
       "</style>\n",
       "<small>shape: (100, 14)</small><table border=\"1\" class=\"dataframe\"><thead><tr><th>pclass</th><th>survived</th><th>name</th><th>sex</th><th>age</th><th>sibsp</th><th>parch</th><th>ticket</th><th>fare</th><th>cabin</th><th>embarked</th><th>boat</th><th>body</th><th>home.dest</th></tr><tr><td>i64</td><td>i64</td><td>str</td><td>str</td><td>f64</td><td>i64</td><td>i64</td><td>str</td><td>f64</td><td>str</td><td>str</td><td>str</td><td>i64</td><td>str</td></tr></thead><tbody><tr><td>1</td><td>1</td><td>&quot;Allen, Miss. Elisabeth Walton&quot;</td><td>&quot;female&quot;</td><td>29.0</td><td>0</td><td>0</td><td>&quot;24160&quot;</td><td>211.3375</td><td>&quot;B5&quot;</td><td>&quot;S&quot;</td><td>&quot;2&quot;</td><td>null</td><td>&quot;St Louis, MO&quot;</td></tr><tr><td>1</td><td>1</td><td>&quot;Allison, Master. Hudson Trevor&quot;</td><td>&quot;male&quot;</td><td>0.92</td><td>1</td><td>2</td><td>&quot;113781&quot;</td><td>151.55</td><td>&quot;C22 C26&quot;</td><td>&quot;S&quot;</td><td>&quot;11&quot;</td><td>null</td><td>&quot;Montreal, PQ / Chesterville, O…</td></tr><tr><td>1</td><td>0</td><td>&quot;Allison, Miss. Helen Loraine&quot;</td><td>&quot;female&quot;</td><td>2.0</td><td>1</td><td>2</td><td>&quot;113781&quot;</td><td>151.55</td><td>&quot;C22 C26&quot;</td><td>&quot;S&quot;</td><td>null</td><td>null</td><td>&quot;Montreal, PQ / Chesterville, O…</td></tr><tr><td>1</td><td>0</td><td>&quot;Allison, Mr. Hudson Joshua Cre…</td><td>&quot;male&quot;</td><td>30.0</td><td>1</td><td>2</td><td>&quot;113781&quot;</td><td>151.55</td><td>&quot;C22 C26&quot;</td><td>&quot;S&quot;</td><td>null</td><td>135</td><td>&quot;Montreal, PQ / Chesterville, O…</td></tr><tr><td>1</td><td>0</td><td>&quot;Allison, Mrs. Hudson J C (Bess…</td><td>&quot;female&quot;</td><td>25.0</td><td>1</td><td>2</td><td>&quot;113781&quot;</td><td>151.55</td><td>&quot;C22 C26&quot;</td><td>&quot;S&quot;</td><td>null</td><td>null</td><td>&quot;Montreal, PQ / Chesterville, O…</td></tr><tr><td>&hellip;</td><td>&hellip;</td><td>&hellip;</td><td>&hellip;</td><td>&hellip;</td><td>&hellip;</td><td>&hellip;</td><td>&hellip;</td><td>&hellip;</td><td>&hellip;</td><td>&hellip;</td><td>&hellip;</td><td>&hellip;</td><td>&hellip;</td></tr><tr><td>1</td><td>1</td><td>&quot;Dodge, Mrs. Washington (Ruth V…</td><td>&quot;female&quot;</td><td>54.0</td><td>1</td><td>1</td><td>&quot;33638&quot;</td><td>81.8583</td><td>&quot;A34&quot;</td><td>&quot;S&quot;</td><td>&quot;5&quot;</td><td>null</td><td>&quot;San Francisco, CA&quot;</td></tr><tr><td>1</td><td>0</td><td>&quot;Douglas, Mr. Walter Donald&quot;</td><td>&quot;male&quot;</td><td>50.0</td><td>1</td><td>0</td><td>&quot;PC 17761&quot;</td><td>106.425</td><td>&quot;C86&quot;</td><td>&quot;C&quot;</td><td>null</td><td>62</td><td>&quot;Deephaven, MN / Cedar Rapids, …</td></tr><tr><td>1</td><td>1</td><td>&quot;Douglas, Mrs. Frederick Charle…</td><td>&quot;female&quot;</td><td>27.0</td><td>1</td><td>1</td><td>&quot;PC 17558&quot;</td><td>247.5208</td><td>&quot;B58 B60&quot;</td><td>&quot;C&quot;</td><td>&quot;6&quot;</td><td>null</td><td>&quot;Montreal, PQ&quot;</td></tr><tr><td>1</td><td>1</td><td>&quot;Douglas, Mrs. Walter Donald (M…</td><td>&quot;female&quot;</td><td>48.0</td><td>1</td><td>0</td><td>&quot;PC 17761&quot;</td><td>106.425</td><td>&quot;C86&quot;</td><td>&quot;C&quot;</td><td>&quot;2&quot;</td><td>null</td><td>&quot;Deephaven, MN / Cedar Rapids, …</td></tr><tr><td>1</td><td>1</td><td>&quot;Duff Gordon, Lady. (Lucille Ch…</td><td>&quot;female&quot;</td><td>48.0</td><td>1</td><td>0</td><td>&quot;11755&quot;</td><td>39.6</td><td>&quot;A16&quot;</td><td>&quot;C&quot;</td><td>&quot;1&quot;</td><td>null</td><td>&quot;London / Paris&quot;</td></tr></tbody></table></div>"
      ],
      "text/plain": [
       "shape: (100, 14)\n",
       "┌────────┬──────────┬────────────────────┬────────┬───┬──────────┬──────┬──────┬───────────────────┐\n",
       "│ pclass ┆ survived ┆ name               ┆ sex    ┆ … ┆ embarked ┆ boat ┆ body ┆ home.dest         │\n",
       "│ ---    ┆ ---      ┆ ---                ┆ ---    ┆   ┆ ---      ┆ ---  ┆ ---  ┆ ---               │\n",
       "│ i64    ┆ i64      ┆ str                ┆ str    ┆   ┆ str      ┆ str  ┆ i64  ┆ str               │\n",
       "╞════════╪══════════╪════════════════════╪════════╪═══╪══════════╪══════╪══════╪═══════════════════╡\n",
       "│ 1      ┆ 1        ┆ Allen, Miss.       ┆ female ┆ … ┆ S        ┆ 2    ┆ null ┆ St Louis, MO      │\n",
       "│        ┆          ┆ Elisabeth Walton   ┆        ┆   ┆          ┆      ┆      ┆                   │\n",
       "│ 1      ┆ 1        ┆ Allison, Master.   ┆ male   ┆ … ┆ S        ┆ 11   ┆ null ┆ Montreal, PQ /    │\n",
       "│        ┆          ┆ Hudson Trevor      ┆        ┆   ┆          ┆      ┆      ┆ Chesterville, O…  │\n",
       "│ 1      ┆ 0        ┆ Allison, Miss.     ┆ female ┆ … ┆ S        ┆ null ┆ null ┆ Montreal, PQ /    │\n",
       "│        ┆          ┆ Helen Loraine      ┆        ┆   ┆          ┆      ┆      ┆ Chesterville, O…  │\n",
       "│ 1      ┆ 0        ┆ Allison, Mr.       ┆ male   ┆ … ┆ S        ┆ null ┆ 135  ┆ Montreal, PQ /    │\n",
       "│        ┆          ┆ Hudson Joshua Cre… ┆        ┆   ┆          ┆      ┆      ┆ Chesterville, O…  │\n",
       "│ 1      ┆ 0        ┆ Allison, Mrs.      ┆ female ┆ … ┆ S        ┆ null ┆ null ┆ Montreal, PQ /    │\n",
       "│        ┆          ┆ Hudson J C (Bess…  ┆        ┆   ┆          ┆      ┆      ┆ Chesterville, O…  │\n",
       "│ …      ┆ …        ┆ …                  ┆ …      ┆ … ┆ …        ┆ …    ┆ …    ┆ …                 │\n",
       "│ 1      ┆ 1        ┆ Dodge, Mrs.        ┆ female ┆ … ┆ S        ┆ 5    ┆ null ┆ San Francisco, CA │\n",
       "│        ┆          ┆ Washington (Ruth   ┆        ┆   ┆          ┆      ┆      ┆                   │\n",
       "│        ┆          ┆ V…                 ┆        ┆   ┆          ┆      ┆      ┆                   │\n",
       "│ 1      ┆ 0        ┆ Douglas, Mr.       ┆ male   ┆ … ┆ C        ┆ null ┆ 62   ┆ Deephaven, MN /   │\n",
       "│        ┆          ┆ Walter Donald      ┆        ┆   ┆          ┆      ┆      ┆ Cedar Rapids, …   │\n",
       "│ 1      ┆ 1        ┆ Douglas, Mrs.      ┆ female ┆ … ┆ C        ┆ 6    ┆ null ┆ Montreal, PQ      │\n",
       "│        ┆          ┆ Frederick Charle…  ┆        ┆   ┆          ┆      ┆      ┆                   │\n",
       "│ 1      ┆ 1        ┆ Douglas, Mrs.      ┆ female ┆ … ┆ C        ┆ 2    ┆ null ┆ Deephaven, MN /   │\n",
       "│        ┆          ┆ Walter Donald (M…  ┆        ┆   ┆          ┆      ┆      ┆ Cedar Rapids, …   │\n",
       "│ 1      ┆ 1        ┆ Duff Gordon, Lady. ┆ female ┆ … ┆ C        ┆ 1    ┆ null ┆ London / Paris    │\n",
       "│        ┆          ┆ (Lucille Ch…       ┆        ┆   ┆          ┆      ┆      ┆                   │\n",
       "└────────┴──────────┴────────────────────┴────────┴───┴──────────┴──────┴──────┴───────────────────┘"
      ]
     },
     "execution_count": 3,
     "metadata": {},
     "output_type": "execute_result"
    }
   ],
   "source": [
    "df.head(100)"
   ]
  },
  {
   "cell_type": "code",
   "execution_count": 4,
   "id": "09d3bc14-54db-4da4-8a58-89efe98807f2",
   "metadata": {},
   "outputs": [
    {
     "data": {
      "text/plain": [
       "polars.config.Config"
      ]
     },
     "execution_count": 4,
     "metadata": {},
     "output_type": "execute_result"
    }
   ],
   "source": [
    "pl.Config.set_tbl_rows(100)"
   ]
  },
  {
   "cell_type": "code",
   "execution_count": 5,
   "id": "39df7323-27ac-4171-b4c6-6c3da3072634",
   "metadata": {},
   "outputs": [
    {
     "data": {
      "text/html": [
       "<div><style>\n",
       ".dataframe > thead > tr,\n",
       ".dataframe > tbody > tr {\n",
       "  text-align: right;\n",
       "  white-space: pre-wrap;\n",
       "}\n",
       "</style>\n",
       "<small>shape: (100, 14)</small><table border=\"1\" class=\"dataframe\"><thead><tr><th>pclass</th><th>survived</th><th>name</th><th>sex</th><th>age</th><th>sibsp</th><th>parch</th><th>ticket</th><th>fare</th><th>cabin</th><th>embarked</th><th>boat</th><th>body</th><th>home.dest</th></tr><tr><td>i64</td><td>i64</td><td>str</td><td>str</td><td>f64</td><td>i64</td><td>i64</td><td>str</td><td>f64</td><td>str</td><td>str</td><td>str</td><td>i64</td><td>str</td></tr></thead><tbody><tr><td>1</td><td>1</td><td>&quot;Allen, Miss. Elisabeth Walton&quot;</td><td>&quot;female&quot;</td><td>29.0</td><td>0</td><td>0</td><td>&quot;24160&quot;</td><td>211.3375</td><td>&quot;B5&quot;</td><td>&quot;S&quot;</td><td>&quot;2&quot;</td><td>null</td><td>&quot;St Louis, MO&quot;</td></tr><tr><td>1</td><td>1</td><td>&quot;Allison, Master. Hudson Trevor&quot;</td><td>&quot;male&quot;</td><td>0.92</td><td>1</td><td>2</td><td>&quot;113781&quot;</td><td>151.55</td><td>&quot;C22 C26&quot;</td><td>&quot;S&quot;</td><td>&quot;11&quot;</td><td>null</td><td>&quot;Montreal, PQ / Chesterville, O…</td></tr><tr><td>1</td><td>0</td><td>&quot;Allison, Miss. Helen Loraine&quot;</td><td>&quot;female&quot;</td><td>2.0</td><td>1</td><td>2</td><td>&quot;113781&quot;</td><td>151.55</td><td>&quot;C22 C26&quot;</td><td>&quot;S&quot;</td><td>null</td><td>null</td><td>&quot;Montreal, PQ / Chesterville, O…</td></tr><tr><td>1</td><td>0</td><td>&quot;Allison, Mr. Hudson Joshua Cre…</td><td>&quot;male&quot;</td><td>30.0</td><td>1</td><td>2</td><td>&quot;113781&quot;</td><td>151.55</td><td>&quot;C22 C26&quot;</td><td>&quot;S&quot;</td><td>null</td><td>135</td><td>&quot;Montreal, PQ / Chesterville, O…</td></tr><tr><td>1</td><td>0</td><td>&quot;Allison, Mrs. Hudson J C (Bess…</td><td>&quot;female&quot;</td><td>25.0</td><td>1</td><td>2</td><td>&quot;113781&quot;</td><td>151.55</td><td>&quot;C22 C26&quot;</td><td>&quot;S&quot;</td><td>null</td><td>null</td><td>&quot;Montreal, PQ / Chesterville, O…</td></tr><tr><td>1</td><td>1</td><td>&quot;Anderson, Mr. Harry&quot;</td><td>&quot;male&quot;</td><td>48.0</td><td>0</td><td>0</td><td>&quot;19952&quot;</td><td>26.55</td><td>&quot;E12&quot;</td><td>&quot;S&quot;</td><td>&quot;3&quot;</td><td>null</td><td>&quot;New York, NY&quot;</td></tr><tr><td>1</td><td>1</td><td>&quot;Andrews, Miss. Kornelia Theodo…</td><td>&quot;female&quot;</td><td>63.0</td><td>1</td><td>0</td><td>&quot;13502&quot;</td><td>77.9583</td><td>&quot;D7&quot;</td><td>&quot;S&quot;</td><td>&quot;10&quot;</td><td>null</td><td>&quot;Hudson, NY&quot;</td></tr><tr><td>1</td><td>0</td><td>&quot;Andrews, Mr. Thomas Jr&quot;</td><td>&quot;male&quot;</td><td>39.0</td><td>0</td><td>0</td><td>&quot;112050&quot;</td><td>0.0</td><td>&quot;A36&quot;</td><td>&quot;S&quot;</td><td>null</td><td>null</td><td>&quot;Belfast, NI&quot;</td></tr><tr><td>1</td><td>1</td><td>&quot;Appleton, Mrs. Edward Dale (Ch…</td><td>&quot;female&quot;</td><td>53.0</td><td>2</td><td>0</td><td>&quot;11769&quot;</td><td>51.4792</td><td>&quot;C101&quot;</td><td>&quot;S&quot;</td><td>&quot;D&quot;</td><td>null</td><td>&quot;Bayside, Queens, NY&quot;</td></tr><tr><td>1</td><td>0</td><td>&quot;Artagaveytia, Mr. Ramon&quot;</td><td>&quot;male&quot;</td><td>71.0</td><td>0</td><td>0</td><td>&quot;PC 17609&quot;</td><td>49.5042</td><td>null</td><td>&quot;C&quot;</td><td>null</td><td>22</td><td>&quot;Montevideo, Uruguay&quot;</td></tr><tr><td>1</td><td>0</td><td>&quot;Astor, Col. John Jacob&quot;</td><td>&quot;male&quot;</td><td>47.0</td><td>1</td><td>0</td><td>&quot;PC 17757&quot;</td><td>227.525</td><td>&quot;C62 C64&quot;</td><td>&quot;C&quot;</td><td>null</td><td>124</td><td>&quot;New York, NY&quot;</td></tr><tr><td>1</td><td>1</td><td>&quot;Astor, Mrs. John Jacob (Madele…</td><td>&quot;female&quot;</td><td>18.0</td><td>1</td><td>0</td><td>&quot;PC 17757&quot;</td><td>227.525</td><td>&quot;C62 C64&quot;</td><td>&quot;C&quot;</td><td>&quot;4&quot;</td><td>null</td><td>&quot;New York, NY&quot;</td></tr><tr><td>1</td><td>1</td><td>&quot;Aubart, Mme. Leontine Pauline&quot;</td><td>&quot;female&quot;</td><td>24.0</td><td>0</td><td>0</td><td>&quot;PC 17477&quot;</td><td>69.3</td><td>&quot;B35&quot;</td><td>&quot;C&quot;</td><td>&quot;9&quot;</td><td>null</td><td>&quot;Paris, France&quot;</td></tr><tr><td>1</td><td>1</td><td>&quot;Barber, Miss. Ellen &quot;Nellie&quot;&quot;</td><td>&quot;female&quot;</td><td>26.0</td><td>0</td><td>0</td><td>&quot;19877&quot;</td><td>78.85</td><td>null</td><td>&quot;S&quot;</td><td>&quot;6&quot;</td><td>null</td><td>null</td></tr><tr><td>1</td><td>1</td><td>&quot;Barkworth, Mr. Algernon Henry …</td><td>&quot;male&quot;</td><td>80.0</td><td>0</td><td>0</td><td>&quot;27042&quot;</td><td>30.0</td><td>&quot;A23&quot;</td><td>&quot;S&quot;</td><td>&quot;B&quot;</td><td>null</td><td>&quot;Hessle, Yorks&quot;</td></tr><tr><td>1</td><td>0</td><td>&quot;Baumann, Mr. John D&quot;</td><td>&quot;male&quot;</td><td>null</td><td>0</td><td>0</td><td>&quot;PC 17318&quot;</td><td>25.925</td><td>null</td><td>&quot;S&quot;</td><td>null</td><td>null</td><td>&quot;New York, NY&quot;</td></tr><tr><td>1</td><td>0</td><td>&quot;Baxter, Mr. Quigg Edmond&quot;</td><td>&quot;male&quot;</td><td>24.0</td><td>0</td><td>1</td><td>&quot;PC 17558&quot;</td><td>247.5208</td><td>&quot;B58 B60&quot;</td><td>&quot;C&quot;</td><td>null</td><td>null</td><td>&quot;Montreal, PQ&quot;</td></tr><tr><td>1</td><td>1</td><td>&quot;Baxter, Mrs. James (Helene DeL…</td><td>&quot;female&quot;</td><td>50.0</td><td>0</td><td>1</td><td>&quot;PC 17558&quot;</td><td>247.5208</td><td>&quot;B58 B60&quot;</td><td>&quot;C&quot;</td><td>&quot;6&quot;</td><td>null</td><td>&quot;Montreal, PQ&quot;</td></tr><tr><td>1</td><td>1</td><td>&quot;Bazzani, Miss. Albina&quot;</td><td>&quot;female&quot;</td><td>32.0</td><td>0</td><td>0</td><td>&quot;11813&quot;</td><td>76.2917</td><td>&quot;D15&quot;</td><td>&quot;C&quot;</td><td>&quot;8&quot;</td><td>null</td><td>null</td></tr><tr><td>1</td><td>0</td><td>&quot;Beattie, Mr. Thomson&quot;</td><td>&quot;male&quot;</td><td>36.0</td><td>0</td><td>0</td><td>&quot;13050&quot;</td><td>75.2417</td><td>&quot;C6&quot;</td><td>&quot;C&quot;</td><td>&quot;A&quot;</td><td>null</td><td>&quot;Winnipeg, MN&quot;</td></tr><tr><td>1</td><td>1</td><td>&quot;Beckwith, Mr. Richard Leonard&quot;</td><td>&quot;male&quot;</td><td>37.0</td><td>1</td><td>1</td><td>&quot;11751&quot;</td><td>52.5542</td><td>&quot;D35&quot;</td><td>&quot;S&quot;</td><td>&quot;5&quot;</td><td>null</td><td>&quot;New York, NY&quot;</td></tr><tr><td>1</td><td>1</td><td>&quot;Beckwith, Mrs. Richard Leonard…</td><td>&quot;female&quot;</td><td>47.0</td><td>1</td><td>1</td><td>&quot;11751&quot;</td><td>52.5542</td><td>&quot;D35&quot;</td><td>&quot;S&quot;</td><td>&quot;5&quot;</td><td>null</td><td>&quot;New York, NY&quot;</td></tr><tr><td>1</td><td>1</td><td>&quot;Behr, Mr. Karl Howell&quot;</td><td>&quot;male&quot;</td><td>26.0</td><td>0</td><td>0</td><td>&quot;111369&quot;</td><td>30.0</td><td>&quot;C148&quot;</td><td>&quot;C&quot;</td><td>&quot;5&quot;</td><td>null</td><td>&quot;New York, NY&quot;</td></tr><tr><td>1</td><td>1</td><td>&quot;Bidois, Miss. Rosalie&quot;</td><td>&quot;female&quot;</td><td>42.0</td><td>0</td><td>0</td><td>&quot;PC 17757&quot;</td><td>227.525</td><td>null</td><td>&quot;C&quot;</td><td>&quot;4&quot;</td><td>null</td><td>null</td></tr><tr><td>1</td><td>1</td><td>&quot;Bird, Miss. Ellen&quot;</td><td>&quot;female&quot;</td><td>29.0</td><td>0</td><td>0</td><td>&quot;PC 17483&quot;</td><td>221.7792</td><td>&quot;C97&quot;</td><td>&quot;S&quot;</td><td>&quot;8&quot;</td><td>null</td><td>null</td></tr><tr><td>1</td><td>0</td><td>&quot;Birnbaum, Mr. Jakob&quot;</td><td>&quot;male&quot;</td><td>25.0</td><td>0</td><td>0</td><td>&quot;13905&quot;</td><td>26.0</td><td>null</td><td>&quot;C&quot;</td><td>null</td><td>148</td><td>&quot;San Francisco, CA&quot;</td></tr><tr><td>1</td><td>1</td><td>&quot;Bishop, Mr. Dickinson H&quot;</td><td>&quot;male&quot;</td><td>25.0</td><td>1</td><td>0</td><td>&quot;11967&quot;</td><td>91.0792</td><td>&quot;B49&quot;</td><td>&quot;C&quot;</td><td>&quot;7&quot;</td><td>null</td><td>&quot;Dowagiac, MI&quot;</td></tr><tr><td>1</td><td>1</td><td>&quot;Bishop, Mrs. Dickinson H (Hele…</td><td>&quot;female&quot;</td><td>19.0</td><td>1</td><td>0</td><td>&quot;11967&quot;</td><td>91.0792</td><td>&quot;B49&quot;</td><td>&quot;C&quot;</td><td>&quot;7&quot;</td><td>null</td><td>&quot;Dowagiac, MI&quot;</td></tr><tr><td>1</td><td>1</td><td>&quot;Bissette, Miss. Amelia&quot;</td><td>&quot;female&quot;</td><td>35.0</td><td>0</td><td>0</td><td>&quot;PC 17760&quot;</td><td>135.6333</td><td>&quot;C99&quot;</td><td>&quot;S&quot;</td><td>&quot;8&quot;</td><td>null</td><td>null</td></tr><tr><td>1</td><td>1</td><td>&quot;Bjornstrom-Steffansson, Mr. Ma…</td><td>&quot;male&quot;</td><td>28.0</td><td>0</td><td>0</td><td>&quot;110564&quot;</td><td>26.55</td><td>&quot;C52&quot;</td><td>&quot;S&quot;</td><td>&quot;D&quot;</td><td>null</td><td>&quot;Stockholm, Sweden / Washington…</td></tr><tr><td>1</td><td>0</td><td>&quot;Blackwell, Mr. Stephen Weart&quot;</td><td>&quot;male&quot;</td><td>45.0</td><td>0</td><td>0</td><td>&quot;113784&quot;</td><td>35.5</td><td>&quot;T&quot;</td><td>&quot;S&quot;</td><td>null</td><td>null</td><td>&quot;Trenton, NJ&quot;</td></tr><tr><td>1</td><td>1</td><td>&quot;Blank, Mr. Henry&quot;</td><td>&quot;male&quot;</td><td>40.0</td><td>0</td><td>0</td><td>&quot;112277&quot;</td><td>31.0</td><td>&quot;A31&quot;</td><td>&quot;C&quot;</td><td>&quot;7&quot;</td><td>null</td><td>&quot;Glen Ridge, NJ&quot;</td></tr><tr><td>1</td><td>1</td><td>&quot;Bonnell, Miss. Caroline&quot;</td><td>&quot;female&quot;</td><td>30.0</td><td>0</td><td>0</td><td>&quot;36928&quot;</td><td>164.8667</td><td>&quot;C7&quot;</td><td>&quot;S&quot;</td><td>&quot;8&quot;</td><td>null</td><td>&quot;Youngstown, OH&quot;</td></tr><tr><td>1</td><td>1</td><td>&quot;Bonnell, Miss. Elizabeth&quot;</td><td>&quot;female&quot;</td><td>58.0</td><td>0</td><td>0</td><td>&quot;113783&quot;</td><td>26.55</td><td>&quot;C103&quot;</td><td>&quot;S&quot;</td><td>&quot;8&quot;</td><td>null</td><td>&quot;Birkdale, England Cleveland, O…</td></tr><tr><td>1</td><td>0</td><td>&quot;Borebank, Mr. John James&quot;</td><td>&quot;male&quot;</td><td>42.0</td><td>0</td><td>0</td><td>&quot;110489&quot;</td><td>26.55</td><td>&quot;D22&quot;</td><td>&quot;S&quot;</td><td>null</td><td>null</td><td>&quot;London / Winnipeg, MB&quot;</td></tr><tr><td>1</td><td>1</td><td>&quot;Bowen, Miss. Grace Scott&quot;</td><td>&quot;female&quot;</td><td>45.0</td><td>0</td><td>0</td><td>&quot;PC 17608&quot;</td><td>262.375</td><td>null</td><td>&quot;C&quot;</td><td>&quot;4&quot;</td><td>null</td><td>&quot;Cooperstown, NY&quot;</td></tr><tr><td>1</td><td>1</td><td>&quot;Bowerman, Miss. Elsie Edith&quot;</td><td>&quot;female&quot;</td><td>22.0</td><td>0</td><td>1</td><td>&quot;113505&quot;</td><td>55.0</td><td>&quot;E33&quot;</td><td>&quot;S&quot;</td><td>&quot;6&quot;</td><td>null</td><td>&quot;St Leonards-on-Sea, England Oh…</td></tr><tr><td>1</td><td>1</td><td>&quot;Bradley, Mr. George (&quot;George A…</td><td>&quot;male&quot;</td><td>null</td><td>0</td><td>0</td><td>&quot;111427&quot;</td><td>26.55</td><td>null</td><td>&quot;S&quot;</td><td>&quot;9&quot;</td><td>null</td><td>&quot;Los Angeles, CA&quot;</td></tr><tr><td>1</td><td>0</td><td>&quot;Brady, Mr. John Bertram&quot;</td><td>&quot;male&quot;</td><td>41.0</td><td>0</td><td>0</td><td>&quot;113054&quot;</td><td>30.5</td><td>&quot;A21&quot;</td><td>&quot;S&quot;</td><td>null</td><td>null</td><td>&quot;Pomeroy, WA&quot;</td></tr><tr><td>1</td><td>0</td><td>&quot;Brandeis, Mr. Emil&quot;</td><td>&quot;male&quot;</td><td>48.0</td><td>0</td><td>0</td><td>&quot;PC 17591&quot;</td><td>50.4958</td><td>&quot;B10&quot;</td><td>&quot;C&quot;</td><td>null</td><td>208</td><td>&quot;Omaha, NE&quot;</td></tr><tr><td>1</td><td>0</td><td>&quot;Brewe, Dr. Arthur Jackson&quot;</td><td>&quot;male&quot;</td><td>null</td><td>0</td><td>0</td><td>&quot;112379&quot;</td><td>39.6</td><td>null</td><td>&quot;C&quot;</td><td>null</td><td>null</td><td>&quot;Philadelphia, PA&quot;</td></tr><tr><td>1</td><td>1</td><td>&quot;Brown, Mrs. James Joseph (Marg…</td><td>&quot;female&quot;</td><td>44.0</td><td>0</td><td>0</td><td>&quot;PC 17610&quot;</td><td>27.7208</td><td>&quot;B4&quot;</td><td>&quot;C&quot;</td><td>&quot;6&quot;</td><td>null</td><td>&quot;Denver, CO&quot;</td></tr><tr><td>1</td><td>1</td><td>&quot;Brown, Mrs. John Murray (Carol…</td><td>&quot;female&quot;</td><td>59.0</td><td>2</td><td>0</td><td>&quot;11769&quot;</td><td>51.4792</td><td>&quot;C101&quot;</td><td>&quot;S&quot;</td><td>&quot;D&quot;</td><td>null</td><td>&quot;Belmont, MA&quot;</td></tr><tr><td>1</td><td>1</td><td>&quot;Bucknell, Mrs. William Robert …</td><td>&quot;female&quot;</td><td>60.0</td><td>0</td><td>0</td><td>&quot;11813&quot;</td><td>76.2917</td><td>&quot;D15&quot;</td><td>&quot;C&quot;</td><td>&quot;8&quot;</td><td>null</td><td>&quot;Philadelphia, PA&quot;</td></tr><tr><td>1</td><td>1</td><td>&quot;Burns, Miss. Elizabeth Margare…</td><td>&quot;female&quot;</td><td>41.0</td><td>0</td><td>0</td><td>&quot;16966&quot;</td><td>134.5</td><td>&quot;E40&quot;</td><td>&quot;C&quot;</td><td>&quot;3&quot;</td><td>null</td><td>null</td></tr><tr><td>1</td><td>0</td><td>&quot;Butt, Major. Archibald Willing…</td><td>&quot;male&quot;</td><td>45.0</td><td>0</td><td>0</td><td>&quot;113050&quot;</td><td>26.55</td><td>&quot;B38&quot;</td><td>&quot;S&quot;</td><td>null</td><td>null</td><td>&quot;Washington, DC&quot;</td></tr><tr><td>1</td><td>0</td><td>&quot;Cairns, Mr. Alexander&quot;</td><td>&quot;male&quot;</td><td>null</td><td>0</td><td>0</td><td>&quot;113798&quot;</td><td>31.0</td><td>null</td><td>&quot;S&quot;</td><td>null</td><td>null</td><td>null</td></tr><tr><td>1</td><td>1</td><td>&quot;Calderhead, Mr. Edward Penning…</td><td>&quot;male&quot;</td><td>42.0</td><td>0</td><td>0</td><td>&quot;PC 17476&quot;</td><td>26.2875</td><td>&quot;E24&quot;</td><td>&quot;S&quot;</td><td>&quot;5&quot;</td><td>null</td><td>&quot;New York, NY&quot;</td></tr><tr><td>1</td><td>1</td><td>&quot;Candee, Mrs. Edward (Helen Chu…</td><td>&quot;female&quot;</td><td>53.0</td><td>0</td><td>0</td><td>&quot;PC 17606&quot;</td><td>27.4458</td><td>null</td><td>&quot;C&quot;</td><td>&quot;6&quot;</td><td>null</td><td>&quot;Washington, DC&quot;</td></tr><tr><td>1</td><td>1</td><td>&quot;Cardeza, Mr. Thomas Drake Mart…</td><td>&quot;male&quot;</td><td>36.0</td><td>0</td><td>1</td><td>&quot;PC 17755&quot;</td><td>512.3292</td><td>&quot;B51 B53 B55&quot;</td><td>&quot;C&quot;</td><td>&quot;3&quot;</td><td>null</td><td>&quot;Austria-Hungary / Germantown, …</td></tr><tr><td>1</td><td>1</td><td>&quot;Cardeza, Mrs. James Warburton …</td><td>&quot;female&quot;</td><td>58.0</td><td>0</td><td>1</td><td>&quot;PC 17755&quot;</td><td>512.3292</td><td>&quot;B51 B53 B55&quot;</td><td>&quot;C&quot;</td><td>&quot;3&quot;</td><td>null</td><td>&quot;Germantown, Philadelphia, PA&quot;</td></tr><tr><td>1</td><td>0</td><td>&quot;Carlsson, Mr. Frans Olof&quot;</td><td>&quot;male&quot;</td><td>33.0</td><td>0</td><td>0</td><td>&quot;695&quot;</td><td>5.0</td><td>&quot;B51 B53 B55&quot;</td><td>&quot;S&quot;</td><td>null</td><td>null</td><td>&quot;New York, NY&quot;</td></tr><tr><td>1</td><td>0</td><td>&quot;Carrau, Mr. Francisco M&quot;</td><td>&quot;male&quot;</td><td>28.0</td><td>0</td><td>0</td><td>&quot;113059&quot;</td><td>47.1</td><td>null</td><td>&quot;S&quot;</td><td>null</td><td>null</td><td>&quot;Montevideo, Uruguay&quot;</td></tr><tr><td>1</td><td>0</td><td>&quot;Carrau, Mr. Jose Pedro&quot;</td><td>&quot;male&quot;</td><td>17.0</td><td>0</td><td>0</td><td>&quot;113059&quot;</td><td>47.1</td><td>null</td><td>&quot;S&quot;</td><td>null</td><td>null</td><td>&quot;Montevideo, Uruguay&quot;</td></tr><tr><td>1</td><td>1</td><td>&quot;Carter, Master. William Thornt…</td><td>&quot;male&quot;</td><td>11.0</td><td>1</td><td>2</td><td>&quot;113760&quot;</td><td>120.0</td><td>&quot;B96 B98&quot;</td><td>&quot;S&quot;</td><td>&quot;4&quot;</td><td>null</td><td>&quot;Bryn Mawr, PA&quot;</td></tr><tr><td>1</td><td>1</td><td>&quot;Carter, Miss. Lucile Polk&quot;</td><td>&quot;female&quot;</td><td>14.0</td><td>1</td><td>2</td><td>&quot;113760&quot;</td><td>120.0</td><td>&quot;B96 B98&quot;</td><td>&quot;S&quot;</td><td>&quot;4&quot;</td><td>null</td><td>&quot;Bryn Mawr, PA&quot;</td></tr><tr><td>1</td><td>1</td><td>&quot;Carter, Mr. William Ernest&quot;</td><td>&quot;male&quot;</td><td>36.0</td><td>1</td><td>2</td><td>&quot;113760&quot;</td><td>120.0</td><td>&quot;B96 B98&quot;</td><td>&quot;S&quot;</td><td>&quot;C&quot;</td><td>null</td><td>&quot;Bryn Mawr, PA&quot;</td></tr><tr><td>1</td><td>1</td><td>&quot;Carter, Mrs. William Ernest (L…</td><td>&quot;female&quot;</td><td>36.0</td><td>1</td><td>2</td><td>&quot;113760&quot;</td><td>120.0</td><td>&quot;B96 B98&quot;</td><td>&quot;S&quot;</td><td>&quot;4&quot;</td><td>null</td><td>&quot;Bryn Mawr, PA&quot;</td></tr><tr><td>1</td><td>0</td><td>&quot;Case, Mr. Howard Brown&quot;</td><td>&quot;male&quot;</td><td>49.0</td><td>0</td><td>0</td><td>&quot;19924&quot;</td><td>26.0</td><td>null</td><td>&quot;S&quot;</td><td>null</td><td>null</td><td>&quot;Ascot, Berkshire / Rochester, …</td></tr><tr><td>1</td><td>1</td><td>&quot;Cassebeer, Mrs. Henry Arthur J…</td><td>&quot;female&quot;</td><td>null</td><td>0</td><td>0</td><td>&quot;17770&quot;</td><td>27.7208</td><td>null</td><td>&quot;C&quot;</td><td>&quot;5&quot;</td><td>null</td><td>&quot;New York, NY&quot;</td></tr><tr><td>1</td><td>0</td><td>&quot;Cavendish, Mr. Tyrell William&quot;</td><td>&quot;male&quot;</td><td>36.0</td><td>1</td><td>0</td><td>&quot;19877&quot;</td><td>78.85</td><td>&quot;C46&quot;</td><td>&quot;S&quot;</td><td>null</td><td>172</td><td>&quot;Little Onn Hall, Staffs&quot;</td></tr><tr><td>1</td><td>1</td><td>&quot;Cavendish, Mrs. Tyrell William…</td><td>&quot;female&quot;</td><td>76.0</td><td>1</td><td>0</td><td>&quot;19877&quot;</td><td>78.85</td><td>&quot;C46&quot;</td><td>&quot;S&quot;</td><td>&quot;6&quot;</td><td>null</td><td>&quot;Little Onn Hall, Staffs&quot;</td></tr><tr><td>1</td><td>0</td><td>&quot;Chaffee, Mr. Herbert Fuller&quot;</td><td>&quot;male&quot;</td><td>46.0</td><td>1</td><td>0</td><td>&quot;W.E.P. 5734&quot;</td><td>61.175</td><td>&quot;E31&quot;</td><td>&quot;S&quot;</td><td>null</td><td>null</td><td>&quot;Amenia, ND&quot;</td></tr><tr><td>1</td><td>1</td><td>&quot;Chaffee, Mrs. Herbert Fuller (…</td><td>&quot;female&quot;</td><td>47.0</td><td>1</td><td>0</td><td>&quot;W.E.P. 5734&quot;</td><td>61.175</td><td>&quot;E31&quot;</td><td>&quot;S&quot;</td><td>&quot;4&quot;</td><td>null</td><td>&quot;Amenia, ND&quot;</td></tr><tr><td>1</td><td>1</td><td>&quot;Chambers, Mr. Norman Campbell&quot;</td><td>&quot;male&quot;</td><td>27.0</td><td>1</td><td>0</td><td>&quot;113806&quot;</td><td>53.1</td><td>&quot;E8&quot;</td><td>&quot;S&quot;</td><td>&quot;5&quot;</td><td>null</td><td>&quot;New York, NY / Ithaca, NY&quot;</td></tr><tr><td>1</td><td>1</td><td>&quot;Chambers, Mrs. Norman Campbell…</td><td>&quot;female&quot;</td><td>33.0</td><td>1</td><td>0</td><td>&quot;113806&quot;</td><td>53.1</td><td>&quot;E8&quot;</td><td>&quot;S&quot;</td><td>&quot;5&quot;</td><td>null</td><td>&quot;New York, NY / Ithaca, NY&quot;</td></tr><tr><td>1</td><td>1</td><td>&quot;Chaudanson, Miss. Victorine&quot;</td><td>&quot;female&quot;</td><td>36.0</td><td>0</td><td>0</td><td>&quot;PC 17608&quot;</td><td>262.375</td><td>&quot;B61&quot;</td><td>&quot;C&quot;</td><td>&quot;4&quot;</td><td>null</td><td>null</td></tr><tr><td>1</td><td>1</td><td>&quot;Cherry, Miss. Gladys&quot;</td><td>&quot;female&quot;</td><td>30.0</td><td>0</td><td>0</td><td>&quot;110152&quot;</td><td>86.5</td><td>&quot;B77&quot;</td><td>&quot;S&quot;</td><td>&quot;8&quot;</td><td>null</td><td>&quot;London, England&quot;</td></tr><tr><td>1</td><td>1</td><td>&quot;Chevre, Mr. Paul Romaine&quot;</td><td>&quot;male&quot;</td><td>45.0</td><td>0</td><td>0</td><td>&quot;PC 17594&quot;</td><td>29.7</td><td>&quot;A9&quot;</td><td>&quot;C&quot;</td><td>&quot;7&quot;</td><td>null</td><td>&quot;Paris, France&quot;</td></tr><tr><td>1</td><td>1</td><td>&quot;Chibnall, Mrs. (Edith Martha B…</td><td>&quot;female&quot;</td><td>null</td><td>0</td><td>1</td><td>&quot;113505&quot;</td><td>55.0</td><td>&quot;E33&quot;</td><td>&quot;S&quot;</td><td>&quot;6&quot;</td><td>null</td><td>&quot;St Leonards-on-Sea, England Oh…</td></tr><tr><td>1</td><td>0</td><td>&quot;Chisholm, Mr. Roderick Robert …</td><td>&quot;male&quot;</td><td>null</td><td>0</td><td>0</td><td>&quot;112051&quot;</td><td>0.0</td><td>null</td><td>&quot;S&quot;</td><td>null</td><td>null</td><td>&quot;Liverpool, England / Belfast&quot;</td></tr><tr><td>1</td><td>0</td><td>&quot;Clark, Mr. Walter Miller&quot;</td><td>&quot;male&quot;</td><td>27.0</td><td>1</td><td>0</td><td>&quot;13508&quot;</td><td>136.7792</td><td>&quot;C89&quot;</td><td>&quot;C&quot;</td><td>null</td><td>null</td><td>&quot;Los Angeles, CA&quot;</td></tr><tr><td>1</td><td>1</td><td>&quot;Clark, Mrs. Walter Miller (Vir…</td><td>&quot;female&quot;</td><td>26.0</td><td>1</td><td>0</td><td>&quot;13508&quot;</td><td>136.7792</td><td>&quot;C89&quot;</td><td>&quot;C&quot;</td><td>&quot;4&quot;</td><td>null</td><td>&quot;Los Angeles, CA&quot;</td></tr><tr><td>1</td><td>1</td><td>&quot;Cleaver, Miss. Alice&quot;</td><td>&quot;female&quot;</td><td>22.0</td><td>0</td><td>0</td><td>&quot;113781&quot;</td><td>151.55</td><td>null</td><td>&quot;S&quot;</td><td>&quot;11&quot;</td><td>null</td><td>null</td></tr><tr><td>1</td><td>0</td><td>&quot;Clifford, Mr. George Quincy&quot;</td><td>&quot;male&quot;</td><td>null</td><td>0</td><td>0</td><td>&quot;110465&quot;</td><td>52.0</td><td>&quot;A14&quot;</td><td>&quot;S&quot;</td><td>null</td><td>null</td><td>&quot;Stoughton, MA&quot;</td></tr><tr><td>1</td><td>0</td><td>&quot;Colley, Mr. Edward Pomeroy&quot;</td><td>&quot;male&quot;</td><td>47.0</td><td>0</td><td>0</td><td>&quot;5727&quot;</td><td>25.5875</td><td>&quot;E58&quot;</td><td>&quot;S&quot;</td><td>null</td><td>null</td><td>&quot;Victoria, BC&quot;</td></tr><tr><td>1</td><td>1</td><td>&quot;Compton, Miss. Sara Rebecca&quot;</td><td>&quot;female&quot;</td><td>39.0</td><td>1</td><td>1</td><td>&quot;PC 17756&quot;</td><td>83.1583</td><td>&quot;E49&quot;</td><td>&quot;C&quot;</td><td>&quot;14&quot;</td><td>null</td><td>&quot;Lakewood, NJ&quot;</td></tr><tr><td>1</td><td>0</td><td>&quot;Compton, Mr. Alexander Taylor …</td><td>&quot;male&quot;</td><td>37.0</td><td>1</td><td>1</td><td>&quot;PC 17756&quot;</td><td>83.1583</td><td>&quot;E52&quot;</td><td>&quot;C&quot;</td><td>null</td><td>null</td><td>&quot;Lakewood, NJ&quot;</td></tr><tr><td>1</td><td>1</td><td>&quot;Compton, Mrs. Alexander Taylor…</td><td>&quot;female&quot;</td><td>64.0</td><td>0</td><td>2</td><td>&quot;PC 17756&quot;</td><td>83.1583</td><td>&quot;E45&quot;</td><td>&quot;C&quot;</td><td>&quot;14&quot;</td><td>null</td><td>&quot;Lakewood, NJ&quot;</td></tr><tr><td>1</td><td>1</td><td>&quot;Cornell, Mrs. Robert Clifford …</td><td>&quot;female&quot;</td><td>55.0</td><td>2</td><td>0</td><td>&quot;11770&quot;</td><td>25.7</td><td>&quot;C101&quot;</td><td>&quot;S&quot;</td><td>&quot;2&quot;</td><td>null</td><td>&quot;New York, NY&quot;</td></tr><tr><td>1</td><td>0</td><td>&quot;Crafton, Mr. John Bertram&quot;</td><td>&quot;male&quot;</td><td>null</td><td>0</td><td>0</td><td>&quot;113791&quot;</td><td>26.55</td><td>null</td><td>&quot;S&quot;</td><td>null</td><td>null</td><td>&quot;Roachdale, IN&quot;</td></tr><tr><td>1</td><td>0</td><td>&quot;Crosby, Capt. Edward Gifford&quot;</td><td>&quot;male&quot;</td><td>70.0</td><td>1</td><td>1</td><td>&quot;WE/P 5735&quot;</td><td>71.0</td><td>&quot;B22&quot;</td><td>&quot;S&quot;</td><td>null</td><td>269</td><td>&quot;Milwaukee, WI&quot;</td></tr><tr><td>1</td><td>1</td><td>&quot;Crosby, Miss. Harriet R&quot;</td><td>&quot;female&quot;</td><td>36.0</td><td>0</td><td>2</td><td>&quot;WE/P 5735&quot;</td><td>71.0</td><td>&quot;B22&quot;</td><td>&quot;S&quot;</td><td>&quot;7&quot;</td><td>null</td><td>&quot;Milwaukee, WI&quot;</td></tr><tr><td>1</td><td>1</td><td>&quot;Crosby, Mrs. Edward Gifford (C…</td><td>&quot;female&quot;</td><td>64.0</td><td>1</td><td>1</td><td>&quot;112901&quot;</td><td>26.55</td><td>&quot;B26&quot;</td><td>&quot;S&quot;</td><td>&quot;7&quot;</td><td>null</td><td>&quot;Milwaukee, WI&quot;</td></tr><tr><td>1</td><td>0</td><td>&quot;Cumings, Mr. John Bradley&quot;</td><td>&quot;male&quot;</td><td>39.0</td><td>1</td><td>0</td><td>&quot;PC 17599&quot;</td><td>71.2833</td><td>&quot;C85&quot;</td><td>&quot;C&quot;</td><td>null</td><td>null</td><td>&quot;New York, NY&quot;</td></tr><tr><td>1</td><td>1</td><td>&quot;Cumings, Mrs. John Bradley (Fl…</td><td>&quot;female&quot;</td><td>38.0</td><td>1</td><td>0</td><td>&quot;PC 17599&quot;</td><td>71.2833</td><td>&quot;C85&quot;</td><td>&quot;C&quot;</td><td>&quot;4&quot;</td><td>null</td><td>&quot;New York, NY&quot;</td></tr><tr><td>1</td><td>1</td><td>&quot;Daly, Mr. Peter Denis &quot;</td><td>&quot;male&quot;</td><td>51.0</td><td>0</td><td>0</td><td>&quot;113055&quot;</td><td>26.55</td><td>&quot;E17&quot;</td><td>&quot;S&quot;</td><td>&quot;5 9&quot;</td><td>null</td><td>&quot;Lima, Peru&quot;</td></tr><tr><td>1</td><td>1</td><td>&quot;Daniel, Mr. Robert Williams&quot;</td><td>&quot;male&quot;</td><td>27.0</td><td>0</td><td>0</td><td>&quot;113804&quot;</td><td>30.5</td><td>null</td><td>&quot;S&quot;</td><td>&quot;3&quot;</td><td>null</td><td>&quot;Philadelphia, PA&quot;</td></tr><tr><td>1</td><td>1</td><td>&quot;Daniels, Miss. Sarah&quot;</td><td>&quot;female&quot;</td><td>33.0</td><td>0</td><td>0</td><td>&quot;113781&quot;</td><td>151.55</td><td>null</td><td>&quot;S&quot;</td><td>&quot;8&quot;</td><td>null</td><td>null</td></tr><tr><td>1</td><td>0</td><td>&quot;Davidson, Mr. Thornton&quot;</td><td>&quot;male&quot;</td><td>31.0</td><td>1</td><td>0</td><td>&quot;F.C. 12750&quot;</td><td>52.0</td><td>&quot;B71&quot;</td><td>&quot;S&quot;</td><td>null</td><td>null</td><td>&quot;Montreal, PQ&quot;</td></tr><tr><td>1</td><td>1</td><td>&quot;Davidson, Mrs. Thornton (Orian…</td><td>&quot;female&quot;</td><td>27.0</td><td>1</td><td>2</td><td>&quot;F.C. 12750&quot;</td><td>52.0</td><td>&quot;B71&quot;</td><td>&quot;S&quot;</td><td>&quot;3&quot;</td><td>null</td><td>&quot;Montreal, PQ&quot;</td></tr><tr><td>1</td><td>1</td><td>&quot;Dick, Mr. Albert Adrian&quot;</td><td>&quot;male&quot;</td><td>31.0</td><td>1</td><td>0</td><td>&quot;17474&quot;</td><td>57.0</td><td>&quot;B20&quot;</td><td>&quot;S&quot;</td><td>&quot;3&quot;</td><td>null</td><td>&quot;Calgary, AB&quot;</td></tr><tr><td>1</td><td>1</td><td>&quot;Dick, Mrs. Albert Adrian (Vera…</td><td>&quot;female&quot;</td><td>17.0</td><td>1</td><td>0</td><td>&quot;17474&quot;</td><td>57.0</td><td>&quot;B20&quot;</td><td>&quot;S&quot;</td><td>&quot;3&quot;</td><td>null</td><td>&quot;Calgary, AB&quot;</td></tr><tr><td>1</td><td>1</td><td>&quot;Dodge, Dr. Washington&quot;</td><td>&quot;male&quot;</td><td>53.0</td><td>1</td><td>1</td><td>&quot;33638&quot;</td><td>81.8583</td><td>&quot;A34&quot;</td><td>&quot;S&quot;</td><td>&quot;13&quot;</td><td>null</td><td>&quot;San Francisco, CA&quot;</td></tr><tr><td>1</td><td>1</td><td>&quot;Dodge, Master. Washington&quot;</td><td>&quot;male&quot;</td><td>4.0</td><td>0</td><td>2</td><td>&quot;33638&quot;</td><td>81.8583</td><td>&quot;A34&quot;</td><td>&quot;S&quot;</td><td>&quot;5&quot;</td><td>null</td><td>&quot;San Francisco, CA&quot;</td></tr><tr><td>1</td><td>1</td><td>&quot;Dodge, Mrs. Washington (Ruth V…</td><td>&quot;female&quot;</td><td>54.0</td><td>1</td><td>1</td><td>&quot;33638&quot;</td><td>81.8583</td><td>&quot;A34&quot;</td><td>&quot;S&quot;</td><td>&quot;5&quot;</td><td>null</td><td>&quot;San Francisco, CA&quot;</td></tr><tr><td>1</td><td>0</td><td>&quot;Douglas, Mr. Walter Donald&quot;</td><td>&quot;male&quot;</td><td>50.0</td><td>1</td><td>0</td><td>&quot;PC 17761&quot;</td><td>106.425</td><td>&quot;C86&quot;</td><td>&quot;C&quot;</td><td>null</td><td>62</td><td>&quot;Deephaven, MN / Cedar Rapids, …</td></tr><tr><td>1</td><td>1</td><td>&quot;Douglas, Mrs. Frederick Charle…</td><td>&quot;female&quot;</td><td>27.0</td><td>1</td><td>1</td><td>&quot;PC 17558&quot;</td><td>247.5208</td><td>&quot;B58 B60&quot;</td><td>&quot;C&quot;</td><td>&quot;6&quot;</td><td>null</td><td>&quot;Montreal, PQ&quot;</td></tr><tr><td>1</td><td>1</td><td>&quot;Douglas, Mrs. Walter Donald (M…</td><td>&quot;female&quot;</td><td>48.0</td><td>1</td><td>0</td><td>&quot;PC 17761&quot;</td><td>106.425</td><td>&quot;C86&quot;</td><td>&quot;C&quot;</td><td>&quot;2&quot;</td><td>null</td><td>&quot;Deephaven, MN / Cedar Rapids, …</td></tr><tr><td>1</td><td>1</td><td>&quot;Duff Gordon, Lady. (Lucille Ch…</td><td>&quot;female&quot;</td><td>48.0</td><td>1</td><td>0</td><td>&quot;11755&quot;</td><td>39.6</td><td>&quot;A16&quot;</td><td>&quot;C&quot;</td><td>&quot;1&quot;</td><td>null</td><td>&quot;London / Paris&quot;</td></tr></tbody></table></div>"
      ],
      "text/plain": [
       "shape: (100, 14)\n",
       "┌────────┬──────────┬────────────────────┬────────┬───┬──────────┬──────┬──────┬───────────────────┐\n",
       "│ pclass ┆ survived ┆ name               ┆ sex    ┆ … ┆ embarked ┆ boat ┆ body ┆ home.dest         │\n",
       "│ ---    ┆ ---      ┆ ---                ┆ ---    ┆   ┆ ---      ┆ ---  ┆ ---  ┆ ---               │\n",
       "│ i64    ┆ i64      ┆ str                ┆ str    ┆   ┆ str      ┆ str  ┆ i64  ┆ str               │\n",
       "╞════════╪══════════╪════════════════════╪════════╪═══╪══════════╪══════╪══════╪═══════════════════╡\n",
       "│ 1      ┆ 1        ┆ Allen, Miss.       ┆ female ┆ … ┆ S        ┆ 2    ┆ null ┆ St Louis, MO      │\n",
       "│        ┆          ┆ Elisabeth Walton   ┆        ┆   ┆          ┆      ┆      ┆                   │\n",
       "│ 1      ┆ 1        ┆ Allison, Master.   ┆ male   ┆ … ┆ S        ┆ 11   ┆ null ┆ Montreal, PQ /    │\n",
       "│        ┆          ┆ Hudson Trevor      ┆        ┆   ┆          ┆      ┆      ┆ Chesterville, O…  │\n",
       "│ 1      ┆ 0        ┆ Allison, Miss.     ┆ female ┆ … ┆ S        ┆ null ┆ null ┆ Montreal, PQ /    │\n",
       "│        ┆          ┆ Helen Loraine      ┆        ┆   ┆          ┆      ┆      ┆ Chesterville, O…  │\n",
       "│ 1      ┆ 0        ┆ Allison, Mr.       ┆ male   ┆ … ┆ S        ┆ null ┆ 135  ┆ Montreal, PQ /    │\n",
       "│        ┆          ┆ Hudson Joshua Cre… ┆        ┆   ┆          ┆      ┆      ┆ Chesterville, O…  │\n",
       "│ 1      ┆ 0        ┆ Allison, Mrs.      ┆ female ┆ … ┆ S        ┆ null ┆ null ┆ Montreal, PQ /    │\n",
       "│        ┆          ┆ Hudson J C (Bess…  ┆        ┆   ┆          ┆      ┆      ┆ Chesterville, O…  │\n",
       "│ 1      ┆ 1        ┆ Anderson, Mr.      ┆ male   ┆ … ┆ S        ┆ 3    ┆ null ┆ New York, NY      │\n",
       "│        ┆          ┆ Harry              ┆        ┆   ┆          ┆      ┆      ┆                   │\n",
       "│ 1      ┆ 1        ┆ Andrews, Miss.     ┆ female ┆ … ┆ S        ┆ 10   ┆ null ┆ Hudson, NY        │\n",
       "│        ┆          ┆ Kornelia Theodo…   ┆        ┆   ┆          ┆      ┆      ┆                   │\n",
       "│ 1      ┆ 0        ┆ Andrews, Mr.       ┆ male   ┆ … ┆ S        ┆ null ┆ null ┆ Belfast, NI       │\n",
       "│        ┆          ┆ Thomas Jr          ┆        ┆   ┆          ┆      ┆      ┆                   │\n",
       "│ 1      ┆ 1        ┆ Appleton, Mrs.     ┆ female ┆ … ┆ S        ┆ D    ┆ null ┆ Bayside, Queens,  │\n",
       "│        ┆          ┆ Edward Dale (Ch…   ┆        ┆   ┆          ┆      ┆      ┆ NY                │\n",
       "│ 1      ┆ 0        ┆ Artagaveytia, Mr.  ┆ male   ┆ … ┆ C        ┆ null ┆ 22   ┆ Montevideo,       │\n",
       "│        ┆          ┆ Ramon              ┆        ┆   ┆          ┆      ┆      ┆ Uruguay           │\n",
       "│ 1      ┆ 0        ┆ Astor, Col. John   ┆ male   ┆ … ┆ C        ┆ null ┆ 124  ┆ New York, NY      │\n",
       "│        ┆          ┆ Jacob              ┆        ┆   ┆          ┆      ┆      ┆                   │\n",
       "│ 1      ┆ 1        ┆ Astor, Mrs. John   ┆ female ┆ … ┆ C        ┆ 4    ┆ null ┆ New York, NY      │\n",
       "│        ┆          ┆ Jacob (Madele…     ┆        ┆   ┆          ┆      ┆      ┆                   │\n",
       "│ 1      ┆ 1        ┆ Aubart, Mme.       ┆ female ┆ … ┆ C        ┆ 9    ┆ null ┆ Paris, France     │\n",
       "│        ┆          ┆ Leontine Pauline   ┆        ┆   ┆          ┆      ┆      ┆                   │\n",
       "│ 1      ┆ 1        ┆ Barber, Miss.      ┆ female ┆ … ┆ S        ┆ 6    ┆ null ┆ null              │\n",
       "│        ┆          ┆ Ellen \"Nellie\"     ┆        ┆   ┆          ┆      ┆      ┆                   │\n",
       "│ 1      ┆ 1        ┆ Barkworth, Mr.     ┆ male   ┆ … ┆ S        ┆ B    ┆ null ┆ Hessle, Yorks     │\n",
       "│        ┆          ┆ Algernon Henry …   ┆        ┆   ┆          ┆      ┆      ┆                   │\n",
       "│ 1      ┆ 0        ┆ Baumann, Mr. John  ┆ male   ┆ … ┆ S        ┆ null ┆ null ┆ New York, NY      │\n",
       "│        ┆          ┆ D                  ┆        ┆   ┆          ┆      ┆      ┆                   │\n",
       "│ 1      ┆ 0        ┆ Baxter, Mr. Quigg  ┆ male   ┆ … ┆ C        ┆ null ┆ null ┆ Montreal, PQ      │\n",
       "│        ┆          ┆ Edmond             ┆        ┆   ┆          ┆      ┆      ┆                   │\n",
       "│ 1      ┆ 1        ┆ Baxter, Mrs. James ┆ female ┆ … ┆ C        ┆ 6    ┆ null ┆ Montreal, PQ      │\n",
       "│        ┆          ┆ (Helene DeL…       ┆        ┆   ┆          ┆      ┆      ┆                   │\n",
       "│ 1      ┆ 1        ┆ Bazzani, Miss.     ┆ female ┆ … ┆ C        ┆ 8    ┆ null ┆ null              │\n",
       "│        ┆          ┆ Albina             ┆        ┆   ┆          ┆      ┆      ┆                   │\n",
       "│ 1      ┆ 0        ┆ Beattie, Mr.       ┆ male   ┆ … ┆ C        ┆ A    ┆ null ┆ Winnipeg, MN      │\n",
       "│        ┆          ┆ Thomson            ┆        ┆   ┆          ┆      ┆      ┆                   │\n",
       "│ 1      ┆ 1        ┆ Beckwith, Mr.      ┆ male   ┆ … ┆ S        ┆ 5    ┆ null ┆ New York, NY      │\n",
       "│        ┆          ┆ Richard Leonard    ┆        ┆   ┆          ┆      ┆      ┆                   │\n",
       "│ 1      ┆ 1        ┆ Beckwith, Mrs.     ┆ female ┆ … ┆ S        ┆ 5    ┆ null ┆ New York, NY      │\n",
       "│        ┆          ┆ Richard Leonard…   ┆        ┆   ┆          ┆      ┆      ┆                   │\n",
       "│ 1      ┆ 1        ┆ Behr, Mr. Karl     ┆ male   ┆ … ┆ C        ┆ 5    ┆ null ┆ New York, NY      │\n",
       "│        ┆          ┆ Howell             ┆        ┆   ┆          ┆      ┆      ┆                   │\n",
       "│ 1      ┆ 1        ┆ Bidois, Miss.      ┆ female ┆ … ┆ C        ┆ 4    ┆ null ┆ null              │\n",
       "│        ┆          ┆ Rosalie            ┆        ┆   ┆          ┆      ┆      ┆                   │\n",
       "│ 1      ┆ 1        ┆ Bird, Miss. Ellen  ┆ female ┆ … ┆ S        ┆ 8    ┆ null ┆ null              │\n",
       "│ 1      ┆ 0        ┆ Birnbaum, Mr.      ┆ male   ┆ … ┆ C        ┆ null ┆ 148  ┆ San Francisco, CA │\n",
       "│        ┆          ┆ Jakob              ┆        ┆   ┆          ┆      ┆      ┆                   │\n",
       "│ 1      ┆ 1        ┆ Bishop, Mr.        ┆ male   ┆ … ┆ C        ┆ 7    ┆ null ┆ Dowagiac, MI      │\n",
       "│        ┆          ┆ Dickinson H        ┆        ┆   ┆          ┆      ┆      ┆                   │\n",
       "│ 1      ┆ 1        ┆ Bishop, Mrs.       ┆ female ┆ … ┆ C        ┆ 7    ┆ null ┆ Dowagiac, MI      │\n",
       "│        ┆          ┆ Dickinson H (Hele… ┆        ┆   ┆          ┆      ┆      ┆                   │\n",
       "│ 1      ┆ 1        ┆ Bissette, Miss.    ┆ female ┆ … ┆ S        ┆ 8    ┆ null ┆ null              │\n",
       "│        ┆          ┆ Amelia             ┆        ┆   ┆          ┆      ┆      ┆                   │\n",
       "│ 1      ┆ 1        ┆ Bjornstrom-Steffan ┆ male   ┆ … ┆ S        ┆ D    ┆ null ┆ Stockholm, Sweden │\n",
       "│        ┆          ┆ sson, Mr. Ma…      ┆        ┆   ┆          ┆      ┆      ┆ / Washington…     │\n",
       "│ 1      ┆ 0        ┆ Blackwell, Mr.     ┆ male   ┆ … ┆ S        ┆ null ┆ null ┆ Trenton, NJ       │\n",
       "│        ┆          ┆ Stephen Weart      ┆        ┆   ┆          ┆      ┆      ┆                   │\n",
       "│ 1      ┆ 1        ┆ Blank, Mr. Henry   ┆ male   ┆ … ┆ C        ┆ 7    ┆ null ┆ Glen Ridge, NJ    │\n",
       "│ 1      ┆ 1        ┆ Bonnell, Miss.     ┆ female ┆ … ┆ S        ┆ 8    ┆ null ┆ Youngstown, OH    │\n",
       "│        ┆          ┆ Caroline           ┆        ┆   ┆          ┆      ┆      ┆                   │\n",
       "│ 1      ┆ 1        ┆ Bonnell, Miss.     ┆ female ┆ … ┆ S        ┆ 8    ┆ null ┆ Birkdale, England │\n",
       "│        ┆          ┆ Elizabeth          ┆        ┆   ┆          ┆      ┆      ┆ Cleveland, O…     │\n",
       "│ 1      ┆ 0        ┆ Borebank, Mr. John ┆ male   ┆ … ┆ S        ┆ null ┆ null ┆ London /          │\n",
       "│        ┆          ┆ James              ┆        ┆   ┆          ┆      ┆      ┆ Winnipeg, MB      │\n",
       "│ 1      ┆ 1        ┆ Bowen, Miss. Grace ┆ female ┆ … ┆ C        ┆ 4    ┆ null ┆ Cooperstown, NY   │\n",
       "│        ┆          ┆ Scott              ┆        ┆   ┆          ┆      ┆      ┆                   │\n",
       "│ 1      ┆ 1        ┆ Bowerman, Miss.    ┆ female ┆ … ┆ S        ┆ 6    ┆ null ┆ St                │\n",
       "│        ┆          ┆ Elsie Edith        ┆        ┆   ┆          ┆      ┆      ┆ Leonards-on-Sea,  │\n",
       "│        ┆          ┆                    ┆        ┆   ┆          ┆      ┆      ┆ England Oh…       │\n",
       "│ 1      ┆ 1        ┆ Bradley, Mr.       ┆ male   ┆ … ┆ S        ┆ 9    ┆ null ┆ Los Angeles, CA   │\n",
       "│        ┆          ┆ George (\"George A… ┆        ┆   ┆          ┆      ┆      ┆                   │\n",
       "│ 1      ┆ 0        ┆ Brady, Mr. John    ┆ male   ┆ … ┆ S        ┆ null ┆ null ┆ Pomeroy, WA       │\n",
       "│        ┆          ┆ Bertram            ┆        ┆   ┆          ┆      ┆      ┆                   │\n",
       "│ 1      ┆ 0        ┆ Brandeis, Mr. Emil ┆ male   ┆ … ┆ C        ┆ null ┆ 208  ┆ Omaha, NE         │\n",
       "│ 1      ┆ 0        ┆ Brewe, Dr. Arthur  ┆ male   ┆ … ┆ C        ┆ null ┆ null ┆ Philadelphia, PA  │\n",
       "│        ┆          ┆ Jackson            ┆        ┆   ┆          ┆      ┆      ┆                   │\n",
       "│ 1      ┆ 1        ┆ Brown, Mrs. James  ┆ female ┆ … ┆ C        ┆ 6    ┆ null ┆ Denver, CO        │\n",
       "│        ┆          ┆ Joseph (Marg…      ┆        ┆   ┆          ┆      ┆      ┆                   │\n",
       "│ 1      ┆ 1        ┆ Brown, Mrs. John   ┆ female ┆ … ┆ S        ┆ D    ┆ null ┆ Belmont, MA       │\n",
       "│        ┆          ┆ Murray (Carol…     ┆        ┆   ┆          ┆      ┆      ┆                   │\n",
       "│ 1      ┆ 1        ┆ Bucknell, Mrs.     ┆ female ┆ … ┆ C        ┆ 8    ┆ null ┆ Philadelphia, PA  │\n",
       "│        ┆          ┆ William Robert …   ┆        ┆   ┆          ┆      ┆      ┆                   │\n",
       "│ 1      ┆ 1        ┆ Burns, Miss.       ┆ female ┆ … ┆ C        ┆ 3    ┆ null ┆ null              │\n",
       "│        ┆          ┆ Elizabeth Margare… ┆        ┆   ┆          ┆      ┆      ┆                   │\n",
       "│ 1      ┆ 0        ┆ Butt, Major.       ┆ male   ┆ … ┆ S        ┆ null ┆ null ┆ Washington, DC    │\n",
       "│        ┆          ┆ Archibald Willing… ┆        ┆   ┆          ┆      ┆      ┆                   │\n",
       "│ 1      ┆ 0        ┆ Cairns, Mr.        ┆ male   ┆ … ┆ S        ┆ null ┆ null ┆ null              │\n",
       "│        ┆          ┆ Alexander          ┆        ┆   ┆          ┆      ┆      ┆                   │\n",
       "│ 1      ┆ 1        ┆ Calderhead, Mr.    ┆ male   ┆ … ┆ S        ┆ 5    ┆ null ┆ New York, NY      │\n",
       "│        ┆          ┆ Edward Penning…    ┆        ┆   ┆          ┆      ┆      ┆                   │\n",
       "│ 1      ┆ 1        ┆ Candee, Mrs.       ┆ female ┆ … ┆ C        ┆ 6    ┆ null ┆ Washington, DC    │\n",
       "│        ┆          ┆ Edward (Helen Chu… ┆        ┆   ┆          ┆      ┆      ┆                   │\n",
       "│ 1      ┆ 1        ┆ Cardeza, Mr.       ┆ male   ┆ … ┆ C        ┆ 3    ┆ null ┆ Austria-Hungary / │\n",
       "│        ┆          ┆ Thomas Drake Mart… ┆        ┆   ┆          ┆      ┆      ┆ Germantown, …     │\n",
       "│ 1      ┆ 1        ┆ Cardeza, Mrs.      ┆ female ┆ … ┆ C        ┆ 3    ┆ null ┆ Germantown,       │\n",
       "│        ┆          ┆ James Warburton …  ┆        ┆   ┆          ┆      ┆      ┆ Philadelphia, PA  │\n",
       "│ 1      ┆ 0        ┆ Carlsson, Mr.      ┆ male   ┆ … ┆ S        ┆ null ┆ null ┆ New York, NY      │\n",
       "│        ┆          ┆ Frans Olof         ┆        ┆   ┆          ┆      ┆      ┆                   │\n",
       "│ 1      ┆ 0        ┆ Carrau, Mr.        ┆ male   ┆ … ┆ S        ┆ null ┆ null ┆ Montevideo,       │\n",
       "│        ┆          ┆ Francisco M        ┆        ┆   ┆          ┆      ┆      ┆ Uruguay           │\n",
       "│ 1      ┆ 0        ┆ Carrau, Mr. Jose   ┆ male   ┆ … ┆ S        ┆ null ┆ null ┆ Montevideo,       │\n",
       "│        ┆          ┆ Pedro              ┆        ┆   ┆          ┆      ┆      ┆ Uruguay           │\n",
       "│ 1      ┆ 1        ┆ Carter, Master.    ┆ male   ┆ … ┆ S        ┆ 4    ┆ null ┆ Bryn Mawr, PA     │\n",
       "│        ┆          ┆ William Thornt…    ┆        ┆   ┆          ┆      ┆      ┆                   │\n",
       "│ 1      ┆ 1        ┆ Carter, Miss.      ┆ female ┆ … ┆ S        ┆ 4    ┆ null ┆ Bryn Mawr, PA     │\n",
       "│        ┆          ┆ Lucile Polk        ┆        ┆   ┆          ┆      ┆      ┆                   │\n",
       "│ 1      ┆ 1        ┆ Carter, Mr.        ┆ male   ┆ … ┆ S        ┆ C    ┆ null ┆ Bryn Mawr, PA     │\n",
       "│        ┆          ┆ William Ernest     ┆        ┆   ┆          ┆      ┆      ┆                   │\n",
       "│ 1      ┆ 1        ┆ Carter, Mrs.       ┆ female ┆ … ┆ S        ┆ 4    ┆ null ┆ Bryn Mawr, PA     │\n",
       "│        ┆          ┆ William Ernest (L… ┆        ┆   ┆          ┆      ┆      ┆                   │\n",
       "│ 1      ┆ 0        ┆ Case, Mr. Howard   ┆ male   ┆ … ┆ S        ┆ null ┆ null ┆ Ascot, Berkshire  │\n",
       "│        ┆          ┆ Brown              ┆        ┆   ┆          ┆      ┆      ┆ / Rochester, …    │\n",
       "│ 1      ┆ 1        ┆ Cassebeer, Mrs.    ┆ female ┆ … ┆ C        ┆ 5    ┆ null ┆ New York, NY      │\n",
       "│        ┆          ┆ Henry Arthur J…    ┆        ┆   ┆          ┆      ┆      ┆                   │\n",
       "│ 1      ┆ 0        ┆ Cavendish, Mr.     ┆ male   ┆ … ┆ S        ┆ null ┆ 172  ┆ Little Onn Hall,  │\n",
       "│        ┆          ┆ Tyrell William     ┆        ┆   ┆          ┆      ┆      ┆ Staffs            │\n",
       "│ 1      ┆ 1        ┆ Cavendish, Mrs.    ┆ female ┆ … ┆ S        ┆ 6    ┆ null ┆ Little Onn Hall,  │\n",
       "│        ┆          ┆ Tyrell William…    ┆        ┆   ┆          ┆      ┆      ┆ Staffs            │\n",
       "│ 1      ┆ 0        ┆ Chaffee, Mr.       ┆ male   ┆ … ┆ S        ┆ null ┆ null ┆ Amenia, ND        │\n",
       "│        ┆          ┆ Herbert Fuller     ┆        ┆   ┆          ┆      ┆      ┆                   │\n",
       "│ 1      ┆ 1        ┆ Chaffee, Mrs.      ┆ female ┆ … ┆ S        ┆ 4    ┆ null ┆ Amenia, ND        │\n",
       "│        ┆          ┆ Herbert Fuller (…  ┆        ┆   ┆          ┆      ┆      ┆                   │\n",
       "│ 1      ┆ 1        ┆ Chambers, Mr.      ┆ male   ┆ … ┆ S        ┆ 5    ┆ null ┆ New York, NY /    │\n",
       "│        ┆          ┆ Norman Campbell    ┆        ┆   ┆          ┆      ┆      ┆ Ithaca, NY        │\n",
       "│ 1      ┆ 1        ┆ Chambers, Mrs.     ┆ female ┆ … ┆ S        ┆ 5    ┆ null ┆ New York, NY /    │\n",
       "│        ┆          ┆ Norman Campbell…   ┆        ┆   ┆          ┆      ┆      ┆ Ithaca, NY        │\n",
       "│ 1      ┆ 1        ┆ Chaudanson, Miss.  ┆ female ┆ … ┆ C        ┆ 4    ┆ null ┆ null              │\n",
       "│        ┆          ┆ Victorine          ┆        ┆   ┆          ┆      ┆      ┆                   │\n",
       "│ 1      ┆ 1        ┆ Cherry, Miss.      ┆ female ┆ … ┆ S        ┆ 8    ┆ null ┆ London, England   │\n",
       "│        ┆          ┆ Gladys             ┆        ┆   ┆          ┆      ┆      ┆                   │\n",
       "│ 1      ┆ 1        ┆ Chevre, Mr. Paul   ┆ male   ┆ … ┆ C        ┆ 7    ┆ null ┆ Paris, France     │\n",
       "│        ┆          ┆ Romaine            ┆        ┆   ┆          ┆      ┆      ┆                   │\n",
       "│ 1      ┆ 1        ┆ Chibnall, Mrs.     ┆ female ┆ … ┆ S        ┆ 6    ┆ null ┆ St                │\n",
       "│        ┆          ┆ (Edith Martha B…   ┆        ┆   ┆          ┆      ┆      ┆ Leonards-on-Sea,  │\n",
       "│        ┆          ┆                    ┆        ┆   ┆          ┆      ┆      ┆ England Oh…       │\n",
       "│ 1      ┆ 0        ┆ Chisholm, Mr.      ┆ male   ┆ … ┆ S        ┆ null ┆ null ┆ Liverpool,        │\n",
       "│        ┆          ┆ Roderick Robert …  ┆        ┆   ┆          ┆      ┆      ┆ England / Belfast │\n",
       "│ 1      ┆ 0        ┆ Clark, Mr. Walter  ┆ male   ┆ … ┆ C        ┆ null ┆ null ┆ Los Angeles, CA   │\n",
       "│        ┆          ┆ Miller             ┆        ┆   ┆          ┆      ┆      ┆                   │\n",
       "│ 1      ┆ 1        ┆ Clark, Mrs. Walter ┆ female ┆ … ┆ C        ┆ 4    ┆ null ┆ Los Angeles, CA   │\n",
       "│        ┆          ┆ Miller (Vir…       ┆        ┆   ┆          ┆      ┆      ┆                   │\n",
       "│ 1      ┆ 1        ┆ Cleaver, Miss.     ┆ female ┆ … ┆ S        ┆ 11   ┆ null ┆ null              │\n",
       "│        ┆          ┆ Alice              ┆        ┆   ┆          ┆      ┆      ┆                   │\n",
       "│ 1      ┆ 0        ┆ Clifford, Mr.      ┆ male   ┆ … ┆ S        ┆ null ┆ null ┆ Stoughton, MA     │\n",
       "│        ┆          ┆ George Quincy      ┆        ┆   ┆          ┆      ┆      ┆                   │\n",
       "│ 1      ┆ 0        ┆ Colley, Mr. Edward ┆ male   ┆ … ┆ S        ┆ null ┆ null ┆ Victoria, BC      │\n",
       "│        ┆          ┆ Pomeroy            ┆        ┆   ┆          ┆      ┆      ┆                   │\n",
       "│ 1      ┆ 1        ┆ Compton, Miss.     ┆ female ┆ … ┆ C        ┆ 14   ┆ null ┆ Lakewood, NJ      │\n",
       "│        ┆          ┆ Sara Rebecca       ┆        ┆   ┆          ┆      ┆      ┆                   │\n",
       "│ 1      ┆ 0        ┆ Compton, Mr.       ┆ male   ┆ … ┆ C        ┆ null ┆ null ┆ Lakewood, NJ      │\n",
       "│        ┆          ┆ Alexander Taylor … ┆        ┆   ┆          ┆      ┆      ┆                   │\n",
       "│ 1      ┆ 1        ┆ Compton, Mrs.      ┆ female ┆ … ┆ C        ┆ 14   ┆ null ┆ Lakewood, NJ      │\n",
       "│        ┆          ┆ Alexander Taylor…  ┆        ┆   ┆          ┆      ┆      ┆                   │\n",
       "│ 1      ┆ 1        ┆ Cornell, Mrs.      ┆ female ┆ … ┆ S        ┆ 2    ┆ null ┆ New York, NY      │\n",
       "│        ┆          ┆ Robert Clifford …  ┆        ┆   ┆          ┆      ┆      ┆                   │\n",
       "│ 1      ┆ 0        ┆ Crafton, Mr. John  ┆ male   ┆ … ┆ S        ┆ null ┆ null ┆ Roachdale, IN     │\n",
       "│        ┆          ┆ Bertram            ┆        ┆   ┆          ┆      ┆      ┆                   │\n",
       "│ 1      ┆ 0        ┆ Crosby, Capt.      ┆ male   ┆ … ┆ S        ┆ null ┆ 269  ┆ Milwaukee, WI     │\n",
       "│        ┆          ┆ Edward Gifford     ┆        ┆   ┆          ┆      ┆      ┆                   │\n",
       "│ 1      ┆ 1        ┆ Crosby, Miss.      ┆ female ┆ … ┆ S        ┆ 7    ┆ null ┆ Milwaukee, WI     │\n",
       "│        ┆          ┆ Harriet R          ┆        ┆   ┆          ┆      ┆      ┆                   │\n",
       "│ 1      ┆ 1        ┆ Crosby, Mrs.       ┆ female ┆ … ┆ S        ┆ 7    ┆ null ┆ Milwaukee, WI     │\n",
       "│        ┆          ┆ Edward Gifford (C… ┆        ┆   ┆          ┆      ┆      ┆                   │\n",
       "│ 1      ┆ 0        ┆ Cumings, Mr. John  ┆ male   ┆ … ┆ C        ┆ null ┆ null ┆ New York, NY      │\n",
       "│        ┆          ┆ Bradley            ┆        ┆   ┆          ┆      ┆      ┆                   │\n",
       "│ 1      ┆ 1        ┆ Cumings, Mrs. John ┆ female ┆ … ┆ C        ┆ 4    ┆ null ┆ New York, NY      │\n",
       "│        ┆          ┆ Bradley (Fl…       ┆        ┆   ┆          ┆      ┆      ┆                   │\n",
       "│ 1      ┆ 1        ┆ Daly, Mr. Peter    ┆ male   ┆ … ┆ S        ┆ 5 9  ┆ null ┆ Lima, Peru        │\n",
       "│        ┆          ┆ Denis              ┆        ┆   ┆          ┆      ┆      ┆                   │\n",
       "│ 1      ┆ 1        ┆ Daniel, Mr. Robert ┆ male   ┆ … ┆ S        ┆ 3    ┆ null ┆ Philadelphia, PA  │\n",
       "│        ┆          ┆ Williams           ┆        ┆   ┆          ┆      ┆      ┆                   │\n",
       "│ 1      ┆ 1        ┆ Daniels, Miss.     ┆ female ┆ … ┆ S        ┆ 8    ┆ null ┆ null              │\n",
       "│        ┆          ┆ Sarah              ┆        ┆   ┆          ┆      ┆      ┆                   │\n",
       "│ 1      ┆ 0        ┆ Davidson, Mr.      ┆ male   ┆ … ┆ S        ┆ null ┆ null ┆ Montreal, PQ      │\n",
       "│        ┆          ┆ Thornton           ┆        ┆   ┆          ┆      ┆      ┆                   │\n",
       "│ 1      ┆ 1        ┆ Davidson, Mrs.     ┆ female ┆ … ┆ S        ┆ 3    ┆ null ┆ Montreal, PQ      │\n",
       "│        ┆          ┆ Thornton (Orian…   ┆        ┆   ┆          ┆      ┆      ┆                   │\n",
       "│ 1      ┆ 1        ┆ Dick, Mr. Albert   ┆ male   ┆ … ┆ S        ┆ 3    ┆ null ┆ Calgary, AB       │\n",
       "│        ┆          ┆ Adrian             ┆        ┆   ┆          ┆      ┆      ┆                   │\n",
       "│ 1      ┆ 1        ┆ Dick, Mrs. Albert  ┆ female ┆ … ┆ S        ┆ 3    ┆ null ┆ Calgary, AB       │\n",
       "│        ┆          ┆ Adrian (Vera…      ┆        ┆   ┆          ┆      ┆      ┆                   │\n",
       "│ 1      ┆ 1        ┆ Dodge, Dr.         ┆ male   ┆ … ┆ S        ┆ 13   ┆ null ┆ San Francisco, CA │\n",
       "│        ┆          ┆ Washington         ┆        ┆   ┆          ┆      ┆      ┆                   │\n",
       "│ 1      ┆ 1        ┆ Dodge, Master.     ┆ male   ┆ … ┆ S        ┆ 5    ┆ null ┆ San Francisco, CA │\n",
       "│        ┆          ┆ Washington         ┆        ┆   ┆          ┆      ┆      ┆                   │\n",
       "│ 1      ┆ 1        ┆ Dodge, Mrs.        ┆ female ┆ … ┆ S        ┆ 5    ┆ null ┆ San Francisco, CA │\n",
       "│        ┆          ┆ Washington (Ruth   ┆        ┆   ┆          ┆      ┆      ┆                   │\n",
       "│        ┆          ┆ V…                 ┆        ┆   ┆          ┆      ┆      ┆                   │\n",
       "│ 1      ┆ 0        ┆ Douglas, Mr.       ┆ male   ┆ … ┆ C        ┆ null ┆ 62   ┆ Deephaven, MN /   │\n",
       "│        ┆          ┆ Walter Donald      ┆        ┆   ┆          ┆      ┆      ┆ Cedar Rapids, …   │\n",
       "│ 1      ┆ 1        ┆ Douglas, Mrs.      ┆ female ┆ … ┆ C        ┆ 6    ┆ null ┆ Montreal, PQ      │\n",
       "│        ┆          ┆ Frederick Charle…  ┆        ┆   ┆          ┆      ┆      ┆                   │\n",
       "│ 1      ┆ 1        ┆ Douglas, Mrs.      ┆ female ┆ … ┆ C        ┆ 2    ┆ null ┆ Deephaven, MN /   │\n",
       "│        ┆          ┆ Walter Donald (M…  ┆        ┆   ┆          ┆      ┆      ┆ Cedar Rapids, …   │\n",
       "│ 1      ┆ 1        ┆ Duff Gordon, Lady. ┆ female ┆ … ┆ C        ┆ 1    ┆ null ┆ London / Paris    │\n",
       "│        ┆          ┆ (Lucille Ch…       ┆        ┆   ┆          ┆      ┆      ┆                   │\n",
       "└────────┴──────────┴────────────────────┴────────┴───┴──────────┴──────┴──────┴───────────────────┘"
      ]
     },
     "execution_count": 5,
     "metadata": {},
     "output_type": "execute_result"
    }
   ],
   "source": [
    "df.head(100)"
   ]
  },
  {
   "cell_type": "code",
   "execution_count": 6,
   "id": "1cc050d2-5d36-40d9-9658-dee3c72f4d91",
   "metadata": {},
   "outputs": [
    {
     "data": {
      "text/html": [
       "<div><style>\n",
       ".dataframe > thead > tr,\n",
       ".dataframe > tbody > tr {\n",
       "  text-align: right;\n",
       "  white-space: pre-wrap;\n",
       "}\n",
       "</style>\n",
       "<small>shape: (3, 14)</small><table border=\"1\" class=\"dataframe\"><thead><tr><th>pclass</th><th>survived</th><th>name</th><th>sex</th><th>age</th><th>sibsp</th><th>parch</th><th>ticket</th><th>fare</th><th>cabin</th><th>embarked</th><th>boat</th><th>body</th><th>home.dest</th></tr><tr><td>i64</td><td>i64</td><td>str</td><td>str</td><td>f64</td><td>i64</td><td>i64</td><td>str</td><td>f64</td><td>str</td><td>str</td><td>str</td><td>i64</td><td>str</td></tr></thead><tbody><tr><td>3</td><td>0</td><td>&quot;Zakarian, Mr. Mapriededer&quot;</td><td>&quot;male&quot;</td><td>26.5</td><td>0</td><td>0</td><td>&quot;2656&quot;</td><td>7.225</td><td>null</td><td>&quot;C&quot;</td><td>null</td><td>304</td><td>null</td></tr><tr><td>3</td><td>0</td><td>&quot;Zakarian, Mr. Ortin&quot;</td><td>&quot;male&quot;</td><td>27.0</td><td>0</td><td>0</td><td>&quot;2670&quot;</td><td>7.225</td><td>null</td><td>&quot;C&quot;</td><td>null</td><td>null</td><td>null</td></tr><tr><td>3</td><td>0</td><td>&quot;Zimmerman, Mr. Leo&quot;</td><td>&quot;male&quot;</td><td>29.0</td><td>0</td><td>0</td><td>&quot;315082&quot;</td><td>7.875</td><td>null</td><td>&quot;S&quot;</td><td>null</td><td>null</td><td>null</td></tr></tbody></table></div>"
      ],
      "text/plain": [
       "shape: (3, 14)\n",
       "┌────────┬──────────┬───────────────────────────┬──────┬───┬──────────┬──────┬──────┬───────────┐\n",
       "│ pclass ┆ survived ┆ name                      ┆ sex  ┆ … ┆ embarked ┆ boat ┆ body ┆ home.dest │\n",
       "│ ---    ┆ ---      ┆ ---                       ┆ ---  ┆   ┆ ---      ┆ ---  ┆ ---  ┆ ---       │\n",
       "│ i64    ┆ i64      ┆ str                       ┆ str  ┆   ┆ str      ┆ str  ┆ i64  ┆ str       │\n",
       "╞════════╪══════════╪═══════════════════════════╪══════╪═══╪══════════╪══════╪══════╪═══════════╡\n",
       "│ 3      ┆ 0        ┆ Zakarian, Mr. Mapriededer ┆ male ┆ … ┆ C        ┆ null ┆ 304  ┆ null      │\n",
       "│ 3      ┆ 0        ┆ Zakarian, Mr. Ortin       ┆ male ┆ … ┆ C        ┆ null ┆ null ┆ null      │\n",
       "│ 3      ┆ 0        ┆ Zimmerman, Mr. Leo        ┆ male ┆ … ┆ S        ┆ null ┆ null ┆ null      │\n",
       "└────────┴──────────┴───────────────────────────┴──────┴───┴──────────┴──────┴──────┴───────────┘"
      ]
     },
     "execution_count": 6,
     "metadata": {},
     "output_type": "execute_result"
    }
   ],
   "source": [
    "df.tail(3)"
   ]
  },
  {
   "cell_type": "code",
   "execution_count": 7,
   "id": "f570f8a7-3b3d-44cc-8b68-c5dea9851769",
   "metadata": {},
   "outputs": [
    {
     "name": "stdout",
     "output_type": "stream",
     "text": [
      "Rows: 1309\n",
      "Columns: 14\n",
      "$ pclass    <i64> 1, 1, 1, 1, 1, 1, 1, 1, 1, 1\n",
      "$ survived  <i64> 1, 1, 0, 0, 0, 1, 1, 0, 1, 0\n",
      "$ name      <str> 'Allen, Miss. Elisabeth Walton', 'Allison, Master. Hudson Trevor', 'Allison, Miss. Helen Loraine', 'Allison, Mr. Hudson Joshua Creighton', 'Allison, Mrs. Hudson J C (Bessie Waldo Daniels)', 'Anderson, Mr. Harry', 'Andrews, Miss. Kornelia Theodosia', 'Andrews, Mr. Thomas Jr', 'Appleton, Mrs. Edward Dale (Charlotte Lamson)', 'Artagaveytia, Mr. Ramon'\n",
      "$ sex       <str> 'female', 'male', 'female', 'male', 'female', 'male', 'female', 'male', 'female', 'male'\n",
      "$ age       <f64> 29.0, 0.92, 2.0, 30.0, 25.0, 48.0, 63.0, 39.0, 53.0, 71.0\n",
      "$ sibsp     <i64> 0, 1, 1, 1, 1, 0, 1, 0, 2, 0\n",
      "$ parch     <i64> 0, 2, 2, 2, 2, 0, 0, 0, 0, 0\n",
      "$ ticket    <str> '24160', '113781', '113781', '113781', '113781', '19952', '13502', '112050', '11769', 'PC 17609'\n",
      "$ fare      <f64> 211.3375, 151.55, 151.55, 151.55, 151.55, 26.55, 77.9583, 0.0, 51.4792, 49.5042\n",
      "$ cabin     <str> 'B5', 'C22 C26', 'C22 C26', 'C22 C26', 'C22 C26', 'E12', 'D7', 'A36', 'C101', None\n",
      "$ embarked  <str> 'S', 'S', 'S', 'S', 'S', 'S', 'S', 'S', 'S', 'C'\n",
      "$ boat      <str> '2', '11', None, None, None, '3', '10', None, 'D', None\n",
      "$ body      <i64> None, None, None, 135, None, None, None, None, None, 22\n",
      "$ home.dest <str> 'St Louis, MO', 'Montreal, PQ / Chesterville, ON', 'Montreal, PQ / Chesterville, ON', 'Montreal, PQ / Chesterville, ON', 'Montreal, PQ / Chesterville, ON', 'New York, NY', 'Hudson, NY', 'Belfast, NI', 'Bayside, Queens, NY', 'Montevideo, Uruguay'\n",
      "\n"
     ]
    }
   ],
   "source": [
    "df.glimpse()"
   ]
  },
  {
   "cell_type": "code",
   "execution_count": 8,
   "id": "7e97cc88-d963-435d-8d87-ad7407845231",
   "metadata": {},
   "outputs": [
    {
     "data": {
      "text/html": [
       "<div><style>\n",
       ".dataframe > thead > tr,\n",
       ".dataframe > tbody > tr {\n",
       "  text-align: right;\n",
       "  white-space: pre-wrap;\n",
       "}\n",
       "</style>\n",
       "<small>shape: (1_309, 14)</small><table border=\"1\" class=\"dataframe\"><thead><tr><th>pclass</th><th>survived</th><th>name</th><th>sex</th><th>age</th><th>sibsp</th><th>parch</th><th>ticket</th><th>fare</th><th>cabin</th><th>embarked</th><th>boat</th><th>body</th><th>home.dest</th></tr><tr><td>i64</td><td>i64</td><td>str</td><td>str</td><td>f64</td><td>i64</td><td>i64</td><td>str</td><td>f64</td><td>str</td><td>str</td><td>str</td><td>i64</td><td>str</td></tr></thead><tbody><tr><td>1</td><td>1</td><td>&quot;Allen, Miss. Elisabeth Walton&quot;</td><td>&quot;female&quot;</td><td>29.0</td><td>0</td><td>0</td><td>&quot;24160&quot;</td><td>211.3375</td><td>&quot;B5&quot;</td><td>&quot;S&quot;</td><td>&quot;2&quot;</td><td>null</td><td>&quot;St Louis, MO&quot;</td></tr><tr><td>1</td><td>1</td><td>&quot;Allison, Master. Hudson Trevor&quot;</td><td>&quot;male&quot;</td><td>0.92</td><td>1</td><td>2</td><td>&quot;113781&quot;</td><td>151.55</td><td>&quot;C22 C26&quot;</td><td>&quot;S&quot;</td><td>&quot;11&quot;</td><td>null</td><td>&quot;Montreal, PQ / Chesterville, O…</td></tr><tr><td>1</td><td>0</td><td>&quot;Allison, Miss. Helen Loraine&quot;</td><td>&quot;female&quot;</td><td>2.0</td><td>1</td><td>2</td><td>&quot;113781&quot;</td><td>151.55</td><td>&quot;C22 C26&quot;</td><td>&quot;S&quot;</td><td>null</td><td>null</td><td>&quot;Montreal, PQ / Chesterville, O…</td></tr><tr><td>1</td><td>0</td><td>&quot;Allison, Mr. Hudson Joshua Cre…</td><td>&quot;male&quot;</td><td>30.0</td><td>1</td><td>2</td><td>&quot;113781&quot;</td><td>151.55</td><td>&quot;C22 C26&quot;</td><td>&quot;S&quot;</td><td>null</td><td>135</td><td>&quot;Montreal, PQ / Chesterville, O…</td></tr><tr><td>1</td><td>0</td><td>&quot;Allison, Mrs. Hudson J C (Bess…</td><td>&quot;female&quot;</td><td>25.0</td><td>1</td><td>2</td><td>&quot;113781&quot;</td><td>151.55</td><td>&quot;C22 C26&quot;</td><td>&quot;S&quot;</td><td>null</td><td>null</td><td>&quot;Montreal, PQ / Chesterville, O…</td></tr><tr><td>1</td><td>1</td><td>&quot;Anderson, Mr. Harry&quot;</td><td>&quot;male&quot;</td><td>48.0</td><td>0</td><td>0</td><td>&quot;19952&quot;</td><td>26.55</td><td>&quot;E12&quot;</td><td>&quot;S&quot;</td><td>&quot;3&quot;</td><td>null</td><td>&quot;New York, NY&quot;</td></tr><tr><td>1</td><td>1</td><td>&quot;Andrews, Miss. Kornelia Theodo…</td><td>&quot;female&quot;</td><td>63.0</td><td>1</td><td>0</td><td>&quot;13502&quot;</td><td>77.9583</td><td>&quot;D7&quot;</td><td>&quot;S&quot;</td><td>&quot;10&quot;</td><td>null</td><td>&quot;Hudson, NY&quot;</td></tr><tr><td>1</td><td>0</td><td>&quot;Andrews, Mr. Thomas Jr&quot;</td><td>&quot;male&quot;</td><td>39.0</td><td>0</td><td>0</td><td>&quot;112050&quot;</td><td>0.0</td><td>&quot;A36&quot;</td><td>&quot;S&quot;</td><td>null</td><td>null</td><td>&quot;Belfast, NI&quot;</td></tr><tr><td>1</td><td>1</td><td>&quot;Appleton, Mrs. Edward Dale (Ch…</td><td>&quot;female&quot;</td><td>53.0</td><td>2</td><td>0</td><td>&quot;11769&quot;</td><td>51.4792</td><td>&quot;C101&quot;</td><td>&quot;S&quot;</td><td>&quot;D&quot;</td><td>null</td><td>&quot;Bayside, Queens, NY&quot;</td></tr><tr><td>1</td><td>0</td><td>&quot;Artagaveytia, Mr. Ramon&quot;</td><td>&quot;male&quot;</td><td>71.0</td><td>0</td><td>0</td><td>&quot;PC 17609&quot;</td><td>49.5042</td><td>null</td><td>&quot;C&quot;</td><td>null</td><td>22</td><td>&quot;Montevideo, Uruguay&quot;</td></tr><tr><td>1</td><td>0</td><td>&quot;Astor, Col. John Jacob&quot;</td><td>&quot;male&quot;</td><td>47.0</td><td>1</td><td>0</td><td>&quot;PC 17757&quot;</td><td>227.525</td><td>&quot;C62 C64&quot;</td><td>&quot;C&quot;</td><td>null</td><td>124</td><td>&quot;New York, NY&quot;</td></tr><tr><td>1</td><td>1</td><td>&quot;Astor, Mrs. John Jacob (Madele…</td><td>&quot;female&quot;</td><td>18.0</td><td>1</td><td>0</td><td>&quot;PC 17757&quot;</td><td>227.525</td><td>&quot;C62 C64&quot;</td><td>&quot;C&quot;</td><td>&quot;4&quot;</td><td>null</td><td>&quot;New York, NY&quot;</td></tr><tr><td>1</td><td>1</td><td>&quot;Aubart, Mme. Leontine Pauline&quot;</td><td>&quot;female&quot;</td><td>24.0</td><td>0</td><td>0</td><td>&quot;PC 17477&quot;</td><td>69.3</td><td>&quot;B35&quot;</td><td>&quot;C&quot;</td><td>&quot;9&quot;</td><td>null</td><td>&quot;Paris, France&quot;</td></tr><tr><td>1</td><td>1</td><td>&quot;Barber, Miss. Ellen &quot;Nellie&quot;&quot;</td><td>&quot;female&quot;</td><td>26.0</td><td>0</td><td>0</td><td>&quot;19877&quot;</td><td>78.85</td><td>null</td><td>&quot;S&quot;</td><td>&quot;6&quot;</td><td>null</td><td>null</td></tr><tr><td>1</td><td>1</td><td>&quot;Barkworth, Mr. Algernon Henry …</td><td>&quot;male&quot;</td><td>80.0</td><td>0</td><td>0</td><td>&quot;27042&quot;</td><td>30.0</td><td>&quot;A23&quot;</td><td>&quot;S&quot;</td><td>&quot;B&quot;</td><td>null</td><td>&quot;Hessle, Yorks&quot;</td></tr><tr><td>1</td><td>0</td><td>&quot;Baumann, Mr. John D&quot;</td><td>&quot;male&quot;</td><td>null</td><td>0</td><td>0</td><td>&quot;PC 17318&quot;</td><td>25.925</td><td>null</td><td>&quot;S&quot;</td><td>null</td><td>null</td><td>&quot;New York, NY&quot;</td></tr><tr><td>1</td><td>0</td><td>&quot;Baxter, Mr. Quigg Edmond&quot;</td><td>&quot;male&quot;</td><td>24.0</td><td>0</td><td>1</td><td>&quot;PC 17558&quot;</td><td>247.5208</td><td>&quot;B58 B60&quot;</td><td>&quot;C&quot;</td><td>null</td><td>null</td><td>&quot;Montreal, PQ&quot;</td></tr><tr><td>1</td><td>1</td><td>&quot;Baxter, Mrs. James (Helene DeL…</td><td>&quot;female&quot;</td><td>50.0</td><td>0</td><td>1</td><td>&quot;PC 17558&quot;</td><td>247.5208</td><td>&quot;B58 B60&quot;</td><td>&quot;C&quot;</td><td>&quot;6&quot;</td><td>null</td><td>&quot;Montreal, PQ&quot;</td></tr><tr><td>1</td><td>1</td><td>&quot;Bazzani, Miss. Albina&quot;</td><td>&quot;female&quot;</td><td>32.0</td><td>0</td><td>0</td><td>&quot;11813&quot;</td><td>76.2917</td><td>&quot;D15&quot;</td><td>&quot;C&quot;</td><td>&quot;8&quot;</td><td>null</td><td>null</td></tr><tr><td>1</td><td>0</td><td>&quot;Beattie, Mr. Thomson&quot;</td><td>&quot;male&quot;</td><td>36.0</td><td>0</td><td>0</td><td>&quot;13050&quot;</td><td>75.2417</td><td>&quot;C6&quot;</td><td>&quot;C&quot;</td><td>&quot;A&quot;</td><td>null</td><td>&quot;Winnipeg, MN&quot;</td></tr><tr><td>1</td><td>1</td><td>&quot;Beckwith, Mr. Richard Leonard&quot;</td><td>&quot;male&quot;</td><td>37.0</td><td>1</td><td>1</td><td>&quot;11751&quot;</td><td>52.5542</td><td>&quot;D35&quot;</td><td>&quot;S&quot;</td><td>&quot;5&quot;</td><td>null</td><td>&quot;New York, NY&quot;</td></tr><tr><td>1</td><td>1</td><td>&quot;Beckwith, Mrs. Richard Leonard…</td><td>&quot;female&quot;</td><td>47.0</td><td>1</td><td>1</td><td>&quot;11751&quot;</td><td>52.5542</td><td>&quot;D35&quot;</td><td>&quot;S&quot;</td><td>&quot;5&quot;</td><td>null</td><td>&quot;New York, NY&quot;</td></tr><tr><td>1</td><td>1</td><td>&quot;Behr, Mr. Karl Howell&quot;</td><td>&quot;male&quot;</td><td>26.0</td><td>0</td><td>0</td><td>&quot;111369&quot;</td><td>30.0</td><td>&quot;C148&quot;</td><td>&quot;C&quot;</td><td>&quot;5&quot;</td><td>null</td><td>&quot;New York, NY&quot;</td></tr><tr><td>1</td><td>1</td><td>&quot;Bidois, Miss. Rosalie&quot;</td><td>&quot;female&quot;</td><td>42.0</td><td>0</td><td>0</td><td>&quot;PC 17757&quot;</td><td>227.525</td><td>null</td><td>&quot;C&quot;</td><td>&quot;4&quot;</td><td>null</td><td>null</td></tr><tr><td>1</td><td>1</td><td>&quot;Bird, Miss. Ellen&quot;</td><td>&quot;female&quot;</td><td>29.0</td><td>0</td><td>0</td><td>&quot;PC 17483&quot;</td><td>221.7792</td><td>&quot;C97&quot;</td><td>&quot;S&quot;</td><td>&quot;8&quot;</td><td>null</td><td>null</td></tr><tr><td>1</td><td>0</td><td>&quot;Birnbaum, Mr. Jakob&quot;</td><td>&quot;male&quot;</td><td>25.0</td><td>0</td><td>0</td><td>&quot;13905&quot;</td><td>26.0</td><td>null</td><td>&quot;C&quot;</td><td>null</td><td>148</td><td>&quot;San Francisco, CA&quot;</td></tr><tr><td>1</td><td>1</td><td>&quot;Bishop, Mr. Dickinson H&quot;</td><td>&quot;male&quot;</td><td>25.0</td><td>1</td><td>0</td><td>&quot;11967&quot;</td><td>91.0792</td><td>&quot;B49&quot;</td><td>&quot;C&quot;</td><td>&quot;7&quot;</td><td>null</td><td>&quot;Dowagiac, MI&quot;</td></tr><tr><td>1</td><td>1</td><td>&quot;Bishop, Mrs. Dickinson H (Hele…</td><td>&quot;female&quot;</td><td>19.0</td><td>1</td><td>0</td><td>&quot;11967&quot;</td><td>91.0792</td><td>&quot;B49&quot;</td><td>&quot;C&quot;</td><td>&quot;7&quot;</td><td>null</td><td>&quot;Dowagiac, MI&quot;</td></tr><tr><td>1</td><td>1</td><td>&quot;Bissette, Miss. Amelia&quot;</td><td>&quot;female&quot;</td><td>35.0</td><td>0</td><td>0</td><td>&quot;PC 17760&quot;</td><td>135.6333</td><td>&quot;C99&quot;</td><td>&quot;S&quot;</td><td>&quot;8&quot;</td><td>null</td><td>null</td></tr><tr><td>1</td><td>1</td><td>&quot;Bjornstrom-Steffansson, Mr. Ma…</td><td>&quot;male&quot;</td><td>28.0</td><td>0</td><td>0</td><td>&quot;110564&quot;</td><td>26.55</td><td>&quot;C52&quot;</td><td>&quot;S&quot;</td><td>&quot;D&quot;</td><td>null</td><td>&quot;Stockholm, Sweden / Washington…</td></tr><tr><td>1</td><td>0</td><td>&quot;Blackwell, Mr. Stephen Weart&quot;</td><td>&quot;male&quot;</td><td>45.0</td><td>0</td><td>0</td><td>&quot;113784&quot;</td><td>35.5</td><td>&quot;T&quot;</td><td>&quot;S&quot;</td><td>null</td><td>null</td><td>&quot;Trenton, NJ&quot;</td></tr><tr><td>1</td><td>1</td><td>&quot;Blank, Mr. Henry&quot;</td><td>&quot;male&quot;</td><td>40.0</td><td>0</td><td>0</td><td>&quot;112277&quot;</td><td>31.0</td><td>&quot;A31&quot;</td><td>&quot;C&quot;</td><td>&quot;7&quot;</td><td>null</td><td>&quot;Glen Ridge, NJ&quot;</td></tr><tr><td>1</td><td>1</td><td>&quot;Bonnell, Miss. Caroline&quot;</td><td>&quot;female&quot;</td><td>30.0</td><td>0</td><td>0</td><td>&quot;36928&quot;</td><td>164.8667</td><td>&quot;C7&quot;</td><td>&quot;S&quot;</td><td>&quot;8&quot;</td><td>null</td><td>&quot;Youngstown, OH&quot;</td></tr><tr><td>1</td><td>1</td><td>&quot;Bonnell, Miss. Elizabeth&quot;</td><td>&quot;female&quot;</td><td>58.0</td><td>0</td><td>0</td><td>&quot;113783&quot;</td><td>26.55</td><td>&quot;C103&quot;</td><td>&quot;S&quot;</td><td>&quot;8&quot;</td><td>null</td><td>&quot;Birkdale, England Cleveland, O…</td></tr><tr><td>1</td><td>0</td><td>&quot;Borebank, Mr. John James&quot;</td><td>&quot;male&quot;</td><td>42.0</td><td>0</td><td>0</td><td>&quot;110489&quot;</td><td>26.55</td><td>&quot;D22&quot;</td><td>&quot;S&quot;</td><td>null</td><td>null</td><td>&quot;London / Winnipeg, MB&quot;</td></tr><tr><td>1</td><td>1</td><td>&quot;Bowen, Miss. Grace Scott&quot;</td><td>&quot;female&quot;</td><td>45.0</td><td>0</td><td>0</td><td>&quot;PC 17608&quot;</td><td>262.375</td><td>null</td><td>&quot;C&quot;</td><td>&quot;4&quot;</td><td>null</td><td>&quot;Cooperstown, NY&quot;</td></tr><tr><td>1</td><td>1</td><td>&quot;Bowerman, Miss. Elsie Edith&quot;</td><td>&quot;female&quot;</td><td>22.0</td><td>0</td><td>1</td><td>&quot;113505&quot;</td><td>55.0</td><td>&quot;E33&quot;</td><td>&quot;S&quot;</td><td>&quot;6&quot;</td><td>null</td><td>&quot;St Leonards-on-Sea, England Oh…</td></tr><tr><td>1</td><td>1</td><td>&quot;Bradley, Mr. George (&quot;George A…</td><td>&quot;male&quot;</td><td>null</td><td>0</td><td>0</td><td>&quot;111427&quot;</td><td>26.55</td><td>null</td><td>&quot;S&quot;</td><td>&quot;9&quot;</td><td>null</td><td>&quot;Los Angeles, CA&quot;</td></tr><tr><td>1</td><td>0</td><td>&quot;Brady, Mr. John Bertram&quot;</td><td>&quot;male&quot;</td><td>41.0</td><td>0</td><td>0</td><td>&quot;113054&quot;</td><td>30.5</td><td>&quot;A21&quot;</td><td>&quot;S&quot;</td><td>null</td><td>null</td><td>&quot;Pomeroy, WA&quot;</td></tr><tr><td>1</td><td>0</td><td>&quot;Brandeis, Mr. Emil&quot;</td><td>&quot;male&quot;</td><td>48.0</td><td>0</td><td>0</td><td>&quot;PC 17591&quot;</td><td>50.4958</td><td>&quot;B10&quot;</td><td>&quot;C&quot;</td><td>null</td><td>208</td><td>&quot;Omaha, NE&quot;</td></tr><tr><td>1</td><td>0</td><td>&quot;Brewe, Dr. Arthur Jackson&quot;</td><td>&quot;male&quot;</td><td>null</td><td>0</td><td>0</td><td>&quot;112379&quot;</td><td>39.6</td><td>null</td><td>&quot;C&quot;</td><td>null</td><td>null</td><td>&quot;Philadelphia, PA&quot;</td></tr><tr><td>1</td><td>1</td><td>&quot;Brown, Mrs. James Joseph (Marg…</td><td>&quot;female&quot;</td><td>44.0</td><td>0</td><td>0</td><td>&quot;PC 17610&quot;</td><td>27.7208</td><td>&quot;B4&quot;</td><td>&quot;C&quot;</td><td>&quot;6&quot;</td><td>null</td><td>&quot;Denver, CO&quot;</td></tr><tr><td>1</td><td>1</td><td>&quot;Brown, Mrs. John Murray (Carol…</td><td>&quot;female&quot;</td><td>59.0</td><td>2</td><td>0</td><td>&quot;11769&quot;</td><td>51.4792</td><td>&quot;C101&quot;</td><td>&quot;S&quot;</td><td>&quot;D&quot;</td><td>null</td><td>&quot;Belmont, MA&quot;</td></tr><tr><td>1</td><td>1</td><td>&quot;Bucknell, Mrs. William Robert …</td><td>&quot;female&quot;</td><td>60.0</td><td>0</td><td>0</td><td>&quot;11813&quot;</td><td>76.2917</td><td>&quot;D15&quot;</td><td>&quot;C&quot;</td><td>&quot;8&quot;</td><td>null</td><td>&quot;Philadelphia, PA&quot;</td></tr><tr><td>1</td><td>1</td><td>&quot;Burns, Miss. Elizabeth Margare…</td><td>&quot;female&quot;</td><td>41.0</td><td>0</td><td>0</td><td>&quot;16966&quot;</td><td>134.5</td><td>&quot;E40&quot;</td><td>&quot;C&quot;</td><td>&quot;3&quot;</td><td>null</td><td>null</td></tr><tr><td>1</td><td>0</td><td>&quot;Butt, Major. Archibald Willing…</td><td>&quot;male&quot;</td><td>45.0</td><td>0</td><td>0</td><td>&quot;113050&quot;</td><td>26.55</td><td>&quot;B38&quot;</td><td>&quot;S&quot;</td><td>null</td><td>null</td><td>&quot;Washington, DC&quot;</td></tr><tr><td>1</td><td>0</td><td>&quot;Cairns, Mr. Alexander&quot;</td><td>&quot;male&quot;</td><td>null</td><td>0</td><td>0</td><td>&quot;113798&quot;</td><td>31.0</td><td>null</td><td>&quot;S&quot;</td><td>null</td><td>null</td><td>null</td></tr><tr><td>1</td><td>1</td><td>&quot;Calderhead, Mr. Edward Penning…</td><td>&quot;male&quot;</td><td>42.0</td><td>0</td><td>0</td><td>&quot;PC 17476&quot;</td><td>26.2875</td><td>&quot;E24&quot;</td><td>&quot;S&quot;</td><td>&quot;5&quot;</td><td>null</td><td>&quot;New York, NY&quot;</td></tr><tr><td>1</td><td>1</td><td>&quot;Candee, Mrs. Edward (Helen Chu…</td><td>&quot;female&quot;</td><td>53.0</td><td>0</td><td>0</td><td>&quot;PC 17606&quot;</td><td>27.4458</td><td>null</td><td>&quot;C&quot;</td><td>&quot;6&quot;</td><td>null</td><td>&quot;Washington, DC&quot;</td></tr><tr><td>1</td><td>1</td><td>&quot;Cardeza, Mr. Thomas Drake Mart…</td><td>&quot;male&quot;</td><td>36.0</td><td>0</td><td>1</td><td>&quot;PC 17755&quot;</td><td>512.3292</td><td>&quot;B51 B53 B55&quot;</td><td>&quot;C&quot;</td><td>&quot;3&quot;</td><td>null</td><td>&quot;Austria-Hungary / Germantown, …</td></tr><tr><td>&hellip;</td><td>&hellip;</td><td>&hellip;</td><td>&hellip;</td><td>&hellip;</td><td>&hellip;</td><td>&hellip;</td><td>&hellip;</td><td>&hellip;</td><td>&hellip;</td><td>&hellip;</td><td>&hellip;</td><td>&hellip;</td><td>&hellip;</td></tr><tr><td>3</td><td>0</td><td>&quot;Turcin, Mr. Stjepan&quot;</td><td>&quot;male&quot;</td><td>36.0</td><td>0</td><td>0</td><td>&quot;349247&quot;</td><td>7.8958</td><td>null</td><td>&quot;S&quot;</td><td>null</td><td>null</td><td>null</td></tr><tr><td>3</td><td>1</td><td>&quot;Turja, Miss. Anna Sofia&quot;</td><td>&quot;female&quot;</td><td>18.0</td><td>0</td><td>0</td><td>&quot;4138&quot;</td><td>9.8417</td><td>null</td><td>&quot;S&quot;</td><td>&quot;15&quot;</td><td>null</td><td>null</td></tr><tr><td>3</td><td>1</td><td>&quot;Turkula, Mrs. (Hedwig)&quot;</td><td>&quot;female&quot;</td><td>63.0</td><td>0</td><td>0</td><td>&quot;4134&quot;</td><td>9.5875</td><td>null</td><td>&quot;S&quot;</td><td>&quot;15&quot;</td><td>null</td><td>null</td></tr><tr><td>3</td><td>0</td><td>&quot;van Billiard, Master. James Wi…</td><td>&quot;male&quot;</td><td>null</td><td>1</td><td>1</td><td>&quot;A/5. 851&quot;</td><td>14.5</td><td>null</td><td>&quot;S&quot;</td><td>null</td><td>null</td><td>null</td></tr><tr><td>3</td><td>0</td><td>&quot;van Billiard, Master. Walter J…</td><td>&quot;male&quot;</td><td>11.5</td><td>1</td><td>1</td><td>&quot;A/5. 851&quot;</td><td>14.5</td><td>null</td><td>&quot;S&quot;</td><td>null</td><td>1</td><td>null</td></tr><tr><td>3</td><td>0</td><td>&quot;van Billiard, Mr. Austin Blyle…</td><td>&quot;male&quot;</td><td>40.5</td><td>0</td><td>2</td><td>&quot;A/5. 851&quot;</td><td>14.5</td><td>null</td><td>&quot;S&quot;</td><td>null</td><td>255</td><td>null</td></tr><tr><td>3</td><td>0</td><td>&quot;Van Impe, Miss. Catharina&quot;</td><td>&quot;female&quot;</td><td>10.0</td><td>0</td><td>2</td><td>&quot;345773&quot;</td><td>24.15</td><td>null</td><td>&quot;S&quot;</td><td>null</td><td>null</td><td>null</td></tr><tr><td>3</td><td>0</td><td>&quot;Van Impe, Mr. Jean Baptiste&quot;</td><td>&quot;male&quot;</td><td>36.0</td><td>1</td><td>1</td><td>&quot;345773&quot;</td><td>24.15</td><td>null</td><td>&quot;S&quot;</td><td>null</td><td>null</td><td>null</td></tr><tr><td>3</td><td>0</td><td>&quot;Van Impe, Mrs. Jean Baptiste (…</td><td>&quot;female&quot;</td><td>30.0</td><td>1</td><td>1</td><td>&quot;345773&quot;</td><td>24.15</td><td>null</td><td>&quot;S&quot;</td><td>null</td><td>null</td><td>null</td></tr><tr><td>3</td><td>0</td><td>&quot;van Melkebeke, Mr. Philemon&quot;</td><td>&quot;male&quot;</td><td>null</td><td>0</td><td>0</td><td>&quot;345777&quot;</td><td>9.5</td><td>null</td><td>&quot;S&quot;</td><td>null</td><td>null</td><td>null</td></tr><tr><td>3</td><td>0</td><td>&quot;Vande Velde, Mr. Johannes Jose…</td><td>&quot;male&quot;</td><td>33.0</td><td>0</td><td>0</td><td>&quot;345780&quot;</td><td>9.5</td><td>null</td><td>&quot;S&quot;</td><td>null</td><td>null</td><td>null</td></tr><tr><td>3</td><td>0</td><td>&quot;Vande Walle, Mr. Nestor Cyriel&quot;</td><td>&quot;male&quot;</td><td>28.0</td><td>0</td><td>0</td><td>&quot;345770&quot;</td><td>9.5</td><td>null</td><td>&quot;S&quot;</td><td>null</td><td>null</td><td>null</td></tr><tr><td>3</td><td>0</td><td>&quot;Vanden Steen, Mr. Leo Peter&quot;</td><td>&quot;male&quot;</td><td>28.0</td><td>0</td><td>0</td><td>&quot;345783&quot;</td><td>9.5</td><td>null</td><td>&quot;S&quot;</td><td>null</td><td>null</td><td>null</td></tr><tr><td>3</td><td>0</td><td>&quot;Vander Cruyssen, Mr. Victor&quot;</td><td>&quot;male&quot;</td><td>47.0</td><td>0</td><td>0</td><td>&quot;345765&quot;</td><td>9.0</td><td>null</td><td>&quot;S&quot;</td><td>null</td><td>null</td><td>null</td></tr><tr><td>3</td><td>0</td><td>&quot;Vander Planke, Miss. Augusta M…</td><td>&quot;female&quot;</td><td>18.0</td><td>2</td><td>0</td><td>&quot;345764&quot;</td><td>18.0</td><td>null</td><td>&quot;S&quot;</td><td>null</td><td>null</td><td>null</td></tr><tr><td>3</td><td>0</td><td>&quot;Vander Planke, Mr. Julius&quot;</td><td>&quot;male&quot;</td><td>31.0</td><td>3</td><td>0</td><td>&quot;345763&quot;</td><td>18.0</td><td>null</td><td>&quot;S&quot;</td><td>null</td><td>null</td><td>null</td></tr><tr><td>3</td><td>0</td><td>&quot;Vander Planke, Mr. Leo Edmondu…</td><td>&quot;male&quot;</td><td>16.0</td><td>2</td><td>0</td><td>&quot;345764&quot;</td><td>18.0</td><td>null</td><td>&quot;S&quot;</td><td>null</td><td>null</td><td>null</td></tr><tr><td>3</td><td>0</td><td>&quot;Vander Planke, Mrs. Julius (Em…</td><td>&quot;female&quot;</td><td>31.0</td><td>1</td><td>0</td><td>&quot;345763&quot;</td><td>18.0</td><td>null</td><td>&quot;S&quot;</td><td>null</td><td>null</td><td>null</td></tr><tr><td>3</td><td>1</td><td>&quot;Vartanian, Mr. David&quot;</td><td>&quot;male&quot;</td><td>22.0</td><td>0</td><td>0</td><td>&quot;2658&quot;</td><td>7.225</td><td>null</td><td>&quot;C&quot;</td><td>&quot;13 15&quot;</td><td>null</td><td>null</td></tr><tr><td>3</td><td>0</td><td>&quot;Vendel, Mr. Olof Edvin&quot;</td><td>&quot;male&quot;</td><td>20.0</td><td>0</td><td>0</td><td>&quot;350416&quot;</td><td>7.8542</td><td>null</td><td>&quot;S&quot;</td><td>null</td><td>null</td><td>null</td></tr><tr><td>3</td><td>0</td><td>&quot;Vestrom, Miss. Hulda Amanda Ad…</td><td>&quot;female&quot;</td><td>14.0</td><td>0</td><td>0</td><td>&quot;350406&quot;</td><td>7.8542</td><td>null</td><td>&quot;S&quot;</td><td>null</td><td>null</td><td>null</td></tr><tr><td>3</td><td>0</td><td>&quot;Vovk, Mr. Janko&quot;</td><td>&quot;male&quot;</td><td>22.0</td><td>0</td><td>0</td><td>&quot;349252&quot;</td><td>7.8958</td><td>null</td><td>&quot;S&quot;</td><td>null</td><td>null</td><td>null</td></tr><tr><td>3</td><td>0</td><td>&quot;Waelens, Mr. Achille&quot;</td><td>&quot;male&quot;</td><td>22.0</td><td>0</td><td>0</td><td>&quot;345767&quot;</td><td>9.0</td><td>null</td><td>&quot;S&quot;</td><td>null</td><td>null</td><td>&quot;Antwerp, Belgium / Stanton, OH&quot;</td></tr><tr><td>3</td><td>0</td><td>&quot;Ware, Mr. Frederick&quot;</td><td>&quot;male&quot;</td><td>null</td><td>0</td><td>0</td><td>&quot;359309&quot;</td><td>8.05</td><td>null</td><td>&quot;S&quot;</td><td>null</td><td>null</td><td>null</td></tr><tr><td>3</td><td>0</td><td>&quot;Warren, Mr. Charles William&quot;</td><td>&quot;male&quot;</td><td>null</td><td>0</td><td>0</td><td>&quot;C.A. 49867&quot;</td><td>7.55</td><td>null</td><td>&quot;S&quot;</td><td>null</td><td>null</td><td>null</td></tr><tr><td>3</td><td>0</td><td>&quot;Webber, Mr. James&quot;</td><td>&quot;male&quot;</td><td>null</td><td>0</td><td>0</td><td>&quot;SOTON/OQ 3101316&quot;</td><td>8.05</td><td>null</td><td>&quot;S&quot;</td><td>null</td><td>null</td><td>null</td></tr><tr><td>3</td><td>0</td><td>&quot;Wenzel, Mr. Linhart&quot;</td><td>&quot;male&quot;</td><td>32.5</td><td>0</td><td>0</td><td>&quot;345775&quot;</td><td>9.5</td><td>null</td><td>&quot;S&quot;</td><td>null</td><td>298</td><td>null</td></tr><tr><td>3</td><td>1</td><td>&quot;Whabee, Mrs. George Joseph (Sh…</td><td>&quot;female&quot;</td><td>38.0</td><td>0</td><td>0</td><td>&quot;2688&quot;</td><td>7.2292</td><td>null</td><td>&quot;C&quot;</td><td>&quot;C&quot;</td><td>null</td><td>null</td></tr><tr><td>3</td><td>0</td><td>&quot;Widegren, Mr. Carl/Charles Pet…</td><td>&quot;male&quot;</td><td>51.0</td><td>0</td><td>0</td><td>&quot;347064&quot;</td><td>7.75</td><td>null</td><td>&quot;S&quot;</td><td>null</td><td>null</td><td>null</td></tr><tr><td>3</td><td>0</td><td>&quot;Wiklund, Mr. Jakob Alfred&quot;</td><td>&quot;male&quot;</td><td>18.0</td><td>1</td><td>0</td><td>&quot;3101267&quot;</td><td>6.4958</td><td>null</td><td>&quot;S&quot;</td><td>null</td><td>314</td><td>null</td></tr><tr><td>3</td><td>0</td><td>&quot;Wiklund, Mr. Karl Johan&quot;</td><td>&quot;male&quot;</td><td>21.0</td><td>1</td><td>0</td><td>&quot;3101266&quot;</td><td>6.4958</td><td>null</td><td>&quot;S&quot;</td><td>null</td><td>null</td><td>null</td></tr><tr><td>3</td><td>1</td><td>&quot;Wilkes, Mrs. James (Ellen Need…</td><td>&quot;female&quot;</td><td>47.0</td><td>1</td><td>0</td><td>&quot;363272&quot;</td><td>7.0</td><td>null</td><td>&quot;S&quot;</td><td>null</td><td>null</td><td>null</td></tr><tr><td>3</td><td>0</td><td>&quot;Willer, Mr. Aaron (&quot;Abi Weller…</td><td>&quot;male&quot;</td><td>null</td><td>0</td><td>0</td><td>&quot;3410&quot;</td><td>8.7125</td><td>null</td><td>&quot;S&quot;</td><td>null</td><td>null</td><td>null</td></tr><tr><td>3</td><td>0</td><td>&quot;Willey, Mr. Edward&quot;</td><td>&quot;male&quot;</td><td>null</td><td>0</td><td>0</td><td>&quot;S.O./P.P. 751&quot;</td><td>7.55</td><td>null</td><td>&quot;S&quot;</td><td>null</td><td>null</td><td>null</td></tr><tr><td>3</td><td>0</td><td>&quot;Williams, Mr. Howard Hugh &quot;Har…</td><td>&quot;male&quot;</td><td>null</td><td>0</td><td>0</td><td>&quot;A/5 2466&quot;</td><td>8.05</td><td>null</td><td>&quot;S&quot;</td><td>null</td><td>null</td><td>null</td></tr><tr><td>3</td><td>0</td><td>&quot;Williams, Mr. Leslie&quot;</td><td>&quot;male&quot;</td><td>28.5</td><td>0</td><td>0</td><td>&quot;54636&quot;</td><td>16.1</td><td>null</td><td>&quot;S&quot;</td><td>null</td><td>14</td><td>null</td></tr><tr><td>3</td><td>0</td><td>&quot;Windelov, Mr. Einar&quot;</td><td>&quot;male&quot;</td><td>21.0</td><td>0</td><td>0</td><td>&quot;SOTON/OQ 3101317&quot;</td><td>7.25</td><td>null</td><td>&quot;S&quot;</td><td>null</td><td>null</td><td>null</td></tr><tr><td>3</td><td>0</td><td>&quot;Wirz, Mr. Albert&quot;</td><td>&quot;male&quot;</td><td>27.0</td><td>0</td><td>0</td><td>&quot;315154&quot;</td><td>8.6625</td><td>null</td><td>&quot;S&quot;</td><td>null</td><td>131</td><td>null</td></tr><tr><td>3</td><td>0</td><td>&quot;Wiseman, Mr. Phillippe&quot;</td><td>&quot;male&quot;</td><td>null</td><td>0</td><td>0</td><td>&quot;A/4. 34244&quot;</td><td>7.25</td><td>null</td><td>&quot;S&quot;</td><td>null</td><td>null</td><td>null</td></tr><tr><td>3</td><td>0</td><td>&quot;Wittevrongel, Mr. Camille&quot;</td><td>&quot;male&quot;</td><td>36.0</td><td>0</td><td>0</td><td>&quot;345771&quot;</td><td>9.5</td><td>null</td><td>&quot;S&quot;</td><td>null</td><td>null</td><td>null</td></tr><tr><td>3</td><td>0</td><td>&quot;Yasbeck, Mr. Antoni&quot;</td><td>&quot;male&quot;</td><td>27.0</td><td>1</td><td>0</td><td>&quot;2659&quot;</td><td>14.4542</td><td>null</td><td>&quot;C&quot;</td><td>&quot;C&quot;</td><td>null</td><td>null</td></tr><tr><td>3</td><td>1</td><td>&quot;Yasbeck, Mrs. Antoni (Selini A…</td><td>&quot;female&quot;</td><td>15.0</td><td>1</td><td>0</td><td>&quot;2659&quot;</td><td>14.4542</td><td>null</td><td>&quot;C&quot;</td><td>null</td><td>null</td><td>null</td></tr><tr><td>3</td><td>0</td><td>&quot;Youseff, Mr. Gerious&quot;</td><td>&quot;male&quot;</td><td>45.5</td><td>0</td><td>0</td><td>&quot;2628&quot;</td><td>7.225</td><td>null</td><td>&quot;C&quot;</td><td>null</td><td>312</td><td>null</td></tr><tr><td>3</td><td>0</td><td>&quot;Yousif, Mr. Wazli&quot;</td><td>&quot;male&quot;</td><td>null</td><td>0</td><td>0</td><td>&quot;2647&quot;</td><td>7.225</td><td>null</td><td>&quot;C&quot;</td><td>null</td><td>null</td><td>null</td></tr><tr><td>3</td><td>0</td><td>&quot;Yousseff, Mr. Gerious&quot;</td><td>&quot;male&quot;</td><td>null</td><td>0</td><td>0</td><td>&quot;2627&quot;</td><td>14.4583</td><td>null</td><td>&quot;C&quot;</td><td>null</td><td>null</td><td>null</td></tr><tr><td>3</td><td>0</td><td>&quot;Zabour, Miss. Hileni&quot;</td><td>&quot;female&quot;</td><td>14.5</td><td>1</td><td>0</td><td>&quot;2665&quot;</td><td>14.4542</td><td>null</td><td>&quot;C&quot;</td><td>null</td><td>328</td><td>null</td></tr><tr><td>3</td><td>0</td><td>&quot;Zabour, Miss. Thamine&quot;</td><td>&quot;female&quot;</td><td>null</td><td>1</td><td>0</td><td>&quot;2665&quot;</td><td>14.4542</td><td>null</td><td>&quot;C&quot;</td><td>null</td><td>null</td><td>null</td></tr><tr><td>3</td><td>0</td><td>&quot;Zakarian, Mr. Mapriededer&quot;</td><td>&quot;male&quot;</td><td>26.5</td><td>0</td><td>0</td><td>&quot;2656&quot;</td><td>7.225</td><td>null</td><td>&quot;C&quot;</td><td>null</td><td>304</td><td>null</td></tr><tr><td>3</td><td>0</td><td>&quot;Zakarian, Mr. Ortin&quot;</td><td>&quot;male&quot;</td><td>27.0</td><td>0</td><td>0</td><td>&quot;2670&quot;</td><td>7.225</td><td>null</td><td>&quot;C&quot;</td><td>null</td><td>null</td><td>null</td></tr><tr><td>3</td><td>0</td><td>&quot;Zimmerman, Mr. Leo&quot;</td><td>&quot;male&quot;</td><td>29.0</td><td>0</td><td>0</td><td>&quot;315082&quot;</td><td>7.875</td><td>null</td><td>&quot;S&quot;</td><td>null</td><td>null</td><td>null</td></tr></tbody></table></div>"
      ],
      "text/plain": [
       "shape: (1_309, 14)\n",
       "┌────────┬──────────┬───────────────────┬────────┬───┬──────────┬───────┬──────┬───────────────────┐\n",
       "│ pclass ┆ survived ┆ name              ┆ sex    ┆ … ┆ embarked ┆ boat  ┆ body ┆ home.dest         │\n",
       "│ ---    ┆ ---      ┆ ---               ┆ ---    ┆   ┆ ---      ┆ ---   ┆ ---  ┆ ---               │\n",
       "│ i64    ┆ i64      ┆ str               ┆ str    ┆   ┆ str      ┆ str   ┆ i64  ┆ str               │\n",
       "╞════════╪══════════╪═══════════════════╪════════╪═══╪══════════╪═══════╪══════╪═══════════════════╡\n",
       "│ 1      ┆ 1        ┆ Allen, Miss.      ┆ female ┆ … ┆ S        ┆ 2     ┆ null ┆ St Louis, MO      │\n",
       "│        ┆          ┆ Elisabeth Walton  ┆        ┆   ┆          ┆       ┆      ┆                   │\n",
       "│ 1      ┆ 1        ┆ Allison, Master.  ┆ male   ┆ … ┆ S        ┆ 11    ┆ null ┆ Montreal, PQ /    │\n",
       "│        ┆          ┆ Hudson Trevor     ┆        ┆   ┆          ┆       ┆      ┆ Chesterville, O…  │\n",
       "│ 1      ┆ 0        ┆ Allison, Miss.    ┆ female ┆ … ┆ S        ┆ null  ┆ null ┆ Montreal, PQ /    │\n",
       "│        ┆          ┆ Helen Loraine     ┆        ┆   ┆          ┆       ┆      ┆ Chesterville, O…  │\n",
       "│ 1      ┆ 0        ┆ Allison, Mr.      ┆ male   ┆ … ┆ S        ┆ null  ┆ 135  ┆ Montreal, PQ /    │\n",
       "│        ┆          ┆ Hudson Joshua     ┆        ┆   ┆          ┆       ┆      ┆ Chesterville, O…  │\n",
       "│        ┆          ┆ Cre…              ┆        ┆   ┆          ┆       ┆      ┆                   │\n",
       "│ 1      ┆ 0        ┆ Allison, Mrs.     ┆ female ┆ … ┆ S        ┆ null  ┆ null ┆ Montreal, PQ /    │\n",
       "│        ┆          ┆ Hudson J C (Bess… ┆        ┆   ┆          ┆       ┆      ┆ Chesterville, O…  │\n",
       "│ 1      ┆ 1        ┆ Anderson, Mr.     ┆ male   ┆ … ┆ S        ┆ 3     ┆ null ┆ New York, NY      │\n",
       "│        ┆          ┆ Harry             ┆        ┆   ┆          ┆       ┆      ┆                   │\n",
       "│ 1      ┆ 1        ┆ Andrews, Miss.    ┆ female ┆ … ┆ S        ┆ 10    ┆ null ┆ Hudson, NY        │\n",
       "│        ┆          ┆ Kornelia Theodo…  ┆        ┆   ┆          ┆       ┆      ┆                   │\n",
       "│ 1      ┆ 0        ┆ Andrews, Mr.      ┆ male   ┆ … ┆ S        ┆ null  ┆ null ┆ Belfast, NI       │\n",
       "│        ┆          ┆ Thomas Jr         ┆        ┆   ┆          ┆       ┆      ┆                   │\n",
       "│ 1      ┆ 1        ┆ Appleton, Mrs.    ┆ female ┆ … ┆ S        ┆ D     ┆ null ┆ Bayside, Queens,  │\n",
       "│        ┆          ┆ Edward Dale (Ch…  ┆        ┆   ┆          ┆       ┆      ┆ NY                │\n",
       "│ 1      ┆ 0        ┆ Artagaveytia, Mr. ┆ male   ┆ … ┆ C        ┆ null  ┆ 22   ┆ Montevideo,       │\n",
       "│        ┆          ┆ Ramon             ┆        ┆   ┆          ┆       ┆      ┆ Uruguay           │\n",
       "│ 1      ┆ 0        ┆ Astor, Col. John  ┆ male   ┆ … ┆ C        ┆ null  ┆ 124  ┆ New York, NY      │\n",
       "│        ┆          ┆ Jacob             ┆        ┆   ┆          ┆       ┆      ┆                   │\n",
       "│ 1      ┆ 1        ┆ Astor, Mrs. John  ┆ female ┆ … ┆ C        ┆ 4     ┆ null ┆ New York, NY      │\n",
       "│        ┆          ┆ Jacob (Madele…    ┆        ┆   ┆          ┆       ┆      ┆                   │\n",
       "│ 1      ┆ 1        ┆ Aubart, Mme.      ┆ female ┆ … ┆ C        ┆ 9     ┆ null ┆ Paris, France     │\n",
       "│        ┆          ┆ Leontine Pauline  ┆        ┆   ┆          ┆       ┆      ┆                   │\n",
       "│ 1      ┆ 1        ┆ Barber, Miss.     ┆ female ┆ … ┆ S        ┆ 6     ┆ null ┆ null              │\n",
       "│        ┆          ┆ Ellen \"Nellie\"    ┆        ┆   ┆          ┆       ┆      ┆                   │\n",
       "│ 1      ┆ 1        ┆ Barkworth, Mr.    ┆ male   ┆ … ┆ S        ┆ B     ┆ null ┆ Hessle, Yorks     │\n",
       "│        ┆          ┆ Algernon Henry …  ┆        ┆   ┆          ┆       ┆      ┆                   │\n",
       "│ 1      ┆ 0        ┆ Baumann, Mr. John ┆ male   ┆ … ┆ S        ┆ null  ┆ null ┆ New York, NY      │\n",
       "│        ┆          ┆ D                 ┆        ┆   ┆          ┆       ┆      ┆                   │\n",
       "│ 1      ┆ 0        ┆ Baxter, Mr. Quigg ┆ male   ┆ … ┆ C        ┆ null  ┆ null ┆ Montreal, PQ      │\n",
       "│        ┆          ┆ Edmond            ┆        ┆   ┆          ┆       ┆      ┆                   │\n",
       "│ 1      ┆ 1        ┆ Baxter, Mrs.      ┆ female ┆ … ┆ C        ┆ 6     ┆ null ┆ Montreal, PQ      │\n",
       "│        ┆          ┆ James (Helene     ┆        ┆   ┆          ┆       ┆      ┆                   │\n",
       "│        ┆          ┆ DeL…              ┆        ┆   ┆          ┆       ┆      ┆                   │\n",
       "│ 1      ┆ 1        ┆ Bazzani, Miss.    ┆ female ┆ … ┆ C        ┆ 8     ┆ null ┆ null              │\n",
       "│        ┆          ┆ Albina            ┆        ┆   ┆          ┆       ┆      ┆                   │\n",
       "│ 1      ┆ 0        ┆ Beattie, Mr.      ┆ male   ┆ … ┆ C        ┆ A     ┆ null ┆ Winnipeg, MN      │\n",
       "│        ┆          ┆ Thomson           ┆        ┆   ┆          ┆       ┆      ┆                   │\n",
       "│ 1      ┆ 1        ┆ Beckwith, Mr.     ┆ male   ┆ … ┆ S        ┆ 5     ┆ null ┆ New York, NY      │\n",
       "│        ┆          ┆ Richard Leonard   ┆        ┆   ┆          ┆       ┆      ┆                   │\n",
       "│ 1      ┆ 1        ┆ Beckwith, Mrs.    ┆ female ┆ … ┆ S        ┆ 5     ┆ null ┆ New York, NY      │\n",
       "│        ┆          ┆ Richard Leonard…  ┆        ┆   ┆          ┆       ┆      ┆                   │\n",
       "│ 1      ┆ 1        ┆ Behr, Mr. Karl    ┆ male   ┆ … ┆ C        ┆ 5     ┆ null ┆ New York, NY      │\n",
       "│        ┆          ┆ Howell            ┆        ┆   ┆          ┆       ┆      ┆                   │\n",
       "│ 1      ┆ 1        ┆ Bidois, Miss.     ┆ female ┆ … ┆ C        ┆ 4     ┆ null ┆ null              │\n",
       "│        ┆          ┆ Rosalie           ┆        ┆   ┆          ┆       ┆      ┆                   │\n",
       "│ 1      ┆ 1        ┆ Bird, Miss. Ellen ┆ female ┆ … ┆ S        ┆ 8     ┆ null ┆ null              │\n",
       "│ 1      ┆ 0        ┆ Birnbaum, Mr.     ┆ male   ┆ … ┆ C        ┆ null  ┆ 148  ┆ San Francisco, CA │\n",
       "│        ┆          ┆ Jakob             ┆        ┆   ┆          ┆       ┆      ┆                   │\n",
       "│ 1      ┆ 1        ┆ Bishop, Mr.       ┆ male   ┆ … ┆ C        ┆ 7     ┆ null ┆ Dowagiac, MI      │\n",
       "│        ┆          ┆ Dickinson H       ┆        ┆   ┆          ┆       ┆      ┆                   │\n",
       "│ 1      ┆ 1        ┆ Bishop, Mrs.      ┆ female ┆ … ┆ C        ┆ 7     ┆ null ┆ Dowagiac, MI      │\n",
       "│        ┆          ┆ Dickinson H       ┆        ┆   ┆          ┆       ┆      ┆                   │\n",
       "│        ┆          ┆ (Hele…            ┆        ┆   ┆          ┆       ┆      ┆                   │\n",
       "│ 1      ┆ 1        ┆ Bissette, Miss.   ┆ female ┆ … ┆ S        ┆ 8     ┆ null ┆ null              │\n",
       "│        ┆          ┆ Amelia            ┆        ┆   ┆          ┆       ┆      ┆                   │\n",
       "│ 1      ┆ 1        ┆ Bjornstrom-Steffa ┆ male   ┆ … ┆ S        ┆ D     ┆ null ┆ Stockholm, Sweden │\n",
       "│        ┆          ┆ nsson, Mr. Ma…    ┆        ┆   ┆          ┆       ┆      ┆ / Washington…     │\n",
       "│ 1      ┆ 0        ┆ Blackwell, Mr.    ┆ male   ┆ … ┆ S        ┆ null  ┆ null ┆ Trenton, NJ       │\n",
       "│        ┆          ┆ Stephen Weart     ┆        ┆   ┆          ┆       ┆      ┆                   │\n",
       "│ 1      ┆ 1        ┆ Blank, Mr. Henry  ┆ male   ┆ … ┆ C        ┆ 7     ┆ null ┆ Glen Ridge, NJ    │\n",
       "│ 1      ┆ 1        ┆ Bonnell, Miss.    ┆ female ┆ … ┆ S        ┆ 8     ┆ null ┆ Youngstown, OH    │\n",
       "│        ┆          ┆ Caroline          ┆        ┆   ┆          ┆       ┆      ┆                   │\n",
       "│ 1      ┆ 1        ┆ Bonnell, Miss.    ┆ female ┆ … ┆ S        ┆ 8     ┆ null ┆ Birkdale, England │\n",
       "│        ┆          ┆ Elizabeth         ┆        ┆   ┆          ┆       ┆      ┆ Cleveland, O…     │\n",
       "│ 1      ┆ 0        ┆ Borebank, Mr.     ┆ male   ┆ … ┆ S        ┆ null  ┆ null ┆ London /          │\n",
       "│        ┆          ┆ John James        ┆        ┆   ┆          ┆       ┆      ┆ Winnipeg, MB      │\n",
       "│ 1      ┆ 1        ┆ Bowen, Miss.      ┆ female ┆ … ┆ C        ┆ 4     ┆ null ┆ Cooperstown, NY   │\n",
       "│        ┆          ┆ Grace Scott       ┆        ┆   ┆          ┆       ┆      ┆                   │\n",
       "│ 1      ┆ 1        ┆ Bowerman, Miss.   ┆ female ┆ … ┆ S        ┆ 6     ┆ null ┆ St                │\n",
       "│        ┆          ┆ Elsie Edith       ┆        ┆   ┆          ┆       ┆      ┆ Leonards-on-Sea,  │\n",
       "│        ┆          ┆                   ┆        ┆   ┆          ┆       ┆      ┆ England Oh…       │\n",
       "│ 1      ┆ 1        ┆ Bradley, Mr.      ┆ male   ┆ … ┆ S        ┆ 9     ┆ null ┆ Los Angeles, CA   │\n",
       "│        ┆          ┆ George (\"George   ┆        ┆   ┆          ┆       ┆      ┆                   │\n",
       "│        ┆          ┆ A…                ┆        ┆   ┆          ┆       ┆      ┆                   │\n",
       "│ 1      ┆ 0        ┆ Brady, Mr. John   ┆ male   ┆ … ┆ S        ┆ null  ┆ null ┆ Pomeroy, WA       │\n",
       "│        ┆          ┆ Bertram           ┆        ┆   ┆          ┆       ┆      ┆                   │\n",
       "│ 1      ┆ 0        ┆ Brandeis, Mr.     ┆ male   ┆ … ┆ C        ┆ null  ┆ 208  ┆ Omaha, NE         │\n",
       "│        ┆          ┆ Emil              ┆        ┆   ┆          ┆       ┆      ┆                   │\n",
       "│ 1      ┆ 0        ┆ Brewe, Dr. Arthur ┆ male   ┆ … ┆ C        ┆ null  ┆ null ┆ Philadelphia, PA  │\n",
       "│        ┆          ┆ Jackson           ┆        ┆   ┆          ┆       ┆      ┆                   │\n",
       "│ 1      ┆ 1        ┆ Brown, Mrs. James ┆ female ┆ … ┆ C        ┆ 6     ┆ null ┆ Denver, CO        │\n",
       "│        ┆          ┆ Joseph (Marg…     ┆        ┆   ┆          ┆       ┆      ┆                   │\n",
       "│ 1      ┆ 1        ┆ Brown, Mrs. John  ┆ female ┆ … ┆ S        ┆ D     ┆ null ┆ Belmont, MA       │\n",
       "│        ┆          ┆ Murray (Carol…    ┆        ┆   ┆          ┆       ┆      ┆                   │\n",
       "│ 1      ┆ 1        ┆ Bucknell, Mrs.    ┆ female ┆ … ┆ C        ┆ 8     ┆ null ┆ Philadelphia, PA  │\n",
       "│        ┆          ┆ William Robert …  ┆        ┆   ┆          ┆       ┆      ┆                   │\n",
       "│ 1      ┆ 1        ┆ Burns, Miss.      ┆ female ┆ … ┆ C        ┆ 3     ┆ null ┆ null              │\n",
       "│        ┆          ┆ Elizabeth         ┆        ┆   ┆          ┆       ┆      ┆                   │\n",
       "│        ┆          ┆ Margare…          ┆        ┆   ┆          ┆       ┆      ┆                   │\n",
       "│ 1      ┆ 0        ┆ Butt, Major.      ┆ male   ┆ … ┆ S        ┆ null  ┆ null ┆ Washington, DC    │\n",
       "│        ┆          ┆ Archibald         ┆        ┆   ┆          ┆       ┆      ┆                   │\n",
       "│        ┆          ┆ Willing…          ┆        ┆   ┆          ┆       ┆      ┆                   │\n",
       "│ 1      ┆ 0        ┆ Cairns, Mr.       ┆ male   ┆ … ┆ S        ┆ null  ┆ null ┆ null              │\n",
       "│        ┆          ┆ Alexander         ┆        ┆   ┆          ┆       ┆      ┆                   │\n",
       "│ 1      ┆ 1        ┆ Calderhead, Mr.   ┆ male   ┆ … ┆ S        ┆ 5     ┆ null ┆ New York, NY      │\n",
       "│        ┆          ┆ Edward Penning…   ┆        ┆   ┆          ┆       ┆      ┆                   │\n",
       "│ 1      ┆ 1        ┆ Candee, Mrs.      ┆ female ┆ … ┆ C        ┆ 6     ┆ null ┆ Washington, DC    │\n",
       "│        ┆          ┆ Edward (Helen     ┆        ┆   ┆          ┆       ┆      ┆                   │\n",
       "│        ┆          ┆ Chu…              ┆        ┆   ┆          ┆       ┆      ┆                   │\n",
       "│ 1      ┆ 1        ┆ Cardeza, Mr.      ┆ male   ┆ … ┆ C        ┆ 3     ┆ null ┆ Austria-Hungary / │\n",
       "│        ┆          ┆ Thomas Drake      ┆        ┆   ┆          ┆       ┆      ┆ Germantown, …     │\n",
       "│        ┆          ┆ Mart…             ┆        ┆   ┆          ┆       ┆      ┆                   │\n",
       "│ …      ┆ …        ┆ …                 ┆ …      ┆ … ┆ …        ┆ …     ┆ …    ┆ …                 │\n",
       "│ 3      ┆ 0        ┆ Turcin, Mr.       ┆ male   ┆ … ┆ S        ┆ null  ┆ null ┆ null              │\n",
       "│        ┆          ┆ Stjepan           ┆        ┆   ┆          ┆       ┆      ┆                   │\n",
       "│ 3      ┆ 1        ┆ Turja, Miss. Anna ┆ female ┆ … ┆ S        ┆ 15    ┆ null ┆ null              │\n",
       "│        ┆          ┆ Sofia             ┆        ┆   ┆          ┆       ┆      ┆                   │\n",
       "│ 3      ┆ 1        ┆ Turkula, Mrs.     ┆ female ┆ … ┆ S        ┆ 15    ┆ null ┆ null              │\n",
       "│        ┆          ┆ (Hedwig)          ┆        ┆   ┆          ┆       ┆      ┆                   │\n",
       "│ 3      ┆ 0        ┆ van Billiard,     ┆ male   ┆ … ┆ S        ┆ null  ┆ null ┆ null              │\n",
       "│        ┆          ┆ Master. James Wi… ┆        ┆   ┆          ┆       ┆      ┆                   │\n",
       "│ 3      ┆ 0        ┆ van Billiard,     ┆ male   ┆ … ┆ S        ┆ null  ┆ 1    ┆ null              │\n",
       "│        ┆          ┆ Master. Walter J… ┆        ┆   ┆          ┆       ┆      ┆                   │\n",
       "│ 3      ┆ 0        ┆ van Billiard, Mr. ┆ male   ┆ … ┆ S        ┆ null  ┆ 255  ┆ null              │\n",
       "│        ┆          ┆ Austin Blyle…     ┆        ┆   ┆          ┆       ┆      ┆                   │\n",
       "│ 3      ┆ 0        ┆ Van Impe, Miss.   ┆ female ┆ … ┆ S        ┆ null  ┆ null ┆ null              │\n",
       "│        ┆          ┆ Catharina         ┆        ┆   ┆          ┆       ┆      ┆                   │\n",
       "│ 3      ┆ 0        ┆ Van Impe, Mr.     ┆ male   ┆ … ┆ S        ┆ null  ┆ null ┆ null              │\n",
       "│        ┆          ┆ Jean Baptiste     ┆        ┆   ┆          ┆       ┆      ┆                   │\n",
       "│ 3      ┆ 0        ┆ Van Impe, Mrs.    ┆ female ┆ … ┆ S        ┆ null  ┆ null ┆ null              │\n",
       "│        ┆          ┆ Jean Baptiste (…  ┆        ┆   ┆          ┆       ┆      ┆                   │\n",
       "│ 3      ┆ 0        ┆ van Melkebeke,    ┆ male   ┆ … ┆ S        ┆ null  ┆ null ┆ null              │\n",
       "│        ┆          ┆ Mr. Philemon      ┆        ┆   ┆          ┆       ┆      ┆                   │\n",
       "│ 3      ┆ 0        ┆ Vande Velde, Mr.  ┆ male   ┆ … ┆ S        ┆ null  ┆ null ┆ null              │\n",
       "│        ┆          ┆ Johannes Jose…    ┆        ┆   ┆          ┆       ┆      ┆                   │\n",
       "│ 3      ┆ 0        ┆ Vande Walle, Mr.  ┆ male   ┆ … ┆ S        ┆ null  ┆ null ┆ null              │\n",
       "│        ┆          ┆ Nestor Cyriel     ┆        ┆   ┆          ┆       ┆      ┆                   │\n",
       "│ 3      ┆ 0        ┆ Vanden Steen, Mr. ┆ male   ┆ … ┆ S        ┆ null  ┆ null ┆ null              │\n",
       "│        ┆          ┆ Leo Peter         ┆        ┆   ┆          ┆       ┆      ┆                   │\n",
       "│ 3      ┆ 0        ┆ Vander Cruyssen,  ┆ male   ┆ … ┆ S        ┆ null  ┆ null ┆ null              │\n",
       "│        ┆          ┆ Mr. Victor        ┆        ┆   ┆          ┆       ┆      ┆                   │\n",
       "│ 3      ┆ 0        ┆ Vander Planke,    ┆ female ┆ … ┆ S        ┆ null  ┆ null ┆ null              │\n",
       "│        ┆          ┆ Miss. Augusta M…  ┆        ┆   ┆          ┆       ┆      ┆                   │\n",
       "│ 3      ┆ 0        ┆ Vander Planke,    ┆ male   ┆ … ┆ S        ┆ null  ┆ null ┆ null              │\n",
       "│        ┆          ┆ Mr. Julius        ┆        ┆   ┆          ┆       ┆      ┆                   │\n",
       "│ 3      ┆ 0        ┆ Vander Planke,    ┆ male   ┆ … ┆ S        ┆ null  ┆ null ┆ null              │\n",
       "│        ┆          ┆ Mr. Leo Edmondu…  ┆        ┆   ┆          ┆       ┆      ┆                   │\n",
       "│ 3      ┆ 0        ┆ Vander Planke,    ┆ female ┆ … ┆ S        ┆ null  ┆ null ┆ null              │\n",
       "│        ┆          ┆ Mrs. Julius (Em…  ┆        ┆   ┆          ┆       ┆      ┆                   │\n",
       "│ 3      ┆ 1        ┆ Vartanian, Mr.    ┆ male   ┆ … ┆ C        ┆ 13 15 ┆ null ┆ null              │\n",
       "│        ┆          ┆ David             ┆        ┆   ┆          ┆       ┆      ┆                   │\n",
       "│ 3      ┆ 0        ┆ Vendel, Mr. Olof  ┆ male   ┆ … ┆ S        ┆ null  ┆ null ┆ null              │\n",
       "│        ┆          ┆ Edvin             ┆        ┆   ┆          ┆       ┆      ┆                   │\n",
       "│ 3      ┆ 0        ┆ Vestrom, Miss.    ┆ female ┆ … ┆ S        ┆ null  ┆ null ┆ null              │\n",
       "│        ┆          ┆ Hulda Amanda Ad…  ┆        ┆   ┆          ┆       ┆      ┆                   │\n",
       "│ 3      ┆ 0        ┆ Vovk, Mr. Janko   ┆ male   ┆ … ┆ S        ┆ null  ┆ null ┆ null              │\n",
       "│ 3      ┆ 0        ┆ Waelens, Mr.      ┆ male   ┆ … ┆ S        ┆ null  ┆ null ┆ Antwerp, Belgium  │\n",
       "│        ┆          ┆ Achille           ┆        ┆   ┆          ┆       ┆      ┆ / Stanton, OH     │\n",
       "│ 3      ┆ 0        ┆ Ware, Mr.         ┆ male   ┆ … ┆ S        ┆ null  ┆ null ┆ null              │\n",
       "│        ┆          ┆ Frederick         ┆        ┆   ┆          ┆       ┆      ┆                   │\n",
       "│ 3      ┆ 0        ┆ Warren, Mr.       ┆ male   ┆ … ┆ S        ┆ null  ┆ null ┆ null              │\n",
       "│        ┆          ┆ Charles William   ┆        ┆   ┆          ┆       ┆      ┆                   │\n",
       "│ 3      ┆ 0        ┆ Webber, Mr. James ┆ male   ┆ … ┆ S        ┆ null  ┆ null ┆ null              │\n",
       "│ 3      ┆ 0        ┆ Wenzel, Mr.       ┆ male   ┆ … ┆ S        ┆ null  ┆ 298  ┆ null              │\n",
       "│        ┆          ┆ Linhart           ┆        ┆   ┆          ┆       ┆      ┆                   │\n",
       "│ 3      ┆ 1        ┆ Whabee, Mrs.      ┆ female ┆ … ┆ C        ┆ C     ┆ null ┆ null              │\n",
       "│        ┆          ┆ George Joseph     ┆        ┆   ┆          ┆       ┆      ┆                   │\n",
       "│        ┆          ┆ (Sh…              ┆        ┆   ┆          ┆       ┆      ┆                   │\n",
       "│ 3      ┆ 0        ┆ Widegren, Mr.     ┆ male   ┆ … ┆ S        ┆ null  ┆ null ┆ null              │\n",
       "│        ┆          ┆ Carl/Charles Pet… ┆        ┆   ┆          ┆       ┆      ┆                   │\n",
       "│ 3      ┆ 0        ┆ Wiklund, Mr.      ┆ male   ┆ … ┆ S        ┆ null  ┆ 314  ┆ null              │\n",
       "│        ┆          ┆ Jakob Alfred      ┆        ┆   ┆          ┆       ┆      ┆                   │\n",
       "│ 3      ┆ 0        ┆ Wiklund, Mr. Karl ┆ male   ┆ … ┆ S        ┆ null  ┆ null ┆ null              │\n",
       "│        ┆          ┆ Johan             ┆        ┆   ┆          ┆       ┆      ┆                   │\n",
       "│ 3      ┆ 1        ┆ Wilkes, Mrs.      ┆ female ┆ … ┆ S        ┆ null  ┆ null ┆ null              │\n",
       "│        ┆          ┆ James (Ellen      ┆        ┆   ┆          ┆       ┆      ┆                   │\n",
       "│        ┆          ┆ Need…             ┆        ┆   ┆          ┆       ┆      ┆                   │\n",
       "│ 3      ┆ 0        ┆ Willer, Mr. Aaron ┆ male   ┆ … ┆ S        ┆ null  ┆ null ┆ null              │\n",
       "│        ┆          ┆ (\"Abi Weller…     ┆        ┆   ┆          ┆       ┆      ┆                   │\n",
       "│ 3      ┆ 0        ┆ Willey, Mr.       ┆ male   ┆ … ┆ S        ┆ null  ┆ null ┆ null              │\n",
       "│        ┆          ┆ Edward            ┆        ┆   ┆          ┆       ┆      ┆                   │\n",
       "│ 3      ┆ 0        ┆ Williams, Mr.     ┆ male   ┆ … ┆ S        ┆ null  ┆ null ┆ null              │\n",
       "│        ┆          ┆ Howard Hugh \"Har… ┆        ┆   ┆          ┆       ┆      ┆                   │\n",
       "│ 3      ┆ 0        ┆ Williams, Mr.     ┆ male   ┆ … ┆ S        ┆ null  ┆ 14   ┆ null              │\n",
       "│        ┆          ┆ Leslie            ┆        ┆   ┆          ┆       ┆      ┆                   │\n",
       "│ 3      ┆ 0        ┆ Windelov, Mr.     ┆ male   ┆ … ┆ S        ┆ null  ┆ null ┆ null              │\n",
       "│        ┆          ┆ Einar             ┆        ┆   ┆          ┆       ┆      ┆                   │\n",
       "│ 3      ┆ 0        ┆ Wirz, Mr. Albert  ┆ male   ┆ … ┆ S        ┆ null  ┆ 131  ┆ null              │\n",
       "│ 3      ┆ 0        ┆ Wiseman, Mr.      ┆ male   ┆ … ┆ S        ┆ null  ┆ null ┆ null              │\n",
       "│        ┆          ┆ Phillippe         ┆        ┆   ┆          ┆       ┆      ┆                   │\n",
       "│ 3      ┆ 0        ┆ Wittevrongel, Mr. ┆ male   ┆ … ┆ S        ┆ null  ┆ null ┆ null              │\n",
       "│        ┆          ┆ Camille           ┆        ┆   ┆          ┆       ┆      ┆                   │\n",
       "│ 3      ┆ 0        ┆ Yasbeck, Mr.      ┆ male   ┆ … ┆ C        ┆ C     ┆ null ┆ null              │\n",
       "│        ┆          ┆ Antoni            ┆        ┆   ┆          ┆       ┆      ┆                   │\n",
       "│ 3      ┆ 1        ┆ Yasbeck, Mrs.     ┆ female ┆ … ┆ C        ┆ null  ┆ null ┆ null              │\n",
       "│        ┆          ┆ Antoni (Selini A… ┆        ┆   ┆          ┆       ┆      ┆                   │\n",
       "│ 3      ┆ 0        ┆ Youseff, Mr.      ┆ male   ┆ … ┆ C        ┆ null  ┆ 312  ┆ null              │\n",
       "│        ┆          ┆ Gerious           ┆        ┆   ┆          ┆       ┆      ┆                   │\n",
       "│ 3      ┆ 0        ┆ Yousif, Mr. Wazli ┆ male   ┆ … ┆ C        ┆ null  ┆ null ┆ null              │\n",
       "│ 3      ┆ 0        ┆ Yousseff, Mr.     ┆ male   ┆ … ┆ C        ┆ null  ┆ null ┆ null              │\n",
       "│        ┆          ┆ Gerious           ┆        ┆   ┆          ┆       ┆      ┆                   │\n",
       "│ 3      ┆ 0        ┆ Zabour, Miss.     ┆ female ┆ … ┆ C        ┆ null  ┆ 328  ┆ null              │\n",
       "│        ┆          ┆ Hileni            ┆        ┆   ┆          ┆       ┆      ┆                   │\n",
       "│ 3      ┆ 0        ┆ Zabour, Miss.     ┆ female ┆ … ┆ C        ┆ null  ┆ null ┆ null              │\n",
       "│        ┆          ┆ Thamine           ┆        ┆   ┆          ┆       ┆      ┆                   │\n",
       "│ 3      ┆ 0        ┆ Zakarian, Mr.     ┆ male   ┆ … ┆ C        ┆ null  ┆ 304  ┆ null              │\n",
       "│        ┆          ┆ Mapriededer       ┆        ┆   ┆          ┆       ┆      ┆                   │\n",
       "│ 3      ┆ 0        ┆ Zakarian, Mr.     ┆ male   ┆ … ┆ C        ┆ null  ┆ null ┆ null              │\n",
       "│        ┆          ┆ Ortin             ┆        ┆   ┆          ┆       ┆      ┆                   │\n",
       "│ 3      ┆ 0        ┆ Zimmerman, Mr.    ┆ male   ┆ … ┆ S        ┆ null  ┆ null ┆ null              │\n",
       "│        ┆          ┆ Leo               ┆        ┆   ┆          ┆       ┆      ┆                   │\n",
       "└────────┴──────────┴───────────────────┴────────┴───┴──────────┴───────┴──────┴───────────────────┘"
      ]
     },
     "execution_count": 8,
     "metadata": {},
     "output_type": "execute_result"
    }
   ],
   "source": [
    "df"
   ]
  },
  {
   "cell_type": "code",
   "execution_count": 9,
   "id": "dc0965c2-a8af-41b7-be55-036fc917e8a1",
   "metadata": {},
   "outputs": [
    {
     "data": {
      "text/plain": [
       "['pclass',\n",
       " 'survived',\n",
       " 'name',\n",
       " 'sex',\n",
       " 'age',\n",
       " 'sibsp',\n",
       " 'parch',\n",
       " 'ticket',\n",
       " 'fare',\n",
       " 'cabin',\n",
       " 'embarked',\n",
       " 'boat',\n",
       " 'body',\n",
       " 'home.dest']"
      ]
     },
     "execution_count": 9,
     "metadata": {},
     "output_type": "execute_result"
    }
   ],
   "source": [
    "df.columns"
   ]
  },
  {
   "cell_type": "code",
   "execution_count": 10,
   "id": "753e0e41-839c-4df9-8a36-e38e32a04717",
   "metadata": {},
   "outputs": [
    {
     "data": {
      "text/plain": [
       "(1309, 14)"
      ]
     },
     "execution_count": 10,
     "metadata": {},
     "output_type": "execute_result"
    }
   ],
   "source": [
    "df.shape"
   ]
  },
  {
   "cell_type": "code",
   "execution_count": 11,
   "id": "f06c31d8-df27-4e85-822e-06f49f1ab1a2",
   "metadata": {},
   "outputs": [
    {
     "data": {
      "text/plain": [
       "1309"
      ]
     },
     "execution_count": 11,
     "metadata": {},
     "output_type": "execute_result"
    }
   ],
   "source": [
    "df.height"
   ]
  },
  {
   "cell_type": "code",
   "execution_count": 12,
   "id": "2a5cf8d4-fb5c-4058-97ff-f03ace24c449",
   "metadata": {},
   "outputs": [
    {
     "data": {
      "text/plain": [
       "14"
      ]
     },
     "execution_count": 12,
     "metadata": {},
     "output_type": "execute_result"
    }
   ],
   "source": [
    "df.width"
   ]
  },
  {
   "cell_type": "code",
   "execution_count": 13,
   "id": "5a3f870e-e484-434c-86a0-58c7ef49eaeb",
   "metadata": {},
   "outputs": [
    {
     "data": {
      "text/plain": [
       "Schema([('pclass', Int64),\n",
       "        ('survived', Int64),\n",
       "        ('name', String),\n",
       "        ('sex', String),\n",
       "        ('age', Float64),\n",
       "        ('sibsp', Int64),\n",
       "        ('parch', Int64),\n",
       "        ('ticket', String),\n",
       "        ('fare', Float64),\n",
       "        ('cabin', String),\n",
       "        ('embarked', String),\n",
       "        ('boat', String),\n",
       "        ('body', Int64),\n",
       "        ('home.dest', String)])"
      ]
     },
     "execution_count": 13,
     "metadata": {},
     "output_type": "execute_result"
    }
   ],
   "source": [
    "df.schema"
   ]
  },
  {
   "cell_type": "code",
   "execution_count": 14,
   "id": "78c9aebd-d738-4ac4-9a7f-21ac5bc958c9",
   "metadata": {},
   "outputs": [
    {
     "data": {
      "text/html": [
       "<div><style>\n",
       ".dataframe > thead > tr,\n",
       ".dataframe > tbody > tr {\n",
       "  text-align: right;\n",
       "  white-space: pre-wrap;\n",
       "}\n",
       "</style>\n",
       "<small>shape: (9, 15)</small><table border=\"1\" class=\"dataframe\"><thead><tr><th>statistic</th><th>pclass</th><th>survived</th><th>name</th><th>sex</th><th>age</th><th>sibsp</th><th>parch</th><th>ticket</th><th>fare</th><th>cabin</th><th>embarked</th><th>boat</th><th>body</th><th>home.dest</th></tr><tr><td>str</td><td>f64</td><td>f64</td><td>str</td><td>str</td><td>f64</td><td>f64</td><td>f64</td><td>str</td><td>f64</td><td>str</td><td>str</td><td>str</td><td>f64</td><td>str</td></tr></thead><tbody><tr><td>&quot;count&quot;</td><td>1309.0</td><td>1309.0</td><td>&quot;1309&quot;</td><td>&quot;1309&quot;</td><td>1046.0</td><td>1309.0</td><td>1309.0</td><td>&quot;1309&quot;</td><td>1308.0</td><td>&quot;295&quot;</td><td>&quot;1307&quot;</td><td>&quot;486&quot;</td><td>121.0</td><td>&quot;745&quot;</td></tr><tr><td>&quot;null_count&quot;</td><td>0.0</td><td>0.0</td><td>&quot;0&quot;</td><td>&quot;0&quot;</td><td>263.0</td><td>0.0</td><td>0.0</td><td>&quot;0&quot;</td><td>1.0</td><td>&quot;1014&quot;</td><td>&quot;2&quot;</td><td>&quot;823&quot;</td><td>1188.0</td><td>&quot;564&quot;</td></tr><tr><td>&quot;mean&quot;</td><td>2.294882</td><td>0.381971</td><td>null</td><td>null</td><td>29.881138</td><td>0.498854</td><td>0.385027</td><td>null</td><td>33.295479</td><td>null</td><td>null</td><td>null</td><td>160.809917</td><td>null</td></tr><tr><td>&quot;std&quot;</td><td>0.837836</td><td>0.486055</td><td>null</td><td>null</td><td>14.413493</td><td>1.041658</td><td>0.86556</td><td>null</td><td>51.758668</td><td>null</td><td>null</td><td>null</td><td>97.696922</td><td>null</td></tr><tr><td>&quot;min&quot;</td><td>1.0</td><td>0.0</td><td>&quot;Abbing, Mr. Anthony&quot;</td><td>&quot;female&quot;</td><td>0.17</td><td>0.0</td><td>0.0</td><td>&quot;110152&quot;</td><td>0.0</td><td>&quot;A10&quot;</td><td>&quot;C&quot;</td><td>&quot;1&quot;</td><td>1.0</td><td>&quot;?Havana, Cuba&quot;</td></tr><tr><td>&quot;25%&quot;</td><td>2.0</td><td>0.0</td><td>null</td><td>null</td><td>21.0</td><td>0.0</td><td>0.0</td><td>null</td><td>7.8958</td><td>null</td><td>null</td><td>null</td><td>72.0</td><td>null</td></tr><tr><td>&quot;50%&quot;</td><td>3.0</td><td>0.0</td><td>null</td><td>null</td><td>28.0</td><td>0.0</td><td>0.0</td><td>null</td><td>14.4542</td><td>null</td><td>null</td><td>null</td><td>155.0</td><td>null</td></tr><tr><td>&quot;75%&quot;</td><td>3.0</td><td>1.0</td><td>null</td><td>null</td><td>39.0</td><td>1.0</td><td>0.0</td><td>null</td><td>31.275</td><td>null</td><td>null</td><td>null</td><td>256.0</td><td>null</td></tr><tr><td>&quot;max&quot;</td><td>3.0</td><td>1.0</td><td>&quot;van Melkebeke, Mr. Philemon&quot;</td><td>&quot;male&quot;</td><td>80.0</td><td>8.0</td><td>9.0</td><td>&quot;WE/P 5735&quot;</td><td>512.3292</td><td>&quot;T&quot;</td><td>&quot;S&quot;</td><td>&quot;D&quot;</td><td>328.0</td><td>&quot;Zurich, Switzerland&quot;</td></tr></tbody></table></div>"
      ],
      "text/plain": [
       "shape: (9, 15)\n",
       "┌────────────┬──────────┬──────────┬──────────────┬───┬──────────┬──────┬────────────┬─────────────┐\n",
       "│ statistic  ┆ pclass   ┆ survived ┆ name         ┆ … ┆ embarked ┆ boat ┆ body       ┆ home.dest   │\n",
       "│ ---        ┆ ---      ┆ ---      ┆ ---          ┆   ┆ ---      ┆ ---  ┆ ---        ┆ ---         │\n",
       "│ str        ┆ f64      ┆ f64      ┆ str          ┆   ┆ str      ┆ str  ┆ f64        ┆ str         │\n",
       "╞════════════╪══════════╪══════════╪══════════════╪═══╪══════════╪══════╪════════════╪═════════════╡\n",
       "│ count      ┆ 1309.0   ┆ 1309.0   ┆ 1309         ┆ … ┆ 1307     ┆ 486  ┆ 121.0      ┆ 745         │\n",
       "│ null_count ┆ 0.0      ┆ 0.0      ┆ 0            ┆ … ┆ 2        ┆ 823  ┆ 1188.0     ┆ 564         │\n",
       "│ mean       ┆ 2.294882 ┆ 0.381971 ┆ null         ┆ … ┆ null     ┆ null ┆ 160.809917 ┆ null        │\n",
       "│ std        ┆ 0.837836 ┆ 0.486055 ┆ null         ┆ … ┆ null     ┆ null ┆ 97.696922  ┆ null        │\n",
       "│ min        ┆ 1.0      ┆ 0.0      ┆ Abbing, Mr.  ┆ … ┆ C        ┆ 1    ┆ 1.0        ┆ ?Havana,    │\n",
       "│            ┆          ┆          ┆ Anthony      ┆   ┆          ┆      ┆            ┆ Cuba        │\n",
       "│ 25%        ┆ 2.0      ┆ 0.0      ┆ null         ┆ … ┆ null     ┆ null ┆ 72.0       ┆ null        │\n",
       "│ 50%        ┆ 3.0      ┆ 0.0      ┆ null         ┆ … ┆ null     ┆ null ┆ 155.0      ┆ null        │\n",
       "│ 75%        ┆ 3.0      ┆ 1.0      ┆ null         ┆ … ┆ null     ┆ null ┆ 256.0      ┆ null        │\n",
       "│ max        ┆ 3.0      ┆ 1.0      ┆ van          ┆ … ┆ S        ┆ D    ┆ 328.0      ┆ Zurich,     │\n",
       "│            ┆          ┆          ┆ Melkebeke,   ┆   ┆          ┆      ┆            ┆ Switzerland │\n",
       "│            ┆          ┆          ┆ Mr. Philemon ┆   ┆          ┆      ┆            ┆             │\n",
       "└────────────┴──────────┴──────────┴──────────────┴───┴──────────┴──────┴────────────┴─────────────┘"
      ]
     },
     "execution_count": 14,
     "metadata": {},
     "output_type": "execute_result"
    }
   ],
   "source": [
    "df.describe()"
   ]
  },
  {
   "cell_type": "code",
   "execution_count": 15,
   "id": "1cb8d381-ba43-47b5-ade9-df85429cde69",
   "metadata": {},
   "outputs": [
    {
     "data": {
      "text/html": [
       "<div><style>\n",
       ".dataframe > thead > tr,\n",
       ".dataframe > tbody > tr {\n",
       "  text-align: right;\n",
       "  white-space: pre-wrap;\n",
       "}\n",
       "</style>\n",
       "<small>shape: (1, 14)</small><table border=\"1\" class=\"dataframe\"><thead><tr><th>pclass</th><th>survived</th><th>name</th><th>sex</th><th>age</th><th>sibsp</th><th>parch</th><th>ticket</th><th>fare</th><th>cabin</th><th>embarked</th><th>boat</th><th>body</th><th>home.dest</th></tr><tr><td>u32</td><td>u32</td><td>u32</td><td>u32</td><td>u32</td><td>u32</td><td>u32</td><td>u32</td><td>u32</td><td>u32</td><td>u32</td><td>u32</td><td>u32</td><td>u32</td></tr></thead><tbody><tr><td>0</td><td>0</td><td>0</td><td>0</td><td>263</td><td>0</td><td>0</td><td>0</td><td>1</td><td>1014</td><td>2</td><td>823</td><td>1188</td><td>564</td></tr></tbody></table></div>"
      ],
      "text/plain": [
       "shape: (1, 14)\n",
       "┌────────┬──────────┬──────┬─────┬───┬──────────┬──────┬──────┬───────────┐\n",
       "│ pclass ┆ survived ┆ name ┆ sex ┆ … ┆ embarked ┆ boat ┆ body ┆ home.dest │\n",
       "│ ---    ┆ ---      ┆ ---  ┆ --- ┆   ┆ ---      ┆ ---  ┆ ---  ┆ ---       │\n",
       "│ u32    ┆ u32      ┆ u32  ┆ u32 ┆   ┆ u32      ┆ u32  ┆ u32  ┆ u32       │\n",
       "╞════════╪══════════╪══════╪═════╪═══╪══════════╪══════╪══════╪═══════════╡\n",
       "│ 0      ┆ 0        ┆ 0    ┆ 0   ┆ … ┆ 2        ┆ 823  ┆ 1188 ┆ 564       │\n",
       "└────────┴──────────┴──────┴─────┴───┴──────────┴──────┴──────┴───────────┘"
      ]
     },
     "execution_count": 15,
     "metadata": {},
     "output_type": "execute_result"
    }
   ],
   "source": [
    "df.null_count()"
   ]
  },
  {
   "cell_type": "code",
   "execution_count": 16,
   "id": "cbd8f635-0345-41dc-bb4d-29f2f0c16b69",
   "metadata": {},
   "outputs": [
    {
     "data": {
      "text/html": [
       "<div><style>\n",
       ".dataframe > thead > tr,\n",
       ".dataframe > tbody > tr {\n",
       "  text-align: right;\n",
       "  white-space: pre-wrap;\n",
       "}\n",
       "</style>\n",
       "<small>shape: (1, 14)</small><table border=\"1\" class=\"dataframe\"><thead><tr><th>pclass</th><th>survived</th><th>name</th><th>sex</th><th>age</th><th>sibsp</th><th>parch</th><th>ticket</th><th>fare</th><th>cabin</th><th>embarked</th><th>boat</th><th>body</th><th>home.dest</th></tr><tr><td>u32</td><td>u32</td><td>u32</td><td>u32</td><td>u32</td><td>u32</td><td>u32</td><td>u32</td><td>u32</td><td>u32</td><td>u32</td><td>u32</td><td>u32</td><td>u32</td></tr></thead><tbody><tr><td>3</td><td>2</td><td>1307</td><td>2</td><td>99</td><td>7</td><td>8</td><td>929</td><td>282</td><td>187</td><td>4</td><td>28</td><td>122</td><td>370</td></tr></tbody></table></div>"
      ],
      "text/plain": [
       "shape: (1, 14)\n",
       "┌────────┬──────────┬──────┬─────┬───┬──────────┬──────┬──────┬───────────┐\n",
       "│ pclass ┆ survived ┆ name ┆ sex ┆ … ┆ embarked ┆ boat ┆ body ┆ home.dest │\n",
       "│ ---    ┆ ---      ┆ ---  ┆ --- ┆   ┆ ---      ┆ ---  ┆ ---  ┆ ---       │\n",
       "│ u32    ┆ u32      ┆ u32  ┆ u32 ┆   ┆ u32      ┆ u32  ┆ u32  ┆ u32       │\n",
       "╞════════╪══════════╪══════╪═════╪═══╪══════════╪══════╪══════╪═══════════╡\n",
       "│ 3      ┆ 2        ┆ 1307 ┆ 2   ┆ … ┆ 4        ┆ 28   ┆ 122  ┆ 370       │\n",
       "└────────┴──────────┴──────┴─────┴───┴──────────┴──────┴──────┴───────────┘"
      ]
     },
     "execution_count": 16,
     "metadata": {},
     "output_type": "execute_result"
    }
   ],
   "source": [
    "df.select(pl.all().n_unique())"
   ]
  },
  {
   "cell_type": "code",
   "execution_count": 17,
   "id": "42bdedbb-1d96-44d0-baba-85cacda5306c",
   "metadata": {},
   "outputs": [
    {
     "data": {
      "text/html": [
       "<div><style>\n",
       ".dataframe > thead > tr,\n",
       ".dataframe > tbody > tr {\n",
       "  text-align: right;\n",
       "  white-space: pre-wrap;\n",
       "}\n",
       "</style>\n",
       "<small>shape: (1, 1)</small><table border=\"1\" class=\"dataframe\"><thead><tr><th>sex</th></tr><tr><td>u32</td></tr></thead><tbody><tr><td>2</td></tr></tbody></table></div>"
      ],
      "text/plain": [
       "shape: (1, 1)\n",
       "┌─────┐\n",
       "│ sex │\n",
       "│ --- │\n",
       "│ u32 │\n",
       "╞═════╡\n",
       "│ 2   │\n",
       "└─────┘"
      ]
     },
     "execution_count": 17,
     "metadata": {},
     "output_type": "execute_result"
    }
   ],
   "source": [
    "df.select(pl.col('sex').n_unique())"
   ]
  },
  {
   "cell_type": "code",
   "execution_count": 18,
   "id": "5ea4d7a8-af98-46fc-90d0-73b7c616740a",
   "metadata": {},
   "outputs": [
    {
     "data": {
      "text/html": [
       "<div><style>\n",
       ".dataframe > thead > tr,\n",
       ".dataframe > tbody > tr {\n",
       "  text-align: right;\n",
       "  white-space: pre-wrap;\n",
       "}\n",
       "</style>\n",
       "<small>shape: (4, 1)</small><table border=\"1\" class=\"dataframe\"><thead><tr><th>embarked</th></tr><tr><td>str</td></tr></thead><tbody><tr><td>&quot;S&quot;</td></tr><tr><td>&quot;Q&quot;</td></tr><tr><td>&quot;C&quot;</td></tr><tr><td>null</td></tr></tbody></table></div>"
      ],
      "text/plain": [
       "shape: (4, 1)\n",
       "┌──────────┐\n",
       "│ embarked │\n",
       "│ ---      │\n",
       "│ str      │\n",
       "╞══════════╡\n",
       "│ S        │\n",
       "│ Q        │\n",
       "│ C        │\n",
       "│ null     │\n",
       "└──────────┘"
      ]
     },
     "execution_count": 18,
     "metadata": {},
     "output_type": "execute_result"
    }
   ],
   "source": [
    "df.select(pl.col('embarked').unique())"
   ]
  },
  {
   "cell_type": "code",
   "execution_count": 19,
   "id": "a018397c-8616-4192-a2dd-ebc562613d3c",
   "metadata": {},
   "outputs": [
    {
     "data": {
      "text/html": [
       "<div><style>\n",
       ".dataframe > thead > tr,\n",
       ".dataframe > tbody > tr {\n",
       "  text-align: right;\n",
       "  white-space: pre-wrap;\n",
       "}\n",
       "</style>\n",
       "<small>shape: (4, 2)</small><table border=\"1\" class=\"dataframe\"><thead><tr><th>embarked</th><th>count</th></tr><tr><td>str</td><td>u32</td></tr></thead><tbody><tr><td>&quot;C&quot;</td><td>270</td></tr><tr><td>null</td><td>2</td></tr><tr><td>&quot;S&quot;</td><td>914</td></tr><tr><td>&quot;Q&quot;</td><td>123</td></tr></tbody></table></div>"
      ],
      "text/plain": [
       "shape: (4, 2)\n",
       "┌──────────┬───────┐\n",
       "│ embarked ┆ count │\n",
       "│ ---      ┆ ---   │\n",
       "│ str      ┆ u32   │\n",
       "╞══════════╪═══════╡\n",
       "│ C        ┆ 270   │\n",
       "│ null     ┆ 2     │\n",
       "│ S        ┆ 914   │\n",
       "│ Q        ┆ 123   │\n",
       "└──────────┴───────┘"
      ]
     },
     "execution_count": 19,
     "metadata": {},
     "output_type": "execute_result"
    }
   ],
   "source": [
    "df.select(pl.col('embarked')).to_series().value_counts()"
   ]
  },
  {
   "cell_type": "code",
   "execution_count": 20,
   "id": "40034c2c-61cf-4ead-8279-2c81d13266ee",
   "metadata": {},
   "outputs": [
    {
     "data": {
      "text/html": [
       "<div><style>\n",
       ".dataframe > thead > tr,\n",
       ".dataframe > tbody > tr {\n",
       "  text-align: right;\n",
       "  white-space: pre-wrap;\n",
       "}\n",
       "</style>\n",
       "<small>shape: (4, 2)</small><table border=\"1\" class=\"dataframe\"><thead><tr><th>embarked</th><th>count</th></tr><tr><td>str</td><td>u32</td></tr></thead><tbody><tr><td>&quot;C&quot;</td><td>270</td></tr><tr><td>null</td><td>2</td></tr><tr><td>&quot;S&quot;</td><td>914</td></tr><tr><td>&quot;Q&quot;</td><td>123</td></tr></tbody></table></div>"
      ],
      "text/plain": [
       "shape: (4, 2)\n",
       "┌──────────┬───────┐\n",
       "│ embarked ┆ count │\n",
       "│ ---      ┆ ---   │\n",
       "│ str      ┆ u32   │\n",
       "╞══════════╪═══════╡\n",
       "│ C        ┆ 270   │\n",
       "│ null     ┆ 2     │\n",
       "│ S        ┆ 914   │\n",
       "│ Q        ┆ 123   │\n",
       "└──────────┴───────┘"
      ]
     },
     "execution_count": 20,
     "metadata": {},
     "output_type": "execute_result"
    }
   ],
   "source": [
    "df.get_column('embarked').value_counts()"
   ]
  },
  {
   "cell_type": "code",
   "execution_count": 21,
   "id": "7e67d35b-620c-4d93-9e3f-fcad925e0d1d",
   "metadata": {},
   "outputs": [
    {
     "data": {
      "text/html": [
       "<div><style>\n",
       ".dataframe > thead > tr,\n",
       ".dataframe > tbody > tr {\n",
       "  text-align: right;\n",
       "  white-space: pre-wrap;\n",
       "}\n",
       "</style>\n",
       "<small>shape: (1, 1)</small><table border=\"1\" class=\"dataframe\"><thead><tr><th>fare_max</th></tr><tr><td>f64</td></tr></thead><tbody><tr><td>512.3292</td></tr></tbody></table></div>"
      ],
      "text/plain": [
       "shape: (1, 1)\n",
       "┌──────────┐\n",
       "│ fare_max │\n",
       "│ ---      │\n",
       "│ f64      │\n",
       "╞══════════╡\n",
       "│ 512.3292 │\n",
       "└──────────┘"
      ]
     },
     "execution_count": 21,
     "metadata": {},
     "output_type": "execute_result"
    }
   ],
   "source": [
    "df.select(pl.col('fare').max().alias('fare_max'))"
   ]
  },
  {
   "cell_type": "code",
   "execution_count": 22,
   "id": "69c69a76-970b-4ce1-b347-2cda12e55013",
   "metadata": {},
   "outputs": [
    {
     "data": {
      "text/html": [
       "<div><style>\n",
       ".dataframe > thead > tr,\n",
       ".dataframe > tbody > tr {\n",
       "  text-align: right;\n",
       "  white-space: pre-wrap;\n",
       "}\n",
       "</style>\n",
       "<small>shape: (1, 2)</small><table border=\"1\" class=\"dataframe\"><thead><tr><th>fare_mean</th><th>fare_std</th></tr><tr><td>f64</td><td>f64</td></tr></thead><tbody><tr><td>33.295479</td><td>51.758668</td></tr></tbody></table></div>"
      ],
      "text/plain": [
       "shape: (1, 2)\n",
       "┌───────────┬───────────┐\n",
       "│ fare_mean ┆ fare_std  │\n",
       "│ ---       ┆ ---       │\n",
       "│ f64       ┆ f64       │\n",
       "╞═══════════╪═══════════╡\n",
       "│ 33.295479 ┆ 51.758668 │\n",
       "└───────────┴───────────┘"
      ]
     },
     "execution_count": 22,
     "metadata": {},
     "output_type": "execute_result"
    }
   ],
   "source": [
    "df.select(\n",
    "    pl.mean('fare').alias('fare_mean'),\n",
    "    pl.std('fare').alias('fare_std').alias('fare_std')\n",
    ")"
   ]
  },
  {
   "cell_type": "code",
   "execution_count": 23,
   "id": "01d0c483-e4d9-48a2-b7db-0cc5c3348f0e",
   "metadata": {},
   "outputs": [
    {
     "data": {
      "text/html": [
       "<div><style>\n",
       ".dataframe > thead > tr,\n",
       ".dataframe > tbody > tr {\n",
       "  text-align: right;\n",
       "  white-space: pre-wrap;\n",
       "}\n",
       "</style>\n",
       "<small>shape: (9, 2)</small><table border=\"1\" class=\"dataframe\"><thead><tr><th>statistic</th><th>value</th></tr><tr><td>str</td><td>f64</td></tr></thead><tbody><tr><td>&quot;count&quot;</td><td>1308.0</td></tr><tr><td>&quot;null_count&quot;</td><td>1.0</td></tr><tr><td>&quot;mean&quot;</td><td>33.295479</td></tr><tr><td>&quot;std&quot;</td><td>51.758668</td></tr><tr><td>&quot;min&quot;</td><td>0.0</td></tr><tr><td>&quot;25%&quot;</td><td>7.8958</td></tr><tr><td>&quot;50%&quot;</td><td>14.4542</td></tr><tr><td>&quot;75%&quot;</td><td>31.275</td></tr><tr><td>&quot;max&quot;</td><td>512.3292</td></tr></tbody></table></div>"
      ],
      "text/plain": [
       "shape: (9, 2)\n",
       "┌────────────┬───────────┐\n",
       "│ statistic  ┆ value     │\n",
       "│ ---        ┆ ---       │\n",
       "│ str        ┆ f64       │\n",
       "╞════════════╪═══════════╡\n",
       "│ count      ┆ 1308.0    │\n",
       "│ null_count ┆ 1.0       │\n",
       "│ mean       ┆ 33.295479 │\n",
       "│ std        ┆ 51.758668 │\n",
       "│ min        ┆ 0.0       │\n",
       "│ 25%        ┆ 7.8958    │\n",
       "│ 50%        ┆ 14.4542   │\n",
       "│ 75%        ┆ 31.275    │\n",
       "│ max        ┆ 512.3292  │\n",
       "└────────────┴───────────┘"
      ]
     },
     "execution_count": 23,
     "metadata": {},
     "output_type": "execute_result"
    }
   ],
   "source": [
    "df.get_column('fare').describe()"
   ]
  },
  {
   "cell_type": "code",
   "execution_count": null,
   "id": "9250661f-95df-43f0-a88e-f9edcd0de0d9",
   "metadata": {},
   "outputs": [],
   "source": []
  }
 ],
 "metadata": {
  "kernelspec": {
   "display_name": "Python 3 (ipykernel)",
   "language": "python",
   "name": "python3"
  },
  "language_info": {
   "codemirror_mode": {
    "name": "ipython",
    "version": 3
   },
   "file_extension": ".py",
   "mimetype": "text/x-python",
   "name": "python",
   "nbconvert_exporter": "python",
   "pygments_lexer": "ipython3",
   "version": "3.11.10"
  }
 },
 "nbformat": 4,
 "nbformat_minor": 5
}
