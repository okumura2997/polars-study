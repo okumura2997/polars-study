{
 "cells": [
  {
   "cell_type": "code",
   "execution_count": 1,
   "id": "8b03dd6a-76b5-476d-a58c-0f9345e3a0f1",
   "metadata": {},
   "outputs": [],
   "source": [
    "import polars as pl"
   ]
  },
  {
   "cell_type": "code",
   "execution_count": 2,
   "id": "422c6944-f735-407c-8597-2f6314f55d7f",
   "metadata": {},
   "outputs": [
    {
     "data": {
      "text/html": [
       "<div><style>\n",
       ".dataframe > thead > tr,\n",
       ".dataframe > tbody > tr {\n",
       "  text-align: right;\n",
       "  white-space: pre-wrap;\n",
       "}\n",
       "</style>\n",
       "<small>shape: (1_309, 14)</small><table border=\"1\" class=\"dataframe\"><thead><tr><th>pclass</th><th>survived</th><th>name</th><th>sex</th><th>age</th><th>sibsp</th><th>parch</th><th>ticket</th><th>fare</th><th>cabin</th><th>embarked</th><th>boat</th><th>body</th><th>home.dest</th></tr><tr><td>i64</td><td>i64</td><td>str</td><td>str</td><td>f64</td><td>i64</td><td>i64</td><td>str</td><td>f64</td><td>str</td><td>str</td><td>str</td><td>i64</td><td>str</td></tr></thead><tbody><tr><td>1</td><td>1</td><td>&quot;Allen, Miss. Elisabeth Walton&quot;</td><td>&quot;female&quot;</td><td>29.0</td><td>0</td><td>0</td><td>&quot;24160&quot;</td><td>211.3375</td><td>&quot;B5&quot;</td><td>&quot;S&quot;</td><td>&quot;2&quot;</td><td>null</td><td>&quot;St Louis, MO&quot;</td></tr><tr><td>1</td><td>1</td><td>&quot;Allison, Master. Hudson Trevor&quot;</td><td>&quot;male&quot;</td><td>0.92</td><td>1</td><td>2</td><td>&quot;113781&quot;</td><td>151.55</td><td>&quot;C22 C26&quot;</td><td>&quot;S&quot;</td><td>&quot;11&quot;</td><td>null</td><td>&quot;Montreal, PQ / Chesterville, O…</td></tr><tr><td>1</td><td>0</td><td>&quot;Allison, Miss. Helen Loraine&quot;</td><td>&quot;female&quot;</td><td>2.0</td><td>1</td><td>2</td><td>&quot;113781&quot;</td><td>151.55</td><td>&quot;C22 C26&quot;</td><td>&quot;S&quot;</td><td>null</td><td>null</td><td>&quot;Montreal, PQ / Chesterville, O…</td></tr><tr><td>1</td><td>0</td><td>&quot;Allison, Mr. Hudson Joshua Cre…</td><td>&quot;male&quot;</td><td>30.0</td><td>1</td><td>2</td><td>&quot;113781&quot;</td><td>151.55</td><td>&quot;C22 C26&quot;</td><td>&quot;S&quot;</td><td>null</td><td>135</td><td>&quot;Montreal, PQ / Chesterville, O…</td></tr><tr><td>1</td><td>0</td><td>&quot;Allison, Mrs. Hudson J C (Bess…</td><td>&quot;female&quot;</td><td>25.0</td><td>1</td><td>2</td><td>&quot;113781&quot;</td><td>151.55</td><td>&quot;C22 C26&quot;</td><td>&quot;S&quot;</td><td>null</td><td>null</td><td>&quot;Montreal, PQ / Chesterville, O…</td></tr><tr><td>&hellip;</td><td>&hellip;</td><td>&hellip;</td><td>&hellip;</td><td>&hellip;</td><td>&hellip;</td><td>&hellip;</td><td>&hellip;</td><td>&hellip;</td><td>&hellip;</td><td>&hellip;</td><td>&hellip;</td><td>&hellip;</td><td>&hellip;</td></tr><tr><td>3</td><td>0</td><td>&quot;Zabour, Miss. Hileni&quot;</td><td>&quot;female&quot;</td><td>14.5</td><td>1</td><td>0</td><td>&quot;2665&quot;</td><td>14.4542</td><td>null</td><td>&quot;C&quot;</td><td>null</td><td>328</td><td>null</td></tr><tr><td>3</td><td>0</td><td>&quot;Zabour, Miss. Thamine&quot;</td><td>&quot;female&quot;</td><td>null</td><td>1</td><td>0</td><td>&quot;2665&quot;</td><td>14.4542</td><td>null</td><td>&quot;C&quot;</td><td>null</td><td>null</td><td>null</td></tr><tr><td>3</td><td>0</td><td>&quot;Zakarian, Mr. Mapriededer&quot;</td><td>&quot;male&quot;</td><td>26.5</td><td>0</td><td>0</td><td>&quot;2656&quot;</td><td>7.225</td><td>null</td><td>&quot;C&quot;</td><td>null</td><td>304</td><td>null</td></tr><tr><td>3</td><td>0</td><td>&quot;Zakarian, Mr. Ortin&quot;</td><td>&quot;male&quot;</td><td>27.0</td><td>0</td><td>0</td><td>&quot;2670&quot;</td><td>7.225</td><td>null</td><td>&quot;C&quot;</td><td>null</td><td>null</td><td>null</td></tr><tr><td>3</td><td>0</td><td>&quot;Zimmerman, Mr. Leo&quot;</td><td>&quot;male&quot;</td><td>29.0</td><td>0</td><td>0</td><td>&quot;315082&quot;</td><td>7.875</td><td>null</td><td>&quot;S&quot;</td><td>null</td><td>null</td><td>null</td></tr></tbody></table></div>"
      ],
      "text/plain": [
       "shape: (1_309, 14)\n",
       "┌────────┬──────────┬────────────────────┬────────┬───┬──────────┬──────┬──────┬───────────────────┐\n",
       "│ pclass ┆ survived ┆ name               ┆ sex    ┆ … ┆ embarked ┆ boat ┆ body ┆ home.dest         │\n",
       "│ ---    ┆ ---      ┆ ---                ┆ ---    ┆   ┆ ---      ┆ ---  ┆ ---  ┆ ---               │\n",
       "│ i64    ┆ i64      ┆ str                ┆ str    ┆   ┆ str      ┆ str  ┆ i64  ┆ str               │\n",
       "╞════════╪══════════╪════════════════════╪════════╪═══╪══════════╪══════╪══════╪═══════════════════╡\n",
       "│ 1      ┆ 1        ┆ Allen, Miss.       ┆ female ┆ … ┆ S        ┆ 2    ┆ null ┆ St Louis, MO      │\n",
       "│        ┆          ┆ Elisabeth Walton   ┆        ┆   ┆          ┆      ┆      ┆                   │\n",
       "│ 1      ┆ 1        ┆ Allison, Master.   ┆ male   ┆ … ┆ S        ┆ 11   ┆ null ┆ Montreal, PQ /    │\n",
       "│        ┆          ┆ Hudson Trevor      ┆        ┆   ┆          ┆      ┆      ┆ Chesterville, O…  │\n",
       "│ 1      ┆ 0        ┆ Allison, Miss.     ┆ female ┆ … ┆ S        ┆ null ┆ null ┆ Montreal, PQ /    │\n",
       "│        ┆          ┆ Helen Loraine      ┆        ┆   ┆          ┆      ┆      ┆ Chesterville, O…  │\n",
       "│ 1      ┆ 0        ┆ Allison, Mr.       ┆ male   ┆ … ┆ S        ┆ null ┆ 135  ┆ Montreal, PQ /    │\n",
       "│        ┆          ┆ Hudson Joshua Cre… ┆        ┆   ┆          ┆      ┆      ┆ Chesterville, O…  │\n",
       "│ 1      ┆ 0        ┆ Allison, Mrs.      ┆ female ┆ … ┆ S        ┆ null ┆ null ┆ Montreal, PQ /    │\n",
       "│        ┆          ┆ Hudson J C (Bess…  ┆        ┆   ┆          ┆      ┆      ┆ Chesterville, O…  │\n",
       "│ …      ┆ …        ┆ …                  ┆ …      ┆ … ┆ …        ┆ …    ┆ …    ┆ …                 │\n",
       "│ 3      ┆ 0        ┆ Zabour, Miss.      ┆ female ┆ … ┆ C        ┆ null ┆ 328  ┆ null              │\n",
       "│        ┆          ┆ Hileni             ┆        ┆   ┆          ┆      ┆      ┆                   │\n",
       "│ 3      ┆ 0        ┆ Zabour, Miss.      ┆ female ┆ … ┆ C        ┆ null ┆ null ┆ null              │\n",
       "│        ┆          ┆ Thamine            ┆        ┆   ┆          ┆      ┆      ┆                   │\n",
       "│ 3      ┆ 0        ┆ Zakarian, Mr.      ┆ male   ┆ … ┆ C        ┆ null ┆ 304  ┆ null              │\n",
       "│        ┆          ┆ Mapriededer        ┆        ┆   ┆          ┆      ┆      ┆                   │\n",
       "│ 3      ┆ 0        ┆ Zakarian, Mr.      ┆ male   ┆ … ┆ C        ┆ null ┆ null ┆ null              │\n",
       "│        ┆          ┆ Ortin              ┆        ┆   ┆          ┆      ┆      ┆                   │\n",
       "│ 3      ┆ 0        ┆ Zimmerman, Mr. Leo ┆ male   ┆ … ┆ S        ┆ null ┆ null ┆ null              │\n",
       "└────────┴──────────┴────────────────────┴────────┴───┴──────────┴──────┴──────┴───────────────────┘"
      ]
     },
     "execution_count": 2,
     "metadata": {},
     "output_type": "execute_result"
    }
   ],
   "source": [
    "df = pl.read_csv('titanic.csv')\n",
    "df"
   ]
  },
  {
   "cell_type": "code",
   "execution_count": 3,
   "id": "4e919f4b-dca7-471a-96f7-6a2840056325",
   "metadata": {},
   "outputs": [
    {
     "data": {
      "text/html": [
       "<div><style>\n",
       ".dataframe > thead > tr,\n",
       ".dataframe > tbody > tr {\n",
       "  text-align: right;\n",
       "  white-space: pre-wrap;\n",
       "}\n",
       "</style>\n",
       "<small>shape: (1_309, 5)</small><table border=\"1\" class=\"dataframe\"><thead><tr><th>pclass</th><th>sibsp</th><th>parch</th><th>fare</th><th>body</th></tr><tr><td>i64</td><td>i64</td><td>i64</td><td>f64</td><td>i64</td></tr></thead><tbody><tr><td>1</td><td>0</td><td>0</td><td>211.3375</td><td>null</td></tr><tr><td>1</td><td>1</td><td>2</td><td>151.55</td><td>null</td></tr><tr><td>1</td><td>1</td><td>2</td><td>151.55</td><td>null</td></tr><tr><td>1</td><td>1</td><td>2</td><td>151.55</td><td>135</td></tr><tr><td>1</td><td>1</td><td>2</td><td>151.55</td><td>null</td></tr><tr><td>&hellip;</td><td>&hellip;</td><td>&hellip;</td><td>&hellip;</td><td>&hellip;</td></tr><tr><td>3</td><td>1</td><td>0</td><td>14.4542</td><td>328</td></tr><tr><td>3</td><td>1</td><td>0</td><td>14.4542</td><td>null</td></tr><tr><td>3</td><td>0</td><td>0</td><td>7.225</td><td>304</td></tr><tr><td>3</td><td>0</td><td>0</td><td>7.225</td><td>null</td></tr><tr><td>3</td><td>0</td><td>0</td><td>7.875</td><td>null</td></tr></tbody></table></div>"
      ],
      "text/plain": [
       "shape: (1_309, 5)\n",
       "┌────────┬───────┬───────┬──────────┬──────┐\n",
       "│ pclass ┆ sibsp ┆ parch ┆ fare     ┆ body │\n",
       "│ ---    ┆ ---   ┆ ---   ┆ ---      ┆ ---  │\n",
       "│ i64    ┆ i64   ┆ i64   ┆ f64      ┆ i64  │\n",
       "╞════════╪═══════╪═══════╪══════════╪══════╡\n",
       "│ 1      ┆ 0     ┆ 0     ┆ 211.3375 ┆ null │\n",
       "│ 1      ┆ 1     ┆ 2     ┆ 151.55   ┆ null │\n",
       "│ 1      ┆ 1     ┆ 2     ┆ 151.55   ┆ null │\n",
       "│ 1      ┆ 1     ┆ 2     ┆ 151.55   ┆ 135  │\n",
       "│ 1      ┆ 1     ┆ 2     ┆ 151.55   ┆ null │\n",
       "│ …      ┆ …     ┆ …     ┆ …        ┆ …    │\n",
       "│ 3      ┆ 1     ┆ 0     ┆ 14.4542  ┆ 328  │\n",
       "│ 3      ┆ 1     ┆ 0     ┆ 14.4542  ┆ null │\n",
       "│ 3      ┆ 0     ┆ 0     ┆ 7.225    ┆ 304  │\n",
       "│ 3      ┆ 0     ┆ 0     ┆ 7.225    ┆ null │\n",
       "│ 3      ┆ 0     ┆ 0     ┆ 7.875    ┆ null │\n",
       "└────────┴───────┴───────┴──────────┴──────┘"
      ]
     },
     "execution_count": 3,
     "metadata": {},
     "output_type": "execute_result"
    }
   ],
   "source": [
    "df.select(\n",
    "    pl.col(['pclass', 'sibsp', 'parch', 'fare', 'body'])\n",
    ")"
   ]
  },
  {
   "cell_type": "code",
   "execution_count": 4,
   "id": "b7be5be8-dc41-48c6-a825-45090d51eb41",
   "metadata": {},
   "outputs": [
    {
     "data": {
      "text/html": [
       "<div><style>\n",
       ".dataframe > thead > tr,\n",
       ".dataframe > tbody > tr {\n",
       "  text-align: right;\n",
       "  white-space: pre-wrap;\n",
       "}\n",
       "</style>\n",
       "<small>shape: (1_309, 7)</small><table border=\"1\" class=\"dataframe\"><thead><tr><th>pclass</th><th>survived</th><th>sibsp</th><th>parch</th><th>body</th><th>age</th><th>fare</th></tr><tr><td>i64</td><td>i64</td><td>i64</td><td>i64</td><td>i64</td><td>f64</td><td>f64</td></tr></thead><tbody><tr><td>1</td><td>1</td><td>0</td><td>0</td><td>null</td><td>29.0</td><td>211.3375</td></tr><tr><td>1</td><td>1</td><td>1</td><td>2</td><td>null</td><td>0.92</td><td>151.55</td></tr><tr><td>1</td><td>0</td><td>1</td><td>2</td><td>null</td><td>2.0</td><td>151.55</td></tr><tr><td>1</td><td>0</td><td>1</td><td>2</td><td>135</td><td>30.0</td><td>151.55</td></tr><tr><td>1</td><td>0</td><td>1</td><td>2</td><td>null</td><td>25.0</td><td>151.55</td></tr><tr><td>&hellip;</td><td>&hellip;</td><td>&hellip;</td><td>&hellip;</td><td>&hellip;</td><td>&hellip;</td><td>&hellip;</td></tr><tr><td>3</td><td>0</td><td>1</td><td>0</td><td>328</td><td>14.5</td><td>14.4542</td></tr><tr><td>3</td><td>0</td><td>1</td><td>0</td><td>null</td><td>null</td><td>14.4542</td></tr><tr><td>3</td><td>0</td><td>0</td><td>0</td><td>304</td><td>26.5</td><td>7.225</td></tr><tr><td>3</td><td>0</td><td>0</td><td>0</td><td>null</td><td>27.0</td><td>7.225</td></tr><tr><td>3</td><td>0</td><td>0</td><td>0</td><td>null</td><td>29.0</td><td>7.875</td></tr></tbody></table></div>"
      ],
      "text/plain": [
       "shape: (1_309, 7)\n",
       "┌────────┬──────────┬───────┬───────┬──────┬──────┬──────────┐\n",
       "│ pclass ┆ survived ┆ sibsp ┆ parch ┆ body ┆ age  ┆ fare     │\n",
       "│ ---    ┆ ---      ┆ ---   ┆ ---   ┆ ---  ┆ ---  ┆ ---      │\n",
       "│ i64    ┆ i64      ┆ i64   ┆ i64   ┆ i64  ┆ f64  ┆ f64      │\n",
       "╞════════╪══════════╪═══════╪═══════╪══════╪══════╪══════════╡\n",
       "│ 1      ┆ 1        ┆ 0     ┆ 0     ┆ null ┆ 29.0 ┆ 211.3375 │\n",
       "│ 1      ┆ 1        ┆ 1     ┆ 2     ┆ null ┆ 0.92 ┆ 151.55   │\n",
       "│ 1      ┆ 0        ┆ 1     ┆ 2     ┆ null ┆ 2.0  ┆ 151.55   │\n",
       "│ 1      ┆ 0        ┆ 1     ┆ 2     ┆ 135  ┆ 30.0 ┆ 151.55   │\n",
       "│ 1      ┆ 0        ┆ 1     ┆ 2     ┆ null ┆ 25.0 ┆ 151.55   │\n",
       "│ …      ┆ …        ┆ …     ┆ …     ┆ …    ┆ …    ┆ …        │\n",
       "│ 3      ┆ 0        ┆ 1     ┆ 0     ┆ 328  ┆ 14.5 ┆ 14.4542  │\n",
       "│ 3      ┆ 0        ┆ 1     ┆ 0     ┆ null ┆ null ┆ 14.4542  │\n",
       "│ 3      ┆ 0        ┆ 0     ┆ 0     ┆ 304  ┆ 26.5 ┆ 7.225    │\n",
       "│ 3      ┆ 0        ┆ 0     ┆ 0     ┆ null ┆ 27.0 ┆ 7.225    │\n",
       "│ 3      ┆ 0        ┆ 0     ┆ 0     ┆ null ┆ 29.0 ┆ 7.875    │\n",
       "└────────┴──────────┴───────┴───────┴──────┴──────┴──────────┘"
      ]
     },
     "execution_count": 4,
     "metadata": {},
     "output_type": "execute_result"
    }
   ],
   "source": [
    "df.select(\n",
    "    pl.col(pl.Int64),\n",
    "    pl.col(pl.Float64)\n",
    ")"
   ]
  },
  {
   "cell_type": "code",
   "execution_count": 5,
   "id": "b18accaa-e126-4314-be78-112f98eeb6b5",
   "metadata": {},
   "outputs": [
    {
     "data": {
      "text/html": [
       "<div><style>\n",
       ".dataframe > thead > tr,\n",
       ".dataframe > tbody > tr {\n",
       "  text-align: right;\n",
       "  white-space: pre-wrap;\n",
       "}\n",
       "</style>\n",
       "<small>shape: (1_309, 7)</small><table border=\"1\" class=\"dataframe\"><thead><tr><th>pclass</th><th>survived</th><th>age</th><th>sibsp</th><th>parch</th><th>fare</th><th>body</th></tr><tr><td>i64</td><td>i64</td><td>f64</td><td>i64</td><td>i64</td><td>f64</td><td>i64</td></tr></thead><tbody><tr><td>1</td><td>1</td><td>29.0</td><td>0</td><td>0</td><td>211.3375</td><td>null</td></tr><tr><td>1</td><td>1</td><td>0.92</td><td>1</td><td>2</td><td>151.55</td><td>null</td></tr><tr><td>1</td><td>0</td><td>2.0</td><td>1</td><td>2</td><td>151.55</td><td>null</td></tr><tr><td>1</td><td>0</td><td>30.0</td><td>1</td><td>2</td><td>151.55</td><td>135</td></tr><tr><td>1</td><td>0</td><td>25.0</td><td>1</td><td>2</td><td>151.55</td><td>null</td></tr><tr><td>&hellip;</td><td>&hellip;</td><td>&hellip;</td><td>&hellip;</td><td>&hellip;</td><td>&hellip;</td><td>&hellip;</td></tr><tr><td>3</td><td>0</td><td>14.5</td><td>1</td><td>0</td><td>14.4542</td><td>328</td></tr><tr><td>3</td><td>0</td><td>null</td><td>1</td><td>0</td><td>14.4542</td><td>null</td></tr><tr><td>3</td><td>0</td><td>26.5</td><td>0</td><td>0</td><td>7.225</td><td>304</td></tr><tr><td>3</td><td>0</td><td>27.0</td><td>0</td><td>0</td><td>7.225</td><td>null</td></tr><tr><td>3</td><td>0</td><td>29.0</td><td>0</td><td>0</td><td>7.875</td><td>null</td></tr></tbody></table></div>"
      ],
      "text/plain": [
       "shape: (1_309, 7)\n",
       "┌────────┬──────────┬──────┬───────┬───────┬──────────┬──────┐\n",
       "│ pclass ┆ survived ┆ age  ┆ sibsp ┆ parch ┆ fare     ┆ body │\n",
       "│ ---    ┆ ---      ┆ ---  ┆ ---   ┆ ---   ┆ ---      ┆ ---  │\n",
       "│ i64    ┆ i64      ┆ f64  ┆ i64   ┆ i64   ┆ f64      ┆ i64  │\n",
       "╞════════╪══════════╪══════╪═══════╪═══════╪══════════╪══════╡\n",
       "│ 1      ┆ 1        ┆ 29.0 ┆ 0     ┆ 0     ┆ 211.3375 ┆ null │\n",
       "│ 1      ┆ 1        ┆ 0.92 ┆ 1     ┆ 2     ┆ 151.55   ┆ null │\n",
       "│ 1      ┆ 0        ┆ 2.0  ┆ 1     ┆ 2     ┆ 151.55   ┆ null │\n",
       "│ 1      ┆ 0        ┆ 30.0 ┆ 1     ┆ 2     ┆ 151.55   ┆ 135  │\n",
       "│ 1      ┆ 0        ┆ 25.0 ┆ 1     ┆ 2     ┆ 151.55   ┆ null │\n",
       "│ …      ┆ …        ┆ …    ┆ …     ┆ …     ┆ …        ┆ …    │\n",
       "│ 3      ┆ 0        ┆ 14.5 ┆ 1     ┆ 0     ┆ 14.4542  ┆ 328  │\n",
       "│ 3      ┆ 0        ┆ null ┆ 1     ┆ 0     ┆ 14.4542  ┆ null │\n",
       "│ 3      ┆ 0        ┆ 26.5 ┆ 0     ┆ 0     ┆ 7.225    ┆ 304  │\n",
       "│ 3      ┆ 0        ┆ 27.0 ┆ 0     ┆ 0     ┆ 7.225    ┆ null │\n",
       "│ 3      ┆ 0        ┆ 29.0 ┆ 0     ┆ 0     ┆ 7.875    ┆ null │\n",
       "└────────┴──────────┴──────┴───────┴───────┴──────────┴──────┘"
      ]
     },
     "execution_count": 5,
     "metadata": {},
     "output_type": "execute_result"
    }
   ],
   "source": [
    "df.select(pl.col([pl.Int64, pl.Float64]))"
   ]
  },
  {
   "cell_type": "code",
   "execution_count": 6,
   "id": "854187d6-8a84-4c15-8028-31ddb9821469",
   "metadata": {},
   "outputs": [
    {
     "data": {
      "text/html": [
       "<div><style>\n",
       ".dataframe > thead > tr,\n",
       ".dataframe > tbody > tr {\n",
       "  text-align: right;\n",
       "  white-space: pre-wrap;\n",
       "}\n",
       "</style>\n",
       "<small>shape: (1_309, 13)</small><table border=\"1\" class=\"dataframe\"><thead><tr><th>pclass</th><th>survived</th><th>name</th><th>sex</th><th>age</th><th>sibsp</th><th>parch</th><th>ticket</th><th>fare</th><th>cabin</th><th>embarked</th><th>boat</th><th>home.dest</th></tr><tr><td>i64</td><td>i64</td><td>str</td><td>str</td><td>f64</td><td>i64</td><td>i64</td><td>str</td><td>f64</td><td>str</td><td>str</td><td>str</td><td>str</td></tr></thead><tbody><tr><td>1</td><td>1</td><td>&quot;Allen, Miss. Elisabeth Walton&quot;</td><td>&quot;female&quot;</td><td>29.0</td><td>0</td><td>0</td><td>&quot;24160&quot;</td><td>211.3375</td><td>&quot;B5&quot;</td><td>&quot;S&quot;</td><td>&quot;2&quot;</td><td>&quot;St Louis, MO&quot;</td></tr><tr><td>1</td><td>1</td><td>&quot;Allison, Master. Hudson Trevor&quot;</td><td>&quot;male&quot;</td><td>0.92</td><td>1</td><td>2</td><td>&quot;113781&quot;</td><td>151.55</td><td>&quot;C22 C26&quot;</td><td>&quot;S&quot;</td><td>&quot;11&quot;</td><td>&quot;Montreal, PQ / Chesterville, O…</td></tr><tr><td>1</td><td>0</td><td>&quot;Allison, Miss. Helen Loraine&quot;</td><td>&quot;female&quot;</td><td>2.0</td><td>1</td><td>2</td><td>&quot;113781&quot;</td><td>151.55</td><td>&quot;C22 C26&quot;</td><td>&quot;S&quot;</td><td>null</td><td>&quot;Montreal, PQ / Chesterville, O…</td></tr><tr><td>1</td><td>0</td><td>&quot;Allison, Mr. Hudson Joshua Cre…</td><td>&quot;male&quot;</td><td>30.0</td><td>1</td><td>2</td><td>&quot;113781&quot;</td><td>151.55</td><td>&quot;C22 C26&quot;</td><td>&quot;S&quot;</td><td>null</td><td>&quot;Montreal, PQ / Chesterville, O…</td></tr><tr><td>1</td><td>0</td><td>&quot;Allison, Mrs. Hudson J C (Bess…</td><td>&quot;female&quot;</td><td>25.0</td><td>1</td><td>2</td><td>&quot;113781&quot;</td><td>151.55</td><td>&quot;C22 C26&quot;</td><td>&quot;S&quot;</td><td>null</td><td>&quot;Montreal, PQ / Chesterville, O…</td></tr><tr><td>&hellip;</td><td>&hellip;</td><td>&hellip;</td><td>&hellip;</td><td>&hellip;</td><td>&hellip;</td><td>&hellip;</td><td>&hellip;</td><td>&hellip;</td><td>&hellip;</td><td>&hellip;</td><td>&hellip;</td><td>&hellip;</td></tr><tr><td>3</td><td>0</td><td>&quot;Zabour, Miss. Hileni&quot;</td><td>&quot;female&quot;</td><td>14.5</td><td>1</td><td>0</td><td>&quot;2665&quot;</td><td>14.4542</td><td>null</td><td>&quot;C&quot;</td><td>null</td><td>null</td></tr><tr><td>3</td><td>0</td><td>&quot;Zabour, Miss. Thamine&quot;</td><td>&quot;female&quot;</td><td>null</td><td>1</td><td>0</td><td>&quot;2665&quot;</td><td>14.4542</td><td>null</td><td>&quot;C&quot;</td><td>null</td><td>null</td></tr><tr><td>3</td><td>0</td><td>&quot;Zakarian, Mr. Mapriededer&quot;</td><td>&quot;male&quot;</td><td>26.5</td><td>0</td><td>0</td><td>&quot;2656&quot;</td><td>7.225</td><td>null</td><td>&quot;C&quot;</td><td>null</td><td>null</td></tr><tr><td>3</td><td>0</td><td>&quot;Zakarian, Mr. Ortin&quot;</td><td>&quot;male&quot;</td><td>27.0</td><td>0</td><td>0</td><td>&quot;2670&quot;</td><td>7.225</td><td>null</td><td>&quot;C&quot;</td><td>null</td><td>null</td></tr><tr><td>3</td><td>0</td><td>&quot;Zimmerman, Mr. Leo&quot;</td><td>&quot;male&quot;</td><td>29.0</td><td>0</td><td>0</td><td>&quot;315082&quot;</td><td>7.875</td><td>null</td><td>&quot;S&quot;</td><td>null</td><td>null</td></tr></tbody></table></div>"
      ],
      "text/plain": [
       "shape: (1_309, 13)\n",
       "┌────────┬──────────┬──────────────────┬────────┬───┬─────────┬──────────┬──────┬──────────────────┐\n",
       "│ pclass ┆ survived ┆ name             ┆ sex    ┆ … ┆ cabin   ┆ embarked ┆ boat ┆ home.dest        │\n",
       "│ ---    ┆ ---      ┆ ---              ┆ ---    ┆   ┆ ---     ┆ ---      ┆ ---  ┆ ---              │\n",
       "│ i64    ┆ i64      ┆ str              ┆ str    ┆   ┆ str     ┆ str      ┆ str  ┆ str              │\n",
       "╞════════╪══════════╪══════════════════╪════════╪═══╪═════════╪══════════╪══════╪══════════════════╡\n",
       "│ 1      ┆ 1        ┆ Allen, Miss.     ┆ female ┆ … ┆ B5      ┆ S        ┆ 2    ┆ St Louis, MO     │\n",
       "│        ┆          ┆ Elisabeth Walton ┆        ┆   ┆         ┆          ┆      ┆                  │\n",
       "│ 1      ┆ 1        ┆ Allison, Master. ┆ male   ┆ … ┆ C22 C26 ┆ S        ┆ 11   ┆ Montreal, PQ /   │\n",
       "│        ┆          ┆ Hudson Trevor    ┆        ┆   ┆         ┆          ┆      ┆ Chesterville, O… │\n",
       "│ 1      ┆ 0        ┆ Allison, Miss.   ┆ female ┆ … ┆ C22 C26 ┆ S        ┆ null ┆ Montreal, PQ /   │\n",
       "│        ┆          ┆ Helen Loraine    ┆        ┆   ┆         ┆          ┆      ┆ Chesterville, O… │\n",
       "│ 1      ┆ 0        ┆ Allison, Mr.     ┆ male   ┆ … ┆ C22 C26 ┆ S        ┆ null ┆ Montreal, PQ /   │\n",
       "│        ┆          ┆ Hudson Joshua    ┆        ┆   ┆         ┆          ┆      ┆ Chesterville, O… │\n",
       "│        ┆          ┆ Cre…             ┆        ┆   ┆         ┆          ┆      ┆                  │\n",
       "│ 1      ┆ 0        ┆ Allison, Mrs.    ┆ female ┆ … ┆ C22 C26 ┆ S        ┆ null ┆ Montreal, PQ /   │\n",
       "│        ┆          ┆ Hudson J C       ┆        ┆   ┆         ┆          ┆      ┆ Chesterville, O… │\n",
       "│        ┆          ┆ (Bess…           ┆        ┆   ┆         ┆          ┆      ┆                  │\n",
       "│ …      ┆ …        ┆ …                ┆ …      ┆ … ┆ …       ┆ …        ┆ …    ┆ …                │\n",
       "│ 3      ┆ 0        ┆ Zabour, Miss.    ┆ female ┆ … ┆ null    ┆ C        ┆ null ┆ null             │\n",
       "│        ┆          ┆ Hileni           ┆        ┆   ┆         ┆          ┆      ┆                  │\n",
       "│ 3      ┆ 0        ┆ Zabour, Miss.    ┆ female ┆ … ┆ null    ┆ C        ┆ null ┆ null             │\n",
       "│        ┆          ┆ Thamine          ┆        ┆   ┆         ┆          ┆      ┆                  │\n",
       "│ 3      ┆ 0        ┆ Zakarian, Mr.    ┆ male   ┆ … ┆ null    ┆ C        ┆ null ┆ null             │\n",
       "│        ┆          ┆ Mapriededer      ┆        ┆   ┆         ┆          ┆      ┆                  │\n",
       "│ 3      ┆ 0        ┆ Zakarian, Mr.    ┆ male   ┆ … ┆ null    ┆ C        ┆ null ┆ null             │\n",
       "│        ┆          ┆ Ortin            ┆        ┆   ┆         ┆          ┆      ┆                  │\n",
       "│ 3      ┆ 0        ┆ Zimmerman, Mr.   ┆ male   ┆ … ┆ null    ┆ S        ┆ null ┆ null             │\n",
       "│        ┆          ┆ Leo              ┆        ┆   ┆         ┆          ┆      ┆                  │\n",
       "└────────┴──────────┴──────────────────┴────────┴───┴─────────┴──────────┴──────┴──────────────────┘"
      ]
     },
     "execution_count": 6,
     "metadata": {},
     "output_type": "execute_result"
    }
   ],
   "source": [
    "df.select(pl.all().exclude('body'))"
   ]
  },
  {
   "cell_type": "code",
   "execution_count": 7,
   "id": "817a8088-1f71-4a1d-abd4-0946579d7040",
   "metadata": {},
   "outputs": [
    {
     "data": {
      "text/html": [
       "<div><style>\n",
       ".dataframe > thead > tr,\n",
       ".dataframe > tbody > tr {\n",
       "  text-align: right;\n",
       "  white-space: pre-wrap;\n",
       "}\n",
       "</style>\n",
       "<small>shape: (1_309, 7)</small><table border=\"1\" class=\"dataframe\"><thead><tr><th>name</th><th>sex</th><th>ticket</th><th>cabin</th><th>embarked</th><th>boat</th><th>home.dest</th></tr><tr><td>str</td><td>str</td><td>str</td><td>str</td><td>str</td><td>str</td><td>str</td></tr></thead><tbody><tr><td>&quot;Allen, Miss. Elisabeth Walton&quot;</td><td>&quot;female&quot;</td><td>&quot;24160&quot;</td><td>&quot;B5&quot;</td><td>&quot;S&quot;</td><td>&quot;2&quot;</td><td>&quot;St Louis, MO&quot;</td></tr><tr><td>&quot;Allison, Master. Hudson Trevor&quot;</td><td>&quot;male&quot;</td><td>&quot;113781&quot;</td><td>&quot;C22 C26&quot;</td><td>&quot;S&quot;</td><td>&quot;11&quot;</td><td>&quot;Montreal, PQ / Chesterville, O…</td></tr><tr><td>&quot;Allison, Miss. Helen Loraine&quot;</td><td>&quot;female&quot;</td><td>&quot;113781&quot;</td><td>&quot;C22 C26&quot;</td><td>&quot;S&quot;</td><td>null</td><td>&quot;Montreal, PQ / Chesterville, O…</td></tr><tr><td>&quot;Allison, Mr. Hudson Joshua Cre…</td><td>&quot;male&quot;</td><td>&quot;113781&quot;</td><td>&quot;C22 C26&quot;</td><td>&quot;S&quot;</td><td>null</td><td>&quot;Montreal, PQ / Chesterville, O…</td></tr><tr><td>&quot;Allison, Mrs. Hudson J C (Bess…</td><td>&quot;female&quot;</td><td>&quot;113781&quot;</td><td>&quot;C22 C26&quot;</td><td>&quot;S&quot;</td><td>null</td><td>&quot;Montreal, PQ / Chesterville, O…</td></tr><tr><td>&hellip;</td><td>&hellip;</td><td>&hellip;</td><td>&hellip;</td><td>&hellip;</td><td>&hellip;</td><td>&hellip;</td></tr><tr><td>&quot;Zabour, Miss. Hileni&quot;</td><td>&quot;female&quot;</td><td>&quot;2665&quot;</td><td>null</td><td>&quot;C&quot;</td><td>null</td><td>null</td></tr><tr><td>&quot;Zabour, Miss. Thamine&quot;</td><td>&quot;female&quot;</td><td>&quot;2665&quot;</td><td>null</td><td>&quot;C&quot;</td><td>null</td><td>null</td></tr><tr><td>&quot;Zakarian, Mr. Mapriededer&quot;</td><td>&quot;male&quot;</td><td>&quot;2656&quot;</td><td>null</td><td>&quot;C&quot;</td><td>null</td><td>null</td></tr><tr><td>&quot;Zakarian, Mr. Ortin&quot;</td><td>&quot;male&quot;</td><td>&quot;2670&quot;</td><td>null</td><td>&quot;C&quot;</td><td>null</td><td>null</td></tr><tr><td>&quot;Zimmerman, Mr. Leo&quot;</td><td>&quot;male&quot;</td><td>&quot;315082&quot;</td><td>null</td><td>&quot;S&quot;</td><td>null</td><td>null</td></tr></tbody></table></div>"
      ],
      "text/plain": [
       "shape: (1_309, 7)\n",
       "┌─────────────────────────────────┬────────┬────────┬─────────┬──────────┬──────┬──────────────────┐\n",
       "│ name                            ┆ sex    ┆ ticket ┆ cabin   ┆ embarked ┆ boat ┆ home.dest        │\n",
       "│ ---                             ┆ ---    ┆ ---    ┆ ---     ┆ ---      ┆ ---  ┆ ---              │\n",
       "│ str                             ┆ str    ┆ str    ┆ str     ┆ str      ┆ str  ┆ str              │\n",
       "╞═════════════════════════════════╪════════╪════════╪═════════╪══════════╪══════╪══════════════════╡\n",
       "│ Allen, Miss. Elisabeth Walton   ┆ female ┆ 24160  ┆ B5      ┆ S        ┆ 2    ┆ St Louis, MO     │\n",
       "│ Allison, Master. Hudson Trevor  ┆ male   ┆ 113781 ┆ C22 C26 ┆ S        ┆ 11   ┆ Montreal, PQ /   │\n",
       "│                                 ┆        ┆        ┆         ┆          ┆      ┆ Chesterville, O… │\n",
       "│ Allison, Miss. Helen Loraine    ┆ female ┆ 113781 ┆ C22 C26 ┆ S        ┆ null ┆ Montreal, PQ /   │\n",
       "│                                 ┆        ┆        ┆         ┆          ┆      ┆ Chesterville, O… │\n",
       "│ Allison, Mr. Hudson Joshua Cre… ┆ male   ┆ 113781 ┆ C22 C26 ┆ S        ┆ null ┆ Montreal, PQ /   │\n",
       "│                                 ┆        ┆        ┆         ┆          ┆      ┆ Chesterville, O… │\n",
       "│ Allison, Mrs. Hudson J C (Bess… ┆ female ┆ 113781 ┆ C22 C26 ┆ S        ┆ null ┆ Montreal, PQ /   │\n",
       "│                                 ┆        ┆        ┆         ┆          ┆      ┆ Chesterville, O… │\n",
       "│ …                               ┆ …      ┆ …      ┆ …       ┆ …        ┆ …    ┆ …                │\n",
       "│ Zabour, Miss. Hileni            ┆ female ┆ 2665   ┆ null    ┆ C        ┆ null ┆ null             │\n",
       "│ Zabour, Miss. Thamine           ┆ female ┆ 2665   ┆ null    ┆ C        ┆ null ┆ null             │\n",
       "│ Zakarian, Mr. Mapriededer       ┆ male   ┆ 2656   ┆ null    ┆ C        ┆ null ┆ null             │\n",
       "│ Zakarian, Mr. Ortin             ┆ male   ┆ 2670   ┆ null    ┆ C        ┆ null ┆ null             │\n",
       "│ Zimmerman, Mr. Leo              ┆ male   ┆ 315082 ┆ null    ┆ S        ┆ null ┆ null             │\n",
       "└─────────────────────────────────┴────────┴────────┴─────────┴──────────┴──────┴──────────────────┘"
      ]
     },
     "execution_count": 7,
     "metadata": {},
     "output_type": "execute_result"
    }
   ],
   "source": [
    "df.select(pl.all().exclude([pl.Int64, pl.Float64]))"
   ]
  },
  {
   "cell_type": "code",
   "execution_count": 8,
   "id": "667c02e1-069c-4e5b-8406-7b344ba77576",
   "metadata": {},
   "outputs": [
    {
     "data": {
      "text/html": [
       "<div><style>\n",
       ".dataframe > thead > tr,\n",
       ".dataframe > tbody > tr {\n",
       "  text-align: right;\n",
       "  white-space: pre-wrap;\n",
       "}\n",
       "</style>\n",
       "<small>shape: (1_309, 11)</small><table border=\"1\" class=\"dataframe\"><thead><tr><th>pclass</th><th>survived</th><th>sex</th><th>sibsp</th><th>parch</th><th>ticket</th><th>cabin</th><th>embarked</th><th>boat</th><th>body</th><th>home.dest</th></tr><tr><td>i64</td><td>i64</td><td>str</td><td>i64</td><td>i64</td><td>str</td><td>str</td><td>str</td><td>str</td><td>i64</td><td>str</td></tr></thead><tbody><tr><td>1</td><td>1</td><td>&quot;female&quot;</td><td>0</td><td>0</td><td>&quot;24160&quot;</td><td>&quot;B5&quot;</td><td>&quot;S&quot;</td><td>&quot;2&quot;</td><td>null</td><td>&quot;St Louis, MO&quot;</td></tr><tr><td>1</td><td>1</td><td>&quot;male&quot;</td><td>1</td><td>2</td><td>&quot;113781&quot;</td><td>&quot;C22 C26&quot;</td><td>&quot;S&quot;</td><td>&quot;11&quot;</td><td>null</td><td>&quot;Montreal, PQ / Chesterville, O…</td></tr><tr><td>1</td><td>0</td><td>&quot;female&quot;</td><td>1</td><td>2</td><td>&quot;113781&quot;</td><td>&quot;C22 C26&quot;</td><td>&quot;S&quot;</td><td>null</td><td>null</td><td>&quot;Montreal, PQ / Chesterville, O…</td></tr><tr><td>1</td><td>0</td><td>&quot;male&quot;</td><td>1</td><td>2</td><td>&quot;113781&quot;</td><td>&quot;C22 C26&quot;</td><td>&quot;S&quot;</td><td>null</td><td>135</td><td>&quot;Montreal, PQ / Chesterville, O…</td></tr><tr><td>1</td><td>0</td><td>&quot;female&quot;</td><td>1</td><td>2</td><td>&quot;113781&quot;</td><td>&quot;C22 C26&quot;</td><td>&quot;S&quot;</td><td>null</td><td>null</td><td>&quot;Montreal, PQ / Chesterville, O…</td></tr><tr><td>&hellip;</td><td>&hellip;</td><td>&hellip;</td><td>&hellip;</td><td>&hellip;</td><td>&hellip;</td><td>&hellip;</td><td>&hellip;</td><td>&hellip;</td><td>&hellip;</td><td>&hellip;</td></tr><tr><td>3</td><td>0</td><td>&quot;female&quot;</td><td>1</td><td>0</td><td>&quot;2665&quot;</td><td>null</td><td>&quot;C&quot;</td><td>null</td><td>328</td><td>null</td></tr><tr><td>3</td><td>0</td><td>&quot;female&quot;</td><td>1</td><td>0</td><td>&quot;2665&quot;</td><td>null</td><td>&quot;C&quot;</td><td>null</td><td>null</td><td>null</td></tr><tr><td>3</td><td>0</td><td>&quot;male&quot;</td><td>0</td><td>0</td><td>&quot;2656&quot;</td><td>null</td><td>&quot;C&quot;</td><td>null</td><td>304</td><td>null</td></tr><tr><td>3</td><td>0</td><td>&quot;male&quot;</td><td>0</td><td>0</td><td>&quot;2670&quot;</td><td>null</td><td>&quot;C&quot;</td><td>null</td><td>null</td><td>null</td></tr><tr><td>3</td><td>0</td><td>&quot;male&quot;</td><td>0</td><td>0</td><td>&quot;315082&quot;</td><td>null</td><td>&quot;S&quot;</td><td>null</td><td>null</td><td>null</td></tr></tbody></table></div>"
      ],
      "text/plain": [
       "shape: (1_309, 11)\n",
       "┌────────┬──────────┬────────┬───────┬───┬──────────┬──────┬──────┬────────────────────────────────┐\n",
       "│ pclass ┆ survived ┆ sex    ┆ sibsp ┆ … ┆ embarked ┆ boat ┆ body ┆ home.dest                      │\n",
       "│ ---    ┆ ---      ┆ ---    ┆ ---   ┆   ┆ ---      ┆ ---  ┆ ---  ┆ ---                            │\n",
       "│ i64    ┆ i64      ┆ str    ┆ i64   ┆   ┆ str      ┆ str  ┆ i64  ┆ str                            │\n",
       "╞════════╪══════════╪════════╪═══════╪═══╪══════════╪══════╪══════╪════════════════════════════════╡\n",
       "│ 1      ┆ 1        ┆ female ┆ 0     ┆ … ┆ S        ┆ 2    ┆ null ┆ St Louis, MO                   │\n",
       "│ 1      ┆ 1        ┆ male   ┆ 1     ┆ … ┆ S        ┆ 11   ┆ null ┆ Montreal, PQ / Chesterville,   │\n",
       "│        ┆          ┆        ┆       ┆   ┆          ┆      ┆      ┆ O…                             │\n",
       "│ 1      ┆ 0        ┆ female ┆ 1     ┆ … ┆ S        ┆ null ┆ null ┆ Montreal, PQ / Chesterville,   │\n",
       "│        ┆          ┆        ┆       ┆   ┆          ┆      ┆      ┆ O…                             │\n",
       "│ 1      ┆ 0        ┆ male   ┆ 1     ┆ … ┆ S        ┆ null ┆ 135  ┆ Montreal, PQ / Chesterville,   │\n",
       "│        ┆          ┆        ┆       ┆   ┆          ┆      ┆      ┆ O…                             │\n",
       "│ 1      ┆ 0        ┆ female ┆ 1     ┆ … ┆ S        ┆ null ┆ null ┆ Montreal, PQ / Chesterville,   │\n",
       "│        ┆          ┆        ┆       ┆   ┆          ┆      ┆      ┆ O…                             │\n",
       "│ …      ┆ …        ┆ …      ┆ …     ┆ … ┆ …        ┆ …    ┆ …    ┆ …                              │\n",
       "│ 3      ┆ 0        ┆ female ┆ 1     ┆ … ┆ C        ┆ null ┆ 328  ┆ null                           │\n",
       "│ 3      ┆ 0        ┆ female ┆ 1     ┆ … ┆ C        ┆ null ┆ null ┆ null                           │\n",
       "│ 3      ┆ 0        ┆ male   ┆ 0     ┆ … ┆ C        ┆ null ┆ 304  ┆ null                           │\n",
       "│ 3      ┆ 0        ┆ male   ┆ 0     ┆ … ┆ C        ┆ null ┆ null ┆ null                           │\n",
       "│ 3      ┆ 0        ┆ male   ┆ 0     ┆ … ┆ S        ┆ null ┆ null ┆ null                           │\n",
       "└────────┴──────────┴────────┴───────┴───┴──────────┴──────┴──────┴────────────────────────────────┘"
      ]
     },
     "execution_count": 8,
     "metadata": {},
     "output_type": "execute_result"
    }
   ],
   "source": [
    "df.select(pl.all().exclude('^.*e$'))"
   ]
  },
  {
   "cell_type": "code",
   "execution_count": 9,
   "id": "a7cf1a0e-1341-4718-87fa-dbfad5760ed8",
   "metadata": {},
   "outputs": [
    {
     "data": {
      "text/html": [
       "<div><style>\n",
       ".dataframe > thead > tr,\n",
       ".dataframe > tbody > tr {\n",
       "  text-align: right;\n",
       "  white-space: pre-wrap;\n",
       "}\n",
       "</style>\n",
       "<small>shape: (100, 14)</small><table border=\"1\" class=\"dataframe\"><thead><tr><th>pclass</th><th>survived</th><th>name</th><th>sex</th><th>age</th><th>sibsp</th><th>parch</th><th>ticket</th><th>fare</th><th>cabin</th><th>embarked</th><th>boat</th><th>body</th><th>home.dest</th></tr><tr><td>i64</td><td>i64</td><td>str</td><td>str</td><td>f64</td><td>i64</td><td>i64</td><td>str</td><td>f64</td><td>str</td><td>str</td><td>str</td><td>i64</td><td>str</td></tr></thead><tbody><tr><td>1</td><td>1</td><td>&quot;Cardeza, Mrs. James Warburton …</td><td>&quot;female&quot;</td><td>58.0</td><td>0</td><td>1</td><td>&quot;PC 17755&quot;</td><td>512.3292</td><td>&quot;B51 B53 B55&quot;</td><td>&quot;C&quot;</td><td>&quot;3&quot;</td><td>null</td><td>&quot;Germantown, Philadelphia, PA&quot;</td></tr><tr><td>1</td><td>0</td><td>&quot;Carlsson, Mr. Frans Olof&quot;</td><td>&quot;male&quot;</td><td>33.0</td><td>0</td><td>0</td><td>&quot;695&quot;</td><td>5.0</td><td>&quot;B51 B53 B55&quot;</td><td>&quot;S&quot;</td><td>null</td><td>null</td><td>&quot;New York, NY&quot;</td></tr><tr><td>1</td><td>0</td><td>&quot;Carrau, Mr. Francisco M&quot;</td><td>&quot;male&quot;</td><td>28.0</td><td>0</td><td>0</td><td>&quot;113059&quot;</td><td>47.1</td><td>null</td><td>&quot;S&quot;</td><td>null</td><td>null</td><td>&quot;Montevideo, Uruguay&quot;</td></tr><tr><td>1</td><td>0</td><td>&quot;Carrau, Mr. Jose Pedro&quot;</td><td>&quot;male&quot;</td><td>17.0</td><td>0</td><td>0</td><td>&quot;113059&quot;</td><td>47.1</td><td>null</td><td>&quot;S&quot;</td><td>null</td><td>null</td><td>&quot;Montevideo, Uruguay&quot;</td></tr><tr><td>1</td><td>1</td><td>&quot;Carter, Master. William Thornt…</td><td>&quot;male&quot;</td><td>11.0</td><td>1</td><td>2</td><td>&quot;113760&quot;</td><td>120.0</td><td>&quot;B96 B98&quot;</td><td>&quot;S&quot;</td><td>&quot;4&quot;</td><td>null</td><td>&quot;Bryn Mawr, PA&quot;</td></tr><tr><td>&hellip;</td><td>&hellip;</td><td>&hellip;</td><td>&hellip;</td><td>&hellip;</td><td>&hellip;</td><td>&hellip;</td><td>&hellip;</td><td>&hellip;</td><td>&hellip;</td><td>&hellip;</td><td>&hellip;</td><td>&hellip;</td><td>&hellip;</td></tr><tr><td>1</td><td>1</td><td>&quot;Harper, Mr. Henry Sleeper&quot;</td><td>&quot;male&quot;</td><td>48.0</td><td>1</td><td>0</td><td>&quot;PC 17572&quot;</td><td>76.7292</td><td>&quot;D33&quot;</td><td>&quot;C&quot;</td><td>&quot;3&quot;</td><td>null</td><td>&quot;New York, NY&quot;</td></tr><tr><td>1</td><td>1</td><td>&quot;Harper, Mrs. Henry Sleeper (My…</td><td>&quot;female&quot;</td><td>49.0</td><td>1</td><td>0</td><td>&quot;PC 17572&quot;</td><td>76.7292</td><td>&quot;D33&quot;</td><td>&quot;C&quot;</td><td>&quot;3&quot;</td><td>null</td><td>&quot;New York, NY&quot;</td></tr><tr><td>1</td><td>0</td><td>&quot;Harrington, Mr. Charles H&quot;</td><td>&quot;male&quot;</td><td>null</td><td>0</td><td>0</td><td>&quot;113796&quot;</td><td>42.4</td><td>null</td><td>&quot;S&quot;</td><td>null</td><td>null</td><td>null</td></tr><tr><td>1</td><td>0</td><td>&quot;Harris, Mr. Henry Birkhardt&quot;</td><td>&quot;male&quot;</td><td>45.0</td><td>1</td><td>0</td><td>&quot;36973&quot;</td><td>83.475</td><td>&quot;C83&quot;</td><td>&quot;S&quot;</td><td>null</td><td>null</td><td>&quot;New York, NY&quot;</td></tr><tr><td>1</td><td>1</td><td>&quot;Harris, Mrs. Henry Birkhardt (…</td><td>&quot;female&quot;</td><td>35.0</td><td>1</td><td>0</td><td>&quot;36973&quot;</td><td>83.475</td><td>&quot;C83&quot;</td><td>&quot;S&quot;</td><td>&quot;D&quot;</td><td>null</td><td>&quot;New York, NY&quot;</td></tr></tbody></table></div>"
      ],
      "text/plain": [
       "shape: (100, 14)\n",
       "┌────────┬──────────┬────────────────────┬────────┬───┬──────────┬──────┬──────┬───────────────────┐\n",
       "│ pclass ┆ survived ┆ name               ┆ sex    ┆ … ┆ embarked ┆ boat ┆ body ┆ home.dest         │\n",
       "│ ---    ┆ ---      ┆ ---                ┆ ---    ┆   ┆ ---      ┆ ---  ┆ ---  ┆ ---               │\n",
       "│ i64    ┆ i64      ┆ str                ┆ str    ┆   ┆ str      ┆ str  ┆ i64  ┆ str               │\n",
       "╞════════╪══════════╪════════════════════╪════════╪═══╪══════════╪══════╪══════╪═══════════════════╡\n",
       "│ 1      ┆ 1        ┆ Cardeza, Mrs.      ┆ female ┆ … ┆ C        ┆ 3    ┆ null ┆ Germantown,       │\n",
       "│        ┆          ┆ James Warburton …  ┆        ┆   ┆          ┆      ┆      ┆ Philadelphia, PA  │\n",
       "│ 1      ┆ 0        ┆ Carlsson, Mr.      ┆ male   ┆ … ┆ S        ┆ null ┆ null ┆ New York, NY      │\n",
       "│        ┆          ┆ Frans Olof         ┆        ┆   ┆          ┆      ┆      ┆                   │\n",
       "│ 1      ┆ 0        ┆ Carrau, Mr.        ┆ male   ┆ … ┆ S        ┆ null ┆ null ┆ Montevideo,       │\n",
       "│        ┆          ┆ Francisco M        ┆        ┆   ┆          ┆      ┆      ┆ Uruguay           │\n",
       "│ 1      ┆ 0        ┆ Carrau, Mr. Jose   ┆ male   ┆ … ┆ S        ┆ null ┆ null ┆ Montevideo,       │\n",
       "│        ┆          ┆ Pedro              ┆        ┆   ┆          ┆      ┆      ┆ Uruguay           │\n",
       "│ 1      ┆ 1        ┆ Carter, Master.    ┆ male   ┆ … ┆ S        ┆ 4    ┆ null ┆ Bryn Mawr, PA     │\n",
       "│        ┆          ┆ William Thornt…    ┆        ┆   ┆          ┆      ┆      ┆                   │\n",
       "│ …      ┆ …        ┆ …                  ┆ …      ┆ … ┆ …        ┆ …    ┆ …    ┆ …                 │\n",
       "│ 1      ┆ 1        ┆ Harper, Mr. Henry  ┆ male   ┆ … ┆ C        ┆ 3    ┆ null ┆ New York, NY      │\n",
       "│        ┆          ┆ Sleeper            ┆        ┆   ┆          ┆      ┆      ┆                   │\n",
       "│ 1      ┆ 1        ┆ Harper, Mrs. Henry ┆ female ┆ … ┆ C        ┆ 3    ┆ null ┆ New York, NY      │\n",
       "│        ┆          ┆ Sleeper (My…       ┆        ┆   ┆          ┆      ┆      ┆                   │\n",
       "│ 1      ┆ 0        ┆ Harrington, Mr.    ┆ male   ┆ … ┆ S        ┆ null ┆ null ┆ null              │\n",
       "│        ┆          ┆ Charles H          ┆        ┆   ┆          ┆      ┆      ┆                   │\n",
       "│ 1      ┆ 0        ┆ Harris, Mr. Henry  ┆ male   ┆ … ┆ S        ┆ null ┆ null ┆ New York, NY      │\n",
       "│        ┆          ┆ Birkhardt          ┆        ┆   ┆          ┆      ┆      ┆                   │\n",
       "│ 1      ┆ 1        ┆ Harris, Mrs. Henry ┆ female ┆ … ┆ S        ┆ D    ┆ null ┆ New York, NY      │\n",
       "│        ┆          ┆ Birkhardt (…       ┆        ┆   ┆          ┆      ┆      ┆                   │\n",
       "└────────┴──────────┴────────────────────┴────────┴───┴──────────┴──────┴──────┴───────────────────┘"
      ]
     },
     "execution_count": 9,
     "metadata": {},
     "output_type": "execute_result"
    }
   ],
   "source": [
    "df.slice(50, 100)"
   ]
  },
  {
   "cell_type": "code",
   "execution_count": 10,
   "id": "99be0fab-cb24-4a1d-9d12-f1b83958e1d8",
   "metadata": {},
   "outputs": [
    {
     "data": {
      "text/html": [
       "<div><style>\n",
       ".dataframe > thead > tr,\n",
       ".dataframe > tbody > tr {\n",
       "  text-align: right;\n",
       "  white-space: pre-wrap;\n",
       "}\n",
       "</style>\n",
       "<small>shape: (1, 14)</small><table border=\"1\" class=\"dataframe\"><thead><tr><th>pclass</th><th>survived</th><th>name</th><th>sex</th><th>age</th><th>sibsp</th><th>parch</th><th>ticket</th><th>fare</th><th>cabin</th><th>embarked</th><th>boat</th><th>body</th><th>home.dest</th></tr><tr><td>i64</td><td>i64</td><td>str</td><td>str</td><td>f64</td><td>i64</td><td>i64</td><td>str</td><td>f64</td><td>str</td><td>str</td><td>str</td><td>i64</td><td>str</td></tr></thead><tbody><tr><td>1</td><td>1</td><td>&quot;Cardeza, Mrs. James Warburton …</td><td>&quot;female&quot;</td><td>58.0</td><td>0</td><td>1</td><td>&quot;PC 17755&quot;</td><td>512.3292</td><td>&quot;B51 B53 B55&quot;</td><td>&quot;C&quot;</td><td>&quot;3&quot;</td><td>null</td><td>&quot;Germantown, Philadelphia, PA&quot;</td></tr></tbody></table></div>"
      ],
      "text/plain": [
       "shape: (1, 14)\n",
       "┌────────┬──────────┬────────────────────┬────────┬───┬──────────┬──────┬──────┬───────────────────┐\n",
       "│ pclass ┆ survived ┆ name               ┆ sex    ┆ … ┆ embarked ┆ boat ┆ body ┆ home.dest         │\n",
       "│ ---    ┆ ---      ┆ ---                ┆ ---    ┆   ┆ ---      ┆ ---  ┆ ---  ┆ ---               │\n",
       "│ i64    ┆ i64      ┆ str                ┆ str    ┆   ┆ str      ┆ str  ┆ i64  ┆ str               │\n",
       "╞════════╪══════════╪════════════════════╪════════╪═══╪══════════╪══════╪══════╪═══════════════════╡\n",
       "│ 1      ┆ 1        ┆ Cardeza, Mrs.      ┆ female ┆ … ┆ C        ┆ 3    ┆ null ┆ Germantown,       │\n",
       "│        ┆          ┆ James Warburton …  ┆        ┆   ┆          ┆      ┆      ┆ Philadelphia, PA  │\n",
       "└────────┴──────────┴────────────────────┴────────┴───┴──────────┴──────┴──────┴───────────────────┘"
      ]
     },
     "execution_count": 10,
     "metadata": {},
     "output_type": "execute_result"
    }
   ],
   "source": [
    "df[50]"
   ]
  },
  {
   "cell_type": "code",
   "execution_count": 11,
   "id": "d6a4fb1f-a830-4a96-a1dc-11a45bdcc8e5",
   "metadata": {},
   "outputs": [
    {
     "data": {
      "text/html": [
       "<div><style>\n",
       ".dataframe > thead > tr,\n",
       ".dataframe > tbody > tr {\n",
       "  text-align: right;\n",
       "  white-space: pre-wrap;\n",
       "}\n",
       "</style>\n",
       "<small>shape: (500, 14)</small><table border=\"1\" class=\"dataframe\"><thead><tr><th>pclass</th><th>survived</th><th>name</th><th>sex</th><th>age</th><th>sibsp</th><th>parch</th><th>ticket</th><th>fare</th><th>cabin</th><th>embarked</th><th>boat</th><th>body</th><th>home.dest</th></tr><tr><td>i64</td><td>i64</td><td>str</td><td>str</td><td>f64</td><td>i64</td><td>i64</td><td>str</td><td>f64</td><td>str</td><td>str</td><td>str</td><td>i64</td><td>str</td></tr></thead><tbody><tr><td>1</td><td>1</td><td>&quot;Allen, Miss. Elisabeth Walton&quot;</td><td>&quot;female&quot;</td><td>29.0</td><td>0</td><td>0</td><td>&quot;24160&quot;</td><td>211.3375</td><td>&quot;B5&quot;</td><td>&quot;S&quot;</td><td>&quot;2&quot;</td><td>null</td><td>&quot;St Louis, MO&quot;</td></tr><tr><td>1</td><td>1</td><td>&quot;Allison, Master. Hudson Trevor&quot;</td><td>&quot;male&quot;</td><td>0.92</td><td>1</td><td>2</td><td>&quot;113781&quot;</td><td>151.55</td><td>&quot;C22 C26&quot;</td><td>&quot;S&quot;</td><td>&quot;11&quot;</td><td>null</td><td>&quot;Montreal, PQ / Chesterville, O…</td></tr><tr><td>1</td><td>1</td><td>&quot;Anderson, Mr. Harry&quot;</td><td>&quot;male&quot;</td><td>48.0</td><td>0</td><td>0</td><td>&quot;19952&quot;</td><td>26.55</td><td>&quot;E12&quot;</td><td>&quot;S&quot;</td><td>&quot;3&quot;</td><td>null</td><td>&quot;New York, NY&quot;</td></tr><tr><td>1</td><td>1</td><td>&quot;Andrews, Miss. Kornelia Theodo…</td><td>&quot;female&quot;</td><td>63.0</td><td>1</td><td>0</td><td>&quot;13502&quot;</td><td>77.9583</td><td>&quot;D7&quot;</td><td>&quot;S&quot;</td><td>&quot;10&quot;</td><td>null</td><td>&quot;Hudson, NY&quot;</td></tr><tr><td>1</td><td>1</td><td>&quot;Appleton, Mrs. Edward Dale (Ch…</td><td>&quot;female&quot;</td><td>53.0</td><td>2</td><td>0</td><td>&quot;11769&quot;</td><td>51.4792</td><td>&quot;C101&quot;</td><td>&quot;S&quot;</td><td>&quot;D&quot;</td><td>null</td><td>&quot;Bayside, Queens, NY&quot;</td></tr><tr><td>&hellip;</td><td>&hellip;</td><td>&hellip;</td><td>&hellip;</td><td>&hellip;</td><td>&hellip;</td><td>&hellip;</td><td>&hellip;</td><td>&hellip;</td><td>&hellip;</td><td>&hellip;</td><td>&hellip;</td><td>&hellip;</td><td>&hellip;</td></tr><tr><td>3</td><td>1</td><td>&quot;Turkula, Mrs. (Hedwig)&quot;</td><td>&quot;female&quot;</td><td>63.0</td><td>0</td><td>0</td><td>&quot;4134&quot;</td><td>9.5875</td><td>null</td><td>&quot;S&quot;</td><td>&quot;15&quot;</td><td>null</td><td>null</td></tr><tr><td>3</td><td>1</td><td>&quot;Vartanian, Mr. David&quot;</td><td>&quot;male&quot;</td><td>22.0</td><td>0</td><td>0</td><td>&quot;2658&quot;</td><td>7.225</td><td>null</td><td>&quot;C&quot;</td><td>&quot;13 15&quot;</td><td>null</td><td>null</td></tr><tr><td>3</td><td>1</td><td>&quot;Whabee, Mrs. George Joseph (Sh…</td><td>&quot;female&quot;</td><td>38.0</td><td>0</td><td>0</td><td>&quot;2688&quot;</td><td>7.2292</td><td>null</td><td>&quot;C&quot;</td><td>&quot;C&quot;</td><td>null</td><td>null</td></tr><tr><td>3</td><td>1</td><td>&quot;Wilkes, Mrs. James (Ellen Need…</td><td>&quot;female&quot;</td><td>47.0</td><td>1</td><td>0</td><td>&quot;363272&quot;</td><td>7.0</td><td>null</td><td>&quot;S&quot;</td><td>null</td><td>null</td><td>null</td></tr><tr><td>3</td><td>1</td><td>&quot;Yasbeck, Mrs. Antoni (Selini A…</td><td>&quot;female&quot;</td><td>15.0</td><td>1</td><td>0</td><td>&quot;2659&quot;</td><td>14.4542</td><td>null</td><td>&quot;C&quot;</td><td>null</td><td>null</td><td>null</td></tr></tbody></table></div>"
      ],
      "text/plain": [
       "shape: (500, 14)\n",
       "┌────────┬──────────┬───────────────────┬────────┬───┬──────────┬───────┬──────┬───────────────────┐\n",
       "│ pclass ┆ survived ┆ name              ┆ sex    ┆ … ┆ embarked ┆ boat  ┆ body ┆ home.dest         │\n",
       "│ ---    ┆ ---      ┆ ---               ┆ ---    ┆   ┆ ---      ┆ ---   ┆ ---  ┆ ---               │\n",
       "│ i64    ┆ i64      ┆ str               ┆ str    ┆   ┆ str      ┆ str   ┆ i64  ┆ str               │\n",
       "╞════════╪══════════╪═══════════════════╪════════╪═══╪══════════╪═══════╪══════╪═══════════════════╡\n",
       "│ 1      ┆ 1        ┆ Allen, Miss.      ┆ female ┆ … ┆ S        ┆ 2     ┆ null ┆ St Louis, MO      │\n",
       "│        ┆          ┆ Elisabeth Walton  ┆        ┆   ┆          ┆       ┆      ┆                   │\n",
       "│ 1      ┆ 1        ┆ Allison, Master.  ┆ male   ┆ … ┆ S        ┆ 11    ┆ null ┆ Montreal, PQ /    │\n",
       "│        ┆          ┆ Hudson Trevor     ┆        ┆   ┆          ┆       ┆      ┆ Chesterville, O…  │\n",
       "│ 1      ┆ 1        ┆ Anderson, Mr.     ┆ male   ┆ … ┆ S        ┆ 3     ┆ null ┆ New York, NY      │\n",
       "│        ┆          ┆ Harry             ┆        ┆   ┆          ┆       ┆      ┆                   │\n",
       "│ 1      ┆ 1        ┆ Andrews, Miss.    ┆ female ┆ … ┆ S        ┆ 10    ┆ null ┆ Hudson, NY        │\n",
       "│        ┆          ┆ Kornelia Theodo…  ┆        ┆   ┆          ┆       ┆      ┆                   │\n",
       "│ 1      ┆ 1        ┆ Appleton, Mrs.    ┆ female ┆ … ┆ S        ┆ D     ┆ null ┆ Bayside, Queens,  │\n",
       "│        ┆          ┆ Edward Dale (Ch…  ┆        ┆   ┆          ┆       ┆      ┆ NY                │\n",
       "│ …      ┆ …        ┆ …                 ┆ …      ┆ … ┆ …        ┆ …     ┆ …    ┆ …                 │\n",
       "│ 3      ┆ 1        ┆ Turkula, Mrs.     ┆ female ┆ … ┆ S        ┆ 15    ┆ null ┆ null              │\n",
       "│        ┆          ┆ (Hedwig)          ┆        ┆   ┆          ┆       ┆      ┆                   │\n",
       "│ 3      ┆ 1        ┆ Vartanian, Mr.    ┆ male   ┆ … ┆ C        ┆ 13 15 ┆ null ┆ null              │\n",
       "│        ┆          ┆ David             ┆        ┆   ┆          ┆       ┆      ┆                   │\n",
       "│ 3      ┆ 1        ┆ Whabee, Mrs.      ┆ female ┆ … ┆ C        ┆ C     ┆ null ┆ null              │\n",
       "│        ┆          ┆ George Joseph     ┆        ┆   ┆          ┆       ┆      ┆                   │\n",
       "│        ┆          ┆ (Sh…              ┆        ┆   ┆          ┆       ┆      ┆                   │\n",
       "│ 3      ┆ 1        ┆ Wilkes, Mrs.      ┆ female ┆ … ┆ S        ┆ null  ┆ null ┆ null              │\n",
       "│        ┆          ┆ James (Ellen      ┆        ┆   ┆          ┆       ┆      ┆                   │\n",
       "│        ┆          ┆ Need…             ┆        ┆   ┆          ┆       ┆      ┆                   │\n",
       "│ 3      ┆ 1        ┆ Yasbeck, Mrs.     ┆ female ┆ … ┆ C        ┆ null  ┆ null ┆ null              │\n",
       "│        ┆          ┆ Antoni (Selini A… ┆        ┆   ┆          ┆       ┆      ┆                   │\n",
       "└────────┴──────────┴───────────────────┴────────┴───┴──────────┴───────┴──────┴───────────────────┘"
      ]
     },
     "execution_count": 11,
     "metadata": {},
     "output_type": "execute_result"
    }
   ],
   "source": [
    "df.filter(pl.col('survived') == 1)"
   ]
  },
  {
   "cell_type": "code",
   "execution_count": 12,
   "id": "e59fa2f3-21a2-4fcf-ac29-019b2546a333",
   "metadata": {},
   "outputs": [
    {
     "data": {
      "text/html": [
       "<div><style>\n",
       ".dataframe > thead > tr,\n",
       ".dataframe > tbody > tr {\n",
       "  text-align: right;\n",
       "  white-space: pre-wrap;\n",
       "}\n",
       "</style>\n",
       "<small>shape: (200, 14)</small><table border=\"1\" class=\"dataframe\"><thead><tr><th>pclass</th><th>survived</th><th>name</th><th>sex</th><th>age</th><th>sibsp</th><th>parch</th><th>ticket</th><th>fare</th><th>cabin</th><th>embarked</th><th>boat</th><th>body</th><th>home.dest</th></tr><tr><td>i64</td><td>i64</td><td>str</td><td>str</td><td>f64</td><td>i64</td><td>i64</td><td>str</td><td>f64</td><td>str</td><td>str</td><td>str</td><td>i64</td><td>str</td></tr></thead><tbody><tr><td>1</td><td>1</td><td>&quot;Allen, Miss. Elisabeth Walton&quot;</td><td>&quot;female&quot;</td><td>29.0</td><td>0</td><td>0</td><td>&quot;24160&quot;</td><td>211.3375</td><td>&quot;B5&quot;</td><td>&quot;S&quot;</td><td>&quot;2&quot;</td><td>null</td><td>&quot;St Louis, MO&quot;</td></tr><tr><td>1</td><td>1</td><td>&quot;Allison, Master. Hudson Trevor&quot;</td><td>&quot;male&quot;</td><td>0.92</td><td>1</td><td>2</td><td>&quot;113781&quot;</td><td>151.55</td><td>&quot;C22 C26&quot;</td><td>&quot;S&quot;</td><td>&quot;11&quot;</td><td>null</td><td>&quot;Montreal, PQ / Chesterville, O…</td></tr><tr><td>1</td><td>1</td><td>&quot;Anderson, Mr. Harry&quot;</td><td>&quot;male&quot;</td><td>48.0</td><td>0</td><td>0</td><td>&quot;19952&quot;</td><td>26.55</td><td>&quot;E12&quot;</td><td>&quot;S&quot;</td><td>&quot;3&quot;</td><td>null</td><td>&quot;New York, NY&quot;</td></tr><tr><td>1</td><td>1</td><td>&quot;Andrews, Miss. Kornelia Theodo…</td><td>&quot;female&quot;</td><td>63.0</td><td>1</td><td>0</td><td>&quot;13502&quot;</td><td>77.9583</td><td>&quot;D7&quot;</td><td>&quot;S&quot;</td><td>&quot;10&quot;</td><td>null</td><td>&quot;Hudson, NY&quot;</td></tr><tr><td>1</td><td>1</td><td>&quot;Appleton, Mrs. Edward Dale (Ch…</td><td>&quot;female&quot;</td><td>53.0</td><td>2</td><td>0</td><td>&quot;11769&quot;</td><td>51.4792</td><td>&quot;C101&quot;</td><td>&quot;S&quot;</td><td>&quot;D&quot;</td><td>null</td><td>&quot;Bayside, Queens, NY&quot;</td></tr><tr><td>&hellip;</td><td>&hellip;</td><td>&hellip;</td><td>&hellip;</td><td>&hellip;</td><td>&hellip;</td><td>&hellip;</td><td>&hellip;</td><td>&hellip;</td><td>&hellip;</td><td>&hellip;</td><td>&hellip;</td><td>&hellip;</td><td>&hellip;</td></tr><tr><td>1</td><td>1</td><td>&quot;Willard, Miss. Constance&quot;</td><td>&quot;female&quot;</td><td>21.0</td><td>0</td><td>0</td><td>&quot;113795&quot;</td><td>26.55</td><td>null</td><td>&quot;S&quot;</td><td>&quot;8 10&quot;</td><td>null</td><td>&quot;Duluth, MN&quot;</td></tr><tr><td>1</td><td>1</td><td>&quot;Williams, Mr. Richard Norris I…</td><td>&quot;male&quot;</td><td>21.0</td><td>0</td><td>1</td><td>&quot;PC 17597&quot;</td><td>61.3792</td><td>null</td><td>&quot;C&quot;</td><td>&quot;A&quot;</td><td>null</td><td>&quot;Geneva, Switzerland / Radnor, …</td></tr><tr><td>1</td><td>1</td><td>&quot;Wilson, Miss. Helen Alice&quot;</td><td>&quot;female&quot;</td><td>31.0</td><td>0</td><td>0</td><td>&quot;16966&quot;</td><td>134.5</td><td>&quot;E39 E41&quot;</td><td>&quot;C&quot;</td><td>&quot;3&quot;</td><td>null</td><td>null</td></tr><tr><td>1</td><td>1</td><td>&quot;Woolner, Mr. Hugh&quot;</td><td>&quot;male&quot;</td><td>null</td><td>0</td><td>0</td><td>&quot;19947&quot;</td><td>35.5</td><td>&quot;C52&quot;</td><td>&quot;S&quot;</td><td>&quot;D&quot;</td><td>null</td><td>&quot;London, England&quot;</td></tr><tr><td>1</td><td>1</td><td>&quot;Young, Miss. Marie Grice&quot;</td><td>&quot;female&quot;</td><td>36.0</td><td>0</td><td>0</td><td>&quot;PC 17760&quot;</td><td>135.6333</td><td>&quot;C32&quot;</td><td>&quot;C&quot;</td><td>&quot;8&quot;</td><td>null</td><td>&quot;New York, NY / Washington, DC&quot;</td></tr></tbody></table></div>"
      ],
      "text/plain": [
       "shape: (200, 14)\n",
       "┌────────┬──────────┬────────────────────┬────────┬───┬──────────┬──────┬──────┬───────────────────┐\n",
       "│ pclass ┆ survived ┆ name               ┆ sex    ┆ … ┆ embarked ┆ boat ┆ body ┆ home.dest         │\n",
       "│ ---    ┆ ---      ┆ ---                ┆ ---    ┆   ┆ ---      ┆ ---  ┆ ---  ┆ ---               │\n",
       "│ i64    ┆ i64      ┆ str                ┆ str    ┆   ┆ str      ┆ str  ┆ i64  ┆ str               │\n",
       "╞════════╪══════════╪════════════════════╪════════╪═══╪══════════╪══════╪══════╪═══════════════════╡\n",
       "│ 1      ┆ 1        ┆ Allen, Miss.       ┆ female ┆ … ┆ S        ┆ 2    ┆ null ┆ St Louis, MO      │\n",
       "│        ┆          ┆ Elisabeth Walton   ┆        ┆   ┆          ┆      ┆      ┆                   │\n",
       "│ 1      ┆ 1        ┆ Allison, Master.   ┆ male   ┆ … ┆ S        ┆ 11   ┆ null ┆ Montreal, PQ /    │\n",
       "│        ┆          ┆ Hudson Trevor      ┆        ┆   ┆          ┆      ┆      ┆ Chesterville, O…  │\n",
       "│ 1      ┆ 1        ┆ Anderson, Mr.      ┆ male   ┆ … ┆ S        ┆ 3    ┆ null ┆ New York, NY      │\n",
       "│        ┆          ┆ Harry              ┆        ┆   ┆          ┆      ┆      ┆                   │\n",
       "│ 1      ┆ 1        ┆ Andrews, Miss.     ┆ female ┆ … ┆ S        ┆ 10   ┆ null ┆ Hudson, NY        │\n",
       "│        ┆          ┆ Kornelia Theodo…   ┆        ┆   ┆          ┆      ┆      ┆                   │\n",
       "│ 1      ┆ 1        ┆ Appleton, Mrs.     ┆ female ┆ … ┆ S        ┆ D    ┆ null ┆ Bayside, Queens,  │\n",
       "│        ┆          ┆ Edward Dale (Ch…   ┆        ┆   ┆          ┆      ┆      ┆ NY                │\n",
       "│ …      ┆ …        ┆ …                  ┆ …      ┆ … ┆ …        ┆ …    ┆ …    ┆ …                 │\n",
       "│ 1      ┆ 1        ┆ Willard, Miss.     ┆ female ┆ … ┆ S        ┆ 8 10 ┆ null ┆ Duluth, MN        │\n",
       "│        ┆          ┆ Constance          ┆        ┆   ┆          ┆      ┆      ┆                   │\n",
       "│ 1      ┆ 1        ┆ Williams, Mr.      ┆ male   ┆ … ┆ C        ┆ A    ┆ null ┆ Geneva,           │\n",
       "│        ┆          ┆ Richard Norris I…  ┆        ┆   ┆          ┆      ┆      ┆ Switzerland /     │\n",
       "│        ┆          ┆                    ┆        ┆   ┆          ┆      ┆      ┆ Radnor, …         │\n",
       "│ 1      ┆ 1        ┆ Wilson, Miss.      ┆ female ┆ … ┆ C        ┆ 3    ┆ null ┆ null              │\n",
       "│        ┆          ┆ Helen Alice        ┆        ┆   ┆          ┆      ┆      ┆                   │\n",
       "│ 1      ┆ 1        ┆ Woolner, Mr. Hugh  ┆ male   ┆ … ┆ S        ┆ D    ┆ null ┆ London, England   │\n",
       "│ 1      ┆ 1        ┆ Young, Miss. Marie ┆ female ┆ … ┆ C        ┆ 8    ┆ null ┆ New York, NY /    │\n",
       "│        ┆          ┆ Grice              ┆        ┆   ┆          ┆      ┆      ┆ Washington, DC    │\n",
       "└────────┴──────────┴────────────────────┴────────┴───┴──────────┴──────┴──────┴───────────────────┘"
      ]
     },
     "execution_count": 12,
     "metadata": {},
     "output_type": "execute_result"
    }
   ],
   "source": [
    "df.filter(\n",
    "    (pl.col('survived') == 1) & (pl.col('pclass') == 1)\n",
    ")"
   ]
  },
  {
   "cell_type": "code",
   "execution_count": 13,
   "id": "6dac5e06-ab7e-408c-b028-ada1ac2de702",
   "metadata": {},
   "outputs": [
    {
     "data": {
      "text/html": [
       "<div><style>\n",
       ".dataframe > thead > tr,\n",
       ".dataframe > tbody > tr {\n",
       "  text-align: right;\n",
       "  white-space: pre-wrap;\n",
       "}\n",
       "</style>\n",
       "<small>shape: (84, 14)</small><table border=\"1\" class=\"dataframe\"><thead><tr><th>pclass</th><th>survived</th><th>name</th><th>sex</th><th>age</th><th>sibsp</th><th>parch</th><th>ticket</th><th>fare</th><th>cabin</th><th>embarked</th><th>boat</th><th>body</th><th>home.dest</th></tr><tr><td>i64</td><td>i64</td><td>str</td><td>str</td><td>f64</td><td>i64</td><td>i64</td><td>str</td><td>f64</td><td>str</td><td>str</td><td>str</td><td>i64</td><td>str</td></tr></thead><tbody><tr><td>1</td><td>1</td><td>&quot;Andrews, Miss. Kornelia Theodo…</td><td>&quot;female&quot;</td><td>63.0</td><td>1</td><td>0</td><td>&quot;13502&quot;</td><td>77.9583</td><td>&quot;D7&quot;</td><td>&quot;S&quot;</td><td>&quot;10&quot;</td><td>null</td><td>&quot;Hudson, NY&quot;</td></tr><tr><td>1</td><td>1</td><td>&quot;Appleton, Mrs. Edward Dale (Ch…</td><td>&quot;female&quot;</td><td>53.0</td><td>2</td><td>0</td><td>&quot;11769&quot;</td><td>51.4792</td><td>&quot;C101&quot;</td><td>&quot;S&quot;</td><td>&quot;D&quot;</td><td>null</td><td>&quot;Bayside, Queens, NY&quot;</td></tr><tr><td>1</td><td>1</td><td>&quot;Baxter, Mrs. James (Helene DeL…</td><td>&quot;female&quot;</td><td>50.0</td><td>0</td><td>1</td><td>&quot;PC 17558&quot;</td><td>247.5208</td><td>&quot;B58 B60&quot;</td><td>&quot;C&quot;</td><td>&quot;6&quot;</td><td>null</td><td>&quot;Montreal, PQ&quot;</td></tr><tr><td>1</td><td>1</td><td>&quot;Beckwith, Mrs. Richard Leonard…</td><td>&quot;female&quot;</td><td>47.0</td><td>1</td><td>1</td><td>&quot;11751&quot;</td><td>52.5542</td><td>&quot;D35&quot;</td><td>&quot;S&quot;</td><td>&quot;5&quot;</td><td>null</td><td>&quot;New York, NY&quot;</td></tr><tr><td>1</td><td>1</td><td>&quot;Bidois, Miss. Rosalie&quot;</td><td>&quot;female&quot;</td><td>42.0</td><td>0</td><td>0</td><td>&quot;PC 17757&quot;</td><td>227.525</td><td>null</td><td>&quot;C&quot;</td><td>&quot;4&quot;</td><td>null</td><td>null</td></tr><tr><td>&hellip;</td><td>&hellip;</td><td>&hellip;</td><td>&hellip;</td><td>&hellip;</td><td>&hellip;</td><td>&hellip;</td><td>&hellip;</td><td>&hellip;</td><td>&hellip;</td><td>&hellip;</td><td>&hellip;</td><td>&hellip;</td><td>&hellip;</td></tr><tr><td>3</td><td>0</td><td>&quot;Robins, Mrs. Alexander A (Grac…</td><td>&quot;female&quot;</td><td>47.0</td><td>1</td><td>0</td><td>&quot;A/5. 3337&quot;</td><td>14.5</td><td>null</td><td>&quot;S&quot;</td><td>null</td><td>7</td><td>null</td></tr><tr><td>3</td><td>0</td><td>&quot;Rosblom, Mrs. Viktor (Helena W…</td><td>&quot;female&quot;</td><td>41.0</td><td>0</td><td>2</td><td>&quot;370129&quot;</td><td>20.2125</td><td>null</td><td>&quot;S&quot;</td><td>null</td><td>null</td><td>null</td></tr><tr><td>3</td><td>0</td><td>&quot;Skoog, Mrs. William (Anna Bern…</td><td>&quot;female&quot;</td><td>45.0</td><td>1</td><td>4</td><td>&quot;347088&quot;</td><td>27.9</td><td>null</td><td>&quot;S&quot;</td><td>null</td><td>null</td><td>null</td></tr><tr><td>3</td><td>1</td><td>&quot;Turkula, Mrs. (Hedwig)&quot;</td><td>&quot;female&quot;</td><td>63.0</td><td>0</td><td>0</td><td>&quot;4134&quot;</td><td>9.5875</td><td>null</td><td>&quot;S&quot;</td><td>&quot;15&quot;</td><td>null</td><td>null</td></tr><tr><td>3</td><td>1</td><td>&quot;Wilkes, Mrs. James (Ellen Need…</td><td>&quot;female&quot;</td><td>47.0</td><td>1</td><td>0</td><td>&quot;363272&quot;</td><td>7.0</td><td>null</td><td>&quot;S&quot;</td><td>null</td><td>null</td><td>null</td></tr></tbody></table></div>"
      ],
      "text/plain": [
       "shape: (84, 14)\n",
       "┌────────┬──────────┬────────────────────┬────────┬───┬──────────┬──────┬──────┬───────────────────┐\n",
       "│ pclass ┆ survived ┆ name               ┆ sex    ┆ … ┆ embarked ┆ boat ┆ body ┆ home.dest         │\n",
       "│ ---    ┆ ---      ┆ ---                ┆ ---    ┆   ┆ ---      ┆ ---  ┆ ---  ┆ ---               │\n",
       "│ i64    ┆ i64      ┆ str                ┆ str    ┆   ┆ str      ┆ str  ┆ i64  ┆ str               │\n",
       "╞════════╪══════════╪════════════════════╪════════╪═══╪══════════╪══════╪══════╪═══════════════════╡\n",
       "│ 1      ┆ 1        ┆ Andrews, Miss.     ┆ female ┆ … ┆ S        ┆ 10   ┆ null ┆ Hudson, NY        │\n",
       "│        ┆          ┆ Kornelia Theodo…   ┆        ┆   ┆          ┆      ┆      ┆                   │\n",
       "│ 1      ┆ 1        ┆ Appleton, Mrs.     ┆ female ┆ … ┆ S        ┆ D    ┆ null ┆ Bayside, Queens,  │\n",
       "│        ┆          ┆ Edward Dale (Ch…   ┆        ┆   ┆          ┆      ┆      ┆ NY                │\n",
       "│ 1      ┆ 1        ┆ Baxter, Mrs. James ┆ female ┆ … ┆ C        ┆ 6    ┆ null ┆ Montreal, PQ      │\n",
       "│        ┆          ┆ (Helene DeL…       ┆        ┆   ┆          ┆      ┆      ┆                   │\n",
       "│ 1      ┆ 1        ┆ Beckwith, Mrs.     ┆ female ┆ … ┆ S        ┆ 5    ┆ null ┆ New York, NY      │\n",
       "│        ┆          ┆ Richard Leonard…   ┆        ┆   ┆          ┆      ┆      ┆                   │\n",
       "│ 1      ┆ 1        ┆ Bidois, Miss.      ┆ female ┆ … ┆ C        ┆ 4    ┆ null ┆ null              │\n",
       "│        ┆          ┆ Rosalie            ┆        ┆   ┆          ┆      ┆      ┆                   │\n",
       "│ …      ┆ …        ┆ …                  ┆ …      ┆ … ┆ …        ┆ …    ┆ …    ┆ …                 │\n",
       "│ 3      ┆ 0        ┆ Robins, Mrs.       ┆ female ┆ … ┆ S        ┆ null ┆ 7    ┆ null              │\n",
       "│        ┆          ┆ Alexander A (Grac… ┆        ┆   ┆          ┆      ┆      ┆                   │\n",
       "│ 3      ┆ 0        ┆ Rosblom, Mrs.      ┆ female ┆ … ┆ S        ┆ null ┆ null ┆ null              │\n",
       "│        ┆          ┆ Viktor (Helena W…  ┆        ┆   ┆          ┆      ┆      ┆                   │\n",
       "│ 3      ┆ 0        ┆ Skoog, Mrs.        ┆ female ┆ … ┆ S        ┆ null ┆ null ┆ null              │\n",
       "│        ┆          ┆ William (Anna      ┆        ┆   ┆          ┆      ┆      ┆                   │\n",
       "│        ┆          ┆ Bern…              ┆        ┆   ┆          ┆      ┆      ┆                   │\n",
       "│ 3      ┆ 1        ┆ Turkula, Mrs.      ┆ female ┆ … ┆ S        ┆ 15   ┆ null ┆ null              │\n",
       "│        ┆          ┆ (Hedwig)           ┆        ┆   ┆          ┆      ┆      ┆                   │\n",
       "│ 3      ┆ 1        ┆ Wilkes, Mrs. James ┆ female ┆ … ┆ S        ┆ null ┆ null ┆ null              │\n",
       "│        ┆          ┆ (Ellen Need…       ┆        ┆   ┆          ┆      ┆      ┆                   │\n",
       "└────────┴──────────┴────────────────────┴────────┴───┴──────────┴──────┴──────┴───────────────────┘"
      ]
     },
     "execution_count": 13,
     "metadata": {},
     "output_type": "execute_result"
    }
   ],
   "source": [
    "df.filter(\n",
    "    pl.col('sex').eq('female') & pl.col('age').ge(40)\n",
    ")"
   ]
  },
  {
   "cell_type": "code",
   "execution_count": 14,
   "id": "4b3751dd-d4f8-4b22-a34e-ac2e0bbb0139",
   "metadata": {},
   "outputs": [
    {
     "data": {
      "text/html": [
       "<div><style>\n",
       ".dataframe > thead > tr,\n",
       ".dataframe > tbody > tr {\n",
       "  text-align: right;\n",
       "  white-space: pre-wrap;\n",
       "}\n",
       "</style>\n",
       "<small>shape: (928, 14)</small><table border=\"1\" class=\"dataframe\"><thead><tr><th>pclass</th><th>survived</th><th>name</th><th>sex</th><th>age</th><th>sibsp</th><th>parch</th><th>ticket</th><th>fare</th><th>cabin</th><th>embarked</th><th>boat</th><th>body</th><th>home.dest</th></tr><tr><td>i64</td><td>i64</td><td>str</td><td>str</td><td>f64</td><td>i64</td><td>i64</td><td>str</td><td>f64</td><td>str</td><td>str</td><td>str</td><td>i64</td><td>str</td></tr></thead><tbody><tr><td>1</td><td>1</td><td>&quot;Allen, Miss. Elisabeth Walton&quot;</td><td>&quot;female&quot;</td><td>29.0</td><td>0</td><td>0</td><td>&quot;24160&quot;</td><td>211.3375</td><td>&quot;B5&quot;</td><td>&quot;S&quot;</td><td>&quot;2&quot;</td><td>null</td><td>&quot;St Louis, MO&quot;</td></tr><tr><td>1</td><td>1</td><td>&quot;Allison, Master. Hudson Trevor&quot;</td><td>&quot;male&quot;</td><td>0.92</td><td>1</td><td>2</td><td>&quot;113781&quot;</td><td>151.55</td><td>&quot;C22 C26&quot;</td><td>&quot;S&quot;</td><td>&quot;11&quot;</td><td>null</td><td>&quot;Montreal, PQ / Chesterville, O…</td></tr><tr><td>1</td><td>0</td><td>&quot;Allison, Miss. Helen Loraine&quot;</td><td>&quot;female&quot;</td><td>2.0</td><td>1</td><td>2</td><td>&quot;113781&quot;</td><td>151.55</td><td>&quot;C22 C26&quot;</td><td>&quot;S&quot;</td><td>null</td><td>null</td><td>&quot;Montreal, PQ / Chesterville, O…</td></tr><tr><td>1</td><td>0</td><td>&quot;Allison, Mr. Hudson Joshua Cre…</td><td>&quot;male&quot;</td><td>30.0</td><td>1</td><td>2</td><td>&quot;113781&quot;</td><td>151.55</td><td>&quot;C22 C26&quot;</td><td>&quot;S&quot;</td><td>null</td><td>135</td><td>&quot;Montreal, PQ / Chesterville, O…</td></tr><tr><td>1</td><td>0</td><td>&quot;Allison, Mrs. Hudson J C (Bess…</td><td>&quot;female&quot;</td><td>25.0</td><td>1</td><td>2</td><td>&quot;113781&quot;</td><td>151.55</td><td>&quot;C22 C26&quot;</td><td>&quot;S&quot;</td><td>null</td><td>null</td><td>&quot;Montreal, PQ / Chesterville, O…</td></tr><tr><td>&hellip;</td><td>&hellip;</td><td>&hellip;</td><td>&hellip;</td><td>&hellip;</td><td>&hellip;</td><td>&hellip;</td><td>&hellip;</td><td>&hellip;</td><td>&hellip;</td><td>&hellip;</td><td>&hellip;</td><td>&hellip;</td><td>&hellip;</td></tr><tr><td>3</td><td>0</td><td>&quot;Youseff, Mr. Gerious&quot;</td><td>&quot;male&quot;</td><td>45.5</td><td>0</td><td>0</td><td>&quot;2628&quot;</td><td>7.225</td><td>null</td><td>&quot;C&quot;</td><td>null</td><td>312</td><td>null</td></tr><tr><td>3</td><td>0</td><td>&quot;Zabour, Miss. Hileni&quot;</td><td>&quot;female&quot;</td><td>14.5</td><td>1</td><td>0</td><td>&quot;2665&quot;</td><td>14.4542</td><td>null</td><td>&quot;C&quot;</td><td>null</td><td>328</td><td>null</td></tr><tr><td>3</td><td>0</td><td>&quot;Zakarian, Mr. Mapriededer&quot;</td><td>&quot;male&quot;</td><td>26.5</td><td>0</td><td>0</td><td>&quot;2656&quot;</td><td>7.225</td><td>null</td><td>&quot;C&quot;</td><td>null</td><td>304</td><td>null</td></tr><tr><td>3</td><td>0</td><td>&quot;Zakarian, Mr. Ortin&quot;</td><td>&quot;male&quot;</td><td>27.0</td><td>0</td><td>0</td><td>&quot;2670&quot;</td><td>7.225</td><td>null</td><td>&quot;C&quot;</td><td>null</td><td>null</td><td>null</td></tr><tr><td>3</td><td>0</td><td>&quot;Zimmerman, Mr. Leo&quot;</td><td>&quot;male&quot;</td><td>29.0</td><td>0</td><td>0</td><td>&quot;315082&quot;</td><td>7.875</td><td>null</td><td>&quot;S&quot;</td><td>null</td><td>null</td><td>null</td></tr></tbody></table></div>"
      ],
      "text/plain": [
       "shape: (928, 14)\n",
       "┌────────┬──────────┬────────────────────┬────────┬───┬──────────┬──────┬──────┬───────────────────┐\n",
       "│ pclass ┆ survived ┆ name               ┆ sex    ┆ … ┆ embarked ┆ boat ┆ body ┆ home.dest         │\n",
       "│ ---    ┆ ---      ┆ ---                ┆ ---    ┆   ┆ ---      ┆ ---  ┆ ---  ┆ ---               │\n",
       "│ i64    ┆ i64      ┆ str                ┆ str    ┆   ┆ str      ┆ str  ┆ i64  ┆ str               │\n",
       "╞════════╪══════════╪════════════════════╪════════╪═══╪══════════╪══════╪══════╪═══════════════════╡\n",
       "│ 1      ┆ 1        ┆ Allen, Miss.       ┆ female ┆ … ┆ S        ┆ 2    ┆ null ┆ St Louis, MO      │\n",
       "│        ┆          ┆ Elisabeth Walton   ┆        ┆   ┆          ┆      ┆      ┆                   │\n",
       "│ 1      ┆ 1        ┆ Allison, Master.   ┆ male   ┆ … ┆ S        ┆ 11   ┆ null ┆ Montreal, PQ /    │\n",
       "│        ┆          ┆ Hudson Trevor      ┆        ┆   ┆          ┆      ┆      ┆ Chesterville, O…  │\n",
       "│ 1      ┆ 0        ┆ Allison, Miss.     ┆ female ┆ … ┆ S        ┆ null ┆ null ┆ Montreal, PQ /    │\n",
       "│        ┆          ┆ Helen Loraine      ┆        ┆   ┆          ┆      ┆      ┆ Chesterville, O…  │\n",
       "│ 1      ┆ 0        ┆ Allison, Mr.       ┆ male   ┆ … ┆ S        ┆ null ┆ 135  ┆ Montreal, PQ /    │\n",
       "│        ┆          ┆ Hudson Joshua Cre… ┆        ┆   ┆          ┆      ┆      ┆ Chesterville, O…  │\n",
       "│ 1      ┆ 0        ┆ Allison, Mrs.      ┆ female ┆ … ┆ S        ┆ null ┆ null ┆ Montreal, PQ /    │\n",
       "│        ┆          ┆ Hudson J C (Bess…  ┆        ┆   ┆          ┆      ┆      ┆ Chesterville, O…  │\n",
       "│ …      ┆ …        ┆ …                  ┆ …      ┆ … ┆ …        ┆ …    ┆ …    ┆ …                 │\n",
       "│ 3      ┆ 0        ┆ Youseff, Mr.       ┆ male   ┆ … ┆ C        ┆ null ┆ 312  ┆ null              │\n",
       "│        ┆          ┆ Gerious            ┆        ┆   ┆          ┆      ┆      ┆                   │\n",
       "│ 3      ┆ 0        ┆ Zabour, Miss.      ┆ female ┆ … ┆ C        ┆ null ┆ 328  ┆ null              │\n",
       "│        ┆          ┆ Hileni             ┆        ┆   ┆          ┆      ┆      ┆                   │\n",
       "│ 3      ┆ 0        ┆ Zakarian, Mr.      ┆ male   ┆ … ┆ C        ┆ null ┆ 304  ┆ null              │\n",
       "│        ┆          ┆ Mapriededer        ┆        ┆   ┆          ┆      ┆      ┆                   │\n",
       "│ 3      ┆ 0        ┆ Zakarian, Mr.      ┆ male   ┆ … ┆ C        ┆ null ┆ null ┆ null              │\n",
       "│        ┆          ┆ Ortin              ┆        ┆   ┆          ┆      ┆      ┆                   │\n",
       "│ 3      ┆ 0        ┆ Zimmerman, Mr. Leo ┆ male   ┆ … ┆ S        ┆ null ┆ null ┆ null              │\n",
       "└────────┴──────────┴────────────────────┴────────┴───┴──────────┴──────┴──────┴───────────────────┘"
      ]
     },
     "execution_count": 14,
     "metadata": {},
     "output_type": "execute_result"
    }
   ],
   "source": [
    "df.filter(\n",
    "    ~(\n",
    "        ((pl.col('age') >= 40) & (pl.col('age') < 45))\n",
    "        | (pl.col('embarked') == 'Q')\n",
    "    )\n",
    ")"
   ]
  },
  {
   "cell_type": "code",
   "execution_count": 15,
   "id": "00cabbcb-acd0-40f8-a69c-23e82143f19a",
   "metadata": {},
   "outputs": [
    {
     "data": {
      "text/plain": [
       "0"
      ]
     },
     "execution_count": 15,
     "metadata": {},
     "output_type": "execute_result"
    }
   ],
   "source": [
    "df.filter(\n",
    "    ~(\n",
    "        (pl.col('age').is_between(40, 45, closed='left'))\n",
    "        | (pl.col('embarked') == 'Q')\n",
    "    )\n",
    ").select(pl.col('age')).to_series().null_count()"
   ]
  },
  {
   "cell_type": "code",
   "execution_count": 16,
   "id": "84ec9d6e-42b5-45f3-be0e-ad9869168951",
   "metadata": {},
   "outputs": [
    {
     "data": {
      "text/html": [
       "<div><style>\n",
       ".dataframe > thead > tr,\n",
       ".dataframe > tbody > tr {\n",
       "  text-align: right;\n",
       "  white-space: pre-wrap;\n",
       "}\n",
       "</style>\n",
       "<small>shape: (295, 14)</small><table border=\"1\" class=\"dataframe\"><thead><tr><th>pclass</th><th>survived</th><th>name</th><th>sex</th><th>age</th><th>sibsp</th><th>parch</th><th>ticket</th><th>fare</th><th>cabin</th><th>embarked</th><th>boat</th><th>body</th><th>home.dest</th></tr><tr><td>i64</td><td>i64</td><td>str</td><td>str</td><td>f64</td><td>i64</td><td>i64</td><td>str</td><td>f64</td><td>str</td><td>str</td><td>str</td><td>i64</td><td>str</td></tr></thead><tbody><tr><td>1</td><td>1</td><td>&quot;Allen, Miss. Elisabeth Walton&quot;</td><td>&quot;female&quot;</td><td>29.0</td><td>0</td><td>0</td><td>&quot;24160&quot;</td><td>211.3375</td><td>&quot;B5&quot;</td><td>&quot;S&quot;</td><td>&quot;2&quot;</td><td>null</td><td>&quot;St Louis, MO&quot;</td></tr><tr><td>1</td><td>1</td><td>&quot;Allison, Master. Hudson Trevor&quot;</td><td>&quot;male&quot;</td><td>0.92</td><td>1</td><td>2</td><td>&quot;113781&quot;</td><td>151.55</td><td>&quot;C22 C26&quot;</td><td>&quot;S&quot;</td><td>&quot;11&quot;</td><td>null</td><td>&quot;Montreal, PQ / Chesterville, O…</td></tr><tr><td>1</td><td>0</td><td>&quot;Allison, Miss. Helen Loraine&quot;</td><td>&quot;female&quot;</td><td>2.0</td><td>1</td><td>2</td><td>&quot;113781&quot;</td><td>151.55</td><td>&quot;C22 C26&quot;</td><td>&quot;S&quot;</td><td>null</td><td>null</td><td>&quot;Montreal, PQ / Chesterville, O…</td></tr><tr><td>1</td><td>0</td><td>&quot;Allison, Mr. Hudson Joshua Cre…</td><td>&quot;male&quot;</td><td>30.0</td><td>1</td><td>2</td><td>&quot;113781&quot;</td><td>151.55</td><td>&quot;C22 C26&quot;</td><td>&quot;S&quot;</td><td>null</td><td>135</td><td>&quot;Montreal, PQ / Chesterville, O…</td></tr><tr><td>1</td><td>0</td><td>&quot;Allison, Mrs. Hudson J C (Bess…</td><td>&quot;female&quot;</td><td>25.0</td><td>1</td><td>2</td><td>&quot;113781&quot;</td><td>151.55</td><td>&quot;C22 C26&quot;</td><td>&quot;S&quot;</td><td>null</td><td>null</td><td>&quot;Montreal, PQ / Chesterville, O…</td></tr><tr><td>&hellip;</td><td>&hellip;</td><td>&hellip;</td><td>&hellip;</td><td>&hellip;</td><td>&hellip;</td><td>&hellip;</td><td>&hellip;</td><td>&hellip;</td><td>&hellip;</td><td>&hellip;</td><td>&hellip;</td><td>&hellip;</td><td>&hellip;</td></tr><tr><td>3</td><td>1</td><td>&quot;Sandstrom, Miss. Marguerite Ru…</td><td>&quot;female&quot;</td><td>4.0</td><td>1</td><td>1</td><td>&quot;PP 9549&quot;</td><td>16.7</td><td>&quot;G6&quot;</td><td>&quot;S&quot;</td><td>&quot;13&quot;</td><td>null</td><td>null</td></tr><tr><td>3</td><td>0</td><td>&quot;Soholt, Mr. Peter Andreas Laur…</td><td>&quot;male&quot;</td><td>19.0</td><td>0</td><td>0</td><td>&quot;348124&quot;</td><td>7.65</td><td>&quot;F G73&quot;</td><td>&quot;S&quot;</td><td>null</td><td>null</td><td>null</td></tr><tr><td>3</td><td>0</td><td>&quot;Strom, Miss. Telma Matilda&quot;</td><td>&quot;female&quot;</td><td>2.0</td><td>0</td><td>1</td><td>&quot;347054&quot;</td><td>10.4625</td><td>&quot;G6&quot;</td><td>&quot;S&quot;</td><td>null</td><td>null</td><td>null</td></tr><tr><td>3</td><td>0</td><td>&quot;Strom, Mrs. Wilhelm (Elna Mati…</td><td>&quot;female&quot;</td><td>29.0</td><td>1</td><td>1</td><td>&quot;347054&quot;</td><td>10.4625</td><td>&quot;G6&quot;</td><td>&quot;S&quot;</td><td>null</td><td>null</td><td>null</td></tr><tr><td>3</td><td>0</td><td>&quot;Tobin, Mr. Roger&quot;</td><td>&quot;male&quot;</td><td>null</td><td>0</td><td>0</td><td>&quot;383121&quot;</td><td>7.75</td><td>&quot;F38&quot;</td><td>&quot;Q&quot;</td><td>null</td><td>null</td><td>null</td></tr></tbody></table></div>"
      ],
      "text/plain": [
       "shape: (295, 14)\n",
       "┌────────┬──────────┬────────────────────┬────────┬───┬──────────┬──────┬──────┬───────────────────┐\n",
       "│ pclass ┆ survived ┆ name               ┆ sex    ┆ … ┆ embarked ┆ boat ┆ body ┆ home.dest         │\n",
       "│ ---    ┆ ---      ┆ ---                ┆ ---    ┆   ┆ ---      ┆ ---  ┆ ---  ┆ ---               │\n",
       "│ i64    ┆ i64      ┆ str                ┆ str    ┆   ┆ str      ┆ str  ┆ i64  ┆ str               │\n",
       "╞════════╪══════════╪════════════════════╪════════╪═══╪══════════╪══════╪══════╪═══════════════════╡\n",
       "│ 1      ┆ 1        ┆ Allen, Miss.       ┆ female ┆ … ┆ S        ┆ 2    ┆ null ┆ St Louis, MO      │\n",
       "│        ┆          ┆ Elisabeth Walton   ┆        ┆   ┆          ┆      ┆      ┆                   │\n",
       "│ 1      ┆ 1        ┆ Allison, Master.   ┆ male   ┆ … ┆ S        ┆ 11   ┆ null ┆ Montreal, PQ /    │\n",
       "│        ┆          ┆ Hudson Trevor      ┆        ┆   ┆          ┆      ┆      ┆ Chesterville, O…  │\n",
       "│ 1      ┆ 0        ┆ Allison, Miss.     ┆ female ┆ … ┆ S        ┆ null ┆ null ┆ Montreal, PQ /    │\n",
       "│        ┆          ┆ Helen Loraine      ┆        ┆   ┆          ┆      ┆      ┆ Chesterville, O…  │\n",
       "│ 1      ┆ 0        ┆ Allison, Mr.       ┆ male   ┆ … ┆ S        ┆ null ┆ 135  ┆ Montreal, PQ /    │\n",
       "│        ┆          ┆ Hudson Joshua Cre… ┆        ┆   ┆          ┆      ┆      ┆ Chesterville, O…  │\n",
       "│ 1      ┆ 0        ┆ Allison, Mrs.      ┆ female ┆ … ┆ S        ┆ null ┆ null ┆ Montreal, PQ /    │\n",
       "│        ┆          ┆ Hudson J C (Bess…  ┆        ┆   ┆          ┆      ┆      ┆ Chesterville, O…  │\n",
       "│ …      ┆ …        ┆ …                  ┆ …      ┆ … ┆ …        ┆ …    ┆ …    ┆ …                 │\n",
       "│ 3      ┆ 1        ┆ Sandstrom, Miss.   ┆ female ┆ … ┆ S        ┆ 13   ┆ null ┆ null              │\n",
       "│        ┆          ┆ Marguerite Ru…     ┆        ┆   ┆          ┆      ┆      ┆                   │\n",
       "│ 3      ┆ 0        ┆ Soholt, Mr. Peter  ┆ male   ┆ … ┆ S        ┆ null ┆ null ┆ null              │\n",
       "│        ┆          ┆ Andreas Laur…      ┆        ┆   ┆          ┆      ┆      ┆                   │\n",
       "│ 3      ┆ 0        ┆ Strom, Miss. Telma ┆ female ┆ … ┆ S        ┆ null ┆ null ┆ null              │\n",
       "│        ┆          ┆ Matilda            ┆        ┆   ┆          ┆      ┆      ┆                   │\n",
       "│ 3      ┆ 0        ┆ Strom, Mrs.        ┆ female ┆ … ┆ S        ┆ null ┆ null ┆ null              │\n",
       "│        ┆          ┆ Wilhelm (Elna      ┆        ┆   ┆          ┆      ┆      ┆                   │\n",
       "│        ┆          ┆ Mati…              ┆        ┆   ┆          ┆      ┆      ┆                   │\n",
       "│ 3      ┆ 0        ┆ Tobin, Mr. Roger   ┆ male   ┆ … ┆ Q        ┆ null ┆ null ┆ null              │\n",
       "└────────┴──────────┴────────────────────┴────────┴───┴──────────┴──────┴──────┴───────────────────┘"
      ]
     },
     "execution_count": 16,
     "metadata": {},
     "output_type": "execute_result"
    }
   ],
   "source": [
    "df.filter(\n",
    "    ~pl.col('cabin').is_null()\n",
    ")"
   ]
  },
  {
   "cell_type": "code",
   "execution_count": 17,
   "id": "65f8f7a6-66aa-4a76-ad93-37a3df8479fb",
   "metadata": {},
   "outputs": [
    {
     "data": {
      "text/html": [
       "<div><style>\n",
       ".dataframe > thead > tr,\n",
       ".dataframe > tbody > tr {\n",
       "  text-align: right;\n",
       "  white-space: pre-wrap;\n",
       "}\n",
       "</style>\n",
       "<small>shape: (295, 14)</small><table border=\"1\" class=\"dataframe\"><thead><tr><th>pclass</th><th>survived</th><th>name</th><th>sex</th><th>age</th><th>sibsp</th><th>parch</th><th>ticket</th><th>fare</th><th>cabin</th><th>embarked</th><th>boat</th><th>body</th><th>home.dest</th></tr><tr><td>i64</td><td>i64</td><td>str</td><td>str</td><td>f64</td><td>i64</td><td>i64</td><td>str</td><td>f64</td><td>str</td><td>str</td><td>str</td><td>i64</td><td>str</td></tr></thead><tbody><tr><td>1</td><td>1</td><td>&quot;Allen, Miss. Elisabeth Walton&quot;</td><td>&quot;female&quot;</td><td>29.0</td><td>0</td><td>0</td><td>&quot;24160&quot;</td><td>211.3375</td><td>&quot;B5&quot;</td><td>&quot;S&quot;</td><td>&quot;2&quot;</td><td>null</td><td>&quot;St Louis, MO&quot;</td></tr><tr><td>1</td><td>1</td><td>&quot;Allison, Master. Hudson Trevor&quot;</td><td>&quot;male&quot;</td><td>0.92</td><td>1</td><td>2</td><td>&quot;113781&quot;</td><td>151.55</td><td>&quot;C22 C26&quot;</td><td>&quot;S&quot;</td><td>&quot;11&quot;</td><td>null</td><td>&quot;Montreal, PQ / Chesterville, O…</td></tr><tr><td>1</td><td>0</td><td>&quot;Allison, Miss. Helen Loraine&quot;</td><td>&quot;female&quot;</td><td>2.0</td><td>1</td><td>2</td><td>&quot;113781&quot;</td><td>151.55</td><td>&quot;C22 C26&quot;</td><td>&quot;S&quot;</td><td>null</td><td>null</td><td>&quot;Montreal, PQ / Chesterville, O…</td></tr><tr><td>1</td><td>0</td><td>&quot;Allison, Mr. Hudson Joshua Cre…</td><td>&quot;male&quot;</td><td>30.0</td><td>1</td><td>2</td><td>&quot;113781&quot;</td><td>151.55</td><td>&quot;C22 C26&quot;</td><td>&quot;S&quot;</td><td>null</td><td>135</td><td>&quot;Montreal, PQ / Chesterville, O…</td></tr><tr><td>1</td><td>0</td><td>&quot;Allison, Mrs. Hudson J C (Bess…</td><td>&quot;female&quot;</td><td>25.0</td><td>1</td><td>2</td><td>&quot;113781&quot;</td><td>151.55</td><td>&quot;C22 C26&quot;</td><td>&quot;S&quot;</td><td>null</td><td>null</td><td>&quot;Montreal, PQ / Chesterville, O…</td></tr><tr><td>&hellip;</td><td>&hellip;</td><td>&hellip;</td><td>&hellip;</td><td>&hellip;</td><td>&hellip;</td><td>&hellip;</td><td>&hellip;</td><td>&hellip;</td><td>&hellip;</td><td>&hellip;</td><td>&hellip;</td><td>&hellip;</td><td>&hellip;</td></tr><tr><td>3</td><td>1</td><td>&quot;Sandstrom, Miss. Marguerite Ru…</td><td>&quot;female&quot;</td><td>4.0</td><td>1</td><td>1</td><td>&quot;PP 9549&quot;</td><td>16.7</td><td>&quot;G6&quot;</td><td>&quot;S&quot;</td><td>&quot;13&quot;</td><td>null</td><td>null</td></tr><tr><td>3</td><td>0</td><td>&quot;Soholt, Mr. Peter Andreas Laur…</td><td>&quot;male&quot;</td><td>19.0</td><td>0</td><td>0</td><td>&quot;348124&quot;</td><td>7.65</td><td>&quot;F G73&quot;</td><td>&quot;S&quot;</td><td>null</td><td>null</td><td>null</td></tr><tr><td>3</td><td>0</td><td>&quot;Strom, Miss. Telma Matilda&quot;</td><td>&quot;female&quot;</td><td>2.0</td><td>0</td><td>1</td><td>&quot;347054&quot;</td><td>10.4625</td><td>&quot;G6&quot;</td><td>&quot;S&quot;</td><td>null</td><td>null</td><td>null</td></tr><tr><td>3</td><td>0</td><td>&quot;Strom, Mrs. Wilhelm (Elna Mati…</td><td>&quot;female&quot;</td><td>29.0</td><td>1</td><td>1</td><td>&quot;347054&quot;</td><td>10.4625</td><td>&quot;G6&quot;</td><td>&quot;S&quot;</td><td>null</td><td>null</td><td>null</td></tr><tr><td>3</td><td>0</td><td>&quot;Tobin, Mr. Roger&quot;</td><td>&quot;male&quot;</td><td>null</td><td>0</td><td>0</td><td>&quot;383121&quot;</td><td>7.75</td><td>&quot;F38&quot;</td><td>&quot;Q&quot;</td><td>null</td><td>null</td><td>null</td></tr></tbody></table></div>"
      ],
      "text/plain": [
       "shape: (295, 14)\n",
       "┌────────┬──────────┬────────────────────┬────────┬───┬──────────┬──────┬──────┬───────────────────┐\n",
       "│ pclass ┆ survived ┆ name               ┆ sex    ┆ … ┆ embarked ┆ boat ┆ body ┆ home.dest         │\n",
       "│ ---    ┆ ---      ┆ ---                ┆ ---    ┆   ┆ ---      ┆ ---  ┆ ---  ┆ ---               │\n",
       "│ i64    ┆ i64      ┆ str                ┆ str    ┆   ┆ str      ┆ str  ┆ i64  ┆ str               │\n",
       "╞════════╪══════════╪════════════════════╪════════╪═══╪══════════╪══════╪══════╪═══════════════════╡\n",
       "│ 1      ┆ 1        ┆ Allen, Miss.       ┆ female ┆ … ┆ S        ┆ 2    ┆ null ┆ St Louis, MO      │\n",
       "│        ┆          ┆ Elisabeth Walton   ┆        ┆   ┆          ┆      ┆      ┆                   │\n",
       "│ 1      ┆ 1        ┆ Allison, Master.   ┆ male   ┆ … ┆ S        ┆ 11   ┆ null ┆ Montreal, PQ /    │\n",
       "│        ┆          ┆ Hudson Trevor      ┆        ┆   ┆          ┆      ┆      ┆ Chesterville, O…  │\n",
       "│ 1      ┆ 0        ┆ Allison, Miss.     ┆ female ┆ … ┆ S        ┆ null ┆ null ┆ Montreal, PQ /    │\n",
       "│        ┆          ┆ Helen Loraine      ┆        ┆   ┆          ┆      ┆      ┆ Chesterville, O…  │\n",
       "│ 1      ┆ 0        ┆ Allison, Mr.       ┆ male   ┆ … ┆ S        ┆ null ┆ 135  ┆ Montreal, PQ /    │\n",
       "│        ┆          ┆ Hudson Joshua Cre… ┆        ┆   ┆          ┆      ┆      ┆ Chesterville, O…  │\n",
       "│ 1      ┆ 0        ┆ Allison, Mrs.      ┆ female ┆ … ┆ S        ┆ null ┆ null ┆ Montreal, PQ /    │\n",
       "│        ┆          ┆ Hudson J C (Bess…  ┆        ┆   ┆          ┆      ┆      ┆ Chesterville, O…  │\n",
       "│ …      ┆ …        ┆ …                  ┆ …      ┆ … ┆ …        ┆ …    ┆ …    ┆ …                 │\n",
       "│ 3      ┆ 1        ┆ Sandstrom, Miss.   ┆ female ┆ … ┆ S        ┆ 13   ┆ null ┆ null              │\n",
       "│        ┆          ┆ Marguerite Ru…     ┆        ┆   ┆          ┆      ┆      ┆                   │\n",
       "│ 3      ┆ 0        ┆ Soholt, Mr. Peter  ┆ male   ┆ … ┆ S        ┆ null ┆ null ┆ null              │\n",
       "│        ┆          ┆ Andreas Laur…      ┆        ┆   ┆          ┆      ┆      ┆                   │\n",
       "│ 3      ┆ 0        ┆ Strom, Miss. Telma ┆ female ┆ … ┆ S        ┆ null ┆ null ┆ null              │\n",
       "│        ┆          ┆ Matilda            ┆        ┆   ┆          ┆      ┆      ┆                   │\n",
       "│ 3      ┆ 0        ┆ Strom, Mrs.        ┆ female ┆ … ┆ S        ┆ null ┆ null ┆ null              │\n",
       "│        ┆          ┆ Wilhelm (Elna      ┆        ┆   ┆          ┆      ┆      ┆                   │\n",
       "│        ┆          ┆ Mati…              ┆        ┆   ┆          ┆      ┆      ┆                   │\n",
       "│ 3      ┆ 0        ┆ Tobin, Mr. Roger   ┆ male   ┆ … ┆ Q        ┆ null ┆ null ┆ null              │\n",
       "└────────┴──────────┴────────────────────┴────────┴───┴──────────┴──────┴──────┴───────────────────┘"
      ]
     },
     "execution_count": 17,
     "metadata": {},
     "output_type": "execute_result"
    }
   ],
   "source": [
    "df.filter(\n",
    "    pl.col('cabin').is_not_null()\n",
    ")"
   ]
  },
  {
   "cell_type": "code",
   "execution_count": 18,
   "id": "12d07267-140c-4b13-8796-fad9ea7e59b8",
   "metadata": {},
   "outputs": [
    {
     "data": {
      "text/html": [
       "<div><style>\n",
       ".dataframe > thead > tr,\n",
       ".dataframe > tbody > tr {\n",
       "  text-align: right;\n",
       "  white-space: pre-wrap;\n",
       "}\n",
       "</style>\n",
       "<small>shape: (1_309, 13)</small><table border=\"1\" class=\"dataframe\"><thead><tr><th>pclass</th><th>survived</th><th>name</th><th>sex</th><th>age</th><th>sibsp</th><th>parch</th><th>ticket</th><th>fare</th><th>cabin</th><th>embarked</th><th>boat</th><th>home.dest</th></tr><tr><td>i64</td><td>i64</td><td>str</td><td>str</td><td>f64</td><td>i64</td><td>i64</td><td>str</td><td>f64</td><td>str</td><td>str</td><td>str</td><td>str</td></tr></thead><tbody><tr><td>1</td><td>1</td><td>&quot;Allen, Miss. Elisabeth Walton&quot;</td><td>&quot;female&quot;</td><td>29.0</td><td>0</td><td>0</td><td>&quot;24160&quot;</td><td>211.3375</td><td>&quot;B5&quot;</td><td>&quot;S&quot;</td><td>&quot;2&quot;</td><td>&quot;St Louis, MO&quot;</td></tr><tr><td>1</td><td>1</td><td>&quot;Allison, Master. Hudson Trevor&quot;</td><td>&quot;male&quot;</td><td>0.92</td><td>1</td><td>2</td><td>&quot;113781&quot;</td><td>151.55</td><td>&quot;C22 C26&quot;</td><td>&quot;S&quot;</td><td>&quot;11&quot;</td><td>&quot;Montreal, PQ / Chesterville, O…</td></tr><tr><td>1</td><td>0</td><td>&quot;Allison, Miss. Helen Loraine&quot;</td><td>&quot;female&quot;</td><td>2.0</td><td>1</td><td>2</td><td>&quot;113781&quot;</td><td>151.55</td><td>&quot;C22 C26&quot;</td><td>&quot;S&quot;</td><td>null</td><td>&quot;Montreal, PQ / Chesterville, O…</td></tr><tr><td>1</td><td>0</td><td>&quot;Allison, Mr. Hudson Joshua Cre…</td><td>&quot;male&quot;</td><td>30.0</td><td>1</td><td>2</td><td>&quot;113781&quot;</td><td>151.55</td><td>&quot;C22 C26&quot;</td><td>&quot;S&quot;</td><td>null</td><td>&quot;Montreal, PQ / Chesterville, O…</td></tr><tr><td>1</td><td>0</td><td>&quot;Allison, Mrs. Hudson J C (Bess…</td><td>&quot;female&quot;</td><td>25.0</td><td>1</td><td>2</td><td>&quot;113781&quot;</td><td>151.55</td><td>&quot;C22 C26&quot;</td><td>&quot;S&quot;</td><td>null</td><td>&quot;Montreal, PQ / Chesterville, O…</td></tr><tr><td>&hellip;</td><td>&hellip;</td><td>&hellip;</td><td>&hellip;</td><td>&hellip;</td><td>&hellip;</td><td>&hellip;</td><td>&hellip;</td><td>&hellip;</td><td>&hellip;</td><td>&hellip;</td><td>&hellip;</td><td>&hellip;</td></tr><tr><td>3</td><td>0</td><td>&quot;Zabour, Miss. Hileni&quot;</td><td>&quot;female&quot;</td><td>14.5</td><td>1</td><td>0</td><td>&quot;2665&quot;</td><td>14.4542</td><td>null</td><td>&quot;C&quot;</td><td>null</td><td>null</td></tr><tr><td>3</td><td>0</td><td>&quot;Zabour, Miss. Thamine&quot;</td><td>&quot;female&quot;</td><td>null</td><td>1</td><td>0</td><td>&quot;2665&quot;</td><td>14.4542</td><td>null</td><td>&quot;C&quot;</td><td>null</td><td>null</td></tr><tr><td>3</td><td>0</td><td>&quot;Zakarian, Mr. Mapriededer&quot;</td><td>&quot;male&quot;</td><td>26.5</td><td>0</td><td>0</td><td>&quot;2656&quot;</td><td>7.225</td><td>null</td><td>&quot;C&quot;</td><td>null</td><td>null</td></tr><tr><td>3</td><td>0</td><td>&quot;Zakarian, Mr. Ortin&quot;</td><td>&quot;male&quot;</td><td>27.0</td><td>0</td><td>0</td><td>&quot;2670&quot;</td><td>7.225</td><td>null</td><td>&quot;C&quot;</td><td>null</td><td>null</td></tr><tr><td>3</td><td>0</td><td>&quot;Zimmerman, Mr. Leo&quot;</td><td>&quot;male&quot;</td><td>29.0</td><td>0</td><td>0</td><td>&quot;315082&quot;</td><td>7.875</td><td>null</td><td>&quot;S&quot;</td><td>null</td><td>null</td></tr></tbody></table></div>"
      ],
      "text/plain": [
       "shape: (1_309, 13)\n",
       "┌────────┬──────────┬──────────────────┬────────┬───┬─────────┬──────────┬──────┬──────────────────┐\n",
       "│ pclass ┆ survived ┆ name             ┆ sex    ┆ … ┆ cabin   ┆ embarked ┆ boat ┆ home.dest        │\n",
       "│ ---    ┆ ---      ┆ ---              ┆ ---    ┆   ┆ ---     ┆ ---      ┆ ---  ┆ ---              │\n",
       "│ i64    ┆ i64      ┆ str              ┆ str    ┆   ┆ str     ┆ str      ┆ str  ┆ str              │\n",
       "╞════════╪══════════╪══════════════════╪════════╪═══╪═════════╪══════════╪══════╪══════════════════╡\n",
       "│ 1      ┆ 1        ┆ Allen, Miss.     ┆ female ┆ … ┆ B5      ┆ S        ┆ 2    ┆ St Louis, MO     │\n",
       "│        ┆          ┆ Elisabeth Walton ┆        ┆   ┆         ┆          ┆      ┆                  │\n",
       "│ 1      ┆ 1        ┆ Allison, Master. ┆ male   ┆ … ┆ C22 C26 ┆ S        ┆ 11   ┆ Montreal, PQ /   │\n",
       "│        ┆          ┆ Hudson Trevor    ┆        ┆   ┆         ┆          ┆      ┆ Chesterville, O… │\n",
       "│ 1      ┆ 0        ┆ Allison, Miss.   ┆ female ┆ … ┆ C22 C26 ┆ S        ┆ null ┆ Montreal, PQ /   │\n",
       "│        ┆          ┆ Helen Loraine    ┆        ┆   ┆         ┆          ┆      ┆ Chesterville, O… │\n",
       "│ 1      ┆ 0        ┆ Allison, Mr.     ┆ male   ┆ … ┆ C22 C26 ┆ S        ┆ null ┆ Montreal, PQ /   │\n",
       "│        ┆          ┆ Hudson Joshua    ┆        ┆   ┆         ┆          ┆      ┆ Chesterville, O… │\n",
       "│        ┆          ┆ Cre…             ┆        ┆   ┆         ┆          ┆      ┆                  │\n",
       "│ 1      ┆ 0        ┆ Allison, Mrs.    ┆ female ┆ … ┆ C22 C26 ┆ S        ┆ null ┆ Montreal, PQ /   │\n",
       "│        ┆          ┆ Hudson J C       ┆        ┆   ┆         ┆          ┆      ┆ Chesterville, O… │\n",
       "│        ┆          ┆ (Bess…           ┆        ┆   ┆         ┆          ┆      ┆                  │\n",
       "│ …      ┆ …        ┆ …                ┆ …      ┆ … ┆ …       ┆ …        ┆ …    ┆ …                │\n",
       "│ 3      ┆ 0        ┆ Zabour, Miss.    ┆ female ┆ … ┆ null    ┆ C        ┆ null ┆ null             │\n",
       "│        ┆          ┆ Hileni           ┆        ┆   ┆         ┆          ┆      ┆                  │\n",
       "│ 3      ┆ 0        ┆ Zabour, Miss.    ┆ female ┆ … ┆ null    ┆ C        ┆ null ┆ null             │\n",
       "│        ┆          ┆ Thamine          ┆        ┆   ┆         ┆          ┆      ┆                  │\n",
       "│ 3      ┆ 0        ┆ Zakarian, Mr.    ┆ male   ┆ … ┆ null    ┆ C        ┆ null ┆ null             │\n",
       "│        ┆          ┆ Mapriededer      ┆        ┆   ┆         ┆          ┆      ┆                  │\n",
       "│ 3      ┆ 0        ┆ Zakarian, Mr.    ┆ male   ┆ … ┆ null    ┆ C        ┆ null ┆ null             │\n",
       "│        ┆          ┆ Ortin            ┆        ┆   ┆         ┆          ┆      ┆                  │\n",
       "│ 3      ┆ 0        ┆ Zimmerman, Mr.   ┆ male   ┆ … ┆ null    ┆ S        ┆ null ┆ null             │\n",
       "│        ┆          ┆ Leo              ┆        ┆   ┆         ┆          ┆      ┆                  │\n",
       "└────────┴──────────┴──────────────────┴────────┴───┴─────────┴──────────┴──────┴──────────────────┘"
      ]
     },
     "execution_count": 18,
     "metadata": {},
     "output_type": "execute_result"
    }
   ],
   "source": [
    "df.select(\n",
    "    pl.all().exclude('body')\n",
    ")"
   ]
  },
  {
   "cell_type": "code",
   "execution_count": 19,
   "id": "4eac5cda-3051-4f28-8d86-630a0b2099ba",
   "metadata": {},
   "outputs": [
    {
     "data": {
      "text/html": [
       "<div><style>\n",
       ".dataframe > thead > tr,\n",
       ".dataframe > tbody > tr {\n",
       "  text-align: right;\n",
       "  white-space: pre-wrap;\n",
       "}\n",
       "</style>\n",
       "<small>shape: (159, 13)</small><table border=\"1\" class=\"dataframe\"><thead><tr><th>pclass</th><th>survived</th><th>name</th><th>sex</th><th>age</th><th>sibsp</th><th>parch</th><th>ticket</th><th>fare</th><th>cabin</th><th>embarked</th><th>boat</th><th>home.dest</th></tr><tr><td>i64</td><td>i64</td><td>str</td><td>str</td><td>f64</td><td>i64</td><td>i64</td><td>str</td><td>f64</td><td>str</td><td>str</td><td>str</td><td>str</td></tr></thead><tbody><tr><td>1</td><td>1</td><td>&quot;Allen, Miss. Elisabeth Walton&quot;</td><td>&quot;female&quot;</td><td>29.0</td><td>0</td><td>0</td><td>&quot;24160&quot;</td><td>211.3375</td><td>&quot;B5&quot;</td><td>&quot;S&quot;</td><td>&quot;2&quot;</td><td>&quot;St Louis, MO&quot;</td></tr><tr><td>1</td><td>1</td><td>&quot;Allison, Master. Hudson Trevor&quot;</td><td>&quot;male&quot;</td><td>0.92</td><td>1</td><td>2</td><td>&quot;113781&quot;</td><td>151.55</td><td>&quot;C22 C26&quot;</td><td>&quot;S&quot;</td><td>&quot;11&quot;</td><td>&quot;Montreal, PQ / Chesterville, O…</td></tr><tr><td>1</td><td>1</td><td>&quot;Anderson, Mr. Harry&quot;</td><td>&quot;male&quot;</td><td>48.0</td><td>0</td><td>0</td><td>&quot;19952&quot;</td><td>26.55</td><td>&quot;E12&quot;</td><td>&quot;S&quot;</td><td>&quot;3&quot;</td><td>&quot;New York, NY&quot;</td></tr><tr><td>1</td><td>1</td><td>&quot;Andrews, Miss. Kornelia Theodo…</td><td>&quot;female&quot;</td><td>63.0</td><td>1</td><td>0</td><td>&quot;13502&quot;</td><td>77.9583</td><td>&quot;D7&quot;</td><td>&quot;S&quot;</td><td>&quot;10&quot;</td><td>&quot;Hudson, NY&quot;</td></tr><tr><td>1</td><td>1</td><td>&quot;Appleton, Mrs. Edward Dale (Ch…</td><td>&quot;female&quot;</td><td>53.0</td><td>2</td><td>0</td><td>&quot;11769&quot;</td><td>51.4792</td><td>&quot;C101&quot;</td><td>&quot;S&quot;</td><td>&quot;D&quot;</td><td>&quot;Bayside, Queens, NY&quot;</td></tr><tr><td>&hellip;</td><td>&hellip;</td><td>&hellip;</td><td>&hellip;</td><td>&hellip;</td><td>&hellip;</td><td>&hellip;</td><td>&hellip;</td><td>&hellip;</td><td>&hellip;</td><td>&hellip;</td><td>&hellip;</td><td>&hellip;</td></tr><tr><td>2</td><td>1</td><td>&quot;Nourney, Mr. Alfred (&quot;Baron vo…</td><td>&quot;male&quot;</td><td>20.0</td><td>0</td><td>0</td><td>&quot;SC/PARIS 2166&quot;</td><td>13.8625</td><td>&quot;D38&quot;</td><td>&quot;C&quot;</td><td>&quot;7&quot;</td><td>&quot;Cologne, Germany&quot;</td></tr><tr><td>2</td><td>1</td><td>&quot;Nye, Mrs. (Elizabeth Ramell)&quot;</td><td>&quot;female&quot;</td><td>29.0</td><td>0</td><td>0</td><td>&quot;C.A. 29395&quot;</td><td>10.5</td><td>&quot;F33&quot;</td><td>&quot;S&quot;</td><td>&quot;11&quot;</td><td>&quot;Folkstone, Kent / New York, NY&quot;</td></tr><tr><td>2</td><td>1</td><td>&quot;Troutt, Miss. Edwina Celia &quot;Wi…</td><td>&quot;female&quot;</td><td>27.0</td><td>0</td><td>0</td><td>&quot;34218&quot;</td><td>10.5</td><td>&quot;E101&quot;</td><td>&quot;S&quot;</td><td>&quot;16&quot;</td><td>&quot;Bath, England / Massachusetts&quot;</td></tr><tr><td>2</td><td>1</td><td>&quot;Webber, Miss. Susan&quot;</td><td>&quot;female&quot;</td><td>32.5</td><td>0</td><td>0</td><td>&quot;27267&quot;</td><td>13.0</td><td>&quot;E101&quot;</td><td>&quot;S&quot;</td><td>&quot;12&quot;</td><td>&quot;England / Hartford, CT&quot;</td></tr><tr><td>3</td><td>1</td><td>&quot;Abelseth, Mr. Olaus Jorgensen&quot;</td><td>&quot;male&quot;</td><td>25.0</td><td>0</td><td>0</td><td>&quot;348122&quot;</td><td>7.65</td><td>&quot;F G63&quot;</td><td>&quot;S&quot;</td><td>&quot;A&quot;</td><td>&quot;Perkins County, SD&quot;</td></tr></tbody></table></div>"
      ],
      "text/plain": [
       "shape: (159, 13)\n",
       "┌────────┬──────────┬──────────────────┬────────┬───┬─────────┬──────────┬──────┬──────────────────┐\n",
       "│ pclass ┆ survived ┆ name             ┆ sex    ┆ … ┆ cabin   ┆ embarked ┆ boat ┆ home.dest        │\n",
       "│ ---    ┆ ---      ┆ ---              ┆ ---    ┆   ┆ ---     ┆ ---      ┆ ---  ┆ ---              │\n",
       "│ i64    ┆ i64      ┆ str              ┆ str    ┆   ┆ str     ┆ str      ┆ str  ┆ str              │\n",
       "╞════════╪══════════╪══════════════════╪════════╪═══╪═════════╪══════════╪══════╪══════════════════╡\n",
       "│ 1      ┆ 1        ┆ Allen, Miss.     ┆ female ┆ … ┆ B5      ┆ S        ┆ 2    ┆ St Louis, MO     │\n",
       "│        ┆          ┆ Elisabeth Walton ┆        ┆   ┆         ┆          ┆      ┆                  │\n",
       "│ 1      ┆ 1        ┆ Allison, Master. ┆ male   ┆ … ┆ C22 C26 ┆ S        ┆ 11   ┆ Montreal, PQ /   │\n",
       "│        ┆          ┆ Hudson Trevor    ┆        ┆   ┆         ┆          ┆      ┆ Chesterville, O… │\n",
       "│ 1      ┆ 1        ┆ Anderson, Mr.    ┆ male   ┆ … ┆ E12     ┆ S        ┆ 3    ┆ New York, NY     │\n",
       "│        ┆          ┆ Harry            ┆        ┆   ┆         ┆          ┆      ┆                  │\n",
       "│ 1      ┆ 1        ┆ Andrews, Miss.   ┆ female ┆ … ┆ D7      ┆ S        ┆ 10   ┆ Hudson, NY       │\n",
       "│        ┆          ┆ Kornelia Theodo… ┆        ┆   ┆         ┆          ┆      ┆                  │\n",
       "│ 1      ┆ 1        ┆ Appleton, Mrs.   ┆ female ┆ … ┆ C101    ┆ S        ┆ D    ┆ Bayside, Queens, │\n",
       "│        ┆          ┆ Edward Dale (Ch… ┆        ┆   ┆         ┆          ┆      ┆ NY               │\n",
       "│ …      ┆ …        ┆ …                ┆ …      ┆ … ┆ …       ┆ …        ┆ …    ┆ …                │\n",
       "│ 2      ┆ 1        ┆ Nourney, Mr.     ┆ male   ┆ … ┆ D38     ┆ C        ┆ 7    ┆ Cologne, Germany │\n",
       "│        ┆          ┆ Alfred (\"Baron   ┆        ┆   ┆         ┆          ┆      ┆                  │\n",
       "│        ┆          ┆ vo…              ┆        ┆   ┆         ┆          ┆      ┆                  │\n",
       "│ 2      ┆ 1        ┆ Nye, Mrs.        ┆ female ┆ … ┆ F33     ┆ S        ┆ 11   ┆ Folkstone, Kent  │\n",
       "│        ┆          ┆ (Elizabeth       ┆        ┆   ┆         ┆          ┆      ┆ / New York, NY   │\n",
       "│        ┆          ┆ Ramell)          ┆        ┆   ┆         ┆          ┆      ┆                  │\n",
       "│ 2      ┆ 1        ┆ Troutt, Miss.    ┆ female ┆ … ┆ E101    ┆ S        ┆ 16   ┆ Bath, England /  │\n",
       "│        ┆          ┆ Edwina Celia     ┆        ┆   ┆         ┆          ┆      ┆ Massachusetts    │\n",
       "│        ┆          ┆ \"Wi…             ┆        ┆   ┆         ┆          ┆      ┆                  │\n",
       "│ 2      ┆ 1        ┆ Webber, Miss.    ┆ female ┆ … ┆ E101    ┆ S        ┆ 12   ┆ England /        │\n",
       "│        ┆          ┆ Susan            ┆        ┆   ┆         ┆          ┆      ┆ Hartford, CT     │\n",
       "│ 3      ┆ 1        ┆ Abelseth, Mr.    ┆ male   ┆ … ┆ F G63   ┆ S        ┆ A    ┆ Perkins County,  │\n",
       "│        ┆          ┆ Olaus Jorgensen  ┆        ┆   ┆         ┆          ┆      ┆ SD               │\n",
       "└────────┴──────────┴──────────────────┴────────┴───┴─────────┴──────────┴──────┴──────────────────┘"
      ]
     },
     "execution_count": 19,
     "metadata": {},
     "output_type": "execute_result"
    }
   ],
   "source": [
    "df.select(\n",
    "    pl.all().exclude('body')\n",
    ").drop_nulls()"
   ]
  },
  {
   "cell_type": "code",
   "execution_count": 20,
   "id": "93a05b09-4575-4ff5-b56b-fe80f28e3982",
   "metadata": {},
   "outputs": [
    {
     "data": {
      "text/html": [
       "<div><style>\n",
       ".dataframe > thead > tr,\n",
       ".dataframe > tbody > tr {\n",
       "  text-align: right;\n",
       "  white-space: pre-wrap;\n",
       "}\n",
       "</style>\n",
       "<small>shape: (1_309, 14)</small><table border=\"1\" class=\"dataframe\"><thead><tr><th>pclass</th><th>survived</th><th>name</th><th>sex</th><th>age</th><th>sibsp</th><th>parch</th><th>ticket</th><th>fare</th><th>cabin</th><th>embarked</th><th>boat</th><th>body</th><th>home.dest</th></tr><tr><td>i64</td><td>i64</td><td>str</td><td>str</td><td>f64</td><td>i64</td><td>i64</td><td>str</td><td>f64</td><td>str</td><td>str</td><td>str</td><td>i64</td><td>str</td></tr></thead><tbody><tr><td>1</td><td>1</td><td>&quot;Allen, Miss. Elisabeth Walton&quot;</td><td>&quot;female&quot;</td><td>29.0</td><td>0</td><td>0</td><td>&quot;24160&quot;</td><td>211.3375</td><td>&quot;B5&quot;</td><td>&quot;S&quot;</td><td>&quot;2&quot;</td><td>null</td><td>&quot;St Louis, MO&quot;</td></tr><tr><td>1</td><td>1</td><td>&quot;Allison, Master. Hudson Trevor&quot;</td><td>&quot;male&quot;</td><td>0.92</td><td>1</td><td>2</td><td>&quot;113781&quot;</td><td>151.55</td><td>&quot;C22 C26&quot;</td><td>&quot;S&quot;</td><td>&quot;11&quot;</td><td>null</td><td>&quot;Montreal, PQ / Chesterville, O…</td></tr><tr><td>1</td><td>0</td><td>&quot;Allison, Miss. Helen Loraine&quot;</td><td>&quot;female&quot;</td><td>2.0</td><td>1</td><td>2</td><td>&quot;113781&quot;</td><td>151.55</td><td>&quot;C22 C26&quot;</td><td>&quot;S&quot;</td><td>null</td><td>null</td><td>&quot;Montreal, PQ / Chesterville, O…</td></tr><tr><td>1</td><td>0</td><td>&quot;Allison, Mr. Hudson Joshua Cre…</td><td>&quot;male&quot;</td><td>30.0</td><td>1</td><td>2</td><td>&quot;113781&quot;</td><td>151.55</td><td>&quot;C22 C26&quot;</td><td>&quot;S&quot;</td><td>null</td><td>135</td><td>&quot;Montreal, PQ / Chesterville, O…</td></tr><tr><td>1</td><td>0</td><td>&quot;Allison, Mrs. Hudson J C (Bess…</td><td>&quot;female&quot;</td><td>25.0</td><td>1</td><td>2</td><td>&quot;113781&quot;</td><td>151.55</td><td>&quot;C22 C26&quot;</td><td>&quot;S&quot;</td><td>null</td><td>null</td><td>&quot;Montreal, PQ / Chesterville, O…</td></tr><tr><td>&hellip;</td><td>&hellip;</td><td>&hellip;</td><td>&hellip;</td><td>&hellip;</td><td>&hellip;</td><td>&hellip;</td><td>&hellip;</td><td>&hellip;</td><td>&hellip;</td><td>&hellip;</td><td>&hellip;</td><td>&hellip;</td><td>&hellip;</td></tr><tr><td>3</td><td>0</td><td>&quot;Zabour, Miss. Hileni&quot;</td><td>&quot;female&quot;</td><td>14.5</td><td>1</td><td>0</td><td>&quot;2665&quot;</td><td>14.4542</td><td>null</td><td>&quot;C&quot;</td><td>null</td><td>328</td><td>null</td></tr><tr><td>3</td><td>0</td><td>&quot;Zabour, Miss. Thamine&quot;</td><td>&quot;female&quot;</td><td>null</td><td>1</td><td>0</td><td>&quot;2665&quot;</td><td>14.4542</td><td>null</td><td>&quot;C&quot;</td><td>null</td><td>null</td><td>null</td></tr><tr><td>3</td><td>0</td><td>&quot;Zakarian, Mr. Mapriededer&quot;</td><td>&quot;male&quot;</td><td>26.5</td><td>0</td><td>0</td><td>&quot;2656&quot;</td><td>7.225</td><td>null</td><td>&quot;C&quot;</td><td>null</td><td>304</td><td>null</td></tr><tr><td>3</td><td>0</td><td>&quot;Zakarian, Mr. Ortin&quot;</td><td>&quot;male&quot;</td><td>27.0</td><td>0</td><td>0</td><td>&quot;2670&quot;</td><td>7.225</td><td>null</td><td>&quot;C&quot;</td><td>null</td><td>null</td><td>null</td></tr><tr><td>3</td><td>0</td><td>&quot;Zimmerman, Mr. Leo&quot;</td><td>&quot;male&quot;</td><td>29.0</td><td>0</td><td>0</td><td>&quot;315082&quot;</td><td>7.875</td><td>null</td><td>&quot;S&quot;</td><td>null</td><td>null</td><td>null</td></tr></tbody></table></div>"
      ],
      "text/plain": [
       "shape: (1_309, 14)\n",
       "┌────────┬──────────┬────────────────────┬────────┬───┬──────────┬──────┬──────┬───────────────────┐\n",
       "│ pclass ┆ survived ┆ name               ┆ sex    ┆ … ┆ embarked ┆ boat ┆ body ┆ home.dest         │\n",
       "│ ---    ┆ ---      ┆ ---                ┆ ---    ┆   ┆ ---      ┆ ---  ┆ ---  ┆ ---               │\n",
       "│ i64    ┆ i64      ┆ str                ┆ str    ┆   ┆ str      ┆ str  ┆ i64  ┆ str               │\n",
       "╞════════╪══════════╪════════════════════╪════════╪═══╪══════════╪══════╪══════╪═══════════════════╡\n",
       "│ 1      ┆ 1        ┆ Allen, Miss.       ┆ female ┆ … ┆ S        ┆ 2    ┆ null ┆ St Louis, MO      │\n",
       "│        ┆          ┆ Elisabeth Walton   ┆        ┆   ┆          ┆      ┆      ┆                   │\n",
       "│ 1      ┆ 1        ┆ Allison, Master.   ┆ male   ┆ … ┆ S        ┆ 11   ┆ null ┆ Montreal, PQ /    │\n",
       "│        ┆          ┆ Hudson Trevor      ┆        ┆   ┆          ┆      ┆      ┆ Chesterville, O…  │\n",
       "│ 1      ┆ 0        ┆ Allison, Miss.     ┆ female ┆ … ┆ S        ┆ null ┆ null ┆ Montreal, PQ /    │\n",
       "│        ┆          ┆ Helen Loraine      ┆        ┆   ┆          ┆      ┆      ┆ Chesterville, O…  │\n",
       "│ 1      ┆ 0        ┆ Allison, Mr.       ┆ male   ┆ … ┆ S        ┆ null ┆ 135  ┆ Montreal, PQ /    │\n",
       "│        ┆          ┆ Hudson Joshua Cre… ┆        ┆   ┆          ┆      ┆      ┆ Chesterville, O…  │\n",
       "│ 1      ┆ 0        ┆ Allison, Mrs.      ┆ female ┆ … ┆ S        ┆ null ┆ null ┆ Montreal, PQ /    │\n",
       "│        ┆          ┆ Hudson J C (Bess…  ┆        ┆   ┆          ┆      ┆      ┆ Chesterville, O…  │\n",
       "│ …      ┆ …        ┆ …                  ┆ …      ┆ … ┆ …        ┆ …    ┆ …    ┆ …                 │\n",
       "│ 3      ┆ 0        ┆ Zabour, Miss.      ┆ female ┆ … ┆ C        ┆ null ┆ 328  ┆ null              │\n",
       "│        ┆          ┆ Hileni             ┆        ┆   ┆          ┆      ┆      ┆                   │\n",
       "│ 3      ┆ 0        ┆ Zabour, Miss.      ┆ female ┆ … ┆ C        ┆ null ┆ null ┆ null              │\n",
       "│        ┆          ┆ Thamine            ┆        ┆   ┆          ┆      ┆      ┆                   │\n",
       "│ 3      ┆ 0        ┆ Zakarian, Mr.      ┆ male   ┆ … ┆ C        ┆ null ┆ 304  ┆ null              │\n",
       "│        ┆          ┆ Mapriededer        ┆        ┆   ┆          ┆      ┆      ┆                   │\n",
       "│ 3      ┆ 0        ┆ Zakarian, Mr.      ┆ male   ┆ … ┆ C        ┆ null ┆ null ┆ null              │\n",
       "│        ┆          ┆ Ortin              ┆        ┆   ┆          ┆      ┆      ┆                   │\n",
       "│ 3      ┆ 0        ┆ Zimmerman, Mr. Leo ┆ male   ┆ … ┆ S        ┆ null ┆ null ┆ null              │\n",
       "└────────┴──────────┴────────────────────┴────────┴───┴──────────┴──────┴──────┴───────────────────┘"
      ]
     },
     "execution_count": 20,
     "metadata": {},
     "output_type": "execute_result"
    }
   ],
   "source": [
    "df.filter(\n",
    "    ~pl.all_horizontal(pl.all().is_null())\n",
    ")"
   ]
  },
  {
   "cell_type": "code",
   "execution_count": 21,
   "id": "1d37488d-9812-4856-a404-8e3780b8a8ba",
   "metadata": {},
   "outputs": [
    {
     "data": {
      "text/html": [
       "<div><style>\n",
       ".dataframe > thead > tr,\n",
       ".dataframe > tbody > tr {\n",
       "  text-align: right;\n",
       "  white-space: pre-wrap;\n",
       "}\n",
       "</style>\n",
       "<small>shape: (28, 2)</small><table border=\"1\" class=\"dataframe\"><thead><tr><th>boat</th><th>count</th></tr><tr><td>str</td><td>u32</td></tr></thead><tbody><tr><td>null</td><td>823</td></tr><tr><td>&quot;13&quot;</td><td>39</td></tr><tr><td>&quot;C&quot;</td><td>38</td></tr><tr><td>&quot;15&quot;</td><td>37</td></tr><tr><td>&quot;14&quot;</td><td>33</td></tr><tr><td>&hellip;</td><td>&hellip;</td></tr><tr><td>&quot;13 15&quot;</td><td>2</td></tr><tr><td>&quot;5 9&quot;</td><td>1</td></tr><tr><td>&quot;8 10&quot;</td><td>1</td></tr><tr><td>&quot;13 15 B&quot;</td><td>1</td></tr><tr><td>&quot;15 16&quot;</td><td>1</td></tr></tbody></table></div>"
      ],
      "text/plain": [
       "shape: (28, 2)\n",
       "┌─────────┬───────┐\n",
       "│ boat    ┆ count │\n",
       "│ ---     ┆ ---   │\n",
       "│ str     ┆ u32   │\n",
       "╞═════════╪═══════╡\n",
       "│ null    ┆ 823   │\n",
       "│ 13      ┆ 39    │\n",
       "│ C       ┆ 38    │\n",
       "│ 15      ┆ 37    │\n",
       "│ 14      ┆ 33    │\n",
       "│ …       ┆ …     │\n",
       "│ 13 15   ┆ 2     │\n",
       "│ 5 9     ┆ 1     │\n",
       "│ 8 10    ┆ 1     │\n",
       "│ 13 15 B ┆ 1     │\n",
       "│ 15 16   ┆ 1     │\n",
       "└─────────┴───────┘"
      ]
     },
     "execution_count": 21,
     "metadata": {},
     "output_type": "execute_result"
    }
   ],
   "source": [
    "df.select(pl.col('boat')).to_series().value_counts(sort=True, )"
   ]
  },
  {
   "cell_type": "code",
   "execution_count": 22,
   "id": "61a68552-ee4f-4121-9fef-85b10965becb",
   "metadata": {},
   "outputs": [
    {
     "data": {
      "text/html": [
       "<div><style>\n",
       ".dataframe > thead > tr,\n",
       ".dataframe > tbody > tr {\n",
       "  text-align: right;\n",
       "  white-space: pre-wrap;\n",
       "}\n",
       "</style>\n",
       "<small>shape: (95, 14)</small><table border=\"1\" class=\"dataframe\"><thead><tr><th>pclass</th><th>survived</th><th>name</th><th>sex</th><th>age</th><th>sibsp</th><th>parch</th><th>ticket</th><th>fare</th><th>cabin</th><th>embarked</th><th>boat</th><th>body</th><th>home.dest</th></tr><tr><td>i64</td><td>i64</td><td>str</td><td>str</td><td>f64</td><td>i64</td><td>i64</td><td>str</td><td>f64</td><td>str</td><td>str</td><td>str</td><td>i64</td><td>str</td></tr></thead><tbody><tr><td>1</td><td>1</td><td>&quot;Anderson, Mr. Harry&quot;</td><td>&quot;male&quot;</td><td>48.0</td><td>0</td><td>0</td><td>&quot;19952&quot;</td><td>26.55</td><td>&quot;E12&quot;</td><td>&quot;S&quot;</td><td>&quot;3&quot;</td><td>null</td><td>&quot;New York, NY&quot;</td></tr><tr><td>1</td><td>1</td><td>&quot;Barber, Miss. Ellen &quot;Nellie&quot;&quot;</td><td>&quot;female&quot;</td><td>26.0</td><td>0</td><td>0</td><td>&quot;19877&quot;</td><td>78.85</td><td>null</td><td>&quot;S&quot;</td><td>&quot;6&quot;</td><td>null</td><td>null</td></tr><tr><td>1</td><td>1</td><td>&quot;Baxter, Mrs. James (Helene DeL…</td><td>&quot;female&quot;</td><td>50.0</td><td>0</td><td>1</td><td>&quot;PC 17558&quot;</td><td>247.5208</td><td>&quot;B58 B60&quot;</td><td>&quot;C&quot;</td><td>&quot;6&quot;</td><td>null</td><td>&quot;Montreal, PQ&quot;</td></tr><tr><td>1</td><td>0</td><td>&quot;Beattie, Mr. Thomson&quot;</td><td>&quot;male&quot;</td><td>36.0</td><td>0</td><td>0</td><td>&quot;13050&quot;</td><td>75.2417</td><td>&quot;C6&quot;</td><td>&quot;C&quot;</td><td>&quot;A&quot;</td><td>null</td><td>&quot;Winnipeg, MN&quot;</td></tr><tr><td>1</td><td>1</td><td>&quot;Bowerman, Miss. Elsie Edith&quot;</td><td>&quot;female&quot;</td><td>22.0</td><td>0</td><td>1</td><td>&quot;113505&quot;</td><td>55.0</td><td>&quot;E33&quot;</td><td>&quot;S&quot;</td><td>&quot;6&quot;</td><td>null</td><td>&quot;St Leonards-on-Sea, England Oh…</td></tr><tr><td>&hellip;</td><td>&hellip;</td><td>&hellip;</td><td>&hellip;</td><td>&hellip;</td><td>&hellip;</td><td>&hellip;</td><td>&hellip;</td><td>&hellip;</td><td>&hellip;</td><td>&hellip;</td><td>&hellip;</td><td>&hellip;</td><td>&hellip;</td></tr><tr><td>3</td><td>1</td><td>&quot;Touma, Master. Georges Youssef&quot;</td><td>&quot;male&quot;</td><td>7.0</td><td>1</td><td>1</td><td>&quot;2650&quot;</td><td>15.2458</td><td>null</td><td>&quot;C&quot;</td><td>&quot;C&quot;</td><td>null</td><td>null</td></tr><tr><td>3</td><td>1</td><td>&quot;Touma, Miss. Maria Youssef&quot;</td><td>&quot;female&quot;</td><td>9.0</td><td>1</td><td>1</td><td>&quot;2650&quot;</td><td>15.2458</td><td>null</td><td>&quot;C&quot;</td><td>&quot;C&quot;</td><td>null</td><td>null</td></tr><tr><td>3</td><td>1</td><td>&quot;Touma, Mrs. Darwis (Hanne Yous…</td><td>&quot;female&quot;</td><td>29.0</td><td>0</td><td>2</td><td>&quot;2650&quot;</td><td>15.2458</td><td>null</td><td>&quot;C&quot;</td><td>&quot;C&quot;</td><td>null</td><td>null</td></tr><tr><td>3</td><td>1</td><td>&quot;Whabee, Mrs. George Joseph (Sh…</td><td>&quot;female&quot;</td><td>38.0</td><td>0</td><td>0</td><td>&quot;2688&quot;</td><td>7.2292</td><td>null</td><td>&quot;C&quot;</td><td>&quot;C&quot;</td><td>null</td><td>null</td></tr><tr><td>3</td><td>0</td><td>&quot;Yasbeck, Mr. Antoni&quot;</td><td>&quot;male&quot;</td><td>27.0</td><td>1</td><td>0</td><td>&quot;2659&quot;</td><td>14.4542</td><td>null</td><td>&quot;C&quot;</td><td>&quot;C&quot;</td><td>null</td><td>null</td></tr></tbody></table></div>"
      ],
      "text/plain": [
       "shape: (95, 14)\n",
       "┌────────┬──────────┬────────────────────┬────────┬───┬──────────┬──────┬──────┬───────────────────┐\n",
       "│ pclass ┆ survived ┆ name               ┆ sex    ┆ … ┆ embarked ┆ boat ┆ body ┆ home.dest         │\n",
       "│ ---    ┆ ---      ┆ ---                ┆ ---    ┆   ┆ ---      ┆ ---  ┆ ---  ┆ ---               │\n",
       "│ i64    ┆ i64      ┆ str                ┆ str    ┆   ┆ str      ┆ str  ┆ i64  ┆ str               │\n",
       "╞════════╪══════════╪════════════════════╪════════╪═══╪══════════╪══════╪══════╪═══════════════════╡\n",
       "│ 1      ┆ 1        ┆ Anderson, Mr.      ┆ male   ┆ … ┆ S        ┆ 3    ┆ null ┆ New York, NY      │\n",
       "│        ┆          ┆ Harry              ┆        ┆   ┆          ┆      ┆      ┆                   │\n",
       "│ 1      ┆ 1        ┆ Barber, Miss.      ┆ female ┆ … ┆ S        ┆ 6    ┆ null ┆ null              │\n",
       "│        ┆          ┆ Ellen \"Nellie\"     ┆        ┆   ┆          ┆      ┆      ┆                   │\n",
       "│ 1      ┆ 1        ┆ Baxter, Mrs. James ┆ female ┆ … ┆ C        ┆ 6    ┆ null ┆ Montreal, PQ      │\n",
       "│        ┆          ┆ (Helene DeL…       ┆        ┆   ┆          ┆      ┆      ┆                   │\n",
       "│ 1      ┆ 0        ┆ Beattie, Mr.       ┆ male   ┆ … ┆ C        ┆ A    ┆ null ┆ Winnipeg, MN      │\n",
       "│        ┆          ┆ Thomson            ┆        ┆   ┆          ┆      ┆      ┆                   │\n",
       "│ 1      ┆ 1        ┆ Bowerman, Miss.    ┆ female ┆ … ┆ S        ┆ 6    ┆ null ┆ St                │\n",
       "│        ┆          ┆ Elsie Edith        ┆        ┆   ┆          ┆      ┆      ┆ Leonards-on-Sea,  │\n",
       "│        ┆          ┆                    ┆        ┆   ┆          ┆      ┆      ┆ England Oh…       │\n",
       "│ …      ┆ …        ┆ …                  ┆ …      ┆ … ┆ …        ┆ …    ┆ …    ┆ …                 │\n",
       "│ 3      ┆ 1        ┆ Touma, Master.     ┆ male   ┆ … ┆ C        ┆ C    ┆ null ┆ null              │\n",
       "│        ┆          ┆ Georges Youssef    ┆        ┆   ┆          ┆      ┆      ┆                   │\n",
       "│ 3      ┆ 1        ┆ Touma, Miss. Maria ┆ female ┆ … ┆ C        ┆ C    ┆ null ┆ null              │\n",
       "│        ┆          ┆ Youssef            ┆        ┆   ┆          ┆      ┆      ┆                   │\n",
       "│ 3      ┆ 1        ┆ Touma, Mrs. Darwis ┆ female ┆ … ┆ C        ┆ C    ┆ null ┆ null              │\n",
       "│        ┆          ┆ (Hanne Yous…       ┆        ┆   ┆          ┆      ┆      ┆                   │\n",
       "│ 3      ┆ 1        ┆ Whabee, Mrs.       ┆ female ┆ … ┆ C        ┆ C    ┆ null ┆ null              │\n",
       "│        ┆          ┆ George Joseph (Sh… ┆        ┆   ┆          ┆      ┆      ┆                   │\n",
       "│ 3      ┆ 0        ┆ Yasbeck, Mr.       ┆ male   ┆ … ┆ C        ┆ C    ┆ null ┆ null              │\n",
       "│        ┆          ┆ Antoni             ┆        ┆   ┆          ┆      ┆      ┆                   │\n",
       "└────────┴──────────┴────────────────────┴────────┴───┴──────────┴──────┴──────┴───────────────────┘"
      ]
     },
     "execution_count": 22,
     "metadata": {},
     "output_type": "execute_result"
    }
   ],
   "source": [
    "df.filter(\n",
    "    pl.col('boat').is_in(['A', 'C', '3', '6'])\n",
    ")"
   ]
  },
  {
   "cell_type": "code",
   "execution_count": 23,
   "id": "1b43b2e8-a718-4f29-b38c-ac2f2fb76a7b",
   "metadata": {},
   "outputs": [
    {
     "data": {
      "text/html": [
       "<div><style>\n",
       ".dataframe > thead > tr,\n",
       ".dataframe > tbody > tr {\n",
       "  text-align: right;\n",
       "  white-space: pre-wrap;\n",
       "}\n",
       "</style>\n",
       "<small>shape: (8, 14)</small><table border=\"1\" class=\"dataframe\"><thead><tr><th>pclass</th><th>survived</th><th>name</th><th>sex</th><th>age</th><th>sibsp</th><th>parch</th><th>ticket</th><th>fare</th><th>cabin</th><th>embarked</th><th>boat</th><th>body</th><th>home.dest</th></tr><tr><td>i64</td><td>i64</td><td>str</td><td>str</td><td>f64</td><td>i64</td><td>i64</td><td>str</td><td>f64</td><td>str</td><td>str</td><td>str</td><td>i64</td><td>str</td></tr></thead><tbody><tr><td>1</td><td>0</td><td>&quot;Brewe, Dr. Arthur Jackson&quot;</td><td>&quot;male&quot;</td><td>null</td><td>0</td><td>0</td><td>&quot;112379&quot;</td><td>39.6</td><td>null</td><td>&quot;C&quot;</td><td>null</td><td>null</td><td>&quot;Philadelphia, PA&quot;</td></tr><tr><td>1</td><td>1</td><td>&quot;Dodge, Dr. Washington&quot;</td><td>&quot;male&quot;</td><td>53.0</td><td>1</td><td>1</td><td>&quot;33638&quot;</td><td>81.8583</td><td>&quot;A34&quot;</td><td>&quot;S&quot;</td><td>&quot;13&quot;</td><td>null</td><td>&quot;San Francisco, CA&quot;</td></tr><tr><td>1</td><td>1</td><td>&quot;Frauenthal, Dr. Henry William&quot;</td><td>&quot;male&quot;</td><td>50.0</td><td>2</td><td>0</td><td>&quot;PC 17611&quot;</td><td>133.65</td><td>null</td><td>&quot;S&quot;</td><td>&quot;5&quot;</td><td>null</td><td>&quot;New York, NY&quot;</td></tr><tr><td>1</td><td>1</td><td>&quot;Leader, Dr. Alice (Farnham)&quot;</td><td>&quot;female&quot;</td><td>49.0</td><td>0</td><td>0</td><td>&quot;17465&quot;</td><td>25.9292</td><td>&quot;D17&quot;</td><td>&quot;S&quot;</td><td>&quot;8&quot;</td><td>null</td><td>&quot;New York, NY&quot;</td></tr><tr><td>1</td><td>0</td><td>&quot;Minahan, Dr. William Edward&quot;</td><td>&quot;male&quot;</td><td>44.0</td><td>2</td><td>0</td><td>&quot;19928&quot;</td><td>90.0</td><td>&quot;C78&quot;</td><td>&quot;Q&quot;</td><td>null</td><td>230</td><td>&quot;Fond du Lac, WI&quot;</td></tr><tr><td>1</td><td>1</td><td>&quot;Stahelin-Maeglin, Dr. Max&quot;</td><td>&quot;male&quot;</td><td>32.0</td><td>0</td><td>0</td><td>&quot;13214&quot;</td><td>30.5</td><td>&quot;B50&quot;</td><td>&quot;C&quot;</td><td>&quot;3&quot;</td><td>null</td><td>&quot;Basel, Switzerland&quot;</td></tr><tr><td>2</td><td>0</td><td>&quot;Moraweck, Dr. Ernest&quot;</td><td>&quot;male&quot;</td><td>54.0</td><td>0</td><td>0</td><td>&quot;29011&quot;</td><td>14.0</td><td>null</td><td>&quot;S&quot;</td><td>null</td><td>null</td><td>&quot;Frankfort, KY&quot;</td></tr><tr><td>2</td><td>0</td><td>&quot;Pain, Dr. Alfred&quot;</td><td>&quot;male&quot;</td><td>23.0</td><td>0</td><td>0</td><td>&quot;244278&quot;</td><td>10.5</td><td>null</td><td>&quot;S&quot;</td><td>null</td><td>null</td><td>&quot;Hamilton, ON&quot;</td></tr></tbody></table></div>"
      ],
      "text/plain": [
       "shape: (8, 14)\n",
       "┌────────┬──────────┬────────────────────┬────────┬───┬──────────┬──────┬──────┬───────────────────┐\n",
       "│ pclass ┆ survived ┆ name               ┆ sex    ┆ … ┆ embarked ┆ boat ┆ body ┆ home.dest         │\n",
       "│ ---    ┆ ---      ┆ ---                ┆ ---    ┆   ┆ ---      ┆ ---  ┆ ---  ┆ ---               │\n",
       "│ i64    ┆ i64      ┆ str                ┆ str    ┆   ┆ str      ┆ str  ┆ i64  ┆ str               │\n",
       "╞════════╪══════════╪════════════════════╪════════╪═══╪══════════╪══════╪══════╪═══════════════════╡\n",
       "│ 1      ┆ 0        ┆ Brewe, Dr. Arthur  ┆ male   ┆ … ┆ C        ┆ null ┆ null ┆ Philadelphia, PA  │\n",
       "│        ┆          ┆ Jackson            ┆        ┆   ┆          ┆      ┆      ┆                   │\n",
       "│ 1      ┆ 1        ┆ Dodge, Dr.         ┆ male   ┆ … ┆ S        ┆ 13   ┆ null ┆ San Francisco, CA │\n",
       "│        ┆          ┆ Washington         ┆        ┆   ┆          ┆      ┆      ┆                   │\n",
       "│ 1      ┆ 1        ┆ Frauenthal, Dr.    ┆ male   ┆ … ┆ S        ┆ 5    ┆ null ┆ New York, NY      │\n",
       "│        ┆          ┆ Henry William      ┆        ┆   ┆          ┆      ┆      ┆                   │\n",
       "│ 1      ┆ 1        ┆ Leader, Dr. Alice  ┆ female ┆ … ┆ S        ┆ 8    ┆ null ┆ New York, NY      │\n",
       "│        ┆          ┆ (Farnham)          ┆        ┆   ┆          ┆      ┆      ┆                   │\n",
       "│ 1      ┆ 0        ┆ Minahan, Dr.       ┆ male   ┆ … ┆ Q        ┆ null ┆ 230  ┆ Fond du Lac, WI   │\n",
       "│        ┆          ┆ William Edward     ┆        ┆   ┆          ┆      ┆      ┆                   │\n",
       "│ 1      ┆ 1        ┆ Stahelin-Maeglin,  ┆ male   ┆ … ┆ C        ┆ 3    ┆ null ┆ Basel,            │\n",
       "│        ┆          ┆ Dr. Max            ┆        ┆   ┆          ┆      ┆      ┆ Switzerland       │\n",
       "│ 2      ┆ 0        ┆ Moraweck, Dr.      ┆ male   ┆ … ┆ S        ┆ null ┆ null ┆ Frankfort, KY     │\n",
       "│        ┆          ┆ Ernest             ┆        ┆   ┆          ┆      ┆      ┆                   │\n",
       "│ 2      ┆ 0        ┆ Pain, Dr. Alfred   ┆ male   ┆ … ┆ S        ┆ null ┆ null ┆ Hamilton, ON      │\n",
       "└────────┴──────────┴────────────────────┴────────┴───┴──────────┴──────┴──────┴───────────────────┘"
      ]
     },
     "execution_count": 23,
     "metadata": {},
     "output_type": "execute_result"
    }
   ],
   "source": [
    "df.filter(\n",
    "    pl.col('name').str.contains(', Dr')\n",
    ")"
   ]
  },
  {
   "cell_type": "code",
   "execution_count": 24,
   "id": "9798f43a-c6b4-4d21-892a-59ce95d1a241",
   "metadata": {},
   "outputs": [
    {
     "data": {
      "text/html": [
       "<div><style>\n",
       ".dataframe > thead > tr,\n",
       ".dataframe > tbody > tr {\n",
       "  text-align: right;\n",
       "  white-space: pre-wrap;\n",
       "}\n",
       "</style>\n",
       "<small>shape: (100, 14)</small><table border=\"1\" class=\"dataframe\"><thead><tr><th>pclass</th><th>survived</th><th>name</th><th>sex</th><th>age</th><th>sibsp</th><th>parch</th><th>ticket</th><th>fare</th><th>cabin</th><th>embarked</th><th>boat</th><th>body</th><th>home.dest</th></tr><tr><td>i64</td><td>i64</td><td>str</td><td>str</td><td>f64</td><td>i64</td><td>i64</td><td>str</td><td>f64</td><td>str</td><td>str</td><td>str</td><td>i64</td><td>str</td></tr></thead><tbody><tr><td>3</td><td>0</td><td>&quot;Larsson, Mr. Bengt Edvin&quot;</td><td>&quot;male&quot;</td><td>29.0</td><td>0</td><td>0</td><td>&quot;347067&quot;</td><td>7.775</td><td>null</td><td>&quot;S&quot;</td><td>null</td><td>null</td><td>null</td></tr><tr><td>1</td><td>1</td><td>&quot;Davidson, Mrs. Thornton (Orian…</td><td>&quot;female&quot;</td><td>27.0</td><td>1</td><td>2</td><td>&quot;F.C. 12750&quot;</td><td>52.0</td><td>&quot;B71&quot;</td><td>&quot;S&quot;</td><td>&quot;3&quot;</td><td>null</td><td>&quot;Montreal, PQ&quot;</td></tr><tr><td>3</td><td>1</td><td>&quot;McDermott, Miss. Brigdet Delia&quot;</td><td>&quot;female&quot;</td><td>null</td><td>0</td><td>0</td><td>&quot;330932&quot;</td><td>7.7875</td><td>null</td><td>&quot;Q&quot;</td><td>&quot;13&quot;</td><td>null</td><td>null</td></tr><tr><td>1</td><td>0</td><td>&quot;Taussig, Mr. Emil&quot;</td><td>&quot;male&quot;</td><td>52.0</td><td>1</td><td>1</td><td>&quot;110413&quot;</td><td>79.65</td><td>&quot;E67&quot;</td><td>&quot;S&quot;</td><td>null</td><td>null</td><td>&quot;New York, NY&quot;</td></tr><tr><td>3</td><td>1</td><td>&quot;Johannesen-Bratthammer, Mr. Be…</td><td>&quot;male&quot;</td><td>null</td><td>0</td><td>0</td><td>&quot;65306&quot;</td><td>8.1125</td><td>null</td><td>&quot;S&quot;</td><td>&quot;13&quot;</td><td>null</td><td>null</td></tr><tr><td>&hellip;</td><td>&hellip;</td><td>&hellip;</td><td>&hellip;</td><td>&hellip;</td><td>&hellip;</td><td>&hellip;</td><td>&hellip;</td><td>&hellip;</td><td>&hellip;</td><td>&hellip;</td><td>&hellip;</td><td>&hellip;</td><td>&hellip;</td></tr><tr><td>3</td><td>0</td><td>&quot;Khalil, Mrs. Betros (Zahie &quot;Ma…</td><td>&quot;female&quot;</td><td>null</td><td>1</td><td>0</td><td>&quot;2660&quot;</td><td>14.4542</td><td>null</td><td>&quot;C&quot;</td><td>null</td><td>null</td><td>null</td></tr><tr><td>3</td><td>0</td><td>&quot;Andersson, Mr. Anders Johan&quot;</td><td>&quot;male&quot;</td><td>39.0</td><td>1</td><td>5</td><td>&quot;347082&quot;</td><td>31.275</td><td>null</td><td>&quot;S&quot;</td><td>null</td><td>null</td><td>&quot;Sweden Winnipeg, MN&quot;</td></tr><tr><td>3</td><td>0</td><td>&quot;Mahon, Mr. John&quot;</td><td>&quot;male&quot;</td><td>null</td><td>0</td><td>0</td><td>&quot;AQ/4 3130&quot;</td><td>7.75</td><td>null</td><td>&quot;Q&quot;</td><td>null</td><td>null</td><td>null</td></tr><tr><td>1</td><td>1</td><td>&quot;Duff Gordon, Sir. Cosmo Edmund…</td><td>&quot;male&quot;</td><td>49.0</td><td>1</td><td>0</td><td>&quot;PC 17485&quot;</td><td>56.9292</td><td>&quot;A20&quot;</td><td>&quot;C&quot;</td><td>&quot;1&quot;</td><td>null</td><td>&quot;London / Paris&quot;</td></tr><tr><td>1</td><td>1</td><td>&quot;Tucker, Mr. Gilbert Milligan J…</td><td>&quot;male&quot;</td><td>31.0</td><td>0</td><td>0</td><td>&quot;2543&quot;</td><td>28.5375</td><td>&quot;C53&quot;</td><td>&quot;C&quot;</td><td>&quot;7&quot;</td><td>null</td><td>&quot;Albany, NY&quot;</td></tr></tbody></table></div>"
      ],
      "text/plain": [
       "shape: (100, 14)\n",
       "┌────────┬──────────┬────────────────────┬────────┬───┬──────────┬──────┬──────┬───────────────────┐\n",
       "│ pclass ┆ survived ┆ name               ┆ sex    ┆ … ┆ embarked ┆ boat ┆ body ┆ home.dest         │\n",
       "│ ---    ┆ ---      ┆ ---                ┆ ---    ┆   ┆ ---      ┆ ---  ┆ ---  ┆ ---               │\n",
       "│ i64    ┆ i64      ┆ str                ┆ str    ┆   ┆ str      ┆ str  ┆ i64  ┆ str               │\n",
       "╞════════╪══════════╪════════════════════╪════════╪═══╪══════════╪══════╪══════╪═══════════════════╡\n",
       "│ 3      ┆ 0        ┆ Larsson, Mr. Bengt ┆ male   ┆ … ┆ S        ┆ null ┆ null ┆ null              │\n",
       "│        ┆          ┆ Edvin              ┆        ┆   ┆          ┆      ┆      ┆                   │\n",
       "│ 1      ┆ 1        ┆ Davidson, Mrs.     ┆ female ┆ … ┆ S        ┆ 3    ┆ null ┆ Montreal, PQ      │\n",
       "│        ┆          ┆ Thornton (Orian…   ┆        ┆   ┆          ┆      ┆      ┆                   │\n",
       "│ 3      ┆ 1        ┆ McDermott, Miss.   ┆ female ┆ … ┆ Q        ┆ 13   ┆ null ┆ null              │\n",
       "│        ┆          ┆ Brigdet Delia      ┆        ┆   ┆          ┆      ┆      ┆                   │\n",
       "│ 1      ┆ 0        ┆ Taussig, Mr. Emil  ┆ male   ┆ … ┆ S        ┆ null ┆ null ┆ New York, NY      │\n",
       "│ 3      ┆ 1        ┆ Johannesen-Brattha ┆ male   ┆ … ┆ S        ┆ 13   ┆ null ┆ null              │\n",
       "│        ┆          ┆ mmer, Mr. Be…      ┆        ┆   ┆          ┆      ┆      ┆                   │\n",
       "│ …      ┆ …        ┆ …                  ┆ …      ┆ … ┆ …        ┆ …    ┆ …    ┆ …                 │\n",
       "│ 3      ┆ 0        ┆ Khalil, Mrs.       ┆ female ┆ … ┆ C        ┆ null ┆ null ┆ null              │\n",
       "│        ┆          ┆ Betros (Zahie \"Ma… ┆        ┆   ┆          ┆      ┆      ┆                   │\n",
       "│ 3      ┆ 0        ┆ Andersson, Mr.     ┆ male   ┆ … ┆ S        ┆ null ┆ null ┆ Sweden Winnipeg,  │\n",
       "│        ┆          ┆ Anders Johan       ┆        ┆   ┆          ┆      ┆      ┆ MN                │\n",
       "│ 3      ┆ 0        ┆ Mahon, Mr. John    ┆ male   ┆ … ┆ Q        ┆ null ┆ null ┆ null              │\n",
       "│ 1      ┆ 1        ┆ Duff Gordon, Sir.  ┆ male   ┆ … ┆ C        ┆ 1    ┆ null ┆ London / Paris    │\n",
       "│        ┆          ┆ Cosmo Edmund…      ┆        ┆   ┆          ┆      ┆      ┆                   │\n",
       "│ 1      ┆ 1        ┆ Tucker, Mr.        ┆ male   ┆ … ┆ C        ┆ 7    ┆ null ┆ Albany, NY        │\n",
       "│        ┆          ┆ Gilbert Milligan   ┆        ┆   ┆          ┆      ┆      ┆                   │\n",
       "│        ┆          ┆ J…                 ┆        ┆   ┆          ┆      ┆      ┆                   │\n",
       "└────────┴──────────┴────────────────────┴────────┴───┴──────────┴──────┴──────┴───────────────────┘"
      ]
     },
     "execution_count": 24,
     "metadata": {},
     "output_type": "execute_result"
    }
   ],
   "source": [
    "df.sample(100)"
   ]
  },
  {
   "cell_type": "code",
   "execution_count": 25,
   "id": "af671ade-438c-486a-b053-9b8adcf868c3",
   "metadata": {},
   "outputs": [
    {
     "data": {
      "text/html": [
       "<div><style>\n",
       ".dataframe > thead > tr,\n",
       ".dataframe > tbody > tr {\n",
       "  text-align: right;\n",
       "  white-space: pre-wrap;\n",
       "}\n",
       "</style>\n",
       "<small>shape: (100, 14)</small><table border=\"1\" class=\"dataframe\"><thead><tr><th>pclass</th><th>survived</th><th>name</th><th>sex</th><th>age</th><th>sibsp</th><th>parch</th><th>ticket</th><th>fare</th><th>cabin</th><th>embarked</th><th>boat</th><th>body</th><th>home.dest</th></tr><tr><td>i64</td><td>i64</td><td>str</td><td>str</td><td>f64</td><td>i64</td><td>i64</td><td>str</td><td>f64</td><td>str</td><td>str</td><td>str</td><td>i64</td><td>str</td></tr></thead><tbody><tr><td>1</td><td>1</td><td>&quot;Minahan, Mrs. William Edward (…</td><td>&quot;female&quot;</td><td>37.0</td><td>1</td><td>0</td><td>&quot;19928&quot;</td><td>90.0</td><td>&quot;C78&quot;</td><td>&quot;Q&quot;</td><td>&quot;14&quot;</td><td>null</td><td>&quot;Fond du Lac, WI&quot;</td></tr><tr><td>2</td><td>1</td><td>&quot;Davies, Mrs. John Morgan (Eliz…</td><td>&quot;female&quot;</td><td>48.0</td><td>0</td><td>2</td><td>&quot;C.A. 33112&quot;</td><td>36.75</td><td>null</td><td>&quot;S&quot;</td><td>&quot;14&quot;</td><td>null</td><td>&quot;St Ives, Cornwall / Hancock, M…</td></tr><tr><td>3</td><td>0</td><td>&quot;Lefebre, Master. Henry Forbes&quot;</td><td>&quot;male&quot;</td><td>null</td><td>3</td><td>1</td><td>&quot;4133&quot;</td><td>25.4667</td><td>null</td><td>&quot;S&quot;</td><td>null</td><td>null</td><td>null</td></tr><tr><td>3</td><td>0</td><td>&quot;Carlsson, Mr. August Sigfrid&quot;</td><td>&quot;male&quot;</td><td>28.0</td><td>0</td><td>0</td><td>&quot;350042&quot;</td><td>7.7958</td><td>null</td><td>&quot;S&quot;</td><td>null</td><td>null</td><td>&quot;Dagsas, Sweden Fower, MN&quot;</td></tr><tr><td>1</td><td>0</td><td>&quot;McCarthy, Mr. Timothy J&quot;</td><td>&quot;male&quot;</td><td>54.0</td><td>0</td><td>0</td><td>&quot;17463&quot;</td><td>51.8625</td><td>&quot;E46&quot;</td><td>&quot;S&quot;</td><td>null</td><td>175</td><td>&quot;Dorchester, MA&quot;</td></tr><tr><td>&hellip;</td><td>&hellip;</td><td>&hellip;</td><td>&hellip;</td><td>&hellip;</td><td>&hellip;</td><td>&hellip;</td><td>&hellip;</td><td>&hellip;</td><td>&hellip;</td><td>&hellip;</td><td>&hellip;</td><td>&hellip;</td><td>&hellip;</td></tr><tr><td>3</td><td>0</td><td>&quot;Reed, Mr. James George&quot;</td><td>&quot;male&quot;</td><td>null</td><td>0</td><td>0</td><td>&quot;362316&quot;</td><td>7.25</td><td>null</td><td>&quot;S&quot;</td><td>null</td><td>null</td><td>null</td></tr><tr><td>1</td><td>1</td><td>&quot;Silverthorne, Mr. Spencer Vict…</td><td>&quot;male&quot;</td><td>35.0</td><td>0</td><td>0</td><td>&quot;PC 17475&quot;</td><td>26.2875</td><td>&quot;E24&quot;</td><td>&quot;S&quot;</td><td>&quot;5&quot;</td><td>null</td><td>&quot;St Louis, MO&quot;</td></tr><tr><td>3</td><td>0</td><td>&quot;Khalil, Mr. Betros&quot;</td><td>&quot;male&quot;</td><td>null</td><td>1</td><td>0</td><td>&quot;2660&quot;</td><td>14.4542</td><td>null</td><td>&quot;C&quot;</td><td>null</td><td>null</td><td>null</td></tr><tr><td>3</td><td>0</td><td>&quot;Lemberopolous, Mr. Peter L&quot;</td><td>&quot;male&quot;</td><td>34.5</td><td>0</td><td>0</td><td>&quot;2683&quot;</td><td>6.4375</td><td>null</td><td>&quot;C&quot;</td><td>null</td><td>196</td><td>null</td></tr><tr><td>2</td><td>0</td><td>&quot;Weisz, Mr. Leopold&quot;</td><td>&quot;male&quot;</td><td>27.0</td><td>1</td><td>0</td><td>&quot;228414&quot;</td><td>26.0</td><td>null</td><td>&quot;S&quot;</td><td>null</td><td>293</td><td>&quot;Bromsgrove, England / Montreal…</td></tr></tbody></table></div>"
      ],
      "text/plain": [
       "shape: (100, 14)\n",
       "┌────────┬──────────┬────────────────────┬────────┬───┬──────────┬──────┬──────┬───────────────────┐\n",
       "│ pclass ┆ survived ┆ name               ┆ sex    ┆ … ┆ embarked ┆ boat ┆ body ┆ home.dest         │\n",
       "│ ---    ┆ ---      ┆ ---                ┆ ---    ┆   ┆ ---      ┆ ---  ┆ ---  ┆ ---               │\n",
       "│ i64    ┆ i64      ┆ str                ┆ str    ┆   ┆ str      ┆ str  ┆ i64  ┆ str               │\n",
       "╞════════╪══════════╪════════════════════╪════════╪═══╪══════════╪══════╪══════╪═══════════════════╡\n",
       "│ 1      ┆ 1        ┆ Minahan, Mrs.      ┆ female ┆ … ┆ Q        ┆ 14   ┆ null ┆ Fond du Lac, WI   │\n",
       "│        ┆          ┆ William Edward (…  ┆        ┆   ┆          ┆      ┆      ┆                   │\n",
       "│ 2      ┆ 1        ┆ Davies, Mrs. John  ┆ female ┆ … ┆ S        ┆ 14   ┆ null ┆ St Ives, Cornwall │\n",
       "│        ┆          ┆ Morgan (Eliz…      ┆        ┆   ┆          ┆      ┆      ┆ / Hancock, M…     │\n",
       "│ 3      ┆ 0        ┆ Lefebre, Master.   ┆ male   ┆ … ┆ S        ┆ null ┆ null ┆ null              │\n",
       "│        ┆          ┆ Henry Forbes       ┆        ┆   ┆          ┆      ┆      ┆                   │\n",
       "│ 3      ┆ 0        ┆ Carlsson, Mr.      ┆ male   ┆ … ┆ S        ┆ null ┆ null ┆ Dagsas, Sweden    │\n",
       "│        ┆          ┆ August Sigfrid     ┆        ┆   ┆          ┆      ┆      ┆ Fower, MN         │\n",
       "│ 1      ┆ 0        ┆ McCarthy, Mr.      ┆ male   ┆ … ┆ S        ┆ null ┆ 175  ┆ Dorchester, MA    │\n",
       "│        ┆          ┆ Timothy J          ┆        ┆   ┆          ┆      ┆      ┆                   │\n",
       "│ …      ┆ …        ┆ …                  ┆ …      ┆ … ┆ …        ┆ …    ┆ …    ┆ …                 │\n",
       "│ 3      ┆ 0        ┆ Reed, Mr. James    ┆ male   ┆ … ┆ S        ┆ null ┆ null ┆ null              │\n",
       "│        ┆          ┆ George             ┆        ┆   ┆          ┆      ┆      ┆                   │\n",
       "│ 1      ┆ 1        ┆ Silverthorne, Mr.  ┆ male   ┆ … ┆ S        ┆ 5    ┆ null ┆ St Louis, MO      │\n",
       "│        ┆          ┆ Spencer Vict…      ┆        ┆   ┆          ┆      ┆      ┆                   │\n",
       "│ 3      ┆ 0        ┆ Khalil, Mr. Betros ┆ male   ┆ … ┆ C        ┆ null ┆ null ┆ null              │\n",
       "│ 3      ┆ 0        ┆ Lemberopolous, Mr. ┆ male   ┆ … ┆ C        ┆ null ┆ 196  ┆ null              │\n",
       "│        ┆          ┆ Peter L            ┆        ┆   ┆          ┆      ┆      ┆                   │\n",
       "│ 2      ┆ 0        ┆ Weisz, Mr. Leopold ┆ male   ┆ … ┆ S        ┆ null ┆ 293  ┆ Bromsgrove,       │\n",
       "│        ┆          ┆                    ┆        ┆   ┆          ┆      ┆      ┆ England /         │\n",
       "│        ┆          ┆                    ┆        ┆   ┆          ┆      ┆      ┆ Montreal…         │\n",
       "└────────┴──────────┴────────────────────┴────────┴───┴──────────┴──────┴──────┴───────────────────┘"
      ]
     },
     "execution_count": 25,
     "metadata": {},
     "output_type": "execute_result"
    }
   ],
   "source": [
    "df.sample(100, seed=42)"
   ]
  },
  {
   "cell_type": "code",
   "execution_count": 26,
   "id": "74ed7808-4f7a-42a4-9fce-4daa8a1e8a93",
   "metadata": {},
   "outputs": [
    {
     "data": {
      "text/html": [
       "<div><style>\n",
       ".dataframe > thead > tr,\n",
       ".dataframe > tbody > tr {\n",
       "  text-align: right;\n",
       "  white-space: pre-wrap;\n",
       "}\n",
       "</style>\n",
       "<small>shape: (261, 14)</small><table border=\"1\" class=\"dataframe\"><thead><tr><th>pclass</th><th>survived</th><th>name</th><th>sex</th><th>age</th><th>sibsp</th><th>parch</th><th>ticket</th><th>fare</th><th>cabin</th><th>embarked</th><th>boat</th><th>body</th><th>home.dest</th></tr><tr><td>i64</td><td>i64</td><td>str</td><td>str</td><td>f64</td><td>i64</td><td>i64</td><td>str</td><td>f64</td><td>str</td><td>str</td><td>str</td><td>i64</td><td>str</td></tr></thead><tbody><tr><td>1</td><td>1</td><td>&quot;Minahan, Mrs. William Edward (…</td><td>&quot;female&quot;</td><td>37.0</td><td>1</td><td>0</td><td>&quot;19928&quot;</td><td>90.0</td><td>&quot;C78&quot;</td><td>&quot;Q&quot;</td><td>&quot;14&quot;</td><td>null</td><td>&quot;Fond du Lac, WI&quot;</td></tr><tr><td>2</td><td>1</td><td>&quot;Davies, Mrs. John Morgan (Eliz…</td><td>&quot;female&quot;</td><td>48.0</td><td>0</td><td>2</td><td>&quot;C.A. 33112&quot;</td><td>36.75</td><td>null</td><td>&quot;S&quot;</td><td>&quot;14&quot;</td><td>null</td><td>&quot;St Ives, Cornwall / Hancock, M…</td></tr><tr><td>3</td><td>0</td><td>&quot;Lefebre, Master. Henry Forbes&quot;</td><td>&quot;male&quot;</td><td>null</td><td>3</td><td>1</td><td>&quot;4133&quot;</td><td>25.4667</td><td>null</td><td>&quot;S&quot;</td><td>null</td><td>null</td><td>null</td></tr><tr><td>3</td><td>0</td><td>&quot;Carlsson, Mr. August Sigfrid&quot;</td><td>&quot;male&quot;</td><td>28.0</td><td>0</td><td>0</td><td>&quot;350042&quot;</td><td>7.7958</td><td>null</td><td>&quot;S&quot;</td><td>null</td><td>null</td><td>&quot;Dagsas, Sweden Fower, MN&quot;</td></tr><tr><td>1</td><td>0</td><td>&quot;McCarthy, Mr. Timothy J&quot;</td><td>&quot;male&quot;</td><td>54.0</td><td>0</td><td>0</td><td>&quot;17463&quot;</td><td>51.8625</td><td>&quot;E46&quot;</td><td>&quot;S&quot;</td><td>null</td><td>175</td><td>&quot;Dorchester, MA&quot;</td></tr><tr><td>&hellip;</td><td>&hellip;</td><td>&hellip;</td><td>&hellip;</td><td>&hellip;</td><td>&hellip;</td><td>&hellip;</td><td>&hellip;</td><td>&hellip;</td><td>&hellip;</td><td>&hellip;</td><td>&hellip;</td><td>&hellip;</td><td>&hellip;</td></tr><tr><td>1</td><td>1</td><td>&quot;Romaine, Mr. Charles Hallace (…</td><td>&quot;male&quot;</td><td>45.0</td><td>0</td><td>0</td><td>&quot;111428&quot;</td><td>26.55</td><td>null</td><td>&quot;S&quot;</td><td>&quot;9&quot;</td><td>null</td><td>&quot;New York, NY&quot;</td></tr><tr><td>3</td><td>0</td><td>&quot;Vovk, Mr. Janko&quot;</td><td>&quot;male&quot;</td><td>22.0</td><td>0</td><td>0</td><td>&quot;349252&quot;</td><td>7.8958</td><td>null</td><td>&quot;S&quot;</td><td>null</td><td>null</td><td>null</td></tr><tr><td>3</td><td>0</td><td>&quot;Rice, Master. Albert&quot;</td><td>&quot;male&quot;</td><td>10.0</td><td>4</td><td>1</td><td>&quot;382652&quot;</td><td>29.125</td><td>null</td><td>&quot;Q&quot;</td><td>null</td><td>null</td><td>null</td></tr><tr><td>3</td><td>0</td><td>&quot;Bjorklund, Mr. Ernst Herbert&quot;</td><td>&quot;male&quot;</td><td>18.0</td><td>0</td><td>0</td><td>&quot;347090&quot;</td><td>7.75</td><td>null</td><td>&quot;S&quot;</td><td>null</td><td>null</td><td>&quot;Stockholm, Sweden New York&quot;</td></tr><tr><td>3</td><td>0</td><td>&quot;Larsson, Mr. Bengt Edvin&quot;</td><td>&quot;male&quot;</td><td>29.0</td><td>0</td><td>0</td><td>&quot;347067&quot;</td><td>7.775</td><td>null</td><td>&quot;S&quot;</td><td>null</td><td>null</td><td>null</td></tr></tbody></table></div>"
      ],
      "text/plain": [
       "shape: (261, 14)\n",
       "┌────────┬──────────┬────────────────────┬────────┬───┬──────────┬──────┬──────┬───────────────────┐\n",
       "│ pclass ┆ survived ┆ name               ┆ sex    ┆ … ┆ embarked ┆ boat ┆ body ┆ home.dest         │\n",
       "│ ---    ┆ ---      ┆ ---                ┆ ---    ┆   ┆ ---      ┆ ---  ┆ ---  ┆ ---               │\n",
       "│ i64    ┆ i64      ┆ str                ┆ str    ┆   ┆ str      ┆ str  ┆ i64  ┆ str               │\n",
       "╞════════╪══════════╪════════════════════╪════════╪═══╪══════════╪══════╪══════╪═══════════════════╡\n",
       "│ 1      ┆ 1        ┆ Minahan, Mrs.      ┆ female ┆ … ┆ Q        ┆ 14   ┆ null ┆ Fond du Lac, WI   │\n",
       "│        ┆          ┆ William Edward (…  ┆        ┆   ┆          ┆      ┆      ┆                   │\n",
       "│ 2      ┆ 1        ┆ Davies, Mrs. John  ┆ female ┆ … ┆ S        ┆ 14   ┆ null ┆ St Ives, Cornwall │\n",
       "│        ┆          ┆ Morgan (Eliz…      ┆        ┆   ┆          ┆      ┆      ┆ / Hancock, M…     │\n",
       "│ 3      ┆ 0        ┆ Lefebre, Master.   ┆ male   ┆ … ┆ S        ┆ null ┆ null ┆ null              │\n",
       "│        ┆          ┆ Henry Forbes       ┆        ┆   ┆          ┆      ┆      ┆                   │\n",
       "│ 3      ┆ 0        ┆ Carlsson, Mr.      ┆ male   ┆ … ┆ S        ┆ null ┆ null ┆ Dagsas, Sweden    │\n",
       "│        ┆          ┆ August Sigfrid     ┆        ┆   ┆          ┆      ┆      ┆ Fower, MN         │\n",
       "│ 1      ┆ 0        ┆ McCarthy, Mr.      ┆ male   ┆ … ┆ S        ┆ null ┆ 175  ┆ Dorchester, MA    │\n",
       "│        ┆          ┆ Timothy J          ┆        ┆   ┆          ┆      ┆      ┆                   │\n",
       "│ …      ┆ …        ┆ …                  ┆ …      ┆ … ┆ …        ┆ …    ┆ …    ┆ …                 │\n",
       "│ 1      ┆ 1        ┆ Romaine, Mr.       ┆ male   ┆ … ┆ S        ┆ 9    ┆ null ┆ New York, NY      │\n",
       "│        ┆          ┆ Charles Hallace (… ┆        ┆   ┆          ┆      ┆      ┆                   │\n",
       "│ 3      ┆ 0        ┆ Vovk, Mr. Janko    ┆ male   ┆ … ┆ S        ┆ null ┆ null ┆ null              │\n",
       "│ 3      ┆ 0        ┆ Rice, Master.      ┆ male   ┆ … ┆ Q        ┆ null ┆ null ┆ null              │\n",
       "│        ┆          ┆ Albert             ┆        ┆   ┆          ┆      ┆      ┆                   │\n",
       "│ 3      ┆ 0        ┆ Bjorklund, Mr.     ┆ male   ┆ … ┆ S        ┆ null ┆ null ┆ Stockholm, Sweden │\n",
       "│        ┆          ┆ Ernst Herbert      ┆        ┆   ┆          ┆      ┆      ┆ New York          │\n",
       "│ 3      ┆ 0        ┆ Larsson, Mr. Bengt ┆ male   ┆ … ┆ S        ┆ null ┆ null ┆ null              │\n",
       "│        ┆          ┆ Edvin              ┆        ┆   ┆          ┆      ┆      ┆                   │\n",
       "└────────┴──────────┴────────────────────┴────────┴───┴──────────┴──────┴──────┴───────────────────┘"
      ]
     },
     "execution_count": 26,
     "metadata": {},
     "output_type": "execute_result"
    }
   ],
   "source": [
    "df.sample(fraction=0.2, seed=42)"
   ]
  },
  {
   "cell_type": "code",
   "execution_count": 27,
   "id": "2cbd1805-1466-490d-ae9a-f036a3e0d593",
   "metadata": {},
   "outputs": [
    {
     "data": {
      "text/html": [
       "<div><style>\n",
       ".dataframe > thead > tr,\n",
       ".dataframe > tbody > tr {\n",
       "  text-align: right;\n",
       "  white-space: pre-wrap;\n",
       "}\n",
       "</style>\n",
       "<small>shape: (1_309, 14)</small><table border=\"1\" class=\"dataframe\"><thead><tr><th>pclass</th><th>survived</th><th>name</th><th>sex</th><th>age</th><th>sibsp</th><th>parch</th><th>ticket</th><th>fare</th><th>cabin</th><th>embarked</th><th>boat</th><th>body</th><th>home.dest</th></tr><tr><td>i64</td><td>i64</td><td>str</td><td>str</td><td>f64</td><td>i64</td><td>i64</td><td>str</td><td>f64</td><td>str</td><td>str</td><td>str</td><td>i64</td><td>str</td></tr></thead><tbody><tr><td>1</td><td>1</td><td>&quot;Bowen, Miss. Grace Scott&quot;</td><td>&quot;female&quot;</td><td>45.0</td><td>0</td><td>0</td><td>&quot;PC 17608&quot;</td><td>262.375</td><td>null</td><td>&quot;C&quot;</td><td>&quot;4&quot;</td><td>null</td><td>&quot;Cooperstown, NY&quot;</td></tr><tr><td>1</td><td>1</td><td>&quot;Homer, Mr. Harry (&quot;Mr E Haven&quot;…</td><td>&quot;male&quot;</td><td>35.0</td><td>0</td><td>0</td><td>&quot;111426&quot;</td><td>26.55</td><td>null</td><td>&quot;C&quot;</td><td>&quot;15&quot;</td><td>null</td><td>&quot;Indianapolis, IN&quot;</td></tr><tr><td>3</td><td>0</td><td>&quot;Humblen, Mr. Adolf Mathias Nic…</td><td>&quot;male&quot;</td><td>42.0</td><td>0</td><td>0</td><td>&quot;348121&quot;</td><td>7.65</td><td>&quot;F G63&quot;</td><td>&quot;S&quot;</td><td>null</td><td>120</td><td>null</td></tr><tr><td>3</td><td>0</td><td>&quot;Panula, Master. Eino Viljami&quot;</td><td>&quot;male&quot;</td><td>1.0</td><td>4</td><td>1</td><td>&quot;3101295&quot;</td><td>39.6875</td><td>null</td><td>&quot;S&quot;</td><td>null</td><td>null</td><td>null</td></tr><tr><td>2</td><td>1</td><td>&quot;Slayter, Miss. Hilda Mary&quot;</td><td>&quot;female&quot;</td><td>30.0</td><td>0</td><td>0</td><td>&quot;234818&quot;</td><td>12.35</td><td>null</td><td>&quot;Q&quot;</td><td>&quot;13&quot;</td><td>null</td><td>&quot;Halifax, NS&quot;</td></tr><tr><td>&hellip;</td><td>&hellip;</td><td>&hellip;</td><td>&hellip;</td><td>&hellip;</td><td>&hellip;</td><td>&hellip;</td><td>&hellip;</td><td>&hellip;</td><td>&hellip;</td><td>&hellip;</td><td>&hellip;</td><td>&hellip;</td><td>&hellip;</td></tr><tr><td>1</td><td>0</td><td>&quot;Marvin, Mr. Daniel Warner&quot;</td><td>&quot;male&quot;</td><td>19.0</td><td>1</td><td>0</td><td>&quot;113773&quot;</td><td>53.1</td><td>&quot;D30&quot;</td><td>&quot;S&quot;</td><td>null</td><td>null</td><td>&quot;New York, NY&quot;</td></tr><tr><td>3</td><td>0</td><td>&quot;Cann, Mr. Ernest Charles&quot;</td><td>&quot;male&quot;</td><td>21.0</td><td>0</td><td>0</td><td>&quot;A./5. 2152&quot;</td><td>8.05</td><td>null</td><td>&quot;S&quot;</td><td>null</td><td>null</td><td>null</td></tr><tr><td>3</td><td>0</td><td>&quot;Larsson-Rondberg, Mr. Edvard A&quot;</td><td>&quot;male&quot;</td><td>22.0</td><td>0</td><td>0</td><td>&quot;347065&quot;</td><td>7.775</td><td>null</td><td>&quot;S&quot;</td><td>null</td><td>null</td><td>null</td></tr><tr><td>2</td><td>0</td><td>&quot;Davies, Mr. Charles Henry&quot;</td><td>&quot;male&quot;</td><td>18.0</td><td>0</td><td>0</td><td>&quot;S.O.C. 14879&quot;</td><td>73.5</td><td>null</td><td>&quot;S&quot;</td><td>null</td><td>null</td><td>&quot;Lyndhurst, England&quot;</td></tr><tr><td>1</td><td>1</td><td>&quot;Minahan, Mrs. William Edward (…</td><td>&quot;female&quot;</td><td>37.0</td><td>1</td><td>0</td><td>&quot;19928&quot;</td><td>90.0</td><td>&quot;C78&quot;</td><td>&quot;Q&quot;</td><td>&quot;14&quot;</td><td>null</td><td>&quot;Fond du Lac, WI&quot;</td></tr></tbody></table></div>"
      ],
      "text/plain": [
       "shape: (1_309, 14)\n",
       "┌────────┬──────────┬────────────────────┬────────┬───┬──────────┬──────┬──────┬───────────────────┐\n",
       "│ pclass ┆ survived ┆ name               ┆ sex    ┆ … ┆ embarked ┆ boat ┆ body ┆ home.dest         │\n",
       "│ ---    ┆ ---      ┆ ---                ┆ ---    ┆   ┆ ---      ┆ ---  ┆ ---  ┆ ---               │\n",
       "│ i64    ┆ i64      ┆ str                ┆ str    ┆   ┆ str      ┆ str  ┆ i64  ┆ str               │\n",
       "╞════════╪══════════╪════════════════════╪════════╪═══╪══════════╪══════╪══════╪═══════════════════╡\n",
       "│ 1      ┆ 1        ┆ Bowen, Miss. Grace ┆ female ┆ … ┆ C        ┆ 4    ┆ null ┆ Cooperstown, NY   │\n",
       "│        ┆          ┆ Scott              ┆        ┆   ┆          ┆      ┆      ┆                   │\n",
       "│ 1      ┆ 1        ┆ Homer, Mr. Harry   ┆ male   ┆ … ┆ C        ┆ 15   ┆ null ┆ Indianapolis, IN  │\n",
       "│        ┆          ┆ (\"Mr E Haven\"…     ┆        ┆   ┆          ┆      ┆      ┆                   │\n",
       "│ 3      ┆ 0        ┆ Humblen, Mr. Adolf ┆ male   ┆ … ┆ S        ┆ null ┆ 120  ┆ null              │\n",
       "│        ┆          ┆ Mathias Nic…       ┆        ┆   ┆          ┆      ┆      ┆                   │\n",
       "│ 3      ┆ 0        ┆ Panula, Master.    ┆ male   ┆ … ┆ S        ┆ null ┆ null ┆ null              │\n",
       "│        ┆          ┆ Eino Viljami       ┆        ┆   ┆          ┆      ┆      ┆                   │\n",
       "│ 2      ┆ 1        ┆ Slayter, Miss.     ┆ female ┆ … ┆ Q        ┆ 13   ┆ null ┆ Halifax, NS       │\n",
       "│        ┆          ┆ Hilda Mary         ┆        ┆   ┆          ┆      ┆      ┆                   │\n",
       "│ …      ┆ …        ┆ …                  ┆ …      ┆ … ┆ …        ┆ …    ┆ …    ┆ …                 │\n",
       "│ 1      ┆ 0        ┆ Marvin, Mr. Daniel ┆ male   ┆ … ┆ S        ┆ null ┆ null ┆ New York, NY      │\n",
       "│        ┆          ┆ Warner             ┆        ┆   ┆          ┆      ┆      ┆                   │\n",
       "│ 3      ┆ 0        ┆ Cann, Mr. Ernest   ┆ male   ┆ … ┆ S        ┆ null ┆ null ┆ null              │\n",
       "│        ┆          ┆ Charles            ┆        ┆   ┆          ┆      ┆      ┆                   │\n",
       "│ 3      ┆ 0        ┆ Larsson-Rondberg,  ┆ male   ┆ … ┆ S        ┆ null ┆ null ┆ null              │\n",
       "│        ┆          ┆ Mr. Edvard A       ┆        ┆   ┆          ┆      ┆      ┆                   │\n",
       "│ 2      ┆ 0        ┆ Davies, Mr.        ┆ male   ┆ … ┆ S        ┆ null ┆ null ┆ Lyndhurst,        │\n",
       "│        ┆          ┆ Charles Henry      ┆        ┆   ┆          ┆      ┆      ┆ England           │\n",
       "│ 1      ┆ 1        ┆ Minahan, Mrs.      ┆ female ┆ … ┆ Q        ┆ 14   ┆ null ┆ Fond du Lac, WI   │\n",
       "│        ┆          ┆ William Edward (…  ┆        ┆   ┆          ┆      ┆      ┆                   │\n",
       "└────────┴──────────┴────────────────────┴────────┴───┴──────────┴──────┴──────┴───────────────────┘"
      ]
     },
     "execution_count": 27,
     "metadata": {},
     "output_type": "execute_result"
    }
   ],
   "source": [
    "df.sample(fraction=1.0, shuffle=True, seed=42)"
   ]
  },
  {
   "cell_type": "code",
   "execution_count": 28,
   "id": "8d62fb11-c5aa-42de-995d-f69c7cb020e4",
   "metadata": {},
   "outputs": [
    {
     "data": {
      "text/html": [
       "<div><style>\n",
       ".dataframe > thead > tr,\n",
       ".dataframe > tbody > tr {\n",
       "  text-align: right;\n",
       "  white-space: pre-wrap;\n",
       "}\n",
       "</style>\n",
       "<small>shape: (1_309, 14)</small><table border=\"1\" class=\"dataframe\"><thead><tr><th>pclass</th><th>survived</th><th>name</th><th>sex</th><th>age</th><th>sibsp</th><th>parch</th><th>ticket</th><th>fare</th><th>cabin</th><th>embarked</th><th>boat</th><th>body</th><th>home.dest</th></tr><tr><td>i64</td><td>i64</td><td>str</td><td>str</td><td>f64</td><td>i64</td><td>i64</td><td>str</td><td>f64</td><td>str</td><td>str</td><td>str</td><td>i64</td><td>str</td></tr></thead><tbody><tr><td>1</td><td>1</td><td>&quot;Bowen, Miss. Grace Scott&quot;</td><td>&quot;female&quot;</td><td>45.0</td><td>0</td><td>0</td><td>&quot;PC 17608&quot;</td><td>262.375</td><td>null</td><td>&quot;C&quot;</td><td>&quot;4&quot;</td><td>null</td><td>&quot;Cooperstown, NY&quot;</td></tr><tr><td>1</td><td>1</td><td>&quot;Homer, Mr. Harry (&quot;Mr E Haven&quot;…</td><td>&quot;male&quot;</td><td>35.0</td><td>0</td><td>0</td><td>&quot;111426&quot;</td><td>26.55</td><td>null</td><td>&quot;C&quot;</td><td>&quot;15&quot;</td><td>null</td><td>&quot;Indianapolis, IN&quot;</td></tr><tr><td>3</td><td>0</td><td>&quot;Humblen, Mr. Adolf Mathias Nic…</td><td>&quot;male&quot;</td><td>42.0</td><td>0</td><td>0</td><td>&quot;348121&quot;</td><td>7.65</td><td>&quot;F G63&quot;</td><td>&quot;S&quot;</td><td>null</td><td>120</td><td>null</td></tr><tr><td>3</td><td>0</td><td>&quot;Panula, Master. Eino Viljami&quot;</td><td>&quot;male&quot;</td><td>1.0</td><td>4</td><td>1</td><td>&quot;3101295&quot;</td><td>39.6875</td><td>null</td><td>&quot;S&quot;</td><td>null</td><td>null</td><td>null</td></tr><tr><td>2</td><td>1</td><td>&quot;Slayter, Miss. Hilda Mary&quot;</td><td>&quot;female&quot;</td><td>30.0</td><td>0</td><td>0</td><td>&quot;234818&quot;</td><td>12.35</td><td>null</td><td>&quot;Q&quot;</td><td>&quot;13&quot;</td><td>null</td><td>&quot;Halifax, NS&quot;</td></tr><tr><td>&hellip;</td><td>&hellip;</td><td>&hellip;</td><td>&hellip;</td><td>&hellip;</td><td>&hellip;</td><td>&hellip;</td><td>&hellip;</td><td>&hellip;</td><td>&hellip;</td><td>&hellip;</td><td>&hellip;</td><td>&hellip;</td><td>&hellip;</td></tr><tr><td>1</td><td>0</td><td>&quot;Marvin, Mr. Daniel Warner&quot;</td><td>&quot;male&quot;</td><td>19.0</td><td>1</td><td>0</td><td>&quot;113773&quot;</td><td>53.1</td><td>&quot;D30&quot;</td><td>&quot;S&quot;</td><td>null</td><td>null</td><td>&quot;New York, NY&quot;</td></tr><tr><td>3</td><td>0</td><td>&quot;Cann, Mr. Ernest Charles&quot;</td><td>&quot;male&quot;</td><td>21.0</td><td>0</td><td>0</td><td>&quot;A./5. 2152&quot;</td><td>8.05</td><td>null</td><td>&quot;S&quot;</td><td>null</td><td>null</td><td>null</td></tr><tr><td>3</td><td>0</td><td>&quot;Larsson-Rondberg, Mr. Edvard A&quot;</td><td>&quot;male&quot;</td><td>22.0</td><td>0</td><td>0</td><td>&quot;347065&quot;</td><td>7.775</td><td>null</td><td>&quot;S&quot;</td><td>null</td><td>null</td><td>null</td></tr><tr><td>2</td><td>0</td><td>&quot;Davies, Mr. Charles Henry&quot;</td><td>&quot;male&quot;</td><td>18.0</td><td>0</td><td>0</td><td>&quot;S.O.C. 14879&quot;</td><td>73.5</td><td>null</td><td>&quot;S&quot;</td><td>null</td><td>null</td><td>&quot;Lyndhurst, England&quot;</td></tr><tr><td>1</td><td>1</td><td>&quot;Minahan, Mrs. William Edward (…</td><td>&quot;female&quot;</td><td>37.0</td><td>1</td><td>0</td><td>&quot;19928&quot;</td><td>90.0</td><td>&quot;C78&quot;</td><td>&quot;Q&quot;</td><td>&quot;14&quot;</td><td>null</td><td>&quot;Fond du Lac, WI&quot;</td></tr></tbody></table></div>"
      ],
      "text/plain": [
       "shape: (1_309, 14)\n",
       "┌────────┬──────────┬────────────────────┬────────┬───┬──────────┬──────┬──────┬───────────────────┐\n",
       "│ pclass ┆ survived ┆ name               ┆ sex    ┆ … ┆ embarked ┆ boat ┆ body ┆ home.dest         │\n",
       "│ ---    ┆ ---      ┆ ---                ┆ ---    ┆   ┆ ---      ┆ ---  ┆ ---  ┆ ---               │\n",
       "│ i64    ┆ i64      ┆ str                ┆ str    ┆   ┆ str      ┆ str  ┆ i64  ┆ str               │\n",
       "╞════════╪══════════╪════════════════════╪════════╪═══╪══════════╪══════╪══════╪═══════════════════╡\n",
       "│ 1      ┆ 1        ┆ Bowen, Miss. Grace ┆ female ┆ … ┆ C        ┆ 4    ┆ null ┆ Cooperstown, NY   │\n",
       "│        ┆          ┆ Scott              ┆        ┆   ┆          ┆      ┆      ┆                   │\n",
       "│ 1      ┆ 1        ┆ Homer, Mr. Harry   ┆ male   ┆ … ┆ C        ┆ 15   ┆ null ┆ Indianapolis, IN  │\n",
       "│        ┆          ┆ (\"Mr E Haven\"…     ┆        ┆   ┆          ┆      ┆      ┆                   │\n",
       "│ 3      ┆ 0        ┆ Humblen, Mr. Adolf ┆ male   ┆ … ┆ S        ┆ null ┆ 120  ┆ null              │\n",
       "│        ┆          ┆ Mathias Nic…       ┆        ┆   ┆          ┆      ┆      ┆                   │\n",
       "│ 3      ┆ 0        ┆ Panula, Master.    ┆ male   ┆ … ┆ S        ┆ null ┆ null ┆ null              │\n",
       "│        ┆          ┆ Eino Viljami       ┆        ┆   ┆          ┆      ┆      ┆                   │\n",
       "│ 2      ┆ 1        ┆ Slayter, Miss.     ┆ female ┆ … ┆ Q        ┆ 13   ┆ null ┆ Halifax, NS       │\n",
       "│        ┆          ┆ Hilda Mary         ┆        ┆   ┆          ┆      ┆      ┆                   │\n",
       "│ …      ┆ …        ┆ …                  ┆ …      ┆ … ┆ …        ┆ …    ┆ …    ┆ …                 │\n",
       "│ 1      ┆ 0        ┆ Marvin, Mr. Daniel ┆ male   ┆ … ┆ S        ┆ null ┆ null ┆ New York, NY      │\n",
       "│        ┆          ┆ Warner             ┆        ┆   ┆          ┆      ┆      ┆                   │\n",
       "│ 3      ┆ 0        ┆ Cann, Mr. Ernest   ┆ male   ┆ … ┆ S        ┆ null ┆ null ┆ null              │\n",
       "│        ┆          ┆ Charles            ┆        ┆   ┆          ┆      ┆      ┆                   │\n",
       "│ 3      ┆ 0        ┆ Larsson-Rondberg,  ┆ male   ┆ … ┆ S        ┆ null ┆ null ┆ null              │\n",
       "│        ┆          ┆ Mr. Edvard A       ┆        ┆   ┆          ┆      ┆      ┆                   │\n",
       "│ 2      ┆ 0        ┆ Davies, Mr.        ┆ male   ┆ … ┆ S        ┆ null ┆ null ┆ Lyndhurst,        │\n",
       "│        ┆          ┆ Charles Henry      ┆        ┆   ┆          ┆      ┆      ┆ England           │\n",
       "│ 1      ┆ 1        ┆ Minahan, Mrs.      ┆ female ┆ … ┆ Q        ┆ 14   ┆ null ┆ Fond du Lac, WI   │\n",
       "│        ┆          ┆ William Edward (…  ┆        ┆   ┆          ┆      ┆      ┆                   │\n",
       "└────────┴──────────┴────────────────────┴────────┴───┴──────────┴──────┴──────┴───────────────────┘"
      ]
     },
     "execution_count": 28,
     "metadata": {},
     "output_type": "execute_result"
    }
   ],
   "source": [
    "df.select(\n",
    "    pl.all().shuffle(seed=42)\n",
    ")"
   ]
  },
  {
   "cell_type": "code",
   "execution_count": null,
   "id": "8c70baed-769b-4a03-b25d-d5e57e04fe33",
   "metadata": {},
   "outputs": [],
   "source": []
  }
 ],
 "metadata": {
  "kernelspec": {
   "display_name": "Python 3 (ipykernel)",
   "language": "python",
   "name": "python3"
  },
  "language_info": {
   "codemirror_mode": {
    "name": "ipython",
    "version": 3
   },
   "file_extension": ".py",
   "mimetype": "text/x-python",
   "name": "python",
   "nbconvert_exporter": "python",
   "pygments_lexer": "ipython3",
   "version": "3.11.10"
  }
 },
 "nbformat": 4,
 "nbformat_minor": 5
}
