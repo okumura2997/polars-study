{
 "cells": [
  {
   "cell_type": "code",
   "execution_count": 1,
   "id": "d8030e38-9196-49f6-9345-4db155f37c4c",
   "metadata": {
    "scrolled": true
   },
   "outputs": [
    {
     "name": "stdout",
     "output_type": "stream",
     "text": [
      "Hit:1 http://deb.debian.org/debian bookworm InRelease\n",
      "Hit:2 http://deb.debian.org/debian bookworm-updates InRelease\n",
      "Hit:3 http://deb.debian.org/debian-security bookworm-security InRelease\n",
      "Reading package lists... Done\u001b[33m\n",
      "Building dependency tree... Done\n",
      "Reading state information... Done\n",
      "All packages are up to date.\n",
      "Reading package lists... Done\n",
      "Building dependency tree... Done\n",
      "Reading state information... Done\n",
      "graphviz is already the newest version (2.42.2-7+deb12u1).\n",
      "0 upgraded, 0 newly installed, 0 to remove and 0 not upgraded.\n"
     ]
    }
   ],
   "source": [
    "!apt update\n",
    "!apt install -y graphviz"
   ]
  },
  {
   "cell_type": "code",
   "execution_count": 2,
   "id": "38c11e59-3ee1-4a8b-8777-13b126d03d7a",
   "metadata": {},
   "outputs": [],
   "source": [
    "import polars as pl"
   ]
  },
  {
   "cell_type": "code",
   "execution_count": 3,
   "id": "e37292fa-6f48-495f-ad71-e02af52db0ff",
   "metadata": {},
   "outputs": [],
   "source": [
    "# レシピ50, 51で利用する巨大データの生成、１分ほどかかる\n",
    "import random\n",
    "\n",
    "random.seed(42)\n",
    "\n",
    "pl.DataFrame(\n",
    "    {\n",
    "        \"col1\": [random.randint(0, 10**5) for _ in range(10**7)],\n",
    "        \"col2\": [random.randint(0, 10**5) for _ in range(10**7)],\n",
    "        \"col3\": [random.randint(0, 10**5) for _ in range(10**7)],\n",
    "        \"col4\": [random.randint(0, 10**5) for _ in range(10**7)],\n",
    "        \"col5\": [random.randint(0, 10**5) for _ in range(10**7)],\n",
    "    }\n",
    ").write_csv(\"./numeric_data.csv\")"
   ]
  },
  {
   "cell_type": "code",
   "execution_count": 4,
   "id": "f98dafd8-0e27-4a81-88de-7b91a338e342",
   "metadata": {},
   "outputs": [],
   "source": [
    "def my_range(n):\n",
    "    num = 0\n",
    "    while num < n:\n",
    "        yield num\n",
    "        num += 1"
   ]
  },
  {
   "cell_type": "code",
   "execution_count": 5,
   "id": "c201b18f-6dfc-4254-b67d-7a9157575029",
   "metadata": {
    "scrolled": true
   },
   "outputs": [
    {
     "name": "stdout",
     "output_type": "stream",
     "text": [
      "range1\n",
      "0\n",
      "1\n",
      "2\n",
      "3\n",
      "4\n",
      "5\n",
      "6\n",
      "7\n",
      "8\n",
      "9\n",
      "range2\n",
      "0\n",
      "1\n",
      "2\n",
      "3\n",
      "4\n",
      "5\n",
      "6\n",
      "7\n",
      "8\n",
      "9\n",
      "range1\n",
      "0\n",
      "1\n",
      "2\n",
      "3\n",
      "4\n",
      "5\n",
      "6\n",
      "7\n",
      "8\n",
      "9\n",
      "range2\n"
     ]
    }
   ],
   "source": [
    "range1 = range(10)\n",
    "range2 = my_range(10)\n",
    "\n",
    "print('range1')\n",
    "for i in range1:\n",
    "    print(i)\n",
    "\n",
    "print('range2')\n",
    "for i in range2:\n",
    "    print(i)\n",
    "\n",
    "print('range1')\n",
    "for i in range1:\n",
    "    print(i)\n",
    "\n",
    "print('range2')\n",
    "for i in range2:\n",
    "    print(i)"
   ]
  },
  {
   "cell_type": "code",
   "execution_count": 6,
   "id": "c92ddde3-1ed6-4550-a944-2c3313dc75d6",
   "metadata": {},
   "outputs": [
    {
     "data": {
      "text/html": [
       "<div><style>\n",
       ".dataframe > thead > tr,\n",
       ".dataframe > tbody > tr {\n",
       "  text-align: right;\n",
       "  white-space: pre-wrap;\n",
       "}\n",
       "</style>\n",
       "<small>shape: (5, 5)</small><table border=\"1\" class=\"dataframe\"><thead><tr><th>col1</th><th>col2</th><th>col3</th><th>col4</th><th>col5</th></tr><tr><td>i64</td><td>i64</td><td>i64</td><td>i64</td><td>i64</td></tr></thead><tbody><tr><td>83810</td><td>80509</td><td>23964</td><td>43796</td><td>26049</td></tr><tr><td>14592</td><td>7086</td><td>78349</td><td>48333</td><td>65814</td></tr><tr><td>3278</td><td>79047</td><td>20068</td><td>13022</td><td>12634</td></tr><tr><td>97196</td><td>33410</td><td>78819</td><td>25977</td><td>54157</td></tr><tr><td>36048</td><td>45832</td><td>60030</td><td>60793</td><td>53155</td></tr></tbody></table></div>"
      ],
      "text/plain": [
       "shape: (5, 5)\n",
       "┌───────┬───────┬───────┬───────┬───────┐\n",
       "│ col1  ┆ col2  ┆ col3  ┆ col4  ┆ col5  │\n",
       "│ ---   ┆ ---   ┆ ---   ┆ ---   ┆ ---   │\n",
       "│ i64   ┆ i64   ┆ i64   ┆ i64   ┆ i64   │\n",
       "╞═══════╪═══════╪═══════╪═══════╪═══════╡\n",
       "│ 83810 ┆ 80509 ┆ 23964 ┆ 43796 ┆ 26049 │\n",
       "│ 14592 ┆ 7086  ┆ 78349 ┆ 48333 ┆ 65814 │\n",
       "│ 3278  ┆ 79047 ┆ 20068 ┆ 13022 ┆ 12634 │\n",
       "│ 97196 ┆ 33410 ┆ 78819 ┆ 25977 ┆ 54157 │\n",
       "│ 36048 ┆ 45832 ┆ 60030 ┆ 60793 ┆ 53155 │\n",
       "└───────┴───────┴───────┴───────┴───────┘"
      ]
     },
     "execution_count": 6,
     "metadata": {},
     "output_type": "execute_result"
    }
   ],
   "source": [
    "lf = pl.scan_csv('numeric_data.csv')\n",
    "lf.collect().head()"
   ]
  },
  {
   "cell_type": "code",
   "execution_count": 7,
   "id": "4f7ad4bd-dc00-40c7-b7b1-ba7dce101e8f",
   "metadata": {},
   "outputs": [],
   "source": [
    "lf_agg = (\n",
    "    lf\n",
    "    .with_columns((pl.col('col1') * 2).alias('double_col1'))\n",
    "    .with_columns((pl.col('col2') + 5).alias('plus5_col2'))\n",
    "    .filter(pl.col('double_col1') > 10000)\n",
    "    .group_by(['plus5_col2'])\n",
    "    .agg(pl.col('col3').sum().alias('sum_col3'))\n",
    "    .filter(pl.col('sum_col3') > 500000)\n",
    "    .select(['plus5_col2', 'sum_col3'])\n",
    "    .head(100)\n",
    ")"
   ]
  },
  {
   "cell_type": "code",
   "execution_count": 8,
   "id": "5e3120ff-f67a-48db-9fd1-796df9f06a5b",
   "metadata": {},
   "outputs": [
    {
     "data": {
      "text/html": [
       "<div><style>\n",
       ".dataframe > thead > tr,\n",
       ".dataframe > tbody > tr {\n",
       "  text-align: right;\n",
       "  white-space: pre-wrap;\n",
       "}\n",
       "</style>\n",
       "<small>shape: (100, 2)</small><table border=\"1\" class=\"dataframe\"><thead><tr><th>plus5_col2</th><th>sum_col3</th></tr><tr><td>i64</td><td>i64</td></tr></thead><tbody><tr><td>15095</td><td>4527308</td></tr><tr><td>89411</td><td>4341370</td></tr><tr><td>51787</td><td>4508468</td></tr><tr><td>71309</td><td>4567112</td></tr><tr><td>35394</td><td>5081295</td></tr><tr><td>&hellip;</td><td>&hellip;</td></tr><tr><td>63449</td><td>4004721</td></tr><tr><td>36070</td><td>4425522</td></tr><tr><td>25828</td><td>4771989</td></tr><tr><td>70934</td><td>5360858</td></tr><tr><td>95056</td><td>4304594</td></tr></tbody></table></div>"
      ],
      "text/plain": [
       "shape: (100, 2)\n",
       "┌────────────┬──────────┐\n",
       "│ plus5_col2 ┆ sum_col3 │\n",
       "│ ---        ┆ ---      │\n",
       "│ i64        ┆ i64      │\n",
       "╞════════════╪══════════╡\n",
       "│ 15095      ┆ 4527308  │\n",
       "│ 89411      ┆ 4341370  │\n",
       "│ 51787      ┆ 4508468  │\n",
       "│ 71309      ┆ 4567112  │\n",
       "│ 35394      ┆ 5081295  │\n",
       "│ …          ┆ …        │\n",
       "│ 63449      ┆ 4004721  │\n",
       "│ 36070      ┆ 4425522  │\n",
       "│ 25828      ┆ 4771989  │\n",
       "│ 70934      ┆ 5360858  │\n",
       "│ 95056      ┆ 4304594  │\n",
       "└────────────┴──────────┘"
      ]
     },
     "execution_count": 8,
     "metadata": {},
     "output_type": "execute_result"
    }
   ],
   "source": [
    "lf_agg.collect()"
   ]
  },
  {
   "cell_type": "code",
   "execution_count": 9,
   "id": "377d30aa-d592-4250-8ae0-8dc5e53b3fd2",
   "metadata": {},
   "outputs": [
    {
     "data": {
      "text/html": [
       "<h4>NAIVE QUERY PLAN</h4><p>run <b>LazyFrame.show_graph()</b> to see the optimized version</p><?xml version=\"1.0\" encoding=\"UTF-8\" standalone=\"no\"?>\n",
       "<!DOCTYPE svg PUBLIC \"-//W3C//DTD SVG 1.1//EN\"\n",
       " \"http://www.w3.org/Graphics/SVG/1.1/DTD/svg11.dtd\">\n",
       "<!-- Generated by graphviz version 2.43.0 (0)\n",
       " -->\n",
       "<!-- Title: polars_query Pages: 1 -->\n",
       "<svg width=\"438pt\" height=\"567pt\"\n",
       " viewBox=\"0.00 0.00 438.00 567.00\" xmlns=\"http://www.w3.org/2000/svg\" xmlns:xlink=\"http://www.w3.org/1999/xlink\">\n",
       "<g id=\"graph0\" class=\"graph\" transform=\"scale(1 1) rotate(0) translate(4 563)\">\n",
       "<title>polars_query</title>\n",
       "<polygon fill=\"white\" stroke=\"transparent\" points=\"-4,4 -4,-563 434,-563 434,4 -4,4\"/>\n",
       "<!-- p1 -->\n",
       "<g id=\"node1\" class=\"node\">\n",
       "<title>p1</title>\n",
       "<polygon fill=\"none\" stroke=\"black\" points=\"310.5,-559 119.5,-559 119.5,-523 310.5,-523 310.5,-559\"/>\n",
       "<text text-anchor=\"middle\" x=\"215\" y=\"-537.3\" font-family=\"Times,serif\" font-size=\"14.00\">SLICE offset: 0; len: 100</text>\n",
       "</g>\n",
       "<!-- p2 -->\n",
       "<g id=\"node2\" class=\"node\">\n",
       "<title>p2</title>\n",
       "<polygon fill=\"none\" stroke=\"black\" points=\"242,-487 188,-487 188,-451 242,-451 242,-487\"/>\n",
       "<text text-anchor=\"middle\" x=\"215\" y=\"-465.3\" font-family=\"Times,serif\" font-size=\"14.00\">π 2/2</text>\n",
       "</g>\n",
       "<!-- p1&#45;&#45;p2 -->\n",
       "<g id=\"edge1\" class=\"edge\">\n",
       "<title>p1&#45;&#45;p2</title>\n",
       "<path fill=\"none\" stroke=\"black\" d=\"M215,-522.7C215,-511.85 215,-497.92 215,-487.1\"/>\n",
       "</g>\n",
       "<!-- p3 -->\n",
       "<g id=\"node3\" class=\"node\">\n",
       "<title>p3</title>\n",
       "<polygon fill=\"none\" stroke=\"black\" points=\"372,-415 58,-415 58,-379 372,-379 372,-415\"/>\n",
       "<text text-anchor=\"middle\" x=\"215\" y=\"-393.3\" font-family=\"Times,serif\" font-size=\"14.00\">FILTER BY [(col(&quot;sum_col3&quot;)) &gt; (500000)]</text>\n",
       "</g>\n",
       "<!-- p2&#45;&#45;p3 -->\n",
       "<g id=\"edge2\" class=\"edge\">\n",
       "<title>p2&#45;&#45;p3</title>\n",
       "<path fill=\"none\" stroke=\"black\" d=\"M215,-450.7C215,-439.85 215,-425.92 215,-415.1\"/>\n",
       "</g>\n",
       "<!-- p4 -->\n",
       "<g id=\"node4\" class=\"node\">\n",
       "<title>p4</title>\n",
       "<polygon fill=\"none\" stroke=\"black\" points=\"370,-343 60,-343 60,-290 370,-290 370,-343\"/>\n",
       "<text text-anchor=\"middle\" x=\"215\" y=\"-327.8\" font-family=\"Times,serif\" font-size=\"14.00\">AGG [col(&quot;col3&quot;).sum().alias(&quot;sum_col3&quot;)]</text>\n",
       "<text text-anchor=\"middle\" x=\"215\" y=\"-312.8\" font-family=\"Times,serif\" font-size=\"14.00\">BY</text>\n",
       "<text text-anchor=\"middle\" x=\"215\" y=\"-297.8\" font-family=\"Times,serif\" font-size=\"14.00\">[col(&quot;plus5_col2&quot;)]</text>\n",
       "</g>\n",
       "<!-- p3&#45;&#45;p4 -->\n",
       "<g id=\"edge3\" class=\"edge\">\n",
       "<title>p3&#45;&#45;p4</title>\n",
       "<path fill=\"none\" stroke=\"black\" d=\"M215,-378.97C215,-368.51 215,-354.9 215,-343.16\"/>\n",
       "</g>\n",
       "<!-- p5 -->\n",
       "<g id=\"node5\" class=\"node\">\n",
       "<title>p5</title>\n",
       "<polygon fill=\"none\" stroke=\"black\" points=\"376.5,-254 53.5,-254 53.5,-218 376.5,-218 376.5,-254\"/>\n",
       "<text text-anchor=\"middle\" x=\"215\" y=\"-232.3\" font-family=\"Times,serif\" font-size=\"14.00\">FILTER BY [(col(&quot;double_col1&quot;)) &gt; (10000)]</text>\n",
       "</g>\n",
       "<!-- p4&#45;&#45;p5 -->\n",
       "<g id=\"edge4\" class=\"edge\">\n",
       "<title>p4&#45;&#45;p5</title>\n",
       "<path fill=\"none\" stroke=\"black\" d=\"M215,-289.8C215,-278.17 215,-264.74 215,-254.33\"/>\n",
       "</g>\n",
       "<!-- p6 -->\n",
       "<g id=\"node6\" class=\"node\">\n",
       "<title>p6</title>\n",
       "<polygon fill=\"none\" stroke=\"black\" points=\"428,-182 2,-182 2,-146 428,-146 428,-182\"/>\n",
       "<text text-anchor=\"middle\" x=\"215\" y=\"-160.3\" font-family=\"Times,serif\" font-size=\"14.00\">WITH COLUMNS [[(col(&quot;col2&quot;)) + (5)].alias(&quot;plus5_col2&quot;)]</text>\n",
       "</g>\n",
       "<!-- p5&#45;&#45;p6 -->\n",
       "<g id=\"edge5\" class=\"edge\">\n",
       "<title>p5&#45;&#45;p6</title>\n",
       "<path fill=\"none\" stroke=\"black\" d=\"M215,-217.7C215,-206.85 215,-192.92 215,-182.1\"/>\n",
       "</g>\n",
       "<!-- p7 -->\n",
       "<g id=\"node7\" class=\"node\">\n",
       "<title>p7</title>\n",
       "<polygon fill=\"none\" stroke=\"black\" points=\"430,-110 0,-110 0,-74 430,-74 430,-110\"/>\n",
       "<text text-anchor=\"middle\" x=\"215\" y=\"-88.3\" font-family=\"Times,serif\" font-size=\"14.00\">WITH COLUMNS [[(col(&quot;col1&quot;)) * (2)].alias(&quot;double_col1&quot;)]</text>\n",
       "</g>\n",
       "<!-- p6&#45;&#45;p7 -->\n",
       "<g id=\"edge6\" class=\"edge\">\n",
       "<title>p6&#45;&#45;p7</title>\n",
       "<path fill=\"none\" stroke=\"black\" d=\"M215,-145.7C215,-134.85 215,-120.92 215,-110.1\"/>\n",
       "</g>\n",
       "<!-- p8 -->\n",
       "<g id=\"node8\" class=\"node\">\n",
       "<title>p8</title>\n",
       "<polygon fill=\"none\" stroke=\"black\" points=\"329.5,-38 100.5,-38 100.5,0 329.5,0 329.5,-38\"/>\n",
       "<text text-anchor=\"middle\" x=\"215\" y=\"-22.8\" font-family=\"Times,serif\" font-size=\"14.00\">Csv SCAN [numeric_data.csv]</text>\n",
       "<text text-anchor=\"middle\" x=\"215\" y=\"-7.8\" font-family=\"Times,serif\" font-size=\"14.00\">π */5;</text>\n",
       "</g>\n",
       "<!-- p7&#45;&#45;p8 -->\n",
       "<g id=\"edge7\" class=\"edge\">\n",
       "<title>p7&#45;&#45;p8</title>\n",
       "<path fill=\"none\" stroke=\"black\" d=\"M215,-73.81C215,-62.98 215,-49.01 215,-38.02\"/>\n",
       "</g>\n",
       "</g>\n",
       "</svg>\n"
      ],
      "text/plain": [
       "<LazyFrame at 0x7F658A314F10>"
      ]
     },
     "execution_count": 9,
     "metadata": {},
     "output_type": "execute_result"
    }
   ],
   "source": [
    "lf_agg"
   ]
  },
  {
   "cell_type": "code",
   "execution_count": 10,
   "id": "89a2a091-1766-4136-a622-b2e837c690e5",
   "metadata": {},
   "outputs": [
    {
     "data": {
      "image/svg+xml": [
       "<svg xmlns=\"http://www.w3.org/2000/svg\" xmlns:xlink=\"http://www.w3.org/1999/xlink\" width=\"438pt\" height=\"495pt\" viewBox=\"0.00 0.00 438.00 495.00\">\n",
       "<g id=\"graph0\" class=\"graph\" transform=\"scale(1 1) rotate(0) translate(4 491)\">\n",
       "<title>polars_query</title>\n",
       "<polygon fill=\"white\" stroke=\"transparent\" points=\"-4,4 -4,-491 434,-491 434,4 -4,4\"/>\n",
       "<!-- p1 -->\n",
       "<g id=\"node1\" class=\"node\">\n",
       "<title>p1</title>\n",
       "<polygon fill=\"none\" stroke=\"black\" points=\"310.5,-487 119.5,-487 119.5,-451 310.5,-451 310.5,-487\"/>\n",
       "<text text-anchor=\"middle\" x=\"215\" y=\"-465.3\" font-family=\"Times,serif\" font-size=\"14.00\">SLICE offset: 0; len: 100</text>\n",
       "</g>\n",
       "<!-- p2 -->\n",
       "<g id=\"node2\" class=\"node\">\n",
       "<title>p2</title>\n",
       "<polygon fill=\"none\" stroke=\"black\" points=\"372,-415 58,-415 58,-379 372,-379 372,-415\"/>\n",
       "<text text-anchor=\"middle\" x=\"215\" y=\"-393.3\" font-family=\"Times,serif\" font-size=\"14.00\">FILTER BY [(col(&quot;sum_col3&quot;)) &gt; (500000)]</text>\n",
       "</g>\n",
       "<!-- p1&#45;&#45;p2 -->\n",
       "<g id=\"edge1\" class=\"edge\">\n",
       "<title>p1--p2</title>\n",
       "<path fill=\"none\" stroke=\"black\" d=\"M215,-450.7C215,-439.85 215,-425.92 215,-415.1\"/>\n",
       "</g>\n",
       "<!-- p3 -->\n",
       "<g id=\"node3\" class=\"node\">\n",
       "<title>p3</title>\n",
       "<polygon fill=\"none\" stroke=\"black\" points=\"370,-343 60,-343 60,-290 370,-290 370,-343\"/>\n",
       "<text text-anchor=\"middle\" x=\"215\" y=\"-327.8\" font-family=\"Times,serif\" font-size=\"14.00\">AGG [col(&quot;col3&quot;).sum().alias(&quot;sum_col3&quot;)]</text>\n",
       "<text text-anchor=\"middle\" x=\"215\" y=\"-312.8\" font-family=\"Times,serif\" font-size=\"14.00\">BY</text>\n",
       "<text text-anchor=\"middle\" x=\"215\" y=\"-297.8\" font-family=\"Times,serif\" font-size=\"14.00\">[col(&quot;plus5_col2&quot;)]</text>\n",
       "</g>\n",
       "<!-- p2&#45;&#45;p3 -->\n",
       "<g id=\"edge2\" class=\"edge\">\n",
       "<title>p2--p3</title>\n",
       "<path fill=\"none\" stroke=\"black\" d=\"M215,-378.97C215,-368.51 215,-354.9 215,-343.16\"/>\n",
       "</g>\n",
       "<!-- p4 -->\n",
       "<g id=\"node4\" class=\"node\">\n",
       "<title>p4</title>\n",
       "<polygon fill=\"none\" stroke=\"black\" points=\"428,-254 2,-254 2,-218 428,-218 428,-254\"/>\n",
       "<text text-anchor=\"middle\" x=\"215\" y=\"-232.3\" font-family=\"Times,serif\" font-size=\"14.00\">WITH COLUMNS [[(col(&quot;col2&quot;)) + (5)].alias(&quot;plus5_col2&quot;)]</text>\n",
       "</g>\n",
       "<!-- p3&#45;&#45;p4 -->\n",
       "<g id=\"edge3\" class=\"edge\">\n",
       "<title>p3--p4</title>\n",
       "<path fill=\"none\" stroke=\"black\" d=\"M215,-289.8C215,-278.17 215,-264.74 215,-254.33\"/>\n",
       "</g>\n",
       "<!-- p5 -->\n",
       "<g id=\"node5\" class=\"node\">\n",
       "<title>p5</title>\n",
       "<polygon fill=\"none\" stroke=\"black\" points=\"376.5,-182 53.5,-182 53.5,-146 376.5,-146 376.5,-182\"/>\n",
       "<text text-anchor=\"middle\" x=\"215\" y=\"-160.3\" font-family=\"Times,serif\" font-size=\"14.00\">FILTER BY [(col(&quot;double_col1&quot;)) &gt; (10000)]</text>\n",
       "</g>\n",
       "<!-- p4&#45;&#45;p5 -->\n",
       "<g id=\"edge4\" class=\"edge\">\n",
       "<title>p4--p5</title>\n",
       "<path fill=\"none\" stroke=\"black\" d=\"M215,-217.7C215,-206.85 215,-192.92 215,-182.1\"/>\n",
       "</g>\n",
       "<!-- p6 -->\n",
       "<g id=\"node6\" class=\"node\">\n",
       "<title>p6</title>\n",
       "<polygon fill=\"none\" stroke=\"black\" points=\"430,-110 0,-110 0,-74 430,-74 430,-110\"/>\n",
       "<text text-anchor=\"middle\" x=\"215\" y=\"-88.3\" font-family=\"Times,serif\" font-size=\"14.00\">WITH COLUMNS [[(col(&quot;col1&quot;)) * (2)].alias(&quot;double_col1&quot;)]</text>\n",
       "</g>\n",
       "<!-- p5&#45;&#45;p6 -->\n",
       "<g id=\"edge5\" class=\"edge\">\n",
       "<title>p5--p6</title>\n",
       "<path fill=\"none\" stroke=\"black\" d=\"M215,-145.7C215,-134.85 215,-120.92 215,-110.1\"/>\n",
       "</g>\n",
       "<!-- p7 -->\n",
       "<g id=\"node7\" class=\"node\">\n",
       "<title>p7</title>\n",
       "<polygon fill=\"none\" stroke=\"black\" points=\"329.5,-38 100.5,-38 100.5,0 329.5,0 329.5,-38\"/>\n",
       "<text text-anchor=\"middle\" x=\"215\" y=\"-22.8\" font-family=\"Times,serif\" font-size=\"14.00\">Csv SCAN [numeric_data.csv]</text>\n",
       "<text text-anchor=\"middle\" x=\"215\" y=\"-7.8\" font-family=\"Times,serif\" font-size=\"14.00\">π 3/5;</text>\n",
       "</g>\n",
       "<!-- p6&#45;&#45;p7 -->\n",
       "<g id=\"edge6\" class=\"edge\">\n",
       "<title>p6--p7</title>\n",
       "<path fill=\"none\" stroke=\"black\" d=\"M215,-73.81C215,-62.98 215,-49.01 215,-38.02\"/>\n",
       "</g>\n",
       "</g>\n",
       "</svg>"
      ],
      "text/plain": [
       "<IPython.core.display.SVG object>"
      ]
     },
     "metadata": {},
     "output_type": "display_data"
    }
   ],
   "source": [
    "lf_agg.show_graph(optimized=True)"
   ]
  },
  {
   "cell_type": "code",
   "execution_count": 11,
   "id": "2053e723-a096-4d5c-92cc-c94a1e64d072",
   "metadata": {},
   "outputs": [
    {
     "name": "stdout",
     "output_type": "stream",
     "text": [
      "SLICE[offset: 0, len: 100]\n",
      "   SELECT [col(\"plus5_col2\"), col(\"sum_col3\")] FROM\n",
      "    FILTER [(col(\"sum_col3\")) > (500000)] FROM\n",
      "      AGGREGATE\n",
      "      \t[col(\"col3\").sum().alias(\"sum_col3\")] BY [col(\"plus5_col2\")] FROM\n",
      "        FILTER [(col(\"double_col1\")) > (10000)] FROM\n",
      "           WITH_COLUMNS:\n",
      "           [[(col(\"col2\")) + (5)].alias(\"plus5_col2\")] \n",
      "             WITH_COLUMNS:\n",
      "             [[(col(\"col1\")) * (2)].alias(\"double_col1\")] \n",
      "              Csv SCAN [numeric_data.csv]\n",
      "              PROJECT */5 COLUMNS\n"
     ]
    }
   ],
   "source": [
    "print(lf_agg.explain(optimized=False))"
   ]
  },
  {
   "cell_type": "code",
   "execution_count": 12,
   "id": "dd3d4fc3-6c8d-4d99-a431-5b9608ef3907",
   "metadata": {},
   "outputs": [
    {
     "name": "stdout",
     "output_type": "stream",
     "text": [
      "SLICE[offset: 0, len: 100]\n",
      "  FILTER [(col(\"sum_col3\")) > (500000)] FROM\n",
      "    AGGREGATE\n",
      "    \t[col(\"col3\").sum().alias(\"sum_col3\")] BY [col(\"plus5_col2\")] FROM\n",
      "       WITH_COLUMNS:\n",
      "       [[(col(\"col2\")) + (5)].alias(\"plus5_col2\")] \n",
      "        FILTER [(col(\"double_col1\")) > (10000)] FROM\n",
      "           WITH_COLUMNS:\n",
      "           [[(col(\"col1\")) * (2)].alias(\"double_col1\")] \n",
      "            Csv SCAN [numeric_data.csv]\n",
      "            PROJECT 3/5 COLUMNS\n"
     ]
    }
   ],
   "source": [
    "print(lf_agg.explain(optimized=True))"
   ]
  },
  {
   "cell_type": "code",
   "execution_count": 13,
   "id": "9fd5e8e7-8d68-409d-a3ac-14b029c5450f",
   "metadata": {},
   "outputs": [
    {
     "data": {
      "image/svg+xml": [
       "<svg xmlns=\"http://www.w3.org/2000/svg\" xmlns:xlink=\"http://www.w3.org/1999/xlink\" width=\"117pt\" height=\"133pt\" viewBox=\"0.00 0.00 117.00 133.00\">\n",
       "<g id=\"graph0\" class=\"graph\" transform=\"scale(1 1) rotate(0) translate(4 129)\">\n",
       "<title>polars_query</title>\n",
       "<polygon fill=\"white\" stroke=\"transparent\" points=\"-4,4 -4,-129 113,-129 113,4 -4,4\"/>\n",
       "<!-- p1 -->\n",
       "<g id=\"node1\" class=\"node\">\n",
       "<title>p1</title>\n",
       "<polygon fill=\"none\" stroke=\"black\" points=\"109,-125 0,-125 0,-89 109,-89 109,-125\"/>\n",
       "<text text-anchor=\"middle\" x=\"54.5\" y=\"-103.3\" font-family=\"Times,serif\" font-size=\"14.00\">STREAMING</text>\n",
       "</g>\n",
       "<!-- p2 -->\n",
       "<g id=\"node2\" class=\"node\">\n",
       "<title>p2</title>\n",
       "<polygon fill=\"none\" stroke=\"black\" points=\"88.5,-53 20.5,-53 20.5,0 88.5,0 88.5,-53\"/>\n",
       "<text text-anchor=\"middle\" x=\"54.5\" y=\"-37.8\" font-family=\"Times,serif\" font-size=\"14.00\">TABLE</text>\n",
       "<text text-anchor=\"middle\" x=\"54.5\" y=\"-22.8\" font-family=\"Times,serif\" font-size=\"14.00\">π */0;</text>\n",
       "<text text-anchor=\"middle\" x=\"54.5\" y=\"-7.8\" font-family=\"Times,serif\" font-size=\"14.00\">σ None</text>\n",
       "</g>\n",
       "<!-- p1&#45;&#45;p2 -->\n",
       "<g id=\"edge1\" class=\"edge\">\n",
       "<title>p1--p2</title>\n",
       "<path fill=\"none\" stroke=\"black\" d=\"M54.5,-88.97C54.5,-78.51 54.5,-64.9 54.5,-53.16\"/>\n",
       "</g>\n",
       "</g>\n",
       "</svg>"
      ],
      "text/plain": [
       "<IPython.core.display.SVG object>"
      ]
     },
     "metadata": {},
     "output_type": "display_data"
    }
   ],
   "source": [
    "lf_agg.show_graph(streaming=True)"
   ]
  },
  {
   "cell_type": "code",
   "execution_count": 14,
   "id": "6b358b7d-84d0-4214-8ea9-7fe49501b405",
   "metadata": {},
   "outputs": [
    {
     "data": {
      "text/html": [
       "<div><style>\n",
       ".dataframe > thead > tr,\n",
       ".dataframe > tbody > tr {\n",
       "  text-align: right;\n",
       "  white-space: pre-wrap;\n",
       "}\n",
       "</style>\n",
       "<small>shape: (100, 2)</small><table border=\"1\" class=\"dataframe\"><thead><tr><th>plus5_col2</th><th>sum_col3</th></tr><tr><td>i64</td><td>i64</td></tr></thead><tbody><tr><td>97014</td><td>4498644</td></tr><tr><td>9178</td><td>4891684</td></tr><tr><td>3640</td><td>5230685</td></tr><tr><td>63032</td><td>4638154</td></tr><tr><td>75788</td><td>5570301</td></tr><tr><td>&hellip;</td><td>&hellip;</td></tr><tr><td>45954</td><td>4381834</td></tr><tr><td>52944</td><td>5927513</td></tr><tr><td>86093</td><td>4930283</td></tr><tr><td>4247</td><td>5614846</td></tr><tr><td>27937</td><td>6394657</td></tr></tbody></table></div>"
      ],
      "text/plain": [
       "shape: (100, 2)\n",
       "┌────────────┬──────────┐\n",
       "│ plus5_col2 ┆ sum_col3 │\n",
       "│ ---        ┆ ---      │\n",
       "│ i64        ┆ i64      │\n",
       "╞════════════╪══════════╡\n",
       "│ 97014      ┆ 4498644  │\n",
       "│ 9178       ┆ 4891684  │\n",
       "│ 3640       ┆ 5230685  │\n",
       "│ 63032      ┆ 4638154  │\n",
       "│ 75788      ┆ 5570301  │\n",
       "│ …          ┆ …        │\n",
       "│ 45954      ┆ 4381834  │\n",
       "│ 52944      ┆ 5927513  │\n",
       "│ 86093      ┆ 4930283  │\n",
       "│ 4247       ┆ 5614846  │\n",
       "│ 27937      ┆ 6394657  │\n",
       "└────────────┴──────────┘"
      ]
     },
     "execution_count": 14,
     "metadata": {},
     "output_type": "execute_result"
    }
   ],
   "source": [
    "lf_agg.collect(streaming=True)"
   ]
  },
  {
   "cell_type": "code",
   "execution_count": null,
   "id": "0e996a91-821a-40b6-9353-47398ba65426",
   "metadata": {},
   "outputs": [],
   "source": []
  }
 ],
 "metadata": {
  "kernelspec": {
   "display_name": "Python 3 (ipykernel)",
   "language": "python",
   "name": "python3"
  },
  "language_info": {
   "codemirror_mode": {
    "name": "ipython",
    "version": 3
   },
   "file_extension": ".py",
   "mimetype": "text/x-python",
   "name": "python",
   "nbconvert_exporter": "python",
   "pygments_lexer": "ipython3",
   "version": "3.11.10"
  }
 },
 "nbformat": 4,
 "nbformat_minor": 5
}
